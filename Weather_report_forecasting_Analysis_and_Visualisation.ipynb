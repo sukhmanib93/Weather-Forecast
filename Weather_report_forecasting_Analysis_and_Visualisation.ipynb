{
  "nbformat": 4,
  "nbformat_minor": 0,
  "metadata": {
    "colab": {
      "provenance": []
    },
    "kernelspec": {
      "name": "python3",
      "display_name": "Python 3"
    },
    "language_info": {
      "name": "python"
    }
  },
  "cells": [
    {
      "cell_type": "markdown",
      "source": [
        "## **Weather Report Forecasting Analysis**\n",
        "\n",
        "**Weather prediction is one of the most certainly required information in all over the regions\n",
        "It involves collecting global meteorological surface and upper-air observations, preparing global surface and upper air pressure, temperature, moisture, and wind analyses at frequent time intervals based upon these observations we predict some data for upcoming days weather conditions**\n",
        "\n"
      ],
      "metadata": {
        "id": "8_MCvbcrnbj8"
      }
    },
    {
      "cell_type": "markdown",
      "source": [
        "## **Project Description:**\n",
        "\n",
        "This data contains day wise weather attributes from 2022 to July 2033 (predicted data)\n",
        "\n",
        "**Columns are as follows :**\n",
        "* Date\n",
        "* Average temperature (°F)\n",
        "* Average humidity (%)\n",
        "* Average dewpoint (°F)\n",
        "* Average barometer (in)\n",
        "* Average windspeed (mph)\n",
        "* Average gust speed (mph)\n",
        "* Average direction (°degree)\n",
        "* Rainfall for month (in)\n",
        "* Rainfall for year (in)\n",
        "* Maximum rain per minute\n",
        "* Maximum temperature (°F)\n",
        "* Minimum temperature (°F)\n",
        "* Maximum humidity (%)\n",
        "* Minimum humidity (%)\n",
        "* Maximum pressure\n",
        "* Minimum pressure\n",
        "* Maximum wind speed (mph)\n",
        "* Maximum gust speed (mph)\n",
        "* Maximum heat index (°F)\n",
        "\n"
      ],
      "metadata": {
        "id": "yWe5tMgSH-jA"
      }
    },
    {
      "cell_type": "markdown",
      "source": [
        "## **Step1: Data Collection**\n",
        "The data set for this problem was provided by [HiCounselor](https://hicounselor.com/)\n",
        "\n",
        "The use case pipeline build-up is started with imports of some basic libraries that are needed throughout the case especially for **Pre-Processing**. This includes Pandas and Numpy for data handling and processing.\n"
      ],
      "metadata": {
        "id": "KNIZnq-Aoypq"
      }
    },
    {
      "cell_type": "code",
      "source": [
        "import numpy as np\n",
        "import pandas as pd\n",
        "pd.set_option('max_rows', None)\n",
        "pd.set_option('max_columns', 100)"
      ],
      "metadata": {
        "id": "lihqwH_xpauI"
      },
      "execution_count": 1,
      "outputs": []
    },
    {
      "cell_type": "code",
      "source": [
        "#Loading the data set\n",
        "from google.colab import files\n",
        "uploaded = files.upload()"
      ],
      "metadata": {
        "colab": {
          "base_uri": "https://localhost:8080/",
          "height": 72
        },
        "id": "H3zGEBVApcGC",
        "outputId": "165a8abc-4253-4624-a0a1-dcfb6edf0d65"
      },
      "execution_count": 2,
      "outputs": [
        {
          "output_type": "display_data",
          "data": {
            "text/plain": [
              "<IPython.core.display.HTML object>"
            ],
            "text/html": [
              "\n",
              "     <input type=\"file\" id=\"files-cca58147-5bb5-41ab-b0fa-a1eeeea4b349\" name=\"files[]\" multiple disabled\n",
              "        style=\"border:none\" />\n",
              "     <output id=\"result-cca58147-5bb5-41ab-b0fa-a1eeeea4b349\">\n",
              "      Upload widget is only available when the cell has been executed in the\n",
              "      current browser session. Please rerun this cell to enable.\n",
              "      </output>\n",
              "      <script>// Copyright 2017 Google LLC\n",
              "//\n",
              "// Licensed under the Apache License, Version 2.0 (the \"License\");\n",
              "// you may not use this file except in compliance with the License.\n",
              "// You may obtain a copy of the License at\n",
              "//\n",
              "//      http://www.apache.org/licenses/LICENSE-2.0\n",
              "//\n",
              "// Unless required by applicable law or agreed to in writing, software\n",
              "// distributed under the License is distributed on an \"AS IS\" BASIS,\n",
              "// WITHOUT WARRANTIES OR CONDITIONS OF ANY KIND, either express or implied.\n",
              "// See the License for the specific language governing permissions and\n",
              "// limitations under the License.\n",
              "\n",
              "/**\n",
              " * @fileoverview Helpers for google.colab Python module.\n",
              " */\n",
              "(function(scope) {\n",
              "function span(text, styleAttributes = {}) {\n",
              "  const element = document.createElement('span');\n",
              "  element.textContent = text;\n",
              "  for (const key of Object.keys(styleAttributes)) {\n",
              "    element.style[key] = styleAttributes[key];\n",
              "  }\n",
              "  return element;\n",
              "}\n",
              "\n",
              "// Max number of bytes which will be uploaded at a time.\n",
              "const MAX_PAYLOAD_SIZE = 100 * 1024;\n",
              "\n",
              "function _uploadFiles(inputId, outputId) {\n",
              "  const steps = uploadFilesStep(inputId, outputId);\n",
              "  const outputElement = document.getElementById(outputId);\n",
              "  // Cache steps on the outputElement to make it available for the next call\n",
              "  // to uploadFilesContinue from Python.\n",
              "  outputElement.steps = steps;\n",
              "\n",
              "  return _uploadFilesContinue(outputId);\n",
              "}\n",
              "\n",
              "// This is roughly an async generator (not supported in the browser yet),\n",
              "// where there are multiple asynchronous steps and the Python side is going\n",
              "// to poll for completion of each step.\n",
              "// This uses a Promise to block the python side on completion of each step,\n",
              "// then passes the result of the previous step as the input to the next step.\n",
              "function _uploadFilesContinue(outputId) {\n",
              "  const outputElement = document.getElementById(outputId);\n",
              "  const steps = outputElement.steps;\n",
              "\n",
              "  const next = steps.next(outputElement.lastPromiseValue);\n",
              "  return Promise.resolve(next.value.promise).then((value) => {\n",
              "    // Cache the last promise value to make it available to the next\n",
              "    // step of the generator.\n",
              "    outputElement.lastPromiseValue = value;\n",
              "    return next.value.response;\n",
              "  });\n",
              "}\n",
              "\n",
              "/**\n",
              " * Generator function which is called between each async step of the upload\n",
              " * process.\n",
              " * @param {string} inputId Element ID of the input file picker element.\n",
              " * @param {string} outputId Element ID of the output display.\n",
              " * @return {!Iterable<!Object>} Iterable of next steps.\n",
              " */\n",
              "function* uploadFilesStep(inputId, outputId) {\n",
              "  const inputElement = document.getElementById(inputId);\n",
              "  inputElement.disabled = false;\n",
              "\n",
              "  const outputElement = document.getElementById(outputId);\n",
              "  outputElement.innerHTML = '';\n",
              "\n",
              "  const pickedPromise = new Promise((resolve) => {\n",
              "    inputElement.addEventListener('change', (e) => {\n",
              "      resolve(e.target.files);\n",
              "    });\n",
              "  });\n",
              "\n",
              "  const cancel = document.createElement('button');\n",
              "  inputElement.parentElement.appendChild(cancel);\n",
              "  cancel.textContent = 'Cancel upload';\n",
              "  const cancelPromise = new Promise((resolve) => {\n",
              "    cancel.onclick = () => {\n",
              "      resolve(null);\n",
              "    };\n",
              "  });\n",
              "\n",
              "  // Wait for the user to pick the files.\n",
              "  const files = yield {\n",
              "    promise: Promise.race([pickedPromise, cancelPromise]),\n",
              "    response: {\n",
              "      action: 'starting',\n",
              "    }\n",
              "  };\n",
              "\n",
              "  cancel.remove();\n",
              "\n",
              "  // Disable the input element since further picks are not allowed.\n",
              "  inputElement.disabled = true;\n",
              "\n",
              "  if (!files) {\n",
              "    return {\n",
              "      response: {\n",
              "        action: 'complete',\n",
              "      }\n",
              "    };\n",
              "  }\n",
              "\n",
              "  for (const file of files) {\n",
              "    const li = document.createElement('li');\n",
              "    li.append(span(file.name, {fontWeight: 'bold'}));\n",
              "    li.append(span(\n",
              "        `(${file.type || 'n/a'}) - ${file.size} bytes, ` +\n",
              "        `last modified: ${\n",
              "            file.lastModifiedDate ? file.lastModifiedDate.toLocaleDateString() :\n",
              "                                    'n/a'} - `));\n",
              "    const percent = span('0% done');\n",
              "    li.appendChild(percent);\n",
              "\n",
              "    outputElement.appendChild(li);\n",
              "\n",
              "    const fileDataPromise = new Promise((resolve) => {\n",
              "      const reader = new FileReader();\n",
              "      reader.onload = (e) => {\n",
              "        resolve(e.target.result);\n",
              "      };\n",
              "      reader.readAsArrayBuffer(file);\n",
              "    });\n",
              "    // Wait for the data to be ready.\n",
              "    let fileData = yield {\n",
              "      promise: fileDataPromise,\n",
              "      response: {\n",
              "        action: 'continue',\n",
              "      }\n",
              "    };\n",
              "\n",
              "    // Use a chunked sending to avoid message size limits. See b/62115660.\n",
              "    let position = 0;\n",
              "    do {\n",
              "      const length = Math.min(fileData.byteLength - position, MAX_PAYLOAD_SIZE);\n",
              "      const chunk = new Uint8Array(fileData, position, length);\n",
              "      position += length;\n",
              "\n",
              "      const base64 = btoa(String.fromCharCode.apply(null, chunk));\n",
              "      yield {\n",
              "        response: {\n",
              "          action: 'append',\n",
              "          file: file.name,\n",
              "          data: base64,\n",
              "        },\n",
              "      };\n",
              "\n",
              "      let percentDone = fileData.byteLength === 0 ?\n",
              "          100 :\n",
              "          Math.round((position / fileData.byteLength) * 100);\n",
              "      percent.textContent = `${percentDone}% done`;\n",
              "\n",
              "    } while (position < fileData.byteLength);\n",
              "  }\n",
              "\n",
              "  // All done.\n",
              "  yield {\n",
              "    response: {\n",
              "      action: 'complete',\n",
              "    }\n",
              "  };\n",
              "}\n",
              "\n",
              "scope.google = scope.google || {};\n",
              "scope.google.colab = scope.google.colab || {};\n",
              "scope.google.colab._files = {\n",
              "  _uploadFiles,\n",
              "  _uploadFilesContinue,\n",
              "};\n",
              "})(self);\n",
              "</script> "
            ]
          },
          "metadata": {}
        },
        {
          "output_type": "stream",
          "name": "stdout",
          "text": [
            "Saving weather_dataset_orignal.csv to weather_dataset_orignal (4).csv\n"
          ]
        }
      ]
    },
    {
      "cell_type": "code",
      "source": [
        "df = pd.read_csv('weather_dataset_orignal.csv', encoding='cp1252')"
      ],
      "metadata": {
        "id": "xz8RVJKRpd-P"
      },
      "execution_count": 3,
      "outputs": []
    },
    {
      "cell_type": "markdown",
      "source": [
        "## **Step2: Pre-Processing the Data**\n",
        "\n",
        "* Subtask 1: Fix a few labels in the given data set\n",
        "\n",
        "* Subtask 2: Removal of duplicate Columns\n",
        "\n",
        "* Subtask 3: Correct years for given data set \n",
        "\n",
        "* Subtask 4 : Remove duplicate rows if any\n"
      ],
      "metadata": {
        "id": "8iEIyB3glRKw"
      }
    },
    {
      "cell_type": "code",
      "source": [
        "df.head()"
      ],
      "metadata": {
        "colab": {
          "base_uri": "https://localhost:8080/",
          "height": 409
        },
        "id": "UzZyphe6LX8R",
        "outputId": "c4fb5894-e814-41b8-b492-b404b79b40df"
      },
      "execution_count": 4,
      "outputs": [
        {
          "output_type": "execute_result",
          "data": {
            "text/plain": [
              "          Date  Temperature  Average humidity (%  Average dewpoint (ÁF  \\\n",
              "0   01/01/2022       '37.8'               '35.0'                '12.7'   \n",
              "1  2022-01-02'       '43.2'               '32.0'                '14.7'   \n",
              "2  2022-01-03'       '25.7'               '60.0'                '12.7'   \n",
              "3  2022-01-04'        '9.3'               '67.0'                 '0.1'   \n",
              "4  2022-01-05'       '23.5'               '30.0'                '-5.3'   \n",
              "\n",
              "   Average barometer (in  Average windspeed (mph  Average gustspeed (mph  \\\n",
              "0                 '29.7'                  '26.4'                  '36.8'   \n",
              "1                 '29.5'                  '12.8'                  '18.0'   \n",
              "2                 '29.7'                   '8.3'                  '12.2'   \n",
              "3                 '30.4'                   '2.9'                   '4.5'   \n",
              "4                 '29.9'                  '16.7'                  '23.1'   \n",
              "\n",
              "   Average direction (Ádeg  Rainfall for month (in Rainfall for year (in  \\\n",
              "0                  '274.0'                   '0.0'                 '0.0'   \n",
              "1                  '240.0'                   '0.0'                 '0.0'   \n",
              "2                  '290.0'                   '0.0'                 '0.0'   \n",
              "3                   '47.0'                   '0.0'                 '0.0'   \n",
              "4                  '265.0'                   '0.0'                 '0.0'   \n",
              "\n",
              "   Maximum rain per minute  Maximum temperature (ÁF  Minimum temperature (ÁF  \\\n",
              "0                    '0.0'                   '40.0'                   '34.0'   \n",
              "1                    '0.0'                   '52.0'                   '37.0'   \n",
              "2                    '0.0'                   '41.0'                    '6.0'   \n",
              "3                    '0.0'                   '19.0'                   '-0.0'   \n",
              "4                    '0.0'                   '30.0'                   '15.0'   \n",
              "\n",
              "   Maximum humidity (%  Minimum humidity (%  Maximum pressure  \\\n",
              "0                '4.0'               '27.0'          '29.762'   \n",
              "1                '4.0'               '16.0'          '29.669'   \n",
              "2                '8.0'               '35.0'          '30.232'   \n",
              "3                '7.0'               '35.0'          '30.566'   \n",
              "4                '5.0'               '13.0'          '30.233'   \n",
              "\n",
              "   Minimum pressure  Maximum windspeed (mph  Maximum gust speed (mph  \\\n",
              "0          '29.596'                  '41.4'                   '59.0'   \n",
              "1          '29.268'                  '35.7'                   '51.0'   \n",
              "2           '29.26'                  '25.3'                   '38.0'   \n",
              "3          '30.227'                  '12.7'                   '20.0'   \n",
              "4          '29.568'                  '38.0'                   '53.0'   \n",
              "\n",
              "   Maximum heat index (ÁF         Date1  Month          diff_pressure  \n",
              "0                  '40.0'  '2022-01-01'   '01'  '0.16600000000000037'  \n",
              "1                  '52.0'  '2022-01-02'   '01'   '0.4009999999999998'  \n",
              "2                  '41.0'  '2022-01-03'   '01'   '0.9719999999999978'  \n",
              "3                  '32.0'  '2022-01-04'   '01'  '0.33899999999999864'  \n",
              "4                  '32.0'  '2022-01-05'   '01'   '0.6649999999999991'  "
            ],
            "text/html": [
              "\n",
              "  <div id=\"df-e76b6727-1eb7-44c7-9fe0-76fe092878da\">\n",
              "    <div class=\"colab-df-container\">\n",
              "      <div>\n",
              "<style scoped>\n",
              "    .dataframe tbody tr th:only-of-type {\n",
              "        vertical-align: middle;\n",
              "    }\n",
              "\n",
              "    .dataframe tbody tr th {\n",
              "        vertical-align: top;\n",
              "    }\n",
              "\n",
              "    .dataframe thead th {\n",
              "        text-align: right;\n",
              "    }\n",
              "</style>\n",
              "<table border=\"1\" class=\"dataframe\">\n",
              "  <thead>\n",
              "    <tr style=\"text-align: right;\">\n",
              "      <th></th>\n",
              "      <th>Date</th>\n",
              "      <th>Temperature</th>\n",
              "      <th>Average humidity (%</th>\n",
              "      <th>Average dewpoint (ÁF</th>\n",
              "      <th>Average barometer (in</th>\n",
              "      <th>Average windspeed (mph</th>\n",
              "      <th>Average gustspeed (mph</th>\n",
              "      <th>Average direction (Ádeg</th>\n",
              "      <th>Rainfall for month (in</th>\n",
              "      <th>Rainfall for year (in</th>\n",
              "      <th>Maximum rain per minute</th>\n",
              "      <th>Maximum temperature (ÁF</th>\n",
              "      <th>Minimum temperature (ÁF</th>\n",
              "      <th>Maximum humidity (%</th>\n",
              "      <th>Minimum humidity (%</th>\n",
              "      <th>Maximum pressure</th>\n",
              "      <th>Minimum pressure</th>\n",
              "      <th>Maximum windspeed (mph</th>\n",
              "      <th>Maximum gust speed (mph</th>\n",
              "      <th>Maximum heat index (ÁF</th>\n",
              "      <th>Date1</th>\n",
              "      <th>Month</th>\n",
              "      <th>diff_pressure</th>\n",
              "    </tr>\n",
              "  </thead>\n",
              "  <tbody>\n",
              "    <tr>\n",
              "      <th>0</th>\n",
              "      <td>01/01/2022</td>\n",
              "      <td>'37.8'</td>\n",
              "      <td>'35.0'</td>\n",
              "      <td>'12.7'</td>\n",
              "      <td>'29.7'</td>\n",
              "      <td>'26.4'</td>\n",
              "      <td>'36.8'</td>\n",
              "      <td>'274.0'</td>\n",
              "      <td>'0.0'</td>\n",
              "      <td>'0.0'</td>\n",
              "      <td>'0.0'</td>\n",
              "      <td>'40.0'</td>\n",
              "      <td>'34.0'</td>\n",
              "      <td>'4.0'</td>\n",
              "      <td>'27.0'</td>\n",
              "      <td>'29.762'</td>\n",
              "      <td>'29.596'</td>\n",
              "      <td>'41.4'</td>\n",
              "      <td>'59.0'</td>\n",
              "      <td>'40.0'</td>\n",
              "      <td>'2022-01-01'</td>\n",
              "      <td>'01'</td>\n",
              "      <td>'0.16600000000000037'</td>\n",
              "    </tr>\n",
              "    <tr>\n",
              "      <th>1</th>\n",
              "      <td>2022-01-02'</td>\n",
              "      <td>'43.2'</td>\n",
              "      <td>'32.0'</td>\n",
              "      <td>'14.7'</td>\n",
              "      <td>'29.5'</td>\n",
              "      <td>'12.8'</td>\n",
              "      <td>'18.0'</td>\n",
              "      <td>'240.0'</td>\n",
              "      <td>'0.0'</td>\n",
              "      <td>'0.0'</td>\n",
              "      <td>'0.0'</td>\n",
              "      <td>'52.0'</td>\n",
              "      <td>'37.0'</td>\n",
              "      <td>'4.0'</td>\n",
              "      <td>'16.0'</td>\n",
              "      <td>'29.669'</td>\n",
              "      <td>'29.268'</td>\n",
              "      <td>'35.7'</td>\n",
              "      <td>'51.0'</td>\n",
              "      <td>'52.0'</td>\n",
              "      <td>'2022-01-02'</td>\n",
              "      <td>'01'</td>\n",
              "      <td>'0.4009999999999998'</td>\n",
              "    </tr>\n",
              "    <tr>\n",
              "      <th>2</th>\n",
              "      <td>2022-01-03'</td>\n",
              "      <td>'25.7'</td>\n",
              "      <td>'60.0'</td>\n",
              "      <td>'12.7'</td>\n",
              "      <td>'29.7'</td>\n",
              "      <td>'8.3'</td>\n",
              "      <td>'12.2'</td>\n",
              "      <td>'290.0'</td>\n",
              "      <td>'0.0'</td>\n",
              "      <td>'0.0'</td>\n",
              "      <td>'0.0'</td>\n",
              "      <td>'41.0'</td>\n",
              "      <td>'6.0'</td>\n",
              "      <td>'8.0'</td>\n",
              "      <td>'35.0'</td>\n",
              "      <td>'30.232'</td>\n",
              "      <td>'29.26'</td>\n",
              "      <td>'25.3'</td>\n",
              "      <td>'38.0'</td>\n",
              "      <td>'41.0'</td>\n",
              "      <td>'2022-01-03'</td>\n",
              "      <td>'01'</td>\n",
              "      <td>'0.9719999999999978'</td>\n",
              "    </tr>\n",
              "    <tr>\n",
              "      <th>3</th>\n",
              "      <td>2022-01-04'</td>\n",
              "      <td>'9.3'</td>\n",
              "      <td>'67.0'</td>\n",
              "      <td>'0.1'</td>\n",
              "      <td>'30.4'</td>\n",
              "      <td>'2.9'</td>\n",
              "      <td>'4.5'</td>\n",
              "      <td>'47.0'</td>\n",
              "      <td>'0.0'</td>\n",
              "      <td>'0.0'</td>\n",
              "      <td>'0.0'</td>\n",
              "      <td>'19.0'</td>\n",
              "      <td>'-0.0'</td>\n",
              "      <td>'7.0'</td>\n",
              "      <td>'35.0'</td>\n",
              "      <td>'30.566'</td>\n",
              "      <td>'30.227'</td>\n",
              "      <td>'12.7'</td>\n",
              "      <td>'20.0'</td>\n",
              "      <td>'32.0'</td>\n",
              "      <td>'2022-01-04'</td>\n",
              "      <td>'01'</td>\n",
              "      <td>'0.33899999999999864'</td>\n",
              "    </tr>\n",
              "    <tr>\n",
              "      <th>4</th>\n",
              "      <td>2022-01-05'</td>\n",
              "      <td>'23.5'</td>\n",
              "      <td>'30.0'</td>\n",
              "      <td>'-5.3'</td>\n",
              "      <td>'29.9'</td>\n",
              "      <td>'16.7'</td>\n",
              "      <td>'23.1'</td>\n",
              "      <td>'265.0'</td>\n",
              "      <td>'0.0'</td>\n",
              "      <td>'0.0'</td>\n",
              "      <td>'0.0'</td>\n",
              "      <td>'30.0'</td>\n",
              "      <td>'15.0'</td>\n",
              "      <td>'5.0'</td>\n",
              "      <td>'13.0'</td>\n",
              "      <td>'30.233'</td>\n",
              "      <td>'29.568'</td>\n",
              "      <td>'38.0'</td>\n",
              "      <td>'53.0'</td>\n",
              "      <td>'32.0'</td>\n",
              "      <td>'2022-01-05'</td>\n",
              "      <td>'01'</td>\n",
              "      <td>'0.6649999999999991'</td>\n",
              "    </tr>\n",
              "  </tbody>\n",
              "</table>\n",
              "</div>\n",
              "      <button class=\"colab-df-convert\" onclick=\"convertToInteractive('df-e76b6727-1eb7-44c7-9fe0-76fe092878da')\"\n",
              "              title=\"Convert this dataframe to an interactive table.\"\n",
              "              style=\"display:none;\">\n",
              "        \n",
              "  <svg xmlns=\"http://www.w3.org/2000/svg\" height=\"24px\"viewBox=\"0 0 24 24\"\n",
              "       width=\"24px\">\n",
              "    <path d=\"M0 0h24v24H0V0z\" fill=\"none\"/>\n",
              "    <path d=\"M18.56 5.44l.94 2.06.94-2.06 2.06-.94-2.06-.94-.94-2.06-.94 2.06-2.06.94zm-11 1L8.5 8.5l.94-2.06 2.06-.94-2.06-.94L8.5 2.5l-.94 2.06-2.06.94zm10 10l.94 2.06.94-2.06 2.06-.94-2.06-.94-.94-2.06-.94 2.06-2.06.94z\"/><path d=\"M17.41 7.96l-1.37-1.37c-.4-.4-.92-.59-1.43-.59-.52 0-1.04.2-1.43.59L10.3 9.45l-7.72 7.72c-.78.78-.78 2.05 0 2.83L4 21.41c.39.39.9.59 1.41.59.51 0 1.02-.2 1.41-.59l7.78-7.78 2.81-2.81c.8-.78.8-2.07 0-2.86zM5.41 20L4 18.59l7.72-7.72 1.47 1.35L5.41 20z\"/>\n",
              "  </svg>\n",
              "      </button>\n",
              "      \n",
              "  <style>\n",
              "    .colab-df-container {\n",
              "      display:flex;\n",
              "      flex-wrap:wrap;\n",
              "      gap: 12px;\n",
              "    }\n",
              "\n",
              "    .colab-df-convert {\n",
              "      background-color: #E8F0FE;\n",
              "      border: none;\n",
              "      border-radius: 50%;\n",
              "      cursor: pointer;\n",
              "      display: none;\n",
              "      fill: #1967D2;\n",
              "      height: 32px;\n",
              "      padding: 0 0 0 0;\n",
              "      width: 32px;\n",
              "    }\n",
              "\n",
              "    .colab-df-convert:hover {\n",
              "      background-color: #E2EBFA;\n",
              "      box-shadow: 0px 1px 2px rgba(60, 64, 67, 0.3), 0px 1px 3px 1px rgba(60, 64, 67, 0.15);\n",
              "      fill: #174EA6;\n",
              "    }\n",
              "\n",
              "    [theme=dark] .colab-df-convert {\n",
              "      background-color: #3B4455;\n",
              "      fill: #D2E3FC;\n",
              "    }\n",
              "\n",
              "    [theme=dark] .colab-df-convert:hover {\n",
              "      background-color: #434B5C;\n",
              "      box-shadow: 0px 1px 3px 1px rgba(0, 0, 0, 0.15);\n",
              "      filter: drop-shadow(0px 1px 2px rgba(0, 0, 0, 0.3));\n",
              "      fill: #FFFFFF;\n",
              "    }\n",
              "  </style>\n",
              "\n",
              "      <script>\n",
              "        const buttonEl =\n",
              "          document.querySelector('#df-e76b6727-1eb7-44c7-9fe0-76fe092878da button.colab-df-convert');\n",
              "        buttonEl.style.display =\n",
              "          google.colab.kernel.accessAllowed ? 'block' : 'none';\n",
              "\n",
              "        async function convertToInteractive(key) {\n",
              "          const element = document.querySelector('#df-e76b6727-1eb7-44c7-9fe0-76fe092878da');\n",
              "          const dataTable =\n",
              "            await google.colab.kernel.invokeFunction('convertToInteractive',\n",
              "                                                     [key], {});\n",
              "          if (!dataTable) return;\n",
              "\n",
              "          const docLinkHtml = 'Like what you see? Visit the ' +\n",
              "            '<a target=\"_blank\" href=https://colab.research.google.com/notebooks/data_table.ipynb>data table notebook</a>'\n",
              "            + ' to learn more about interactive tables.';\n",
              "          element.innerHTML = '';\n",
              "          dataTable['output_type'] = 'display_data';\n",
              "          await google.colab.output.renderOutput(dataTable, element);\n",
              "          const docLink = document.createElement('div');\n",
              "          docLink.innerHTML = docLinkHtml;\n",
              "          element.appendChild(docLink);\n",
              "        }\n",
              "      </script>\n",
              "    </div>\n",
              "  </div>\n",
              "  "
            ]
          },
          "metadata": {},
          "execution_count": 4
        }
      ]
    },
    {
      "cell_type": "code",
      "source": [
        "df.info()"
      ],
      "metadata": {
        "colab": {
          "base_uri": "https://localhost:8080/"
        },
        "id": "I3HisIX8Lu48",
        "outputId": "3caf2e86-0c5d-41c4-d4a3-018f0d1edc9a"
      },
      "execution_count": 5,
      "outputs": [
        {
          "output_type": "stream",
          "name": "stdout",
          "text": [
            "<class 'pandas.core.frame.DataFrame'>\n",
            "RangeIndex: 3903 entries, 0 to 3902\n",
            "Data columns (total 23 columns):\n",
            " #   Column                    Non-Null Count  Dtype \n",
            "---  ------                    --------------  ----- \n",
            " 0   Date                      3903 non-null   object\n",
            " 1    Temperature              3903 non-null   object\n",
            " 2    Average humidity (%      3903 non-null   object\n",
            " 3    Average dewpoint (ÁF     3903 non-null   object\n",
            " 4    Average barometer (in    3903 non-null   object\n",
            " 5    Average windspeed (mph   3903 non-null   object\n",
            " 6    Average gustspeed (mph   3903 non-null   object\n",
            " 7    Average direction (Ádeg  3903 non-null   object\n",
            " 8    Rainfall for month (in   3903 non-null   object\n",
            " 9   Rainfall for year (in     3903 non-null   object\n",
            " 10   Maximum rain per minute  3903 non-null   object\n",
            " 11   Maximum temperature (ÁF  3903 non-null   object\n",
            " 12   Minimum temperature (ÁF  3903 non-null   object\n",
            " 13   Maximum humidity (%      3903 non-null   object\n",
            " 14   Minimum humidity (%      3903 non-null   object\n",
            " 15   Maximum pressure         3903 non-null   object\n",
            " 16   Minimum pressure         3903 non-null   object\n",
            " 17   Maximum windspeed (mph   3903 non-null   object\n",
            " 18   Maximum gust speed (mph  3903 non-null   object\n",
            " 19   Maximum heat index (ÁF   3903 non-null   object\n",
            " 20  Date1                     3903 non-null   object\n",
            " 21   Month                    3903 non-null   object\n",
            " 22   diff_pressure            3903 non-null   object\n",
            "dtypes: object(23)\n",
            "memory usage: 701.4+ KB\n"
          ]
        }
      ]
    },
    {
      "cell_type": "markdown",
      "source": [
        "#### **Sub task1: Fixing labels in the dataset**\n",
        "\n",
        "###### **By looking at the dataset, it is evident that the names of the column needs to be fixed.**\n",
        "\n",
        "* Initially will remove all the white spaces at both the ends of the column name \n",
        "\n",
        "* Will convert the names into lower case for better readibility and consistency\n",
        "\n",
        "* Will remove the brackets as the information of the units is not required for for analysing.\n",
        "\n",
        "* Will remove the space between words of the columns and replace it with '_' for better readability\n"
      ],
      "metadata": {
        "id": "n--0Ye0p_2cQ"
      }
    },
    {
      "cell_type": "markdown",
      "source": [
        "**Formating the column names**"
      ],
      "metadata": {
        "id": "HYZ_ZGt-CPcg"
      }
    },
    {
      "cell_type": "code",
      "source": [
        "df.columns =  [col.split(\"(\")[0].strip().replace(\" \", \"_\").lower() for col in df]\n",
        " "
      ],
      "metadata": {
        "id": "RZqFVqH9Ck98"
      },
      "execution_count": 6,
      "outputs": []
    },
    {
      "cell_type": "code",
      "source": [
        "df.rename(columns = {'temperature': 'average_temperature'}, inplace = True)"
      ],
      "metadata": {
        "id": "hL26XWqms-li"
      },
      "execution_count": 7,
      "outputs": []
    },
    {
      "cell_type": "code",
      "source": [
        "df.head()"
      ],
      "metadata": {
        "id": "e_KH_fJwoUIZ",
        "outputId": "ae8a502d-5545-4d80-af29-b96de1fbe6a8",
        "colab": {
          "base_uri": "https://localhost:8080/",
          "height": 357
        }
      },
      "execution_count": 8,
      "outputs": [
        {
          "output_type": "execute_result",
          "data": {
            "text/plain": [
              "          date average_temperature average_humidity average_dewpoint  \\\n",
              "0   01/01/2022              '37.8'           '35.0'           '12.7'   \n",
              "1  2022-01-02'              '43.2'           '32.0'           '14.7'   \n",
              "2  2022-01-03'              '25.7'           '60.0'           '12.7'   \n",
              "3  2022-01-04'               '9.3'           '67.0'            '0.1'   \n",
              "4  2022-01-05'              '23.5'           '30.0'           '-5.3'   \n",
              "\n",
              "  average_barometer average_windspeed average_gustspeed average_direction  \\\n",
              "0            '29.7'            '26.4'            '36.8'           '274.0'   \n",
              "1            '29.5'            '12.8'            '18.0'           '240.0'   \n",
              "2            '29.7'             '8.3'            '12.2'           '290.0'   \n",
              "3            '30.4'             '2.9'             '4.5'            '47.0'   \n",
              "4            '29.9'            '16.7'            '23.1'           '265.0'   \n",
              "\n",
              "  rainfall_for_month rainfall_for_year maximum_rain_per_minute  \\\n",
              "0              '0.0'             '0.0'                   '0.0'   \n",
              "1              '0.0'             '0.0'                   '0.0'   \n",
              "2              '0.0'             '0.0'                   '0.0'   \n",
              "3              '0.0'             '0.0'                   '0.0'   \n",
              "4              '0.0'             '0.0'                   '0.0'   \n",
              "\n",
              "  maximum_temperature minimum_temperature maximum_humidity minimum_humidity  \\\n",
              "0              '40.0'              '34.0'            '4.0'           '27.0'   \n",
              "1              '52.0'              '37.0'            '4.0'           '16.0'   \n",
              "2              '41.0'               '6.0'            '8.0'           '35.0'   \n",
              "3              '19.0'              '-0.0'            '7.0'           '35.0'   \n",
              "4              '30.0'              '15.0'            '5.0'           '13.0'   \n",
              "\n",
              "  maximum_pressure minimum_pressure maximum_windspeed maximum_gust_speed  \\\n",
              "0         '29.762'         '29.596'            '41.4'             '59.0'   \n",
              "1         '29.669'         '29.268'            '35.7'             '51.0'   \n",
              "2         '30.232'          '29.26'            '25.3'             '38.0'   \n",
              "3         '30.566'         '30.227'            '12.7'             '20.0'   \n",
              "4         '30.233'         '29.568'            '38.0'             '53.0'   \n",
              "\n",
              "  maximum_heat_index         date1 month          diff_pressure  \n",
              "0             '40.0'  '2022-01-01'  '01'  '0.16600000000000037'  \n",
              "1             '52.0'  '2022-01-02'  '01'   '0.4009999999999998'  \n",
              "2             '41.0'  '2022-01-03'  '01'   '0.9719999999999978'  \n",
              "3             '32.0'  '2022-01-04'  '01'  '0.33899999999999864'  \n",
              "4             '32.0'  '2022-01-05'  '01'   '0.6649999999999991'  "
            ],
            "text/html": [
              "\n",
              "  <div id=\"df-dd60f623-8dfb-41e9-8023-5004db69972d\">\n",
              "    <div class=\"colab-df-container\">\n",
              "      <div>\n",
              "<style scoped>\n",
              "    .dataframe tbody tr th:only-of-type {\n",
              "        vertical-align: middle;\n",
              "    }\n",
              "\n",
              "    .dataframe tbody tr th {\n",
              "        vertical-align: top;\n",
              "    }\n",
              "\n",
              "    .dataframe thead th {\n",
              "        text-align: right;\n",
              "    }\n",
              "</style>\n",
              "<table border=\"1\" class=\"dataframe\">\n",
              "  <thead>\n",
              "    <tr style=\"text-align: right;\">\n",
              "      <th></th>\n",
              "      <th>date</th>\n",
              "      <th>average_temperature</th>\n",
              "      <th>average_humidity</th>\n",
              "      <th>average_dewpoint</th>\n",
              "      <th>average_barometer</th>\n",
              "      <th>average_windspeed</th>\n",
              "      <th>average_gustspeed</th>\n",
              "      <th>average_direction</th>\n",
              "      <th>rainfall_for_month</th>\n",
              "      <th>rainfall_for_year</th>\n",
              "      <th>maximum_rain_per_minute</th>\n",
              "      <th>maximum_temperature</th>\n",
              "      <th>minimum_temperature</th>\n",
              "      <th>maximum_humidity</th>\n",
              "      <th>minimum_humidity</th>\n",
              "      <th>maximum_pressure</th>\n",
              "      <th>minimum_pressure</th>\n",
              "      <th>maximum_windspeed</th>\n",
              "      <th>maximum_gust_speed</th>\n",
              "      <th>maximum_heat_index</th>\n",
              "      <th>date1</th>\n",
              "      <th>month</th>\n",
              "      <th>diff_pressure</th>\n",
              "    </tr>\n",
              "  </thead>\n",
              "  <tbody>\n",
              "    <tr>\n",
              "      <th>0</th>\n",
              "      <td>01/01/2022</td>\n",
              "      <td>'37.8'</td>\n",
              "      <td>'35.0'</td>\n",
              "      <td>'12.7'</td>\n",
              "      <td>'29.7'</td>\n",
              "      <td>'26.4'</td>\n",
              "      <td>'36.8'</td>\n",
              "      <td>'274.0'</td>\n",
              "      <td>'0.0'</td>\n",
              "      <td>'0.0'</td>\n",
              "      <td>'0.0'</td>\n",
              "      <td>'40.0'</td>\n",
              "      <td>'34.0'</td>\n",
              "      <td>'4.0'</td>\n",
              "      <td>'27.0'</td>\n",
              "      <td>'29.762'</td>\n",
              "      <td>'29.596'</td>\n",
              "      <td>'41.4'</td>\n",
              "      <td>'59.0'</td>\n",
              "      <td>'40.0'</td>\n",
              "      <td>'2022-01-01'</td>\n",
              "      <td>'01'</td>\n",
              "      <td>'0.16600000000000037'</td>\n",
              "    </tr>\n",
              "    <tr>\n",
              "      <th>1</th>\n",
              "      <td>2022-01-02'</td>\n",
              "      <td>'43.2'</td>\n",
              "      <td>'32.0'</td>\n",
              "      <td>'14.7'</td>\n",
              "      <td>'29.5'</td>\n",
              "      <td>'12.8'</td>\n",
              "      <td>'18.0'</td>\n",
              "      <td>'240.0'</td>\n",
              "      <td>'0.0'</td>\n",
              "      <td>'0.0'</td>\n",
              "      <td>'0.0'</td>\n",
              "      <td>'52.0'</td>\n",
              "      <td>'37.0'</td>\n",
              "      <td>'4.0'</td>\n",
              "      <td>'16.0'</td>\n",
              "      <td>'29.669'</td>\n",
              "      <td>'29.268'</td>\n",
              "      <td>'35.7'</td>\n",
              "      <td>'51.0'</td>\n",
              "      <td>'52.0'</td>\n",
              "      <td>'2022-01-02'</td>\n",
              "      <td>'01'</td>\n",
              "      <td>'0.4009999999999998'</td>\n",
              "    </tr>\n",
              "    <tr>\n",
              "      <th>2</th>\n",
              "      <td>2022-01-03'</td>\n",
              "      <td>'25.7'</td>\n",
              "      <td>'60.0'</td>\n",
              "      <td>'12.7'</td>\n",
              "      <td>'29.7'</td>\n",
              "      <td>'8.3'</td>\n",
              "      <td>'12.2'</td>\n",
              "      <td>'290.0'</td>\n",
              "      <td>'0.0'</td>\n",
              "      <td>'0.0'</td>\n",
              "      <td>'0.0'</td>\n",
              "      <td>'41.0'</td>\n",
              "      <td>'6.0'</td>\n",
              "      <td>'8.0'</td>\n",
              "      <td>'35.0'</td>\n",
              "      <td>'30.232'</td>\n",
              "      <td>'29.26'</td>\n",
              "      <td>'25.3'</td>\n",
              "      <td>'38.0'</td>\n",
              "      <td>'41.0'</td>\n",
              "      <td>'2022-01-03'</td>\n",
              "      <td>'01'</td>\n",
              "      <td>'0.9719999999999978'</td>\n",
              "    </tr>\n",
              "    <tr>\n",
              "      <th>3</th>\n",
              "      <td>2022-01-04'</td>\n",
              "      <td>'9.3'</td>\n",
              "      <td>'67.0'</td>\n",
              "      <td>'0.1'</td>\n",
              "      <td>'30.4'</td>\n",
              "      <td>'2.9'</td>\n",
              "      <td>'4.5'</td>\n",
              "      <td>'47.0'</td>\n",
              "      <td>'0.0'</td>\n",
              "      <td>'0.0'</td>\n",
              "      <td>'0.0'</td>\n",
              "      <td>'19.0'</td>\n",
              "      <td>'-0.0'</td>\n",
              "      <td>'7.0'</td>\n",
              "      <td>'35.0'</td>\n",
              "      <td>'30.566'</td>\n",
              "      <td>'30.227'</td>\n",
              "      <td>'12.7'</td>\n",
              "      <td>'20.0'</td>\n",
              "      <td>'32.0'</td>\n",
              "      <td>'2022-01-04'</td>\n",
              "      <td>'01'</td>\n",
              "      <td>'0.33899999999999864'</td>\n",
              "    </tr>\n",
              "    <tr>\n",
              "      <th>4</th>\n",
              "      <td>2022-01-05'</td>\n",
              "      <td>'23.5'</td>\n",
              "      <td>'30.0'</td>\n",
              "      <td>'-5.3'</td>\n",
              "      <td>'29.9'</td>\n",
              "      <td>'16.7'</td>\n",
              "      <td>'23.1'</td>\n",
              "      <td>'265.0'</td>\n",
              "      <td>'0.0'</td>\n",
              "      <td>'0.0'</td>\n",
              "      <td>'0.0'</td>\n",
              "      <td>'30.0'</td>\n",
              "      <td>'15.0'</td>\n",
              "      <td>'5.0'</td>\n",
              "      <td>'13.0'</td>\n",
              "      <td>'30.233'</td>\n",
              "      <td>'29.568'</td>\n",
              "      <td>'38.0'</td>\n",
              "      <td>'53.0'</td>\n",
              "      <td>'32.0'</td>\n",
              "      <td>'2022-01-05'</td>\n",
              "      <td>'01'</td>\n",
              "      <td>'0.6649999999999991'</td>\n",
              "    </tr>\n",
              "  </tbody>\n",
              "</table>\n",
              "</div>\n",
              "      <button class=\"colab-df-convert\" onclick=\"convertToInteractive('df-dd60f623-8dfb-41e9-8023-5004db69972d')\"\n",
              "              title=\"Convert this dataframe to an interactive table.\"\n",
              "              style=\"display:none;\">\n",
              "        \n",
              "  <svg xmlns=\"http://www.w3.org/2000/svg\" height=\"24px\"viewBox=\"0 0 24 24\"\n",
              "       width=\"24px\">\n",
              "    <path d=\"M0 0h24v24H0V0z\" fill=\"none\"/>\n",
              "    <path d=\"M18.56 5.44l.94 2.06.94-2.06 2.06-.94-2.06-.94-.94-2.06-.94 2.06-2.06.94zm-11 1L8.5 8.5l.94-2.06 2.06-.94-2.06-.94L8.5 2.5l-.94 2.06-2.06.94zm10 10l.94 2.06.94-2.06 2.06-.94-2.06-.94-.94-2.06-.94 2.06-2.06.94z\"/><path d=\"M17.41 7.96l-1.37-1.37c-.4-.4-.92-.59-1.43-.59-.52 0-1.04.2-1.43.59L10.3 9.45l-7.72 7.72c-.78.78-.78 2.05 0 2.83L4 21.41c.39.39.9.59 1.41.59.51 0 1.02-.2 1.41-.59l7.78-7.78 2.81-2.81c.8-.78.8-2.07 0-2.86zM5.41 20L4 18.59l7.72-7.72 1.47 1.35L5.41 20z\"/>\n",
              "  </svg>\n",
              "      </button>\n",
              "      \n",
              "  <style>\n",
              "    .colab-df-container {\n",
              "      display:flex;\n",
              "      flex-wrap:wrap;\n",
              "      gap: 12px;\n",
              "    }\n",
              "\n",
              "    .colab-df-convert {\n",
              "      background-color: #E8F0FE;\n",
              "      border: none;\n",
              "      border-radius: 50%;\n",
              "      cursor: pointer;\n",
              "      display: none;\n",
              "      fill: #1967D2;\n",
              "      height: 32px;\n",
              "      padding: 0 0 0 0;\n",
              "      width: 32px;\n",
              "    }\n",
              "\n",
              "    .colab-df-convert:hover {\n",
              "      background-color: #E2EBFA;\n",
              "      box-shadow: 0px 1px 2px rgba(60, 64, 67, 0.3), 0px 1px 3px 1px rgba(60, 64, 67, 0.15);\n",
              "      fill: #174EA6;\n",
              "    }\n",
              "\n",
              "    [theme=dark] .colab-df-convert {\n",
              "      background-color: #3B4455;\n",
              "      fill: #D2E3FC;\n",
              "    }\n",
              "\n",
              "    [theme=dark] .colab-df-convert:hover {\n",
              "      background-color: #434B5C;\n",
              "      box-shadow: 0px 1px 3px 1px rgba(0, 0, 0, 0.15);\n",
              "      filter: drop-shadow(0px 1px 2px rgba(0, 0, 0, 0.3));\n",
              "      fill: #FFFFFF;\n",
              "    }\n",
              "  </style>\n",
              "\n",
              "      <script>\n",
              "        const buttonEl =\n",
              "          document.querySelector('#df-dd60f623-8dfb-41e9-8023-5004db69972d button.colab-df-convert');\n",
              "        buttonEl.style.display =\n",
              "          google.colab.kernel.accessAllowed ? 'block' : 'none';\n",
              "\n",
              "        async function convertToInteractive(key) {\n",
              "          const element = document.querySelector('#df-dd60f623-8dfb-41e9-8023-5004db69972d');\n",
              "          const dataTable =\n",
              "            await google.colab.kernel.invokeFunction('convertToInteractive',\n",
              "                                                     [key], {});\n",
              "          if (!dataTable) return;\n",
              "\n",
              "          const docLinkHtml = 'Like what you see? Visit the ' +\n",
              "            '<a target=\"_blank\" href=https://colab.research.google.com/notebooks/data_table.ipynb>data table notebook</a>'\n",
              "            + ' to learn more about interactive tables.';\n",
              "          element.innerHTML = '';\n",
              "          dataTable['output_type'] = 'display_data';\n",
              "          await google.colab.output.renderOutput(dataTable, element);\n",
              "          const docLink = document.createElement('div');\n",
              "          docLink.innerHTML = docLinkHtml;\n",
              "          element.appendChild(docLink);\n",
              "        }\n",
              "      </script>\n",
              "    </div>\n",
              "  </div>\n",
              "  "
            ]
          },
          "metadata": {},
          "execution_count": 8
        }
      ]
    },
    {
      "cell_type": "markdown",
      "source": [
        "*There could be a possibility that we have -0 as miss print, which should be modified*"
      ],
      "metadata": {
        "id": "T4UqpYaEWkw9"
      }
    },
    {
      "cell_type": "markdown",
      "source": [
        "**The column names have been formated**"
      ],
      "metadata": {
        "id": "JpmOa1ILMClk"
      }
    },
    {
      "cell_type": "markdown",
      "source": [
        "###### **Checking the non standard missing values**\n",
        "\n",
        "* This will help us in identifying the issue in the entire dataset before the conversion of data types\n"
      ],
      "metadata": {
        "id": "AO2CCDeMKfZ3"
      }
    },
    {
      "cell_type": "code",
      "source": [
        "#Non Standard missing values</h3>\n",
        "from collections import Counter\n",
        "\n",
        "for col in df.columns:\n",
        "    print(f'Column -- {col}')\n",
        "    print(f'=========================')\n",
        "    error_rows = []\n",
        "    for row in df[col]:    \n",
        "        try:\n",
        "            float(row)\n",
        "        except:\n",
        "            error_rows.append(row)        \n",
        "    print(f'{Counter(error_rows)}')"
      ],
      "metadata": {
        "colab": {
          "base_uri": "https://localhost:8080/"
        },
        "id": "eHkYWu8Ybkwb",
        "outputId": "9c3cc8bf-6670-43da-bdce-c1d5b196cd7c"
      },
      "execution_count": 9,
      "outputs": [
        {
          "output_type": "stream",
          "name": "stdout",
          "text": [
            "Column -- date\n",
            "=========================\n",
            "Counter({\"2022-07-28'\": 13, \"2022-01-02'\": 12, \"2022-01-03'\": 12, \"2022-01-04'\": 12, \"2022-01-05'\": 12, \"2022-01-06'\": 12, \"2022-01-07'\": 12, \"2022-01-08'\": 12, \"2022-01-12'\": 12, \"2022-01-13'\": 12, \"2022-01-14'\": 12, \"2022-01-15'\": 12, \"2022-01-16'\": 12, \"2022-01-17'\": 12, \"2022-01-18'\": 12, \"2022-01-19'\": 12, \"2022-01-20'\": 12, \"2022-01-21'\": 12, \"2022-01-22'\": 12, \"2022-01-23'\": 12, \"2022-01-24'\": 12, \"2022-01-25'\": 12, \"2022-01-26'\": 12, \"2022-01-27'\": 12, \"2022-01-28'\": 12, \"2022-01-29'\": 12, \"2022-01-30'\": 12, \"2022-01-31'\": 12, \"2022-03-28'\": 12, \"2022-03-30'\": 12, \"2022-03-31'\": 12, \"2022-05-15'\": 12, \"2022-05-16'\": 12, \"2022-05-17'\": 12, \"2022-05-18'\": 12, \"2022-05-22'\": 12, \"2022-05-23'\": 12, \"2022-05-24'\": 12, \"2022-05-25'\": 12, \"2022-06-02'\": 12, \"2022-06-03'\": 12, \"2022-06-04'\": 12, \"2022-06-05'\": 12, \"2022-06-06'\": 12, \"2022-06-07'\": 12, \"2022-06-08'\": 12, \"2022-06-09'\": 12, \"2022-06-10'\": 12, \"2022-06-11'\": 12, \"2022-06-12'\": 12, \"2022-06-13'\": 12, \"2022-06-14'\": 12, \"2022-06-15'\": 12, \"2022-06-16'\": 12, \"2022-06-17'\": 12, \"2022-06-18'\": 12, \"2022-06-19'\": 12, \"2022-06-20'\": 12, \"2022-06-21'\": 12, \"2022-06-22'\": 12, \"2022-06-23'\": 12, \"2022-06-26'\": 12, \"2022-06-27'\": 12, \"2022-06-28'\": 12, \"2022-06-29'\": 12, \"2022-06-30'\": 12, \"2022-07-25'\": 12, \"2022-07-26'\": 12, \"2022-07-27'\": 12, \"2022-01-09'\": 11, \"2022-01-10'\": 11, \"2022-01-11'\": 11, \"2022-02-02'\": 11, \"2022-02-09'\": 11, \"2022-02-10'\": 11, \"2022-02-11'\": 11, \"2022-02-12'\": 11, \"2022-02-13'\": 11, \"2022-02-14'\": 11, \"2022-02-15'\": 11, \"2022-02-16'\": 11, \"2022-02-17'\": 11, \"2022-02-18'\": 11, \"2022-02-19'\": 11, \"2022-02-20'\": 11, \"2022-02-21'\": 11, \"2022-02-22'\": 11, \"2022-02-23'\": 11, \"2022-02-24'\": 11, \"2022-02-25'\": 11, \"2022-02-26'\": 11, \"2022-02-27'\": 11, \"2022-02-28'\": 11, \"2022-03-23'\": 11, \"2022-03-24'\": 11, \"2022-03-25'\": 11, \"2022-03-26'\": 11, \"2022-03-27'\": 11, \"2022-03-29'\": 11, \"2022-04-05'\": 11, \"2022-04-06'\": 11, \"2022-04-07'\": 11, \"2022-04-08'\": 11, \"2022-04-09'\": 11, \"2022-04-10'\": 11, \"2022-04-11'\": 11, \"2022-04-12'\": 11, \"2022-04-13'\": 11, \"2022-04-14'\": 11, \"2022-04-15'\": 11, \"2022-04-16'\": 11, \"2022-04-21'\": 11, \"2022-04-22'\": 11, \"2022-04-23'\": 11, \"2022-04-24'\": 11, \"2022-04-25'\": 11, \"2022-04-27'\": 11, \"2022-04-28'\": 11, \"2022-04-29'\": 11, \"2022-04-30'\": 11, \"2022-05-06'\": 11, \"2022-05-08'\": 11, \"2022-05-09'\": 11, \"2022-05-10'\": 11, \"2022-05-11'\": 11, \"2022-05-12'\": 11, \"2022-05-13'\": 11, \"2022-05-14'\": 11, \"2022-05-19'\": 11, \"2022-05-20'\": 11, \"2022-05-21'\": 11, \"2022-05-26'\": 11, \"2022-05-28'\": 11, \"2022-05-29'\": 11, \"2022-05-30'\": 11, \"2022-05-31'\": 11, \"2022-06-01'\": 11, \"2022-06-24'\": 11, \"2022-06-25'\": 11, \"2022-07-14'\": 11, \"2022-07-15'\": 11, \"2022-07-16'\": 11, \"2022-07-17'\": 11, \"2022-07-18'\": 11, \"2022-07-24'\": 11, \"2022-07-29'\": 11, \"2022-07-30'\": 11, \"2022-07-31'\": 11, \"2022-08-01'\": 11, \"2022-08-02'\": 11, \"2022-08-03'\": 11, \"2022-08-04'\": 11, \"2022-08-05'\": 11, \"2022-08-06'\": 11, \"2022-08-07'\": 11, \"2022-08-08'\": 11, \"2022-08-09'\": 11, \"2022-08-10'\": 11, \"2022-08-11'\": 11, \"2022-08-12'\": 11, \"2022-08-13'\": 11, \"2022-08-14'\": 11, \"2022-08-15'\": 11, \"2022-08-16'\": 11, \"2022-08-17'\": 11, \"2022-08-18'\": 11, \"2022-08-19'\": 11, \"2022-08-20'\": 11, \"2022-08-21'\": 11, \"2022-08-22'\": 11, \"2022-08-23'\": 11, \"2022-08-24'\": 11, \"2022-08-25'\": 11, \"2022-08-26'\": 11, \"2022-08-27'\": 11, \"2022-08-28'\": 11, \"2022-08-29'\": 11, \"2022-08-30'\": 11, \"2022-08-31'\": 11, \"2022-09-26'\": 11, \"2022-09-27'\": 11, \"2022-09-29'\": 11, \"2022-10-01'\": 11, \"2022-10-02'\": 11, \"2022-10-03'\": 11, \"2022-10-04'\": 11, \"2022-10-05'\": 11, \"2022-10-06'\": 11, \"2022-10-07'\": 11, \"2022-10-08'\": 11, \"2022-10-09'\": 11, \"2022-10-10'\": 11, \"2022-10-11'\": 11, \"2022-10-12'\": 11, \"2022-10-13'\": 11, \"2022-10-14'\": 11, \"2022-10-15'\": 11, \"2022-10-16'\": 11, \"2022-10-17'\": 11, \"2022-10-18'\": 11, \"2022-10-19'\": 11, \"2022-10-20'\": 11, \"2022-10-21'\": 11, \"2022-10-22'\": 11, \"2022-10-23'\": 11, \"2022-10-24'\": 11, \"2022-10-25'\": 11, \"2022-10-26'\": 11, \"2022-10-27'\": 11, \"2022-10-28'\": 11, \"2022-10-29'\": 11, \"2022-10-30'\": 11, \"2022-10-31'\": 11, \"2022-11-01'\": 11, \"2022-11-02'\": 11, \"2022-11-03'\": 11, \"2022-11-05'\": 11, \"2022-11-06'\": 11, \"2022-11-07'\": 11, \"2022-11-10'\": 11, \"2022-11-11'\": 11, \"2022-11-12'\": 11, \"2022-11-15'\": 11, \"2022-11-16'\": 11, \"2022-11-17'\": 11, \"2022-11-18'\": 11, \"2022-11-19'\": 11, \"2022-11-20'\": 11, \"2022-11-21'\": 11, \"2022-11-22'\": 11, \"2022-11-23'\": 11, \"2022-11-24'\": 11, \"2022-11-25'\": 11, \"2022-11-26'\": 11, \"2022-11-27'\": 11, \"2022-11-28'\": 11, \"2022-01-01'\": 11, \"2022-02-01'\": 10, \"2022-02-03'\": 10, \"2022-02-04'\": 10, \"2022-02-05'\": 10, \"2022-02-06'\": 10, \"2022-02-07'\": 10, \"2022-02-08'\": 10, \"2022-03-02'\": 10, \"2022-03-03'\": 10, \"2022-03-04'\": 10, \"2022-03-05'\": 10, \"2022-03-06'\": 10, \"2022-03-07'\": 10, \"2022-03-08'\": 10, \"2022-03-09'\": 10, \"2022-03-10'\": 10, \"2022-03-11'\": 10, \"2022-03-12'\": 10, \"2022-03-16'\": 10, \"2022-03-17'\": 10, \"2022-03-18'\": 10, \"2022-03-19'\": 10, \"2022-03-20'\": 10, \"2022-03-21'\": 10, \"2022-03-22'\": 10, \"2022-04-01'\": 10, \"2022-04-02'\": 10, \"2022-04-03'\": 10, \"2022-04-04'\": 10, \"2022-04-17'\": 10, \"2022-04-18'\": 10, \"2022-04-19'\": 10, \"2022-04-20'\": 10, \"2022-04-26'\": 10, \"2022-05-07'\": 10, \"2022-05-27'\": 10, \"2022-07-01'\": 10, \"2022-07-02'\": 10, \"2022-07-03'\": 10, \"2022-07-04'\": 10, \"2022-07-05'\": 10, \"2022-07-06'\": 10, \"2022-07-07'\": 10, \"2022-07-08'\": 10, \"2022-07-09'\": 10, \"2022-07-10'\": 10, \"2022-07-11'\": 10, \"2022-07-12'\": 10, \"2022-07-13'\": 10, \"2022-07-19'\": 10, \"2022-07-20'\": 10, \"2022-07-22'\": 10, \"2022-07-23'\": 10, \"2022-09-16'\": 10, \"2022-09-17'\": 10, \"2022-09-20'\": 10, \"2022-09-21'\": 10, \"2022-09-22'\": 10, \"2022-09-24'\": 10, \"2022-09-25'\": 10, \"2022-09-28'\": 10, \"2022-09-30'\": 10, \"2022-11-04'\": 10, \"2022-11-08'\": 10, \"2022-11-09'\": 10, \"2022-11-13'\": 10, \"2022-11-14'\": 10, \"2022-11-29'\": 10, \"2022-11-30'\": 10, \"2022-12-22'\": 10, \"2022-12-23'\": 10, \"2022-12-24'\": 10, \"2022-12-25'\": 10, \"2022-12-26'\": 10, \"2022-12-27'\": 10, \"2022-12-28'\": 10, \"2022-12-29'\": 10, \"2022-12-30'\": 10, \"2022-12-31'\": 10, \"2022-03-01'\": 9, \"2022-05-01'\": 9, \"2022-05-02'\": 9, \"2022-05-03'\": 9, \"2022-05-04'\": 9, \"2022-05-05'\": 9, \"2022-07-21'\": 9, \"2022-09-01'\": 9, \"2022-09-02'\": 9, \"2022-09-03'\": 9, \"2022-09-04'\": 9, \"2022-09-05'\": 9, \"2022-09-06'\": 9, \"2022-09-07'\": 9, \"2022-09-08'\": 9, \"2022-09-09'\": 9, \"2022-09-10'\": 9, \"2022-09-13'\": 9, \"2022-09-14'\": 9, \"2022-09-15'\": 9, \"2022-09-18'\": 9, \"2022-09-19'\": 9, \"2022-09-23'\": 9, \"2022-03-13'\": 9, \"2022-03-14'\": 9, \"2022-03-15'\": 9, \"2022-12-02'\": 9, \"2022-12-03'\": 9, \"2022-12-04'\": 9, \"2022-12-10'\": 9, \"2022-12-11'\": 9, \"2022-12-12'\": 9, \"2022-12-13'\": 9, \"2022-12-14'\": 9, \"2022-12-15'\": 9, \"2022-12-16'\": 9, \"2022-12-17'\": 9, \"2022-12-18'\": 9, \"2022-12-19'\": 9, \"2022-12-20'\": 9, \"2022-12-21'\": 9, \"2022-09-11'\": 8, \"2022-09-12'\": 8, \"2022-12-05'\": 8, \"2022-12-06'\": 8, \"2022-12-07'\": 8, \"2022-12-08'\": 8, \"2022-12-09'\": 8, \"2022-12-01'\": 8, \"2022-02-29'\": 2, '01/01/2022': 1})\n",
            "Column -- average_temperature\n",
            "=========================\n",
            "Counter({\"'30.3'\": 17, \"'40.9'\": 17, \"'46.9'\": 17, \"'60.4'\": 16, \"'61.2'\": 16, \"'60.6'\": 16, \"'61.0'\": 15, \"'65.5'\": 15, \"'58.6'\": 15, \"'41.3'\": 15, \"'59.4'\": 15, \"'38.6'\": 14, \"'37.7'\": 14, \"'62.0'\": 14, \"'39.9'\": 14, \"'62.6'\": 14, \"'35.4'\": 13, \"'35.2'\": 13, \"'48.7'\": 13, \"'61.1'\": 13, \"'63.0'\": 13, \"'63.5'\": 13, \"'65.3'\": 13, \"'58.0'\": 13, \"'60.5'\": 13, \"'64.5'\": 13, \"'47.4'\": 13, \"'61.7'\": 13, \"'59.8'\": 13, \"'43.4'\": 12, \"'40.0'\": 12, \"'36.0'\": 12, \"'44.0'\": 12, \"'48.1'\": 12, \"'36.5'\": 12, \"'58.7'\": 12, \"'39.4'\": 12, \"'59.1'\": 12, \"'31.4'\": 12, \"'30.6'\": 12, \"'29.8'\": 12, \"'43.6'\": 12, \"'39.5'\": 12, \"'63.3'\": 12, \"'54.6'\": 12, \"'44.2'\": 12, \"'46.6'\": 11, \"'30.8'\": 11, \"'31.2'\": 11, \"'35.9'\": 11, \"'42.7'\": 11, \"'32.1'\": 11, \"'48.9'\": 11, \"'38.0'\": 11, \"'62.5'\": 11, \"'48.3'\": 11, \"'48.4'\": 11, \"'62.8'\": 11, \"'58.8'\": 11, \"'55.7'\": 11, \"'59.2'\": 11, \"'59.9'\": 11, \"'57.5'\": 11, \"'64.6'\": 11, \"'53.3'\": 11, \"'52.2'\": 11, \"'44.1'\": 11, \"'46.0'\": 11, \"'29.9'\": 11, \"'43.0'\": 11, \"'36.6'\": 11, \"'56.0'\": 11, \"'53.8'\": 11, \"'33.3'\": 11, \"'54.9'\": 11, \"'62.9'\": 11, \"'38.9'\": 10, \"'54.0'\": 10, \"'36.9'\": 10, \"'46.3'\": 10, \"'42.3'\": 10, \"'40.2'\": 10, \"'49.6'\": 10, \"'37.4'\": 10, \"'53.1'\": 10, \"'52.7'\": 10, \"'42.9'\": 10, \"'57.8'\": 10, \"'61.9'\": 10, \"'46.5'\": 10, \"'64.9'\": 10, \"'55.0'\": 10, \"'63.6'\": 10, \"'56.8'\": 10, \"'40.4'\": 10, \"'46.8'\": 10, \"'45.9'\": 10, \"'46.4'\": 10, \"'37.0'\": 10, \"'44.5'\": 10, \"'53.2'\": 10, \"'57.7'\": 10, \"'65.9'\": 10, \"'64.1'\": 10, \"'65.1'\": 10, \"'34.8'\": 10, \"'24.5'\": 10, \"'51.8'\": 10, \"'49.4'\": 10, \"'42.0'\": 10, \"'58.4'\": 10, \"'57.4'\": 10, \"'52.5'\": 10, \"'38.1'\": 10, \"'34.2'\": 9, \"'44.8'\": 9, \"'28.3'\": 9, \"'45.8'\": 9, \"'40.6'\": 9, \"'49.1'\": 9, \"'34.3'\": 9, \"'35.0'\": 9, \"'41.9'\": 9, \"'47.3'\": 9, \"'43.5'\": 9, \"'37.2'\": 9, \"'54.2'\": 9, \"'50.1'\": 9, \"'48.8'\": 9, \"'49.7'\": 9, \"'56.3'\": 9, \"'57.1'\": 9, \"'47.8'\": 9, \"'58.1'\": 9, \"'60.0'\": 9, \"'60.9'\": 9, \"'64.0'\": 9, \"'56.9'\": 9, \"'65.2'\": 9, \"'56.4'\": 9, \"'62.2'\": 9, \"'62.1'\": 9, \"'59.7'\": 9, \"'40.8'\": 9, \"'52.3'\": 9, \"'32.0'\": 9, \"'42.4'\": 9, \"'32.6'\": 9, \"'35.5'\": 9, \"'45.7'\": 9, \"'43.7'\": 9, \"'42.6'\": 9, \"'39.8'\": 9, \"'43.9'\": 9, \"'58.3'\": 9, \"'65.8'\": 9, \"'61.5'\": 9, \"'60.2'\": 9, \"'60.8'\": 9, \"'41.1'\": 9, \"'28.5'\": 9, \"'44.6'\": 9, \"'29.6'\": 9, \"'26.8'\": 9, \"'31.1'\": 9, \"'34.6'\": 9, \"'66.0'\": 9, \"'64.2'\": 9, \"'64.3'\": 9, \"'55.8'\": 9, \"'45.1'\": 9, \"'41.7'\": 9, \"'50.4'\": 9, \"'41.5'\": 9, \"'37.8'\": 8, \"'43.2'\": 8, \"'25.7'\": 8, \"'32.4'\": 8, \"'33.1'\": 8, \"'35.7'\": 8, \"'38.3'\": 8, \"'45.6'\": 8, \"'34.7'\": 8, \"'38.5'\": 8, \"'35.8'\": 8, \"'40.7'\": 8, \"'54.4'\": 8, \"'51.6'\": 8, \"'53.7'\": 8, \"'42.2'\": 8, \"'55.1'\": 8, \"'61.4'\": 8, \"'63.9'\": 8, \"'59.5'\": 8, \"'64.4'\": 8, \"'62.3'\": 8, \"'68.0'\": 8, \"'54.1'\": 8, \"'57.9'\": 8, \"'62.4'\": 8, \"'36.3'\": 8, \"'38.7'\": 8, \"'31.3'\": 8, \"'29.0'\": 8, \"'39.3'\": 8, \"'38.2'\": 8, \"'52.0'\": 8, \"'32.9'\": 8, \"'24.2'\": 8, \"'36.7'\": 8, \"'31.7'\": 8, \"'33.6'\": 8, \"'30.9'\": 8, \"'32.2'\": 8, \"'50.0'\": 8, \"'57.2'\": 8, \"'67.8'\": 8, \"'65.0'\": 8, \"'67.9'\": 8, \"'64.8'\": 8, \"'66.8'\": 8, \"'65.4'\": 8, \"'44.9'\": 8, \"'36.4'\": 8, \"'30.5'\": 8, \"'59.6'\": 8, \"'39.2'\": 8, \"'61.6'\": 8, \"'28.4'\": 8, \"'51.5'\": 8, \"'33.8'\": 8, \"'39.0'\": 8, \"'24.8'\": 7, \"'42.1'\": 7, \"'26.2'\": 7, \"'23.4'\": 7, \"'25.9'\": 7, \"'27.8'\": 7, \"'32.5'\": 7, \"'44.7'\": 7, \"'29.1'\": 7, \"'41.4'\": 7, \"'30.7'\": 7, \"'45.3'\": 7, \"'33.5'\": 7, \"'37.1'\": 7, \"'59.0'\": 7, \"'51.3'\": 7, \"'49.3'\": 7, \"'55.4'\": 7, \"'49.9'\": 7, \"'67.1'\": 7, \"'53.6'\": 7, \"'49.8'\": 7, \"'54.8'\": 7, \"'56.1'\": 7, \"'50.3'\": 7, \"'53.0'\": 7, \"'42.5'\": 7, \"'41.2'\": 7, \"'38.8'\": 7, \"'28.8'\": 7, \"'30.4'\": 7, \"'26.5'\": 7, \"'37.3'\": 7, \"'24.6'\": 7, \"'23.0'\": 7, \"'35.3'\": 7, \"'27.7'\": 7, \"'36.2'\": 7, \"'41.8'\": 7, \"'29.4'\": 7, \"'37.6'\": 7, \"'40.5'\": 7, \"'48.5'\": 7, \"'51.2'\": 7, \"'63.4'\": 7, \"'67.0'\": 7, \"'62.7'\": 7, \"'67.6'\": 7, \"'55.6'\": 7, \"'29.7'\": 7, \"'24.1'\": 7, \"'55.9'\": 7, \"'46.1'\": 7, \"'42.8'\": 7, \"'21.4'\": 7, \"'40.3'\": 7, \"'50.2'\": 7, \"'46.7'\": 7, \"'36.8'\": 7, \"'26.0'\": 7, \"'60.3'\": 7, \"'58.2'\": 7, \"'36.1'\": 7, \"'37.5'\": 7, \"'34.5'\": 7, \"'31.9'\": 7, \"'52.9'\": 7, \"'30.1'\": 6, \"'48.2'\": 6, \"'33.4'\": 6, \"'31.5'\": 6, \"'27.9'\": 6, \"'44.4'\": 6, \"'51.7'\": 6, \"'47.0'\": 6, \"'47.1'\": 6, \"'47.9'\": 6, \"'50.7'\": 6, \"'56.2'\": 6, \"'61.8'\": 6, \"'66.1'\": 6, \"'68.1'\": 6, \"'66.4'\": 6, \"'59.3'\": 6, \"'60.1'\": 6, \"'63.1'\": 6, \"'65.6'\": 6, \"'54.3'\": 6, \"'49.0'\": 6, \"'30.2'\": 6, \"'32.7'\": 6, \"'51.4'\": 6, \"'35.6'\": 6, \"'39.7'\": 6, \"'25.6'\": 6, \"'27.1'\": 6, \"'26.4'\": 6, \"'44.3'\": 6, \"'39.6'\": 6, \"'68.2'\": 6, \"'48.0'\": 6, \"'67.2'\": 6, \"'58.9'\": 6, \"'67.5'\": 6, \"'53.5'\": 6, \"'57.6'\": 6, \"'47.6'\": 6, \"'33.9'\": 6, \"'18.9'\": 6, \"'28.7'\": 6, \"'48.6'\": 6, \"'34.0'\": 6, \"'46.2'\": 6, \"'56.7'\": 6, \"'40.1'\": 6, \"'39.1'\": 6, \"'49.5'\": 6, \"'23.5'\": 5, \"'41.6'\": 5, \"'21.8'\": 5, \"'43.3'\": 5, \"'19.9'\": 5, \"'20.5'\": 5, \"'34.1'\": 5, \"'29.2'\": 5, \"'28.1'\": 5, \"'21.1'\": 5, \"'34.9'\": 5, \"'57.3'\": 5, \"'56.5'\": 5, \"'50.9'\": 5, \"'61.3'\": 5, \"'27.6'\": 5, \"'18.4'\": 5, \"'27.5'\": 5, \"'28.0'\": 5, \"'22.3'\": 5, \"'27.4'\": 5, \"'45.0'\": 5, \"'28.6'\": 5, \"'51.0'\": 5, \"'52.8'\": 5, \"'66.9'\": 5, \"'58.5'\": 5, \"'53.4'\": 5, \"'15.7'\": 5, \"'31.6'\": 5, \"'66.6'\": 5, \"'67.7'\": 5, \"'67.4'\": 5, \"'63.2'\": 5, \"'45.5'\": 5, \"'45.4'\": 5, \"'31.0'\": 5, \"'66.5'\": 5, \"'67.3'\": 5, \"'49.2'\": 5, \"'51.9'\": 5, \"'43.1'\": 5, \"'41.0'\": 5, \"'65.7'\": 5, \"'33.7'\": 5, \"'43.8'\": 5, \"'56.6'\": 5, \"'25.8'\": 4, \"'26.7'\": 4, \"'19.5'\": 4, \"'23.3'\": 4, \"'51.1'\": 4, \"'52.6'\": 4, \"'53.9'\": 4, \"'54.5'\": 4, \"'52.4'\": 4, \"'17.4'\": 4, \"'19.6'\": 4, \"'29.5'\": 4, \"'23.9'\": 4, \"'15.2'\": 4, \"'27.3'\": 4, \"'16.0'\": 4, \"'24.0'\": 4, \"'18.6'\": 4, \"'26.3'\": 4, \"'30.0'\": 4, \"'64.7'\": 4, \"'63.7'\": 4, \"'25.2'\": 4, \"'25.1'\": 4, \"'24.4'\": 4, \"'26.9'\": 4, \"'18.3'\": 4, \"'55.2'\": 4, \"'63.8'\": 4, \"'69.8'\": 4, \"'32.8'\": 4, \"'20.9'\": 4, \"'25.4'\": 4, \"'33.2'\": 4, \"'37.9'\": 4, \"'13.1'\": 4, \"'55.3'\": 4, \"'47.2'\": 4, \"'73.4'\": 4, \"'68.6'\": 4, \"'60.7'\": 4, \"'23.6'\": 4, \"'13.7'\": 4, \"'8.5'\": 4, \"'18.8'\": 4, \"'45.2'\": 4, \"'68.7'\": 4, \"'57.0'\": 4, \"'27.0'\": 4, \"'20.4'\": 4, \"'23.7'\": 4, \"'33.0'\": 3, \"'23.2'\": 3, \"'16.8'\": 3, \"'22.0'\": 3, \"'52.1'\": 3, \"'50.8'\": 3, \"'50.6'\": 3, \"'66.2'\": 3, \"'68.9'\": 3, \"'32.3'\": 3, \"'23.1'\": 3, \"'17.3'\": 3, \"'10.3'\": 3, \"'26.1'\": 3, \"'47.7'\": 3, \"'70.1'\": 3, \"'68.4'\": 3, \"'20.1'\": 3, \"'20.2'\": 3, \"'25.0'\": 3, \"'11.7'\": 3, \"'34.4'\": 3, \"'22.9'\": 3, \"'26.6'\": 3, \"'47.5'\": 3, \"'19.4'\": 3, \"'54.7'\": 3, \"'66.7'\": 3, \"'69.6'\": 3, \"'24.3'\": 3, \"'23.8'\": 3, \"'28.2'\": 3, \"'16.1'\": 3, \"'31.8'\": 3, \"'20.8'\": 3, \"'13.9'\": 3, \"'29.3'\": 3, \"'12.0'\": 3, \"'71.0'\": 3, \"'15.3'\": 3, \"'20.7'\": 3, \"'38.4'\": 3, \"'68.8'\": 3, \"'55.5'\": 3, \"'16.6'\": 3, \"'20.6'\": 3, \"'68.3'\": 3, \"'24.7'\": 3, \"'7.9'\": 2, \"'22.5'\": 2, \"'22.2'\": 2, \"'19.2'\": 2, \"'21.5'\": 2, \"'21.3'\": 2, \"'16.2'\": 2, \"'11.0'\": 2, \"'15.0'\": 2, \"'28.9'\": 2, \"'15.6'\": 2, \"'17.5'\": 2, \"'25.3'\": 2, \"'15.5'\": 2, \"'19.7'\": 2, \"'69.0'\": 2, \"'71.1'\": 2, \"'22.4'\": 2, \"'17.7'\": 2, \"'25.5'\": 2, \"'74.3'\": 2, \"'70.2'\": 2, \"'76.3'\": 2, \"'70.4'\": 2, \"'12.1'\": 2, \"'21.7'\": 2, \"'19.1'\": 2, \"'18.2'\": 2, \"'15.4'\": 2, \"'13.4'\": 2, \"'13.2'\": 2, \"'-1.0'\": 2, \"'16.3'\": 2, \"'17.9'\": 2, \"'15.1'\": 2, \"'18.5'\": 2, \"'72.1'\": 2, \"'35.1'\": 2, \"'0.5'\": 2, \"'3.4'\": 2, \"'13.8'\": 2, \"'5.9'\": 2, \"'50.5'\": 2, \"'72.2'\": 2, \"'4.9'\": 2, \"'16.7'\": 2, \"'11.4'\": 2, \"'6.9'\": 2, \"'16.9'\": 2, \"'69.4'\": 2, \"'10.2'\": 2, \"'22.7'\": 2, \"'18.1'\": 2, \"'20.3'\": 2, \"'13.5'\": 2, \"'12.7'\": 2, \"'69.9'\": 2, \"'66.3'\": 2, \"'69.1'\": 2, \"'9.3'\": 1, \"'21.0'\": 1, \"'2.8'\": 1, \"'14.7'\": 1, \"'70.0'\": 1, \"'1.4'\": 1, \"'71.6'\": 1, \"'15.8'\": 1, \"'1.5'\": 1, \"'6.6'\": 1, \"'3.5'\": 1, \"'10.6'\": 1, \"'-12.1'\": 1, \"'-11.9'\": 1, \"'10.0'\": 1, \"'-0.4'\": 1, \"'1.9'\": 1, \"'70.6'\": 1, \"'69.7'\": 1, \"'11.1'\": 1, \"'18.0'\": 1, \"'14.1'\": 1, \"'14.6'\": 1, \"'74.5'\": 1, \"'75.3'\": 1, \"'73.0'\": 1, \"'74.9'\": 1, \"'71.4'\": 1, \"'70.5'\": 1, \"'70.9'\": 1, \"'17.1'\": 1, \"'12.5'\": 1, \"'7.1'\": 1, \"'21.6'\": 1, \"'8.6'\": 1, \"'14.5'\": 1, \"'70.7'\": 1, \"'-4.4'\": 1, \"'-4.3'\": 1, \"'7.7'\": 1, \"'6.5'\": 1, \"'3.3'\": 1, \"'8.4'\": 1, \"'-9.1'\": 1, \"'19.8'\": 1, \"'3.6'\": 1, \"'22.6'\": 1, \"'72.5'\": 1, \"'-6.7'\": 1, \"'-0.6'\": 1, \"'16.4'\": 1, \"'9.4'\": 1, \"'-9.6'\": 1, \"'-1.1'\": 1, \"'8.1'\": 1, \"'13.0'\": 1, \"'3.7'\": 1, \"'8.8'\": 1, \"'11.9'\": 1, \"'10.8'\": 1, \"'74.7'\": 1, \"'13.3'\": 1, \"'15.9'\": 1, \"'17.2'\": 1, \"'8.7'\": 1, \"'10.9'\": 1, \"'6.7'\": 1, \"'7.5'\": 1, \"'27.2'\": 1, \"'12.3'\": 1, \"'16.5'\": 1, \"'69.5'\": 1, \"'72.3'\": 1, \"'68.5'\": 1, \"'2.0'\": 1, \"'1.6'\": 1, \"'-0.7'\": 1, \"'12.6'\": 1, \"'-2.4'\": 1, \"'21.9'\": 1, \"'14.8'\": 1, \"'74.2'\": 1, \"'18.7'\": 1, \"'5.4'\": 1, \"'74.8'\": 1, \"'14.2'\": 1, \"'9.5'\": 1, \"'2.4'\": 1, \"'7.4'\": 1, \"'11.6'\": 1, \"'1.0'\": 1, \"'74.4'\": 1, \"'5.7'\": 1, \"'9.2'\": 1, \"'11.3'\": 1, \"'6.0'\": 1, \"'11.5'\": 1, \"'17.0'\": 1, \"'17.8'\": 1, \"'22.8'\": 1, \"'13.6'\": 1, \"'2.7'\": 1})\n",
            "Column -- average_humidity\n",
            "=========================\n",
            "Counter({\"'51.0'\": 99, \"'44.0'\": 94, \"'39.0'\": 92, \"'40.0'\": 91, \"'37.0'\": 91, \"'45.0'\": 89, \"'47.0'\": 88, \"'42.0'\": 87, \"'43.0'\": 84, \"'50.0'\": 83, \"'48.0'\": 83, \"'41.0'\": 81, \"'38.0'\": 80, \"'56.0'\": 80, \"'36.0'\": 78, \"'46.0'\": 77, \"'55.0'\": 76, \"'52.0'\": 75, \"'49.0'\": 74, \"'32.0'\": 73, \"'53.0'\": 71, \"'57.0'\": 71, \"'30.0'\": 70, \"'34.0'\": 70, \"'54.0'\": 69, \"'60.0'\": 66, \"'35.0'\": 63, \"'58.0'\": 62, \"'59.0'\": 60, \"'29.0'\": 59, \"'63.0'\": 58, \"'66.0'\": 57, \"'31.0'\": 55, \"'33.0'\": 54, \"'28.0'\": 50, \"'61.0'\": 49, \"'62.0'\": 48, \"'71.0'\": 48, \"'69.0'\": 47, \"'24.0'\": 45, \"'26.0'\": 44, \"'23.0'\": 44, \"'27.0'\": 43, \"'65.0'\": 43, \"'64.0'\": 43, \"'22.0'\": 41, \"'25.0'\": 40, \"'68.0'\": 38, \"'72.0'\": 38, \"'67.0'\": 37, \"'73.0'\": 37, \"'74.0'\": 37, \"'70.0'\": 36, \"'79.0'\": 34, \"'75.0'\": 33, \"'77.0'\": 32, \"'21.0'\": 30, \"'80.0'\": 27, \"'76.0'\": 27, \"'19.0'\": 26, \"'81.0'\": 26, \"'78.0'\": 24, \"'20.0'\": 23, \"'83.0'\": 23, \"'18.0'\": 22, \"'84.0'\": 21, \"'82.0'\": 18, \"'17.0'\": 18, \"'89.0'\": 17, \"'88.0'\": 16, \"'16.0'\": 15, \"'87.0'\": 15, \"'85.0'\": 15, \"'86.0'\": 13, \"'90.0'\": 10, \"'15.0'\": 9, \"'91.0'\": 7, \"'14.0'\": 7, \"'13.0'\": 7, \"'12.0'\": 6, \"'11.0'\": 4, \"'92.0'\": 4, \"'9.0'\": 3, \"'10.0'\": 1, \"'94.0'\": 1, \"'93.0'\": 1})\n",
            "Column -- average_dewpoint\n",
            "=========================\n",
            "Counter({\"'15.7'\": 18, \"'19.6'\": 17, \"'25.0'\": 16, \"'31.1'\": 16, \"'22.9'\": 16, \"'20.3'\": 16, \"'13.6'\": 15, \"'13.2'\": 15, \"'11.3'\": 15, \"'17.9'\": 15, \"'18.3'\": 15, \"'22.4'\": 14, \"'39.3'\": 14, \"'41.0'\": 14, \"'15.2'\": 14, \"'12.9'\": 14, \"'13.0'\": 14, \"'16.9'\": 14, \"'20.1'\": 14, \"'21.6'\": 13, \"'7.9'\": 13, \"'39.0'\": 13, \"'18.0'\": 13, \"'8.7'\": 13, \"'20.5'\": 13, \"'23.6'\": 13, \"'42.6'\": 13, \"'16.7'\": 13, \"'28.3'\": 13, \"'20.0'\": 12, \"'11.0'\": 12, \"'14.6'\": 12, \"'17.0'\": 12, \"'17.7'\": 12, \"'13.4'\": 12, \"'9.3'\": 12, \"'16.1'\": 12, \"'11.7'\": 12, \"'22.0'\": 12, \"'24.3'\": 12, \"'35.5'\": 12, \"'27.8'\": 12, \"'18.2'\": 12, \"'19.3'\": 12, \"'8.6'\": 12, \"'12.2'\": 11, \"'18.9'\": 11, \"'2.0'\": 11, \"'15.5'\": 11, \"'31.9'\": 11, \"'28.1'\": 11, \"'38.7'\": 11, \"'35.6'\": 11, \"'42.7'\": 11, \"'38.1'\": 11, \"'31.2'\": 11, \"'16.6'\": 11, \"'11.1'\": 11, \"'26.9'\": 11, \"'18.7'\": 11, \"'10.1'\": 11, \"'11.5'\": 11, \"'25.2'\": 11, \"'21.9'\": 11, \"'35.7'\": 11, \"'32.3'\": 11, \"'26.3'\": 11, \"'11.2'\": 11, \"'12.6'\": 11, \"'14.4'\": 11, \"'14.7'\": 10, \"'14.9'\": 10, \"'24.8'\": 10, \"'21.8'\": 10, \"'6.6'\": 10, \"'9.8'\": 10, \"'12.3'\": 10, \"'22.8'\": 10, \"'28.8'\": 10, \"'27.5'\": 10, \"'19.5'\": 10, \"'27.3'\": 10, \"'38.3'\": 10, \"'35.9'\": 10, \"'37.3'\": 10, \"'32.4'\": 10, \"'35.8'\": 10, \"'36.0'\": 10, \"'38.6'\": 10, \"'40.7'\": 10, \"'29.0'\": 10, \"'27.9'\": 10, \"'42.0'\": 10, \"'37.4'\": 10, \"'21.2'\": 10, \"'17.8'\": 10, \"'15.3'\": 10, \"'10.9'\": 10, \"'18.4'\": 10, \"'27.6'\": 10, \"'36.2'\": 10, \"'24.1'\": 10, \"'23.4'\": 10, \"'35.4'\": 10, \"'37.2'\": 10, \"'25.4'\": 10, \"'16.4'\": 10, \"'17.1'\": 10, \"'13.7'\": 10, \"'7.3'\": 10, \"'22.6'\": 10, \"'20.4'\": 10, \"'20.9'\": 10, \"'14.2'\": 9, \"'19.9'\": 9, \"'7.4'\": 9, \"'8.5'\": 9, \"'9.6'\": 9, \"'9.5'\": 9, \"'16.3'\": 9, \"'24.0'\": 9, \"'25.6'\": 9, \"'34.5'\": 9, \"'26.4'\": 9, \"'33.4'\": 9, \"'44.6'\": 9, \"'38.0'\": 9, \"'32.8'\": 9, \"'43.1'\": 9, \"'42.9'\": 9, \"'39.7'\": 9, \"'37.5'\": 9, \"'40.2'\": 9, \"'38.5'\": 9, \"'40.6'\": 9, \"'38.8'\": 9, \"'28.9'\": 9, \"'22.5'\": 9, \"'28.4'\": 9, \"'22.7'\": 9, \"'12.1'\": 9, \"'17.6'\": 9, \"'6.9'\": 9, \"'23.9'\": 9, \"'21.5'\": 9, \"'44.0'\": 9, \"'23.7'\": 9, \"'28.5'\": 9, \"'21.0'\": 9, \"'17.4'\": 9, \"'10.7'\": 9, \"'15.9'\": 9, \"'10.5'\": 9, \"'24.7'\": 9, \"'30.3'\": 9, \"'42.5'\": 9, \"'16.8'\": 9, \"'13.9'\": 9, \"'8.1'\": 9, \"'23.1'\": 9, \"'41.6'\": 9, \"'37.6'\": 9, \"'10.2'\": 9, \"'4.6'\": 8, \"'11.4'\": 8, \"'-2.0'\": 8, \"'7.8'\": 8, \"'15.4'\": 8, \"'6.5'\": 8, \"'7.7'\": 8, \"'25.3'\": 8, \"'29.9'\": 8, \"'23.5'\": 8, \"'29.2'\": 8, \"'27.1'\": 8, \"'33.0'\": 8, \"'40.9'\": 8, \"'35.2'\": 8, \"'38.9'\": 8, \"'40.0'\": 8, \"'36.1'\": 8, \"'31.6'\": 8, \"'37.9'\": 8, \"'41.3'\": 8, \"'39.8'\": 8, \"'36.6'\": 8, \"'34.1'\": 8, \"'34.2'\": 8, \"'32.9'\": 8, \"'10.8'\": 8, \"'17.5'\": 8, \"'17.2'\": 8, \"'12.0'\": 8, \"'29.4'\": 8, \"'32.5'\": 8, \"'45.3'\": 8, \"'42.1'\": 8, \"'43.4'\": 8, \"'30.6'\": 8, \"'35.0'\": 8, \"'19.8'\": 8, \"'8.2'\": 8, \"'21.4'\": 8, \"'18.5'\": 8, \"'18.6'\": 8, \"'26.7'\": 8, \"'38.2'\": 8, \"'48.8'\": 8, \"'44.3'\": 8, \"'34.7'\": 8, \"'40.1'\": 8, \"'46.6'\": 8, \"'20.6'\": 8, \"'10.4'\": 8, \"'19.2'\": 8, \"'46.2'\": 8, \"'20.2'\": 8, \"'7.1'\": 8, \"'5.4'\": 8, \"'44.7'\": 8, \"'33.9'\": 8, \"'15.8'\": 8, \"'2.7'\": 7, \"'6.3'\": 7, \"'7.5'\": 7, \"'15.6'\": 7, \"'5.1'\": 7, \"'9.2'\": 7, \"'14.1'\": 7, \"'30.7'\": 7, \"'18.8'\": 7, \"'43.9'\": 7, \"'39.2'\": 7, \"'34.6'\": 7, \"'43.3'\": 7, \"'39.9'\": 7, \"'37.7'\": 7, \"'43.6'\": 7, \"'31.5'\": 7, \"'42.3'\": 7, \"'36.9'\": 7, \"'35.3'\": 7, \"'39.4'\": 7, \"'27.4'\": 7, \"'23.3'\": 7, \"'22.1'\": 7, \"'25.5'\": 7, \"'8.8'\": 7, \"'-2.9'\": 7, \"'4.1'\": 7, \"'16.5'\": 7, \"'15.1'\": 7, \"'5.9'\": 7, \"'8.4'\": 7, \"'12.8'\": 7, \"'12.5'\": 7, \"'15.0'\": 7, \"'26.6'\": 7, \"'30.4'\": 7, \"'18.1'\": 7, \"'24.9'\": 7, \"'25.8'\": 7, \"'32.2'\": 7, \"'23.8'\": 7, \"'35.1'\": 7, \"'41.2'\": 7, \"'46.0'\": 7, \"'47.2'\": 7, \"'26.1'\": 7, \"'30.1'\": 7, \"'12.4'\": 7, \"'3.4'\": 7, \"'13.5'\": 7, \"'5.5'\": 7, \"'17.3'\": 7, \"'6.2'\": 7, \"'4.2'\": 7, \"'27.0'\": 7, \"'34.9'\": 7, \"'36.5'\": 7, \"'31.7'\": 7, \"'40.8'\": 7, \"'21.3'\": 7, \"'28.7'\": 7, \"'36.7'\": 7, \"'30.2'\": 7, \"'3.6'\": 6, \"'14.5'\": 6, \"'9.7'\": 6, \"'20.8'\": 6, \"'9.4'\": 6, \"'13.8'\": 6, \"'4.3'\": 6, \"'1.6'\": 6, \"'2.1'\": 6, \"'-0.3'\": 6, \"'4.5'\": 6, \"'3.8'\": 6, \"'27.2'\": 6, \"'29.7'\": 6, \"'33.6'\": 6, \"'31.0'\": 6, \"'34.4'\": 6, \"'37.8'\": 6, \"'39.1'\": 6, \"'40.5'\": 6, \"'33.7'\": 6, \"'43.0'\": 6, \"'29.3'\": 6, \"'31.8'\": 6, \"'26.2'\": 6, \"'22.2'\": 6, \"'25.7'\": 6, \"'24.5'\": 6, \"'7.2'\": 6, \"'21.7'\": 6, \"'4.9'\": 6, \"'8.9'\": 6, \"'9.9'\": 6, \"'5.2'\": 6, \"'14.8'\": 6, \"'34.0'\": 6, \"'30.0'\": 6, \"'45.0'\": 6, \"'46.5'\": 6, \"'47.6'\": 6, \"'40.3'\": 6, \"'45.8'\": 6, \"'37.1'\": 6, \"'32.6'\": 6, \"'33.8'\": 6, \"'7.0'\": 6, \"'13.3'\": 6, \"'6.8'\": 6, \"'3.0'\": 6, \"'5.0'\": 6, \"'4.4'\": 6, \"'19.1'\": 6, \"'29.6'\": 6, \"'36.8'\": 6, \"'0.9'\": 6, \"'10.0'\": 6, \"'14.3'\": 6, \"'7.6'\": 6, \"'5.6'\": 6, \"'3.5'\": 6, \"'36.3'\": 6, \"'45.1'\": 6, \"'41.8'\": 6, \"'3.7'\": 6, \"'-2.8'\": 6, \"'23.0'\": 6, \"'32.7'\": 6, \"'32.0'\": 6, \"'31.3'\": 6, \"'11.8'\": 6, \"'45.2'\": 6, \"'48.9'\": 6, \"'26.5'\": 6, \"'12.7'\": 5, \"'1.3'\": 5, \"'0.6'\": 5, \"'19.4'\": 5, \"'3.9'\": 5, \"'28.2'\": 5, \"'20.7'\": 5, \"'23.2'\": 5, \"'24.6'\": 5, \"'41.5'\": 5, \"'40.4'\": 5, \"'46.7'\": 5, \"'49.7'\": 5, \"'43.5'\": 5, \"'50.7'\": 5, \"'44.5'\": 5, \"'24.4'\": 5, \"'28.0'\": 5, \"'21.1'\": 5, \"'-1.6'\": 5, \"'1.1'\": 5, \"'5.3'\": 5, \"'5.8'\": 5, \"'4.8'\": 5, \"'30.5'\": 5, \"'48.0'\": 5, \"'33.1'\": 5, \"'45.7'\": 5, \"'45.6'\": 5, \"'49.4'\": 5, \"'44.8'\": 5, \"'43.8'\": 5, \"'19.0'\": 5, \"'0.2'\": 5, \"'10.3'\": 5, \"'6.7'\": 5, \"'29.1'\": 5, \"'30.8'\": 5, \"'26.8'\": 5, \"'39.6'\": 5, \"'45.4'\": 5, \"'9.1'\": 5, \"'-0.2'\": 5, \"'11.6'\": 5, \"'0.3'\": 5, \"'29.5'\": 5, \"'31.4'\": 5, \"'44.4'\": 5, \"'50.8'\": 5, \"'33.3'\": 5, \"'42.2'\": 5, \"'-3.2'\": 5, \"'44.1'\": 5, \"'49.8'\": 5, \"'16.0'\": 5, \"'38.4'\": 5, \"'0.1'\": 4, \"'-5.3'\": 4, \"'9.0'\": 4, \"'3.1'\": 4, \"'8.3'\": 4, \"'19.7'\": 4, \"'0.8'\": 4, \"'29.8'\": 4, \"'48.5'\": 4, \"'50.0'\": 4, \"'34.8'\": 4, \"'47.0'\": 4, \"'41.1'\": 4, \"'43.2'\": 4, \"'22.3'\": 4, \"'6.1'\": 4, \"'36.4'\": 4, \"'41.7'\": 4, \"'47.3'\": 4, \"'47.8'\": 4, \"'48.2'\": 4, \"'52.8'\": 4, \"'45.9'\": 4, \"'44.9'\": 4, \"'33.5'\": 4, \"'1.0'\": 4, \"'2.4'\": 4, \"'-1.9'\": 4, \"'14.0'\": 4, \"'44.2'\": 4, \"'43.7'\": 4, \"'-0.7'\": 4, \"'13.1'\": 4, \"'37.0'\": 4, \"'27.7'\": 4, \"'2.2'\": 4, \"'1.9'\": 4, \"'-0.1'\": 4, \"'2.5'\": 4, \"'-2.5'\": 4, \"'10.6'\": 4, \"'0.5'\": 4, \"'34.3'\": 4, \"'49.1'\": 3, \"'47.1'\": 3, \"'41.9'\": 3, \"'50.5'\": 3, \"'49.6'\": 3, \"'50.3'\": 3, \"'47.4'\": 3, \"'46.3'\": 3, \"'1.2'\": 3, \"'2.9'\": 3, \"'16.2'\": 3, \"'8.0'\": 3, \"'2.8'\": 3, \"'32.1'\": 3, \"'39.5'\": 3, \"'49.9'\": 3, \"'11.9'\": 3, \"'6.4'\": 3, \"'-6.9'\": 3, \"'3.3'\": 3, \"'-3.7'\": 3, \"'51.3'\": 3, \"'47.7'\": 3, \"'45.5'\": 3, \"'24.2'\": 3, \"'-2.6'\": 3, \"'28.6'\": 3, \"'33.2'\": 3, \"'48.1'\": 3, \"'51.7'\": 3, \"'30.9'\": 3, \"'-3.6'\": 3, \"'-1.2'\": 3, \"'-0.4'\": 3, \"'-3.5'\": 3, \"'-7.9'\": 3, \"'-7.1'\": 3, \"'-9.2'\": 3, \"'-5.2'\": 3, \"'0.4'\": 3, \"'46.8'\": 3, \"'49.2'\": 3, \"'26.0'\": 3, \"'-6.5'\": 3, \"'-2.7'\": 3, \"'-2.1'\": 3, \"'-1.3'\": 3, \"'1.5'\": 3, \"'48.4'\": 3, \"'2.3'\": 3, \"'0.7'\": 3, \"'-1.4'\": 3, \"'-1.7'\": 2, \"'-1.0'\": 2, \"'2.6'\": 2, \"'-1.5'\": 2, \"'4.7'\": 2, \"'25.1'\": 2, \"'42.4'\": 2, \"'46.1'\": 2, \"'49.0'\": 2, \"'-0.9'\": 2, \"'-8.6'\": 2, \"'1.4'\": 2, \"'-2.2'\": 2, \"'53.3'\": 2, \"'53.0'\": 2, \"'46.9'\": 2, \"'51.1'\": 2, \"'41.4'\": 2, \"'-6.4'\": 2, \"'-1.1'\": 2, \"'-8.3'\": 2, \"'1.8'\": 2, \"'46.4'\": 2, \"'-3.8'\": 2, \"'-4.5'\": 2, \"'-2.4'\": 2, \"'-5.5'\": 2, \"'-0.6'\": 2, \"'4.0'\": 2, \"'3.2'\": 2, \"'-11.3'\": 2, \"'-17.5'\": 2, \"'0.0'\": 2, \"'50.6'\": 2, \"'51.4'\": 2, \"'-0.8'\": 2, \"'-5.0'\": 2, \"'-4.2'\": 2, \"'51.2'\": 2, \"'42.8'\": 2, \"'48.3'\": 2, \"'25.9'\": 2, \"'-7.4'\": 2, \"'-4.9'\": 2, \"'-4.7'\": 2, \"'-3.9'\": 2, \"'-4.6'\": 1, \"'-4.0'\": 1, \"'-8.1'\": 1, \"'-0.0'\": 1, \"'-11.4'\": 1, \"'-5.8'\": 1, \"'54.5'\": 1, \"'53.2'\": 1, \"'52.4'\": 1, \"'49.3'\": 1, \"'-13.3'\": 1, \"'-3.4'\": 1, \"'-12.5'\": 1, \"'-14.4'\": 1, \"'-10.3'\": 1, \"'-21.1'\": 1, \"'-22.2'\": 1, \"'-7.3'\": 1, \"'-14.8'\": 1, \"'52.7'\": 1, \"'-6.1'\": 1, \"'6.0'\": 1, \"'-5.1'\": 1, \"'-12.3'\": 1, \"'-11.8'\": 1, \"'53.7'\": 1, \"'53.8'\": 1, \"'50.2'\": 1, \"'50.1'\": 1, \"'-8.4'\": 1, \"'-4.8'\": 1, \"'-9.1'\": 1, \"'-6.3'\": 1, \"'-6.6'\": 1, \"'-11.0'\": 1, \"'-13.6'\": 1, \"'-11.9'\": 1, \"'-8.9'\": 1, \"'-4.4'\": 1, \"'-3.0'\": 1, \"'-7.5'\": 1, \"'5.7'\": 1, \"'-9.8'\": 1, \"'48.6'\": 1, \"'52.6'\": 1, \"'-5.6'\": 1, \"'-10.8'\": 1, \"'-4.1'\": 1, \"'1.7'\": 1, \"'-13.9'\": 1, \"'-14.1'\": 1, \"'-12.2'\": 1, \"'52.1'\": 1, \"'51.9'\": 1, \"'-5.4'\": 1, \"'-5.7'\": 1, \"'-6.8'\": 1, \"'-9.4'\": 1, \"'-7.8'\": 1, \"'-8.8'\": 1, \"'-14.3'\": 1, \"'-10.0'\": 1, \"'-0.5'\": 1, \"'49.5'\": 1, \"'55.1'\": 1, \"'54.7'\": 1, \"'47.9'\": 1, \"'-3.3'\": 1, \"'-8.5'\": 1, \"'-1.8'\": 1, \"'51.6'\": 1, \"'48.7'\": 1, \"'-10.5'\": 1, \"'-3.1'\": 1, \"'-10.6'\": 1, \"'-10.9'\": 1, \"'-12.9'\": 1, \"'-7.7'\": 1, \"'52.9'\": 1, \"'47.5'\": 1, \"'50.4'\": 1, \"'51.8'\": 1})\n",
            "Column -- average_barometer\n",
            "=========================\n",
            "Counter({\"'29.8'\": 715, \"'29.9'\": 616, \"'29.7'\": 542, \"'30.0'\": 498, \"'30.1'\": 351, \"'29.6'\": 351, \"'30.2'\": 235, \"'29.5'\": 178, \"'30.3'\": 157, \"'30.4'\": 85, \"'29.4'\": 73, \"'30.5'\": 35, \"'29.3'\": 19, \"'30.6'\": 16, \"'29.2'\": 11, \"'30.7'\": 10, \"'30.8'\": 6, \"'31.0'\": 1, \"'30.9'\": 1, \"'28.4'\": 1, \"'28.2'\": 1, \"'28.9'\": 1})\n",
            "Column -- average_windspeed\n",
            "=========================\n",
            "Counter({\"'2.3'\": 85, \"'2.2'\": 78, \"'2.1'\": 70, \"'2.7'\": 68, \"'2.8'\": 68, \"'2.6'\": 66, \"'2.0'\": 65, \"'1.9'\": 64, \"'3.0'\": 63, \"'2.4'\": 63, \"'3.3'\": 62, \"'3.8'\": 61, \"'3.6'\": 60, \"'2.9'\": 59, \"'3.5'\": 57, \"'1.7'\": 57, \"'3.1'\": 57, \"'0.0'\": 56, \"'3.7'\": 53, \"'2.5'\": 53, \"'3.4'\": 51, \"'4.0'\": 50, \"'1.8'\": 48, \"'4.3'\": 46, \"'4.8'\": 44, \"'4.6'\": 44, \"'3.9'\": 43, \"'3.2'\": 42, \"'4.4'\": 40, \"'5.2'\": 40, \"'4.2'\": 40, \"'1.6'\": 39, \"'4.9'\": 37, \"'4.7'\": 36, \"'5.3'\": 36, \"'5.1'\": 36, \"'4.1'\": 34, \"'6.0'\": 34, \"'6.2'\": 33, \"'5.7'\": 32, \"'5.0'\": 32, \"'7.4'\": 30, \"'5.6'\": 30, \"'6.5'\": 30, \"'4.5'\": 30, \"'5.4'\": 30, \"'1.4'\": 30, \"'1.5'\": 30, \"'6.3'\": 29, \"'6.8'\": 28, \"'1.3'\": 28, \"'8.3'\": 27, \"'6.7'\": 27, \"'6.6'\": 27, \"'7.0'\": 26, \"'5.8'\": 26, \"'10.0'\": 26, \"'5.5'\": 26, \"'7.9'\": 25, \"'6.4'\": 25, \"'7.7'\": 25, \"'6.9'\": 24, \"'7.6'\": 24, \"'6.1'\": 24, \"'7.1'\": 24, \"'8.4'\": 23, \"'5.9'\": 23, \"'7.3'\": 22, \"'8.1'\": 22, \"'9.5'\": 22, \"'8.7'\": 21, \"'8.8'\": 21, \"'7.8'\": 21, \"'10.4'\": 20, \"'11.2'\": 20, \"'7.2'\": 20, \"'1.0'\": 19, \"'11.5'\": 19, \"'8.6'\": 19, \"'9.7'\": 18, \"'9.8'\": 18, \"'9.1'\": 18, \"'9.0'\": 18, \"'1.2'\": 18, \"'1.1'\": 17, \"'10.1'\": 17, \"'10.8'\": 16, \"'10.6'\": 16, \"'10.7'\": 16, \"'8.0'\": 16, \"'11.4'\": 15, \"'10.2'\": 15, \"'10.9'\": 15, \"'10.5'\": 15, \"'7.5'\": 15, \"'8.9'\": 15, \"'9.9'\": 14, \"'12.7'\": 14, \"'8.5'\": 14, \"'0.9'\": 14, \"'8.2'\": 13, \"'10.3'\": 13, \"'11.9'\": 12, \"'12.0'\": 12, \"'0.8'\": 12, \"'11.7'\": 12, \"'9.6'\": 11, \"'11.8'\": 11, \"'11.1'\": 11, \"'12.5'\": 11, \"'9.2'\": 11, \"'13.1'\": 11, \"'12.3'\": 11, \"'12.2'\": 10, \"'11.0'\": 10, \"'12.6'\": 10, \"'9.3'\": 10, \"'12.8'\": 9, \"'12.4'\": 9, \"'14.8'\": 9, \"'11.3'\": 9, \"'11.6'\": 9, \"'0.7'\": 9, \"'13.3'\": 9, \"'16.3'\": 8, \"'9.4'\": 8, \"'14.5'\": 8, \"'14.2'\": 8, \"'13.9'\": 8, \"'0.6'\": 8, \"'0.5'\": 7, \"'12.1'\": 7, \"'13.5'\": 7, \"'13.4'\": 6, \"'0.4'\": 6, \"'14.3'\": 6, \"'13.0'\": 6, \"'13.6'\": 6, \"'14.0'\": 6, \"'15.4'\": 5, \"'16.6'\": 5, \"'13.8'\": 5, \"'14.4'\": 5, \"'12.9'\": 5, \"'0.1'\": 5, \"'13.7'\": 5, \"'15.0'\": 5, \"'17.5'\": 4, \"'14.1'\": 4, \"'16.1'\": 4, \"'15.1'\": 4, \"'16.2'\": 4, \"'15.2'\": 4, \"'15.6'\": 4, \"'14.9'\": 4, \"'16.4'\": 4, \"'13.2'\": 4, \"'15.9'\": 4, \"'16.7'\": 3, \"'19.6'\": 3, \"'15.7'\": 3, \"'16.5'\": 3, \"'0.3'\": 3, \"'14.6'\": 3, \"'17.3'\": 3, \"'15.3'\": 3, \"'21.9'\": 3, \"'16.9'\": 3, \"'15.8'\": 3, \"'18.5'\": 3, \"'18.2'\": 2, \"'17.0'\": 2, \"'18.4'\": 2, \"'18.3'\": 2, \"'15.5'\": 2, \"'16.8'\": 2, \"'19.9'\": 2, \"'14.7'\": 2, \"'17.4'\": 2, \"'26.4'\": 1, \"'16.0'\": 1, \"'20.4'\": 1, \"'20.9'\": 1, \"'22.2'\": 1, \"'21.7'\": 1, \"'19.5'\": 1, \"'19.3'\": 1, \"'18.1'\": 1, \"'17.2'\": 1, \"'21.8'\": 1, \"'22.3'\": 1, \"'17.8'\": 1, \"'21.1'\": 1, \"'21.6'\": 1, \"'21.3'\": 1, \"'19.8'\": 1, \"'17.1'\": 1, \"'17.7'\": 1, \"'20.7'\": 1, \"'17.6'\": 1, \"'20.0'\": 1, \"'18.8'\": 1, \"'0.2'\": 1, \"'19.4'\": 1, \"'19.0'\": 1, \"'18.9'\": 1})\n",
            "Column -- average_gustspeed\n",
            "=========================\n",
            "Counter({\"'3.9'\": 60, \"'4.5'\": 59, \"'0.0'\": 55, \"'4.1'\": 53, \"'3.6'\": 52, \"'4.3'\": 51, \"'3.7'\": 50, \"'5.2'\": 49, \"'5.1'\": 48, \"'5.0'\": 48, \"'4.0'\": 47, \"'3.5'\": 47, \"'3.4'\": 45, \"'5.8'\": 45, \"'3.8'\": 44, \"'5.7'\": 43, \"'4.4'\": 42, \"'4.9'\": 42, \"'4.7'\": 42, \"'4.6'\": 42, \"'5.6'\": 40, \"'6.0'\": 40, \"'4.2'\": 39, \"'5.4'\": 38, \"'5.9'\": 38, \"'4.8'\": 38, \"'6.2'\": 37, \"'5.3'\": 36, \"'3.1'\": 36, \"'7.8'\": 34, \"'7.0'\": 34, \"'6.6'\": 34, \"'6.4'\": 33, \"'6.3'\": 33, \"'3.2'\": 33, \"'5.5'\": 29, \"'7.6'\": 29, \"'6.5'\": 28, \"'7.3'\": 28, \"'6.8'\": 28, \"'3.0'\": 28, \"'9.7'\": 27, \"'6.1'\": 27, \"'8.2'\": 27, \"'6.7'\": 27, \"'8.1'\": 27, \"'12.5'\": 27, \"'9.5'\": 27, \"'7.1'\": 26, \"'8.7'\": 26, \"'8.9'\": 26, \"'3.3'\": 26, \"'10.5'\": 25, \"'7.4'\": 25, \"'10.3'\": 25, \"'8.0'\": 25, \"'2.9'\": 25, \"'8.4'\": 24, \"'10.6'\": 23, \"'2.8'\": 23, \"'8.5'\": 23, \"'6.9'\": 22, \"'7.7'\": 22, \"'9.6'\": 22, \"'7.5'\": 21, \"'9.0'\": 20, \"'7.9'\": 20, \"'11.7'\": 20, \"'14.7'\": 19, \"'9.4'\": 19, \"'7.2'\": 19, \"'8.8'\": 19, \"'11.9'\": 18, \"'2.7'\": 18, \"'2.6'\": 18, \"'9.3'\": 18, \"'12.2'\": 17, \"'12.7'\": 17, \"'11.5'\": 17, \"'11.4'\": 17, \"'2.5'\": 17, \"'14.4'\": 16, \"'10.1'\": 16, \"'12.4'\": 16, \"'9.8'\": 16, \"'8.6'\": 16, \"'12.9'\": 16, \"'2.4'\": 16, \"'10.2'\": 16, \"'9.2'\": 16, \"'9.1'\": 16, \"'10.7'\": 16, \"'11.8'\": 15, \"'15.3'\": 15, \"'12.0'\": 15, \"'8.3'\": 15, \"'11.3'\": 15, \"'13.3'\": 15, \"'13.1'\": 15, \"'12.1'\": 15, \"'11.0'\": 14, \"'10.8'\": 14, \"'11.6'\": 14, \"'11.1'\": 14, \"'16.0'\": 14, \"'2.2'\": 14, \"'17.0'\": 13, \"'15.2'\": 13, \"'10.0'\": 13, \"'13.0'\": 13, \"'10.4'\": 13, \"'10.9'\": 13, \"'15.9'\": 13, \"'1.9'\": 13, \"'9.9'\": 13, \"'14.8'\": 12, \"'13.8'\": 12, \"'17.1'\": 12, \"'2.3'\": 12, \"'14.9'\": 12, \"'14.0'\": 11, \"'15.0'\": 11, \"'18.1'\": 11, \"'17.9'\": 11, \"'16.5'\": 11, \"'16.1'\": 11, \"'18.7'\": 11, \"'14.1'\": 11, \"'18.0'\": 10, \"'15.5'\": 10, \"'1.6'\": 10, \"'14.5'\": 10, \"'15.7'\": 10, \"'16.2'\": 10, \"'15.1'\": 9, \"'15.6'\": 9, \"'2.0'\": 9, \"'2.1'\": 9, \"'14.3'\": 9, \"'13.7'\": 9, \"'1.8'\": 9, \"'1.4'\": 9, \"'15.4'\": 9, \"'16.8'\": 8, \"'16.3'\": 8, \"'15.8'\": 8, \"'17.6'\": 8, \"'20.9'\": 8, \"'20.3'\": 8, \"'17.8'\": 8, \"'19.0'\": 8, \"'19.3'\": 8, \"'14.6'\": 8, \"'16.6'\": 8, \"'12.8'\": 8, \"'13.2'\": 8, \"'12.6'\": 8, \"'16.9'\": 8, \"'17.3'\": 8, \"'1.3'\": 7, \"'14.2'\": 7, \"'11.2'\": 7, \"'13.5'\": 7, \"'20.4'\": 7, \"'13.9'\": 7, \"'16.7'\": 6, \"'17.7'\": 6, \"'18.5'\": 6, \"'13.4'\": 6, \"'18.6'\": 6, \"'21.5'\": 6, \"'20.5'\": 6, \"'1.5'\": 6, \"'17.2'\": 6, \"'18.2'\": 6, \"'19.2'\": 6, \"'1.2'\": 6, \"'18.4'\": 6, \"'22.6'\": 5, \"'21.3'\": 5, \"'19.7'\": 5, \"'19.1'\": 5, \"'1.7'\": 5, \"'16.4'\": 5, \"'21.9'\": 5, \"'13.6'\": 5, \"'21.0'\": 5, \"'1.0'\": 5, \"'1.1'\": 5, \"'23.1'\": 4, \"'25.2'\": 4, \"'21.4'\": 4, \"'25.4'\": 4, \"'20.0'\": 4, \"'21.2'\": 4, \"'23.2'\": 4, \"'0.2'\": 4, \"'17.4'\": 4, \"'20.2'\": 4, \"'21.8'\": 4, \"'21.6'\": 4, \"'19.4'\": 4, \"'19.9'\": 4, \"'12.3'\": 4, \"'23.9'\": 3, \"'24.6'\": 3, \"'24.4'\": 3, \"'22.3'\": 3, \"'29.5'\": 3, \"'28.3'\": 3, \"'24.0'\": 3, \"'23.8'\": 3, \"'18.9'\": 3, \"'19.6'\": 3, \"'22.5'\": 3, \"'23.7'\": 3, \"'0.9'\": 3, \"'25.6'\": 3, \"'22.2'\": 3, \"'22.8'\": 3, \"'19.8'\": 3, \"'18.8'\": 3, \"'17.5'\": 3, \"'22.9'\": 2, \"'24.5'\": 2, \"'32.0'\": 2, \"'23.6'\": 2, \"'21.1'\": 2, \"'22.1'\": 2, \"'30.5'\": 2, \"'25.5'\": 2, \"'23.0'\": 2, \"'20.8'\": 2, \"'26.3'\": 2, \"'25.9'\": 2, \"'18.3'\": 2, \"'19.5'\": 2, \"'25.3'\": 2, \"'24.8'\": 2, \"'23.4'\": 2, \"'0.7'\": 2, \"'24.3'\": 2, \"'28.1'\": 2, \"'36.8'\": 1, \"'30.0'\": 1, \"'28.0'\": 1, \"'24.1'\": 1, \"'29.6'\": 1, \"'27.7'\": 1, \"'45.2'\": 1, \"'65.8'\": 1, \"'61.1'\": 1, \"'98.1'\": 1, \"'55.9'\": 1, \"'81.0'\": 1, \"'125.2'\": 1, \"'221.3'\": 1, \"'159.1'\": 1, \"'143.9'\": 1, \"'184.7'\": 1, \"'138.6'\": 1, \"'186.3'\": 1, \"'109.7'\": 1, \"'123.8'\": 1, \"'87.1'\": 1, \"'31.6'\": 1, \"'85.5'\": 1, \"'45.1'\": 1, \"'39.9'\": 1, \"'67.0'\": 1, \"'34.1'\": 1, \"'49.5'\": 1, \"'32.2'\": 1, \"'48.1'\": 1, \"'90.9'\": 1, \"'30.1'\": 1, \"'28.8'\": 1, \"'32.9'\": 1, \"'92.8'\": 1, \"'23.5'\": 1, \"'55.1'\": 1, \"'97.9'\": 1, \"'52.7'\": 1, \"'237.8'\": 1, \"'176.7'\": 1, \"'161.5'\": 1, \"'187.2'\": 1, \"'240.4'\": 1, \"'178.5'\": 1, \"'137.3'\": 1, \"'80.4'\": 1, \"'32.3'\": 1, \"'127.3'\": 1, \"'133.6'\": 1, \"'144.9'\": 1, \"'138.2'\": 1, \"'125.5'\": 1, \"'133.9'\": 1, \"'78.4'\": 1, \"'46.9'\": 1, \"'69.7'\": 1, \"'181.0'\": 1, \"'100.4'\": 1, \"'28.5'\": 1, \"'32.6'\": 1, \"'20.7'\": 1, \"'28.6'\": 1, \"'27.2'\": 1, \"'20.6'\": 1, \"'31.7'\": 1, \"'26.8'\": 1, \"'26.5'\": 1, \"'30.3'\": 1, \"'22.4'\": 1, \"'33.5'\": 1, \"'28.2'\": 1, \"'25.7'\": 1, \"'30.8'\": 1, \"'25.0'\": 1, \"'23.3'\": 1, \"'0.8'\": 1, \"'29.3'\": 1, \"'27.4'\": 1, \"'31.5'\": 1, \"'33.7'\": 1, \"'0.5'\": 1, \"'24.2'\": 1, \"'0.1'\": 1, \"'21.7'\": 1, \"'0.4'\": 1, \"'26.0'\": 1, \"'27.5'\": 1})\n",
            "Column -- average_direction\n",
            "=========================\n",
            "Counter({\"'282.0'\": 236, \"'283.0'\": 194, \"'281.0'\": 65, \"'275.0'\": 54, \"'274.0'\": 48, \"'276.0'\": 48, \"'273.0'\": 42, \"'244.0'\": 41, \"'277.0'\": 40, \"'234.0'\": 38, \"'242.0'\": 36, \"'239.0'\": 36, \"'241.0'\": 35, \"'251.0'\": 34, \"'253.0'\": 33, \"'248.0'\": 32, \"'238.0'\": 32, \"'243.0'\": 31, \"'254.0'\": 30, \"'240.0'\": 29, \"'237.0'\": 28, \"'271.0'\": 27, \"'272.0'\": 27, \"'252.0'\": 27, \"'265.0'\": 26, \"'269.0'\": 26, \"'267.0'\": 26, \"'256.0'\": 26, \"'246.0'\": 26, \"'118.0'\": 24, \"'73.0'\": 24, \"'249.0'\": 24, \"'255.0'\": 23, \"'236.0'\": 23, \"'247.0'\": 23, \"'258.0'\": 22, \"'245.0'\": 22, \"'250.0'\": 22, \"'235.0'\": 22, \"'260.0'\": 21, \"'262.0'\": 21, \"'112.0'\": 21, \"'315.0'\": 21, \"'280.0'\": 21, \"'231.0'\": 21, \"'270.0'\": 20, \"'257.0'\": 20, \"'266.0'\": 20, \"'284.0'\": 20, \"'229.0'\": 20, \"'311.0'\": 19, \"'313.0'\": 19, \"'216.0'\": 19, \"'259.0'\": 18, \"'268.0'\": 18, \"'287.0'\": 18, \"'230.0'\": 18, \"'233.0'\": 18, \"'228.0'\": 18, \"'52.0'\": 17, \"'278.0'\": 17, \"'314.0'\": 17, \"'320.0'\": 17, \"'119.0'\": 17, \"'116.0'\": 17, \"'264.0'\": 16, \"'82.0'\": 16, \"'97.0'\": 16, \"'292.0'\": 15, \"'340.0'\": 15, \"'115.0'\": 15, \"'117.0'\": 15, \"'120.0'\": 15, \"'263.0'\": 14, \"'321.0'\": 14, \"'93.0'\": 14, \"'308.0'\": 14, \"'317.0'\": 14, \"'113.0'\": 14, \"'232.0'\": 14, \"'77.0'\": 14, \"'261.0'\": 13, \"'279.0'\": 13, \"'309.0'\": 13, \"'286.0'\": 13, \"'0.0'\": 13, \"'319.0'\": 13, \"'306.0'\": 13, \"'58.0'\": 13, \"'307.0'\": 13, \"'108.0'\": 13, \"'72.0'\": 13, \"'327.0'\": 13, \"'290.0'\": 12, \"'334.0'\": 12, \"'66.0'\": 12, \"'50.0'\": 12, \"'305.0'\": 12, \"'101.0'\": 12, \"'318.0'\": 12, \"'323.0'\": 12, \"'110.0'\": 12, \"'285.0'\": 11, \"'51.0'\": 11, \"'291.0'\": 11, \"'2.0'\": 11, \"'326.0'\": 11, \"'336.0'\": 11, \"'78.0'\": 11, \"'84.0'\": 11, \"'98.0'\": 11, \"'106.0'\": 11, \"'86.0'\": 11, \"'99.0'\": 11, \"'55.0'\": 11, \"'288.0'\": 10, \"'293.0'\": 10, \"'71.0'\": 10, \"'69.0'\": 10, \"'80.0'\": 10, \"'358.0'\": 10, \"'300.0'\": 10, \"'347.0'\": 10, \"'74.0'\": 10, \"'302.0'\": 10, \"'87.0'\": 10, \"'91.0'\": 10, \"'111.0'\": 10, \"'104.0'\": 10, \"'289.0'\": 10, \"'227.0'\": 10, \"'100.0'\": 10, \"'225.0'\": 10, \"'39.0'\": 9, \"'67.0'\": 9, \"'349.0'\": 9, \"'81.0'\": 9, \"'16.0'\": 9, \"'304.0'\": 9, \"'20.0'\": 9, \"'19.0'\": 9, \"'75.0'\": 9, \"'294.0'\": 9, \"'4.0'\": 9, \"'333.0'\": 9, \"'355.0'\": 9, \"'27.0'\": 9, \"'312.0'\": 9, \"'316.0'\": 9, \"'70.0'\": 9, \"'53.0'\": 9, \"'107.0'\": 9, \"'109.0'\": 9, \"'76.0'\": 9, \"'102.0'\": 9, \"'85.0'\": 9, \"'62.0'\": 9, \"'35.0'\": 8, \"'329.0'\": 8, \"'310.0'\": 8, \"'59.0'\": 8, \"'296.0'\": 8, \"'68.0'\": 8, \"'26.0'\": 8, \"'360.0'\": 8, \"'322.0'\": 8, \"'34.0'\": 8, \"'9.0'\": 8, \"'45.0'\": 8, \"'57.0'\": 8, \"'38.0'\": 8, \"'95.0'\": 8, \"'325.0'\": 8, \"'79.0'\": 8, \"'223.0'\": 8, \"'224.0'\": 8, \"'47.0'\": 7, \"'351.0'\": 7, \"'298.0'\": 7, \"'61.0'\": 7, \"'40.0'\": 7, \"'338.0'\": 7, \"'359.0'\": 7, \"'337.0'\": 7, \"'344.0'\": 7, \"'11.0'\": 7, \"'5.0'\": 7, \"'331.0'\": 7, \"'90.0'\": 7, \"'63.0'\": 7, \"'41.0'\": 7, \"'332.0'\": 7, \"'-0.0'\": 7, \"'345.0'\": 7, \"'24.0'\": 7, \"'46.0'\": 7, \"'54.0'\": 7, \"'217.0'\": 7, \"'215.0'\": 7, \"'105.0'\": 7, \"'114.0'\": 7, \"'10.0'\": 6, \"'301.0'\": 6, \"'32.0'\": 6, \"'350.0'\": 6, \"'357.0'\": 6, \"'21.0'\": 6, \"'36.0'\": 6, \"'18.0'\": 6, \"'1.0'\": 6, \"'13.0'\": 6, \"'330.0'\": 6, \"'299.0'\": 6, \"'324.0'\": 6, \"'83.0'\": 6, \"'28.0'\": 6, \"'33.0'\": 6, \"'92.0'\": 6, \"'353.0'\": 6, \"'209.0'\": 6, \"'213.0'\": 6, \"'222.0'\": 6, \"'96.0'\": 6, \"'226.0'\": 6, \"'8.0'\": 5, \"'65.0'\": 5, \"'43.0'\": 5, \"'64.0'\": 5, \"'25.0'\": 5, \"'348.0'\": 5, \"'7.0'\": 5, \"'14.0'\": 5, \"'352.0'\": 5, \"'354.0'\": 5, \"'297.0'\": 5, \"'341.0'\": 5, \"'343.0'\": 5, \"'356.0'\": 5, \"'3.0'\": 5, \"'15.0'\": 5, \"'60.0'\": 5, \"'29.0'\": 5, \"'103.0'\": 5, \"'121.0'\": 5, \"'49.0'\": 5, \"'195.0'\": 5, \"'22.0'\": 4, \"'23.0'\": 4, \"'339.0'\": 4, \"'89.0'\": 4, \"'335.0'\": 4, \"'127.0'\": 4, \"'295.0'\": 4, \"'183.0'\": 4, \"'88.0'\": 4, \"'328.0'\": 4, \"'123.0'\": 4, \"'303.0'\": 4, \"'221.0'\": 4, \"'56.0'\": 4, \"'204.0'\": 4, \"'214.0'\": 4, \"'220.0'\": 4, \"'199.0'\": 4, \"'94.0'\": 4, \"'174.0'\": 3, \"'208.0'\": 3, \"'12.0'\": 3, \"'6.0'\": 3, \"'44.0'\": 3, \"'37.0'\": 3, \"'122.0'\": 3, \"'124.0'\": 3, \"'17.0'\": 3, \"'166.0'\": 3, \"'180.0'\": 3, \"'203.0'\": 3, \"'48.0'\": 3, \"'144.0'\": 3, \"'42.0'\": 3, \"'210.0'\": 3, \"'205.0'\": 3, \"'149.0'\": 2, \"'31.0'\": 2, \"'139.0'\": 2, \"'145.0'\": 2, \"'152.0'\": 2, \"'131.0'\": 2, \"'138.0'\": 2, \"'157.0'\": 2, \"'188.0'\": 2, \"'206.0'\": 2, \"'155.0'\": 2, \"'135.0'\": 2, \"'151.0'\": 2, \"'342.0'\": 2, \"'346.0'\": 2, \"'211.0'\": 2, \"'207.0'\": 2, \"'126.0'\": 2, \"'165.0'\": 2, \"'219.0'\": 2, \"'30.0'\": 2, \"'186.0'\": 1, \"'200.0'\": 1, \"'147.0'\": 1, \"'191.0'\": 1, \"'136.0'\": 1, \"'133.0'\": 1, \"'125.0'\": 1, \"'128.0'\": 1, \"'194.0'\": 1, \"'193.0'\": 1, \"'201.0'\": 1, \"'190.0'\": 1, \"'134.0'\": 1, \"'154.0'\": 1, \"'141.0'\": 1, \"'130.0'\": 1, \"'168.0'\": 1, \"'189.0'\": 1, \"'212.0'\": 1, \"'167.0'\": 1, \"'198.0'\": 1, \"'148.0'\": 1, \"'218.0'\": 1, \"'178.0'\": 1, \"'184.0'\": 1, \"'129.0'\": 1})\n",
            "Column -- rainfall_for_month\n",
            "=========================\n",
            "Counter({\"'0.0'\": 549, \"'0.05'\": 116, \"'0.02'\": 114, \"'0.04'\": 97, \"'0.2'\": 95, \"'0.12'\": 89, \"'0.08'\": 88, \"'0.01'\": 84, \"'0.1'\": 82, \"'0.03'\": 72, \"'0.06'\": 71, \"'0.07'\": 63, \"'0.11'\": 53, \"'0.24'\": 51, \"'0.3'\": 49, \"'0.19'\": 47, \"'0.26'\": 46, \"'0.37'\": 46, \"'0.13'\": 45, \"'0.17'\": 44, \"'0.18'\": 44, \"'0.31'\": 43, \"'0.29'\": 43, \"'0.16'\": 43, \"'0.14'\": 42, \"'0.21'\": 40, \"'0.27'\": 39, \"'0.09'\": 38, \"'0.38'\": 37, \"'0.35'\": 35, \"'0.28'\": 34, \"'0.33'\": 32, \"'0.48'\": 31, \"'0.78'\": 31, \"'0.91'\": 31, \"'0.75'\": 30, \"'0.23'\": 30, \"'0.83'\": 28, \"'0.66'\": 27, \"'0.68'\": 26, \"'0.74'\": 25, \"'0.25'\": 24, \"'0.39'\": 24, \"'0.73'\": 23, \"'0.22'\": 23, \"'0.41'\": 22, \"'0.15'\": 22, \"'0.69'\": 22, \"'1.95'\": 20, \"'1.06'\": 20, \"'0.34'\": 20, \"'0.86'\": 19, \"'0.82'\": 19, \"'0.76'\": 19, \"'0.56'\": 19, \"'0.8'\": 18, \"'0.85'\": 18, \"'0.54'\": 18, \"'0.4'\": 17, \"'0.89'\": 17, \"'0.57'\": 17, \"'0.43'\": 17, \"'1.03'\": 17, \"'0.61'\": 15, \"'0.52'\": 15, \"'0.67'\": 15, \"'1.18'\": 14, \"'0.36'\": 14, \"'0.46'\": 14, \"'0.7'\": 14, \"'0.53'\": 14, \"'0.62'\": 14, \"'0.63'\": 14, \"'0.93'\": 13, \"'0.42'\": 13, \"'0.65'\": 13, \"'1.69'\": 13, \"'1.0'\": 13, \"'0.58'\": 13, \"'0.44'\": 13, \"'0.6'\": 13, \"'0.81'\": 12, \"'0.45'\": 12, \"'0.9'\": 12, \"'1.33'\": 12, \"'3.08'\": 12, \"'1.3'\": 11, \"'0.49'\": 11, \"'0.98'\": 11, \"'0.77'\": 11, \"'0.5'\": 11, \"'0.59'\": 11, \"'1.45'\": 11, \"'1.62'\": 10, \"'0.32'\": 10, \"'0.72'\": 10, \"'1.22'\": 10, \"'1.8'\": 9, \"'1.07'\": 9, \"'1.12'\": 9, \"'1.13'\": 9, \"'1.21'\": 9, \"'0.64'\": 8, \"'0.47'\": 8, \"'0.79'\": 8, \"'1.16'\": 7, \"'1.66'\": 7, \"'1.25'\": 7, \"'1.7'\": 7, \"'1.86'\": 7, \"'1.52'\": 7, \"'0.55'\": 6, \"'0.92'\": 6, \"'1.01'\": 6, \"'0.88'\": 6, \"'1.31'\": 6, \"'2.06'\": 6, \"'1.54'\": 6, \"'2.93'\": 6, \"'1.42'\": 5, \"'1.43'\": 5, \"'2.01'\": 5, \"'0.96'\": 5, \"'0.87'\": 5, \"'1.1'\": 5, \"'1.32'\": 5, \"'1.35'\": 5, \"'1.28'\": 5, \"'2.21'\": 5, \"'2.37'\": 4, \"'1.38'\": 4, \"'2.16'\": 4, \"'0.84'\": 4, \"'1.09'\": 4, \"'0.95'\": 4, \"'0.99'\": 4, \"'3.32'\": 4, \"'1.34'\": 4, \"'0.97'\": 4, \"'1.41'\": 4, \"'2.03'\": 4, \"'1.97'\": 3, \"'2.46'\": 3, \"'1.49'\": 3, \"'1.27'\": 3, \"'0.94'\": 3, \"'2.4'\": 3, \"'2.62'\": 3, \"'3.54'\": 3, \"'1.36'\": 3, \"'1.44'\": 3, \"'1.64'\": 3, \"'2.11'\": 3, \"'1.83'\": 3, \"'1.89'\": 3, \"'1.04'\": 3, \"'2.38'\": 3, \"'1.5'\": 3, \"'0.71'\": 3, \"'1.58'\": 2, \"'1.53'\": 2, \"'1.68'\": 2, \"'2.35'\": 2, \"'1.14'\": 2, \"'2.43'\": 2, \"'2.32'\": 2, \"'2.56'\": 2, \"'2.63'\": 2, \"'1.15'\": 2, \"'3.31'\": 2, \"'3.69'\": 2, \"'4.06'\": 2, \"'4.48'\": 2, \"'2.04'\": 2, \"'2.33'\": 2, \"'1.73'\": 2, \"'2.26'\": 2, \"'4.0'\": 2, \"'1.65'\": 2, \"'1.96'\": 2, \"'2.3'\": 2, \"'1.37'\": 2, \"'1.87'\": 2, \"'1.51'\": 2, \"'1.4'\": 2, \"'1.71'\": 2, \"'1.74'\": 2, \"'1.24'\": 1, \"'1.6'\": 1, \"'1.88'\": 1, \"'2.25'\": 1, \"'2.18'\": 1, \"'1.05'\": 1, \"'2.15'\": 1, \"'1.2'\": 1, \"'2.41'\": 1, \"'2.55'\": 1, \"'2.58'\": 1, \"'3.0'\": 1, \"'3.3'\": 1, \"'3.5'\": 1, \"'3.71'\": 1, \"'3.79'\": 1, \"'3.82'\": 1, \"'3.98'\": 1, \"'4.14'\": 1, \"'4.3'\": 1, \"'4.4'\": 1, \"'1.39'\": 1, \"'0.51'\": 1, \"'1.23'\": 1, \"'1.76'\": 1, \"'1.92'\": 1, \"'2.19'\": 1, \"'2.2'\": 1, \"'2.39'\": 1, \"'2.45'\": 1, \"'2.64'\": 1, \"'1.47'\": 1, \"'1.77'\": 1, \"'2.12'\": 1, \"'1.19'\": 1, \"'2.47'\": 1, \"'2.92'\": 1, \"'1.98'\": 1, \"'1.17'\": 1, \"'1.46'\": 1, \"'1.02'\": 1, \"'1.67'\": 1, \"'1.9'\": 1, \"'2.22'\": 1, \"'1.56'\": 1, \"'1.91'\": 1, \"'1.59'\": 1})\n",
            "Column -- rainfall_for_year\n",
            "=========================\n",
            "Counter({\"'0.0'\": 117, \"'9.75'\": 48, \"'0.03'\": 44, \"'0.05'\": 42, \"'0.38'\": 42, \"'0.01'\": 42, \"'0.13'\": 29, \"'0.11'\": 28, \"'0.24'\": 27, \"'0.04'\": 27, \"'0.98'\": 26, \"'12.69'\": 25, \"'4.04'\": 23, \"'15.98'\": 23, \"'12.67'\": 23, \"'0.27'\": 21, \"'7.84'\": 21, \"'7.95'\": 20, \"'7.8'\": 20, \"'0.36'\": 20, \"'0.96'\": 20, \"'16.34'\": 20, \"'0.09'\": 19, \"'0.02'\": 19, \"'3.19'\": 19, \"'1.59'\": 18, \"'0.21'\": 17, \"'0.28'\": 17, \"'12.48'\": 17, \"'9.39'\": 17, \"'1.6'\": 17, \"'2.93'\": 16, \"'0.07'\": 16, \"'0.6'\": 16, \"'1.32'\": 16, \"'0.29'\": 16, \"'7.6'\": 16, \"'11.55'\": 16, \"'0.69'\": 16, \"'2.4'\": 16, \"'1.14'\": 16, \"'11.73'\": 16, \"'7.57'\": 16, \"'7.28'\": 15, \"'0.26'\": 15, \"'0.59'\": 15, \"'7.43'\": 15, \"'8.44'\": 15, \"'2.87'\": 15, \"'11.13'\": 15, \"'9.25'\": 15, \"'5.61'\": 14, \"'10.11'\": 14, \"'12.62'\": 14, \"'7.35'\": 14, \"'1.22'\": 14, \"'3.92'\": 14, \"'10.71'\": 14, \"'0.91'\": 14, \"'7.83'\": 13, \"'10.49'\": 13, \"'0.06'\": 13, \"'0.92'\": 13, \"'11.18'\": 13, \"'0.66'\": 13, \"'3.24'\": 12, \"'5.57'\": 12, \"'8.24'\": 12, \"'0.42'\": 12, \"'1.3'\": 12, \"'5.46'\": 12, \"'11.36'\": 12, \"'2.41'\": 12, \"'7.94'\": 12, \"'2.95'\": 12, \"'12.88'\": 12, \"'0.25'\": 12, \"'7.37'\": 12, \"'7.64'\": 11, \"'11.2'\": 11, \"'11.35'\": 11, \"'8.95'\": 11, \"'11.65'\": 11, \"'0.86'\": 11, \"'2.14'\": 11, \"'16.24'\": 11, \"'8.41'\": 11, \"'11.08'\": 11, \"'1.36'\": 11, \"'3.47'\": 11, \"'11.23'\": 11, \"'2.63'\": 11, \"'12.78'\": 11, \"'6.86'\": 11, \"'8.05'\": 11, \"'0.2'\": 10, \"'6.36'\": 10, \"'1.5'\": 10, \"'11.37'\": 10, \"'0.12'\": 10, \"'5.77'\": 10, \"'3.94'\": 10, \"'7.88'\": 10, \"'14.79'\": 10, \"'8.28'\": 10, \"'2.08'\": 10, \"'4.32'\": 10, \"'5.33'\": 10, \"'5.99'\": 10, \"'6.01'\": 10, \"'3.06'\": 10, \"'0.89'\": 9, \"'3.97'\": 9, \"'9.29'\": 9, \"'9.94'\": 9, \"'1.44'\": 9, \"'11.17'\": 9, \"'5.2'\": 9, \"'5.51'\": 9, \"'11.83'\": 9, \"'8.42'\": 9, \"'9.19'\": 9, \"'0.4'\": 9, \"'0.82'\": 9, \"'6.81'\": 9, \"'12.44'\": 9, \"'14.61'\": 9, \"'1.16'\": 9, \"'2.34'\": 9, \"'9.12'\": 9, \"'4.22'\": 9, \"'0.22'\": 8, \"'2.44'\": 8, \"'8.34'\": 8, \"'8.77'\": 8, \"'8.97'\": 8, \"'0.43'\": 8, \"'12.55'\": 8, \"'12.66'\": 8, \"'13.27'\": 8, \"'5.71'\": 8, \"'10.8'\": 8, \"'0.46'\": 8, \"'11.29'\": 8, \"'0.97'\": 8, \"'3.86'\": 8, \"'7.73'\": 8, \"'0.49'\": 8, \"'4.14'\": 8, \"'0.64'\": 7, \"'1.19'\": 7, \"'1.94'\": 7, \"'6.39'\": 7, \"'8.8'\": 7, \"'10.03'\": 7, \"'0.83'\": 7, \"'11.48'\": 7, \"'7.14'\": 7, \"'7.32'\": 7, \"'9.21'\": 7, \"'1.67'\": 7, \"'2.64'\": 7, \"'0.47'\": 7, \"'0.53'\": 7, \"'10.12'\": 7, \"'10.82'\": 7, \"'0.23'\": 7, \"'12.27'\": 7, \"'5.8'\": 7, \"'7.41'\": 7, \"'9.92'\": 7, \"'10.04'\": 7, \"'12.77'\": 7, \"'1.18'\": 7, \"'4.69'\": 7, \"'7.85'\": 7, \"'1.56'\": 7, \"'2.77'\": 7, \"'1.05'\": 6, \"'2.85'\": 6, \"'3.6'\": 6, \"'4.96'\": 6, \"'0.63'\": 6, \"'5.48'\": 6, \"'8.71'\": 6, \"'4.58'\": 6, \"'7.55'\": 6, \"'7.56'\": 6, \"'9.18'\": 6, \"'0.84'\": 6, \"'1.51'\": 6, \"'2.27'\": 6, \"'2.58'\": 6, \"'8.45'\": 6, \"'8.63'\": 6, \"'9.76'\": 6, \"'0.17'\": 6, \"'0.78'\": 6, \"'3.11'\": 6, \"'6.0'\": 6, \"'6.21'\": 6, \"'15.6'\": 6, \"'4.17'\": 6, \"'8.04'\": 6, \"'1.24'\": 6, \"'6.92'\": 6, \"'12.36'\": 6, \"'14.11'\": 6, \"'14.37'\": 6, \"'2.74'\": 6, \"'5.03'\": 6, \"'7.45'\": 6, \"'7.53'\": 6, \"'2.68'\": 6, \"'0.41'\": 6, \"'3.75'\": 6, \"'7.47'\": 6, \"'2.69'\": 6, \"'9.05'\": 6, \"'0.94'\": 5, \"'4.42'\": 5, \"'6.83'\": 5, \"'9.33'\": 5, \"'9.81'\": 5, \"'0.48'\": 5, \"'2.02'\": 5, \"'10.97'\": 5, \"'0.16'\": 5, \"'9.06'\": 5, \"'10.46'\": 5, \"'10.73'\": 5, \"'1.04'\": 5, \"'2.65'\": 5, \"'5.9'\": 5, \"'7.36'\": 5, \"'0.1'\": 5, \"'2.54'\": 5, \"'5.1'\": 5, \"'5.35'\": 5, \"'0.51'\": 5, \"'1.27'\": 5, \"'6.25'\": 5, \"'9.36'\": 5, \"'9.53'\": 5, \"'4.71'\": 5, \"'7.1'\": 5, \"'8.15'\": 5, \"'14.22'\": 5, \"'0.93'\": 5, \"'1.86'\": 5, \"'3.93'\": 5, \"'5.31'\": 5, \"'6.52'\": 5, \"'6.55'\": 5, \"'3.54'\": 5, \"'2.61'\": 5, \"'7.49'\": 5, \"'9.41'\": 5, \"'4.91'\": 5, \"'7.65'\": 5, \"'1.42'\": 5, \"'3.31'\": 5, \"'4.24'\": 5, \"'4.41'\": 4, \"'5.08'\": 4, \"'5.58'\": 4, \"'8.31'\": 4, \"'8.7'\": 4, \"'0.57'\": 4, \"'1.26'\": 4, \"'1.39'\": 4, \"'7.91'\": 4, \"'10.98'\": 4, \"'11.71'\": 4, \"'12.7'\": 4, \"'0.19'\": 4, \"'0.32'\": 4, \"'6.63'\": 4, \"'6.64'\": 4, \"'7.4'\": 4, \"'8.01'\": 4, \"'10.7'\": 4, \"'6.27'\": 4, \"'7.29'\": 4, \"'9.27'\": 4, \"'9.87'\": 4, \"'1.21'\": 4, \"'2.43'\": 4, \"'2.48'\": 4, \"'2.83'\": 4, \"'2.9'\": 4, \"'5.17'\": 4, \"'6.3'\": 4, \"'15.91'\": 4, \"'15.92'\": 4, \"'16.33'\": 4, \"'0.67'\": 4, \"'8.83'\": 4, \"'9.04'\": 4, \"'11.28'\": 4, \"'4.87'\": 4, \"'5.32'\": 4, \"'12.43'\": 4, \"'13.88'\": 4, \"'0.5'\": 4, \"'5.79'\": 4, \"'7.92'\": 4, \"'8.1'\": 4, \"'8.26'\": 4, \"'7.75'\": 4, \"'7.9'\": 4, \"'9.34'\": 4, \"'10.59'\": 4, \"'11.42'\": 4, \"'3.08'\": 4, \"'3.41'\": 4, \"'5.81'\": 4, \"'0.74'\": 4, \"'3.55'\": 4, \"'4.26'\": 4, \"'0.65'\": 3, \"'0.88'\": 3, \"'0.95'\": 3, \"'1.88'\": 3, \"'3.51'\": 3, \"'4.95'\": 3, \"'5.13'\": 3, \"'5.16'\": 3, \"'7.93'\": 3, \"'8.36'\": 3, \"'8.82'\": 3, \"'8.85'\": 3, \"'8.94'\": 3, \"'9.22'\": 3, \"'9.51'\": 3, \"'9.8'\": 3, \"'9.98'\": 3, \"'0.44'\": 3, \"'1.25'\": 3, \"'1.62'\": 3, \"'3.16'\": 3, \"'3.27'\": 3, \"'3.99'\": 3, \"'5.26'\": 3, \"'5.47'\": 3, \"'10.77'\": 3, \"'11.5'\": 3, \"'11.97'\": 3, \"'12.12'\": 3, \"'3.78'\": 3, \"'5.28'\": 3, \"'6.61'\": 3, \"'7.62'\": 3, \"'11.84'\": 3, \"'0.85'\": 3, \"'1.92'\": 3, \"'2.66'\": 3, \"'6.12'\": 3, \"'6.88'\": 3, \"'9.4'\": 3, \"'0.31'\": 3, \"'1.82'\": 3, \"'5.06'\": 3, \"'5.18'\": 3, \"'6.33'\": 3, \"'6.43'\": 3, \"'6.44'\": 3, \"'6.89'\": 3, \"'15.67'\": 3, \"'16.41'\": 3, \"'0.75'\": 3, \"'1.33'\": 3, \"'1.57'\": 3, \"'1.87'\": 3, \"'2.37'\": 3, \"'3.35'\": 3, \"'3.96'\": 3, \"'6.49'\": 3, \"'8.72'\": 3, \"'9.37'\": 3, \"'11.27'\": 3, \"'3.52'\": 3, \"'5.41'\": 3, \"'10.53'\": 3, \"'12.57'\": 3, \"'13.9'\": 3, \"'13.94'\": 3, \"'14.29'\": 3, \"'14.63'\": 3, \"'14.96'\": 3, \"'7.96'\": 3, \"'2.78'\": 3, \"'5.53'\": 3, \"'10.0'\": 3, \"'11.8'\": 3, \"'2.57'\": 3, \"'4.99'\": 3, \"'3.84'\": 3, \"'4.49'\": 3, \"'4.63'\": 3, \"'4.83'\": 3, \"'0.61'\": 3, \"'2.32'\": 3, \"'3.4'\": 3, \"'4.47'\": 3, \"'1.12'\": 2, \"'2.22'\": 2, \"'2.51'\": 2, \"'3.05'\": 2, \"'3.3'\": 2, \"'4.1'\": 2, \"'4.12'\": 2, \"'4.28'\": 2, \"'4.48'\": 2, \"'4.79'\": 2, \"'4.9'\": 2, \"'5.96'\": 2, \"'6.4'\": 2, \"'7.46'\": 2, \"'8.76'\": 2, \"'9.23'\": 2, \"'10.48'\": 2, \"'1.45'\": 2, \"'1.61'\": 2, \"'1.63'\": 2, \"'2.42'\": 2, \"'2.73'\": 2, \"'3.48'\": 2, \"'3.76'\": 2, \"'3.77'\": 2, \"'3.91'\": 2, \"'5.7'\": 2, \"'5.72'\": 2, \"'6.75'\": 2, \"'8.78'\": 2, \"'8.84'\": 2, \"'10.07'\": 2, \"'10.93'\": 2, \"'11.01'\": 2, \"'11.7'\": 2, \"'11.96'\": 2, \"'12.56'\": 2, \"'13.26'\": 2, \"'0.15'\": 2, \"'0.54'\": 2, \"'1.06'\": 2, \"'1.1'\": 2, \"'3.82'\": 2, \"'3.83'\": 2, \"'5.44'\": 2, \"'5.5'\": 2, \"'6.66'\": 2, \"'6.91'\": 2, \"'9.07'\": 2, \"'10.47'\": 2, \"'10.81'\": 2, \"'11.34'\": 2, \"'1.13'\": 2, \"'2.52'\": 2, \"'5.89'\": 2, \"'7.06'\": 2, \"'7.13'\": 2, \"'7.82'\": 2, \"'9.15'\": 2, \"'9.17'\": 2, \"'9.85'\": 2, \"'0.14'\": 2, \"'0.79'\": 2, \"'1.34'\": 2, \"'2.86'\": 2, \"'2.98'\": 2, \"'3.37'\": 2, \"'5.55'\": 2, \"'5.97'\": 2, \"'6.68'\": 2, \"'15.17'\": 2, \"'15.7'\": 2, \"'15.71'\": 2, \"'15.85'\": 2, \"'1.84'\": 2, \"'3.63'\": 2, \"'4.29'\": 2, \"'4.53'\": 2, \"'6.23'\": 2, \"'6.24'\": 2, \"'7.12'\": 2, \"'8.2'\": 2, \"'8.57'\": 2, \"'8.64'\": 2, \"'9.03'\": 2, \"'9.96'\": 2, \"'10.83'\": 2, \"'11.12'\": 2, \"'11.26'\": 2, \"'11.33'\": 2, \"'1.03'\": 2, \"'1.2'\": 2, \"'3.0'\": 2, \"'3.01'\": 2, \"'3.02'\": 2, \"'3.81'\": 2, \"'6.96'\": 2, \"'7.78'\": 2, \"'7.89'\": 2, \"'8.06'\": 2, \"'8.32'\": 2, \"'8.88'\": 2, \"'11.07'\": 2, \"'11.44'\": 2, \"'11.91'\": 2, \"'12.17'\": 2, \"'12.34'\": 2, \"'12.45'\": 2, \"'12.87'\": 2, \"'13.93'\": 2, \"'14.69'\": 2, \"'14.87'\": 2, \"'14.95'\": 2, \"'0.76'\": 2, \"'1.02'\": 2, \"'1.31'\": 2, \"'1.89'\": 2, \"'4.46'\": 2, \"'4.77'\": 2, \"'5.3'\": 2, \"'6.28'\": 2, \"'6.42'\": 2, \"'6.47'\": 2, \"'6.48'\": 2, \"'7.69'\": 2, \"'8.07'\": 2, \"'8.12'\": 2, \"'0.18'\": 2, \"'0.52'\": 2, \"'0.71'\": 2, \"'2.0'\": 2, \"'2.92'\": 2, \"'3.73'\": 2, \"'6.15'\": 2, \"'6.2'\": 2, \"'6.22'\": 2, \"'8.39'\": 2, \"'9.55'\": 2, \"'0.3'\": 2, \"'2.56'\": 2, \"'3.07'\": 2, \"'4.51'\": 2, \"'4.56'\": 2, \"'4.97'\": 2, \"'5.21'\": 2, \"'5.54'\": 2, \"'6.17'\": 2, \"'6.84'\": 2, \"'6.87'\": 2, \"'7.26'\": 2, \"'7.52'\": 2, \"'1.81'\": 2, \"'3.14'\": 2, \"'4.52'\": 2, \"'7.38'\": 2, \"'9.24'\": 2, \"'0.58'\": 2, \"'3.46'\": 2, \"'3.95'\": 2, \"'4.13'\": 2, \"'2.06'\": 1, \"'2.79'\": 1, \"'4.06'\": 1, \"'4.39'\": 1, \"'5.07'\": 1, \"'5.45'\": 1, \"'5.86'\": 1, \"'6.38'\": 1, \"'6.76'\": 1, \"'7.59'\": 1, \"'8.0'\": 1, \"'8.3'\": 1, \"'8.67'\": 1, \"'8.79'\": 1, \"'9.47'\": 1, \"'9.62'\": 1, \"'9.66'\": 1, \"'9.7'\": 1, \"'9.97'\": 1, \"'10.08'\": 1, \"'10.1'\": 1, \"'10.14'\": 1, \"'10.17'\": 1, \"'10.43'\": 1, \"'10.5'\": 1, \"'0.39'\": 1, \"'1.35'\": 1, \"'4.82'\": 1, \"'5.15'\": 1, \"'5.62'\": 1, \"'5.67'\": 1, \"'5.69'\": 1, \"'6.26'\": 1, \"'7.63'\": 1, \"'7.99'\": 1, \"'8.6'\": 1, \"'8.89'\": 1, \"'10.05'\": 1, \"'10.63'\": 1, \"'10.74'\": 1, \"'10.86'\": 1, \"'10.9'\": 1, \"'10.94'\": 1, \"'10.95'\": 1, \"'11.0'\": 1, \"'11.51'\": 1, \"'11.69'\": 1, \"'12.54'\": 1, \"'12.6'\": 1, \"'12.82'\": 1, \"'13.11'\": 1, \"'13.18'\": 1, \"'2.88'\": 1, \"'3.57'\": 1, \"'5.34'\": 1, \"'5.43'\": 1, \"'5.92'\": 1, \"'5.93'\": 1, \"'10.68'\": 1, \"'10.72'\": 1, \"'11.59'\": 1, \"'11.74'\": 1, \"'11.82'\": 1, \"'0.7'\": 1, \"'1.91'\": 1, \"'5.88'\": 1, \"'6.08'\": 1, \"'6.29'\": 1, \"'6.37'\": 1, \"'6.56'\": 1, \"'6.72'\": 1, \"'6.98'\": 1, \"'7.76'\": 1, \"'8.33'\": 1, \"'8.43'\": 1, \"'8.49'\": 1, \"'9.59'\": 1, \"'9.77'\": 1, \"'1.09'\": 1, \"'1.15'\": 1, \"'3.18'\": 1, \"'3.32'\": 1, \"'3.49'\": 1, \"'5.63'\": 1, \"'5.85'\": 1, \"'6.1'\": 1, \"'6.19'\": 1, \"'6.32'\": 1, \"'15.4'\": 1, \"'15.68'\": 1, \"'15.87'\": 1, \"'15.94'\": 1, \"'16.08'\": 1, \"'16.18'\": 1, \"'0.68'\": 1, \"'0.81'\": 1, \"'2.82'\": 1, \"'3.04'\": 1, \"'3.65'\": 1, \"'4.44'\": 1, \"'8.09'\": 1, \"'8.35'\": 1, \"'8.48'\": 1, \"'8.92'\": 1, \"'9.32'\": 1, \"'9.35'\": 1, \"'9.52'\": 1, \"'9.86'\": 1, \"'10.69'\": 1, \"'10.96'\": 1, \"'11.06'\": 1, \"'11.11'\": 1, \"'11.32'\": 1, \"'11.39'\": 1, \"'1.65'\": 1, \"'1.96'\": 1, \"'3.13'\": 1, \"'3.79'\": 1, \"'5.05'\": 1, \"'7.39'\": 1, \"'7.71'\": 1, \"'9.42'\": 1, \"'9.69'\": 1, \"'10.45'\": 1, \"'10.62'\": 1, \"'11.24'\": 1, \"'11.94'\": 1, \"'11.99'\": 1, \"'12.2'\": 1, \"'12.59'\": 1, \"'12.64'\": 1, \"'12.9'\": 1, \"'13.31'\": 1, \"'13.82'\": 1, \"'14.08'\": 1, \"'14.21'\": 1, \"'14.41'\": 1, \"'14.49'\": 1, \"'14.58'\": 1, \"'14.88'\": 1, \"'14.9'\": 1, \"'0.87'\": 1, \"'1.38'\": 1, \"'1.55'\": 1, \"'1.78'\": 1, \"'1.85'\": 1, \"'2.71'\": 1, \"'3.43'\": 1, \"'3.8'\": 1, \"'4.45'\": 1, \"'4.61'\": 1, \"'4.76'\": 1, \"'5.23'\": 1, \"'5.29'\": 1, \"'6.5'\": 1, \"'6.99'\": 1, \"'7.34'\": 1, \"'8.13'\": 1, \"'8.25'\": 1, \"'0.77'\": 1, \"'1.66'\": 1, \"'2.17'\": 1, \"'2.31'\": 1, \"'2.67'\": 1, \"'3.45'\": 1, \"'2.13'\": 1, \"'2.75'\": 1, \"'6.07'\": 1, \"'6.13'\": 1, \"'7.2'\": 1, \"'8.14'\": 1, \"'8.96'\": 1, \"'9.2'\": 1, \"'9.9'\": 1, \"'9.99'\": 1, \"'10.01'\": 1, \"'10.26'\": 1, \"'11.41'\": 1, \"'11.49'\": 1, \"'11.76'\": 1, \"'11.79'\": 1, \"'12.18'\": 1, \"'12.42'\": 1, \"'1.47'\": 1, \"'2.38'\": 1, \"'2.72'\": 1, \"'2.8'\": 1, \"'4.31'\": 1, \"'4.6'\": 1, \"'5.02'\": 1, \"'5.98'\": 1, \"'6.05'\": 1, \"'6.06'\": 1, \"'6.57'\": 1, \"'6.73'\": 1, \"'6.85'\": 1, \"'7.0'\": 1, \"'7.48'\": 1, \"'1.08'\": 1, \"'1.43'\": 1, \"'1.9'\": 1, \"'3.1'\": 1, \"'3.25'\": 1, \"'3.7'\": 1, \"'3.87'\": 1, \"'4.11'\": 1, \"'4.75'\": 1, \"'4.8'\": 1, \"'4.81'\": 1, \"'4.94'\": 1, \"'5.04'\": 1, \"'6.16'\": 1, \"'6.18'\": 1, \"'6.46'\": 1, \"'7.11'\": 1, \"'7.42'\": 1, \"'7.74'\": 1, \"'7.97'\": 1, \"'8.03'\": 1, \"'8.11'\": 1, \"'8.87'\": 1, \"'0.8'\": 1, \"'1.4'\": 1, \"'1.41'\": 1, \"'1.54'\": 1, \"'1.72'\": 1, \"'2.3'\": 1, \"'2.35'\": 1, \"'2.7'\": 1, \"'2.89'\": 1, \"'3.67'\": 1, \"'4.03'\": 1, \"'4.37'\": 1, \"'4.38'\": 1})\n",
            "Column -- maximum_rain_per_minute\n",
            "=========================\n",
            "Counter({\"'0.0'\": 3903})\n",
            "Column -- maximum_temperature\n",
            "=========================\n",
            "Counter({\"'78.1'\": 22, \"'75.4'\": 20, \"'55.1'\": 17, \"'73.2'\": 17, \"'75.8'\": 17, \"'78.3'\": 17, \"'53.9'\": 17, \"'65.8'\": 16, \"'68.4'\": 16, \"'50.4'\": 16, \"'44.6'\": 16, \"'77.6'\": 16, \"'52.0'\": 15, \"'38.0'\": 15, \"'46.0'\": 15, \"'71.6'\": 15, \"'53.5'\": 15, \"'76.5'\": 15, \"'79.2'\": 15, \"'78.5'\": 15, \"'44.1'\": 15, \"'45.7'\": 15, \"'77.4'\": 15, \"'81.8'\": 15, \"'83.6'\": 15, \"'70.8'\": 15, \"'74.0'\": 14, \"'80.7'\": 14, \"'72.5'\": 14, \"'77.2'\": 14, \"'46.8'\": 14, \"'45.8'\": 14, \"'52.8'\": 14, \"'79.4'\": 14, \"'83.4'\": 14, \"'43.8'\": 13, \"'70.3'\": 13, \"'59.5'\": 13, \"'71.5'\": 13, \"'59.3'\": 13, \"'77.0'\": 13, \"'82.4'\": 13, \"'77.7'\": 13, \"'84.5'\": 13, \"'73.5'\": 13, \"'72.1'\": 13, \"'79.6'\": 13, \"'74.6'\": 13, \"'46.2'\": 13, \"'49.6'\": 13, \"'72.7'\": 13, \"'43.2'\": 13, \"'72.8'\": 13, \"'57.0'\": 12, \"'47.0'\": 12, \"'58.0'\": 12, \"'49.9'\": 12, \"'50.8'\": 12, \"'68.9'\": 12, \"'55.6'\": 12, \"'67.8'\": 12, \"'68.3'\": 12, \"'63.1'\": 12, \"'76.1'\": 12, \"'80.5'\": 12, \"'82.2'\": 12, \"'81.6'\": 12, \"'75.1'\": 12, \"'56.7'\": 12, \"'52.2'\": 12, \"'54.4'\": 12, \"'54.1'\": 12, \"'41.8'\": 12, \"'37.3'\": 12, \"'48.8'\": 12, \"'57.6'\": 12, \"'51.4'\": 12, \"'49.8'\": 12, \"'82.0'\": 12, \"'64.0'\": 12, \"'50.1'\": 12, \"'51.0'\": 11, \"'61.0'\": 11, \"'34.0'\": 11, \"'56.0'\": 11, \"'55.7'\": 11, \"'64.2'\": 11, \"'39.8'\": 11, \"'48.5'\": 11, \"'43.6'\": 11, \"'79.0'\": 11, \"'76.7'\": 11, \"'60.4'\": 11, \"'68.6'\": 11, \"'81.1'\": 11, \"'84.7'\": 11, \"'55.9'\": 11, \"'63.2'\": 11, \"'65.3'\": 11, \"'51.3'\": 11, \"'48.9'\": 11, \"'54.8'\": 11, \"'56.3'\": 11, \"'82.8'\": 11, \"'75.6'\": 11, \"'58.7'\": 11, \"'41.3'\": 11, \"'44.2'\": 11, \"'74.9'\": 11, \"'74.4'\": 11, \"'50.5'\": 11, \"'56.5'\": 11, \"'35.8'\": 11, \"'58.9'\": 11, \"'29.0'\": 10, \"'31.0'\": 10, \"'49.4'\": 10, \"'45.2'\": 10, \"'67.9'\": 10, \"'64.7'\": 10, \"'69.4'\": 10, \"'73.9'\": 10, \"'64.3'\": 10, \"'81.4'\": 10, \"'80.1'\": 10, \"'73.3'\": 10, \"'80.3'\": 10, \"'79.9'\": 10, \"'56.6'\": 10, \"'50.2'\": 10, \"'51.6'\": 10, \"'43.1'\": 10, \"'41.5'\": 10, \"'34.9'\": 10, \"'36.2'\": 10, \"'42.6'\": 10, \"'40.6'\": 10, \"'64.5'\": 10, \"'83.8'\": 10, \"'47.7'\": 10, \"'68.1'\": 10, \"'83.2'\": 10, \"'61.6'\": 10, \"'69.6'\": 10, \"'37.5'\": 10, \"'38.5'\": 10, \"'47.6'\": 10, \"'51.1'\": 10, \"'65.6'\": 10, \"'70.9'\": 10, \"'45.4'\": 10, \"'43.3'\": 10, \"'74.2'\": 10, \"'52.6'\": 10, \"'48.0'\": 9, \"'60.7'\": 9, \"'58.6'\": 9, \"'57.8'\": 9, \"'62.1'\": 9, \"'44.3'\": 9, \"'53.1'\": 9, \"'58.3'\": 9, \"'59.9'\": 9, \"'70.4'\": 9, \"'62.9'\": 9, \"'66.8'\": 9, \"'73.7'\": 9, \"'78.6'\": 9, \"'82.6'\": 9, \"'84.3'\": 9, \"'67.4'\": 9, \"'45.1'\": 9, \"'65.5'\": 9, \"'42.8'\": 9, \"'48.3'\": 9, \"'36.9'\": 9, \"'38.8'\": 9, \"'47.4'\": 9, \"'67.1'\": 9, \"'67.6'\": 9, \"'83.0'\": 9, \"'48.6'\": 9, \"'56.2'\": 9, \"'44.8'\": 9, \"'39.9'\": 9, \"'41.1'\": 9, \"'66.3'\": 9, \"'80.9'\": 9, \"'60.5'\": 9, \"'67.3'\": 9, \"'36.0'\": 8, \"'55.0'\": 8, \"'55.3'\": 8, \"'63.4'\": 8, \"'66.4'\": 8, \"'61.2'\": 8, \"'61.8'\": 8, \"'78.8'\": 8, \"'59.8'\": 8, \"'73.0'\": 8, \"'87.2'\": 8, \"'39.2'\": 8, \"'62.7'\": 8, \"'33.4'\": 8, \"'41.6'\": 8, \"'39.3'\": 8, \"'34.6'\": 8, \"'40.8'\": 8, \"'57.2'\": 8, \"'58.4'\": 8, \"'61.3'\": 8, \"'86.1'\": 8, \"'46.7'\": 8, \"'32.1'\": 8, \"'34.3'\": 8, \"'84.0'\": 8, \"'77.9'\": 8, \"'50.7'\": 8, \"'59.2'\": 8, \"'35.2'\": 8, \"'85.5'\": 8, \"'85.9'\": 8, \"'40.5'\": 8, \"'43.0'\": 7, \"'35.0'\": 7, \"'37.0'\": 7, \"'42.0'\": 7, \"'62.0'\": 7, \"'46.1'\": 7, \"'49.5'\": 7, \"'32.4'\": 7, \"'40.1'\": 7, \"'65.0'\": 7, \"'69.9'\": 7, \"'60.2'\": 7, \"'75.3'\": 7, \"'81.2'\": 7, \"'69.3'\": 7, \"'62.3'\": 7, \"'79.8'\": 7, \"'69.8'\": 7, \"'63.5'\": 7, \"'43.5'\": 7, \"'28.5'\": 7, \"'59.6'\": 7, \"'58.1'\": 7, \"'54.2'\": 7, \"'39.1'\": 7, \"'36.5'\": 7, \"'38.2'\": 7, \"'53.6'\": 7, \"'41.9'\": 7, \"'35.5'\": 7, \"'36.6'\": 7, \"'39.5'\": 7, \"'34.7'\": 7, \"'38.6'\": 7, \"'66.9'\": 7, \"'60.1'\": 7, \"'76.8'\": 7, \"'84.1'\": 7, \"'34.4'\": 7, \"'36.8'\": 7, \"'24.4'\": 7, \"'53.2'\": 7, \"'32.5'\": 7, \"'40.2'\": 7, \"'35.9'\": 7, \"'72.0'\": 7, \"'49.1'\": 7, \"'68.8'\": 7, \"'76.0'\": 7, \"'86.3'\": 7, \"'87.6'\": 7, \"'34.1'\": 7, \"'74.7'\": 7, \"'54.5'\": 7, \"'53.3'\": 7, \"'40.3'\": 7, \"'71.1'\": 7, \"'33.7'\": 6, \"'37.9'\": 6, \"'60.9'\": 6, \"'56.9'\": 6, \"'71.3'\": 6, \"'66.6'\": 6, \"'62.6'\": 6, \"'76.3'\": 6, \"'40.9'\": 6, \"'52.3'\": 6, \"'43.9'\": 6, \"'51.9'\": 6, \"'44.5'\": 6, \"'33.1'\": 6, \"'26.6'\": 6, \"'48.1'\": 6, \"'48.2'\": 6, \"'66.0'\": 6, \"'84.9'\": 6, \"'78.0'\": 6, \"'65.2'\": 6, \"'38.9'\": 6, \"'38.3'\": 6, \"'35.6'\": 6, \"'47.3'\": 6, \"'54.7'\": 6, \"'53.8'\": 6, \"'70.6'\": 6, \"'39.6'\": 6, \"'47.9'\": 6, \"'28.2'\": 6, \"'31.3'\": 6, \"'32.2'\": 6, \"'71.8'\": 6, \"'30.0'\": 5, \"'53.0'\": 5, \"'54.0'\": 5, \"'59.0'\": 5, \"'71.7'\": 5, \"'61.5'\": 5, \"'57.9'\": 5, \"'26.9'\": 5, \"'45.5'\": 5, \"'33.2'\": 5, \"'31.9'\": 5, \"'41.2'\": 5, \"'63.9'\": 5, \"'49.2'\": 5, \"'57.3'\": 5, \"'42.3'\": 5, \"'51.7'\": 5, \"'37.6'\": 5, \"'77.8'\": 5, \"'85.1'\": 5, \"'72.3'\": 5, \"'23.5'\": 5, \"'19.9'\": 5, \"'42.1'\": 5, \"'83.9'\": 5, \"'55.4'\": 5, \"'30.9'\": 5, \"'65.4'\": 5, \"'62.4'\": 5, \"'86.7'\": 5, \"'82.5'\": 5, \"'42.9'\": 5, \"'45.9'\": 5, \"'29.7'\": 5, \"'64.8'\": 5, \"'89.3'\": 5, \"'42.7'\": 5, \"'69.1'\": 5, \"'37.8'\": 5, \"'40.0'\": 4, \"'39.0'\": 4, \"'44.0'\": 4, \"'50.0'\": 4, \"'55.8'\": 4, \"'76.6'\": 4, \"'46.5'\": 4, \"'66.5'\": 4, \"'54.9'\": 4, \"'37.2'\": 4, \"'36.3'\": 4, \"'33.5'\": 4, \"'30.1'\": 4, \"'23.9'\": 4, \"'26.7'\": 4, \"'52.1'\": 4, \"'46.3'\": 4, \"'56.4'\": 4, \"'44.9'\": 4, \"'66.1'\": 4, \"'70.1'\": 4, \"'68.5'\": 4, \"'62.8'\": 4, \"'28.1'\": 4, \"'29.1'\": 4, \"'31.8'\": 4, \"'26.4'\": 4, \"'85.7'\": 4, \"'85.6'\": 4, \"'23.2'\": 4, \"'51.2'\": 4, \"'78.9'\": 4, \"'28.8'\": 4, \"'29.8'\": 4, \"'22.7'\": 4, \"'30.6'\": 4, \"'56.1'\": 4, \"'25.6'\": 4, \"'32.8'\": 4, \"'71.9'\": 4, \"'42.5'\": 4, \"'80.6'\": 4, \"'77.3'\": 4, \"'27.0'\": 3, \"'45.0'\": 3, \"'33.0'\": 3, \"'26.0'\": 3, \"'63.0'\": 3, \"'43.4'\": 3, \"'53.4'\": 3, \"'73.1'\": 3, \"'85.3'\": 3, \"'79.1'\": 3, \"'50.6'\": 3, \"'63.7'\": 3, \"'26.1'\": 3, \"'33.8'\": 3, \"'57.5'\": 3, \"'52.9'\": 3, \"'50.9'\": 3, \"'76.2'\": 3, \"'75.7'\": 3, \"'79.3'\": 3, \"'78.4'\": 3, \"'83.5'\": 3, \"'30.7'\": 3, \"'32.6'\": 3, \"'24.1'\": 3, \"'29.4'\": 3, \"'38.4'\": 3, \"'38.1'\": 3, \"'37.7'\": 3, \"'42.2'\": 3, \"'73.8'\": 3, \"'54.6'\": 3, \"'86.6'\": 3, \"'86.5'\": 3, \"'82.9'\": 3, \"'64.1'\": 3, \"'22.9'\": 3, \"'47.1'\": 3, \"'80.0'\": 3, \"'31.5'\": 3, \"'17.2'\": 3, \"'27.5'\": 3, \"'52.5'\": 3, \"'31.6'\": 3, \"'49.3'\": 3, \"'46.4'\": 3, \"'35.3'\": 3, \"'60.6'\": 3, \"'91.6'\": 3, \"'21.8'\": 3, \"'26.3'\": 3, \"'55.2'\": 3, \"'58.5'\": 3, \"'29.3'\": 3, \"'65.7'\": 3, \"'38.7'\": 3, \"'32.9'\": 3, \"'70.2'\": 3, \"'41.0'\": 2, \"'19.0'\": 2, \"'25.0'\": 2, \"'81.7'\": 2, \"'53.7'\": 2, \"'24.8'\": 2, \"'51.5'\": 2, \"'34.5'\": 2, \"'77.5'\": 2, \"'81.3'\": 2, \"'81.0'\": 2, \"'87.8'\": 2, \"'87.0'\": 2, \"'85.8'\": 2, \"'65.9'\": 2, \"'69.5'\": 2, \"'69.0'\": 2, \"'27.9'\": 2, \"'33.3'\": 2, \"'66.2'\": 2, \"'89.7'\": 2, \"'73.6'\": 2, \"'69.2'\": 2, \"'63.6'\": 2, \"'88.0'\": 2, \"'86.0'\": 2, \"'82.7'\": 2, \"'80.4'\": 2, \"'57.7'\": 2, \"'39.7'\": 2, \"'20.8'\": 2, \"'47.2'\": 2, \"'44.7'\": 2, \"'34.8'\": 2, \"'17.5'\": 2, \"'74.1'\": 2, \"'6.5'\": 2, \"'18.8'\": 2, \"'27.6'\": 2, \"'12.4'\": 2, \"'80.2'\": 2, \"'87.4'\": 2, \"'77.1'\": 2, \"'67.2'\": 2, \"'63.8'\": 2, \"'10.2'\": 2, \"'51.8'\": 2, \"'30.8'\": 2, \"'15.1'\": 2, \"'49.7'\": 2, \"'32.7'\": 2, \"'17.3'\": 2, \"'60.8'\": 2, \"'88.8'\": 2, \"'21.9'\": 2, \"'22.5'\": 2, \"'18.1'\": 2, \"'36.1'\": 2, \"'42.4'\": 2, \"'83.3'\": 2, \"'89.9'\": 2, \"'90.7'\": 2, \"'70.7'\": 2, \"'30.4'\": 2, \"'88.6'\": 2, \"'85.4'\": 2, \"'59.1'\": 2, \"'48.7'\": 2, \"'84.8'\": 2, \"'11.0'\": 1, \"'33.9'\": 1, \"'75.0'\": 1, \"'72.6'\": 1, \"'15.9'\": 1, \"'20.0'\": 1, \"'25.7'\": 1, \"'23.3'\": 1, \"'19.5'\": 1, \"'37.4'\": 1, \"'75.9'\": 1, \"'83.7'\": 1, \"'79.5'\": 1, \"'40.4'\": 1, \"'28.7'\": 1, \"'5.4'\": 1, \"'13.1'\": 1, \"'13.5'\": 1, \"'20.6'\": 1, \"'-6.1'\": 1, \"'7.7'\": 1, \"'10.8'\": 1, \"'28.3'\": 1, \"'49.0'\": 1, \"'63.3'\": 1, \"'85.2'\": 1, \"'68.7'\": 1, \"'29.5'\": 1, \"'22.1'\": 1, \"'67.0'\": 1, \"'56.8'\": 1, \"'74.3'\": 1, \"'72.9'\": 1, \"'89.0'\": 1, \"'90.8'\": 1, \"'90.3'\": 1, \"'90.6'\": 1, \"'91.8'\": 1, \"'85.0'\": 1, \"'81.9'\": 1, \"'73.4'\": 1, \"'61.9'\": 1, \"'21.3'\": 1, \"'25.4'\": 1, \"'21.1'\": 1, \"'16.9'\": 1, \"'11.2'\": 1, \"'15.5'\": 1, \"'24.6'\": 1, \"'30.3'\": 1, \"'45.3'\": 1, \"'74.8'\": 1, \"'88.4'\": 1, \"'71.4'\": 1, \"'50.3'\": 1, \"'62.2'\": 1, \"'10.7'\": 1, \"'8.1'\": 1, \"'35.7'\": 1, \"'40.7'\": 1, \"'13.4'\": 1, \"'41.7'\": 1, \"'46.9'\": 1, \"'22.3'\": 1, \"'15.2'\": 1, \"'7.2'\": 1, \"'64.6'\": 1, \"'62.5'\": 1, \"'84.4'\": 1, \"'66.7'\": 1, \"'-0.2'\": 1, \"'28.4'\": 1, \"'48.4'\": 1, \"'20.5'\": 1, \"'13.6'\": 1, \"'-0.0'\": 1, \"'26.2'\": 1, \"'45.6'\": 1, \"'31.1'\": 1, \"'22.2'\": 1, \"'31.7'\": 1, \"'79.7'\": 1, \"'87.9'\": 1, \"'69.7'\": 1, \"'19.2'\": 1, \"'23.0'\": 1, \"'26.8'\": 1, \"'20.4'\": 1, \"'25.3'\": 1, \"'31.4'\": 1, \"'22.4'\": 1, \"'43.7'\": 1, \"'52.7'\": 1, \"'57.4'\": 1, \"'32.0'\": 1, \"'68.2'\": 1, \"'60.3'\": 1, \"'92.7'\": 1, \"'88.2'\": 1, \"'89.5'\": 1, \"'64.9'\": 1, \"'25.1'\": 1, \"'10.0'\": 1, \"'28.0'\": 1, \"'3.7'\": 1, \"'18.7'\": 1, \"'18.4'\": 1, \"'19.7'\": 1, \"'20.3'\": 1, \"'90.5'\": 1, \"'21.6'\": 1, \"'16.5'\": 1, \"'20.2'\": 1, \"'31.2'\": 1, \"'72.4'\": 1, \"'75.5'\": 1, \"'74.5'\": 1, \"'88.5'\": 1, \"'87.1'\": 1, \"'82.3'\": 1, \"'70.5'\": 1, \"'82.1'\": 1, \"'86.8'\": 1, \"'83.1'\": 1, \"'71.0'\": 1, \"'89.4'\": 1, \"'84.2'\": 1, \"'72.2'\": 1, \"'80.8'\": 1, \"'67.5'\": 1, \"'54.3'\": 1, \"'70.0'\": 1, \"'28.6'\": 1, \"'58.2'\": 1, \"'25.9'\": 1, \"'14.9'\": 1, \"'23.6'\": 1, \"'24.5'\": 1, \"'44.4'\": 1, \"'23.8'\": 1, \"'37.1'\": 1, \"'46.6'\": 1, \"'30.5'\": 1, \"'10.1'\": 1, \"'21.5'\": 1, \"'20.7'\": 1, \"'57.1'\": 1, \"'17.6'\": 1, \"'34.2'\": 1, \"'25.2'\": 1, \"'59.4'\": 1, \"'76.9'\": 1, \"'64.4'\": 1, \"'78.7'\": 1, \"'81.5'\": 1, \"'86.2'\": 1, \"'78.2'\": 1})\n",
            "Column -- minimum_temperature\n",
            "=========================\n",
            "Counter({\"'27.0'\": 34, \"'34.9'\": 27, \"'41.1'\": 26, \"'38.3'\": 25, \"'32.5'\": 23, \"'32.8'\": 23, \"'26.0'\": 22, \"'25.6'\": 22, \"'24.5'\": 22, \"'34.0'\": 21, \"'29.4'\": 21, \"'40.6'\": 21, \"'45.2'\": 21, \"'24.4'\": 21, \"'28.8'\": 21, \"'35.9'\": 19, \"'27.8'\": 19, \"'33.1'\": 19, \"'30.3'\": 19, \"'43.2'\": 19, \"'40.3'\": 19, \"'38.5'\": 19, \"'42.3'\": 19, \"'40.9'\": 19, \"'35.2'\": 19, \"'30.0'\": 18, \"'26.6'\": 18, \"'33.4'\": 18, \"'41.3'\": 18, \"'41.6'\": 18, \"'42.8'\": 18, \"'42.5'\": 18, \"'43.6'\": 18, \"'22.4'\": 18, \"'41.5'\": 18, \"'47.4'\": 18, \"'28.1'\": 18, \"'36.0'\": 17, \"'36.3'\": 17, \"'29.1'\": 17, \"'32.2'\": 17, \"'46.0'\": 17, \"'34.7'\": 17, \"'41.2'\": 17, \"'36.6'\": 17, \"'25.8'\": 17, \"'46.8'\": 17, \"'26.1'\": 17, \"'26.7'\": 16, \"'36.5'\": 16, \"'25.4'\": 16, \"'32.9'\": 16, \"'43.3'\": 16, \"'40.5'\": 16, \"'43.1'\": 16, \"'46.1'\": 16, \"'48.0'\": 16, \"'38.9'\": 16, \"'26.9'\": 16, \"'31.2'\": 16, \"'35.8'\": 16, \"'33.5'\": 16, \"'43.5'\": 16, \"'45.4'\": 16, \"'34.4'\": 16, \"'37.3'\": 15, \"'42.6'\": 15, \"'39.3'\": 15, \"'44.6'\": 15, \"'45.5'\": 15, \"'35.0'\": 15, \"'33.7'\": 15, \"'27.2'\": 15, \"'37.9'\": 15, \"'27.9'\": 15, \"'39.9'\": 15, \"'30.7'\": 15, \"'25.0'\": 14, \"'37.2'\": 14, \"'39.8'\": 14, \"'39.2'\": 14, \"'45.7'\": 14, \"'42.9'\": 14, \"'41.9'\": 14, \"'46.2'\": 14, \"'28.4'\": 14, \"'21.8'\": 14, \"'25.7'\": 14, \"'23.2'\": 14, \"'35.5'\": 14, \"'30.9'\": 14, \"'32.4'\": 14, \"'27.3'\": 14, \"'23.5'\": 14, \"'23.9'\": 14, \"'37.0'\": 13, \"'37.6'\": 13, \"'31.9'\": 13, \"'39.6'\": 13, \"'46.7'\": 13, \"'44.9'\": 13, \"'44.1'\": 13, \"'33.8'\": 13, \"'28.5'\": 13, \"'21.6'\": 13, \"'26.3'\": 13, \"'34.1'\": 13, \"'23.8'\": 13, \"'20.5'\": 13, \"'44.2'\": 13, \"'40.8'\": 13, \"'46.4'\": 13, \"'26.4'\": 12, \"'44.5'\": 12, \"'41.8'\": 12, \"'45.1'\": 12, \"'34.3'\": 12, \"'53.2'\": 12, \"'39.5'\": 12, \"'35.3'\": 12, \"'45.8'\": 12, \"'30.6'\": 12, \"'20.3'\": 12, \"'22.2'\": 12, \"'19.4'\": 12, \"'19.2'\": 12, \"'18.1'\": 12, \"'27.5'\": 12, \"'43.9'\": 12, \"'29.5'\": 12, \"'21.1'\": 12, \"'46.5'\": 12, \"'47.6'\": 12, \"'38.0'\": 11, \"'10.0'\": 11, \"'17.0'\": 11, \"'28.7'\": 11, \"'40.2'\": 11, \"'30.4'\": 11, \"'40.1'\": 11, \"'42.2'\": 11, \"'38.2'\": 11, \"'37.8'\": 11, \"'23.3'\": 11, \"'29.3'\": 11, \"'39.1'\": 11, \"'35.6'\": 11, \"'27.6'\": 11, \"'42.1'\": 11, \"'24.8'\": 11, \"'47.7'\": 11, \"'48.2'\": 11, \"'18.0'\": 10, \"'18.6'\": 10, \"'32.7'\": 10, \"'36.9'\": 10, \"'37.5'\": 10, \"'36.2'\": 10, \"'38.6'\": 10, \"'49.5'\": 10, \"'44.8'\": 10, \"'50.4'\": 10, \"'49.6'\": 10, \"'54.7'\": 10, \"'17.2'\": 10, \"'13.5'\": 10, \"'31.5'\": 10, \"'22.7'\": 10, \"'48.6'\": 10, \"'48.3'\": 10, \"'36.8'\": 10, \"'32.1'\": 10, \"'18.3'\": 10, \"'29.7'\": 10, \"'19.5'\": 10, \"'29.0'\": 9, \"'23.0'\": 9, \"'49.9'\": 9, \"'47.3'\": 9, \"'34.6'\": 9, \"'38.8'\": 9, \"'15.2'\": 9, \"'12.4'\": 9, \"'21.9'\": 9, \"'15.6'\": 9, \"'22.1'\": 9, \"'6.3'\": 9, \"'12.6'\": 9, \"'14.3'\": 9, \"'30.1'\": 9, \"'10.7'\": 9, \"'24.7'\": 9, \"'29.8'\": 9, \"'48.8'\": 9, \"'31.3'\": 9, \"'49.2'\": 9, \"'31.8'\": 9, \"'22.0'\": 8, \"'31.0'\": 8, \"'21.0'\": 8, \"'14.0'\": 8, \"'18.4'\": 8, \"'33.2'\": 8, \"'43.8'\": 8, \"'50.1'\": 8, \"'22.5'\": 8, \"'15.9'\": 8, \"'28.2'\": 8, \"'16.5'\": 8, \"'16.2'\": 8, \"'20.8'\": 8, \"'15.4'\": 8, \"'49.8'\": 8, \"'44.3'\": 8, \"'15.7'\": 8, \"'25.3'\": 8, \"'18.9'\": 8, \"'23.6'\": 8, \"'24.2'\": 8, \"'47.0'\": 8, \"'13.8'\": 8, \"'16.4'\": 7, \"'54.4'\": 7, \"'53.6'\": 7, \"'17.7'\": 7, \"'19.9'\": 7, \"'17.3'\": 7, \"'16.7'\": 7, \"'18.8'\": 7, \"'51.6'\": 7, \"'14.8'\": 7, \"'24.1'\": 7, \"'22.9'\": 7, \"'19.1'\": 7, \"'50.2'\": 7, \"'47.9'\": 7, \"'13.3'\": 7, \"'25.1'\": 7, \"'12.9'\": 7, \"'6.0'\": 6, \"'20.0'\": 6, \"'11.0'\": 6, \"'10.2'\": 6, \"'52.8'\": 6, \"'19.7'\": 6, \"'9.2'\": 6, \"'-2.2'\": 6, \"'11.6'\": 6, \"'8.6'\": 6, \"'11.1'\": 6, \"'13.1'\": 6, \"'31.6'\": 6, \"'16.9'\": 6, \"'51.3'\": 6, \"'50.5'\": 6, \"'50.8'\": 6, \"'48.5'\": 6, \"'21.4'\": 6, \"'48.9'\": 6, \"'11.2'\": 6, \"'12.3'\": 6, \"'51.7'\": 6, \"'17.5'\": 6, \"'51.4'\": 6, \"'16.0'\": 5, \"'28.0'\": 5, \"'32.0'\": 5, \"'24.0'\": 5, \"'9.0'\": 5, \"'51.1'\": 5, \"'7.6'\": 5, \"'4.3'\": 5, \"'20.2'\": 5, \"'10.5'\": 5, \"'52.0'\": 5, \"'49.1'\": 5, \"'-1.2'\": 5, \"'1.5'\": 5, \"'5.2'\": 5, \"'7.0'\": 5, \"'51.0'\": 5, \"'53.8'\": 5, \"'53.9'\": 5, \"'-7.7'\": 5, \"'9.3'\": 5, \"'2.8'\": 5, \"'12.8'\": 5, \"'-0.0'\": 4, \"'12.0'\": 4, \"'44.0'\": 4, \"'32.6'\": 4, \"'52.5'\": 4, \"'42.7'\": 4, \"'28.3'\": 4, \"'17.8'\": 4, \"'-10.0'\": 4, \"'14.6'\": 4, \"'8.4'\": 4, \"'5.8'\": 4, \"'52.9'\": 4, \"'54.8'\": 4, \"'10.4'\": 4, \"'-1.4'\": 4, \"'11.9'\": 4, \"'16.1'\": 4, \"'53.3'\": 4, \"'14.4'\": 4, \"'0.9'\": 4, \"'52.3'\": 4, \"'50.7'\": 4, \"'6.5'\": 4, \"'34.2'\": 4, \"'49.4'\": 4, \"'7.4'\": 4, \"'20.6'\": 4, \"'13.6'\": 4, \"'21.3'\": 4, \"'13.7'\": 4, \"'53.5'\": 4, \"'14.2'\": 4, \"'40.7'\": 4, \"'15.0'\": 3, \"'19.0'\": 3, \"'5.0'\": 3, \"'-11.0'\": 3, \"'58.1'\": 3, \"'38.4'\": 3, \"'-10.5'\": 3, \"'-7.0'\": 3, \"'3.4'\": 3, \"'4.1'\": 3, \"'9.9'\": 3, \"'40.0'\": 3, \"'52.6'\": 3, \"'55.0'\": 3, \"'50.0'\": 3, \"'55.1'\": 3, \"'27.1'\": 3, \"'14.9'\": 3, \"'22.3'\": 3, \"'14.1'\": 3, \"'0.7'\": 3, \"'15.1'\": 3, \"'38.1'\": 3, \"'56.2'\": 3, \"'61.5'\": 3, \"'21.5'\": 3, \"'35.1'\": 3, \"'56.6'\": 3, \"'54.2'\": 3, \"'11.7'\": 3, \"'-3.3'\": 3, \"'-0.2'\": 3, \"'6.7'\": 3, \"'1.8'\": 3, \"'51.2'\": 3, \"'-2.0'\": 3, \"'12.1'\": 3, \"'-3.9'\": 3, \"'7.9'\": 3, \"'46.6'\": 3, \"'53.1'\": 3, \"'-12.2'\": 3, \"'-4.8'\": 3, \"'20.4'\": 3, \"'33.3'\": 3, \"'26.2'\": 3, \"'44.4'\": 3, \"'47.5'\": 3, \"'35.7'\": 3, \"'36.1'\": 3, \"'29.6'\": 3, \"'13.0'\": 2, \"'-3.0'\": 2, \"'33.0'\": 2, \"'10.9'\": 2, \"'9.5'\": 2, \"'46.3'\": 2, \"'42.0'\": 2, \"'45.6'\": 2, \"'3.7'\": 2, \"'5.4'\": 2, \"'0.1'\": 2, \"'2.0'\": 2, \"'4.5'\": 2, \"'24.3'\": 2, \"'47.1'\": 2, \"'48.4'\": 2, \"'57.3'\": 2, \"'32.3'\": 2, \"'-11.2'\": 2, \"'-5.9'\": 2, \"'-16.6'\": 2, \"'1.1'\": 2, \"'-13.0'\": 2, \"'29.2'\": 2, \"'54.3'\": 2, \"'18.2'\": 2, \"'16.6'\": 2, \"'26.8'\": 2, \"'40.4'\": 2, \"'54.5'\": 2, \"'54.1'\": 2, \"'33.9'\": 2, \"'26.5'\": 2, \"'-0.8'\": 2, \"'11.4'\": 2, \"'22.6'\": 2, \"'42.4'\": 2, \"'52.2'\": 2, \"'-12.8'\": 2, \"'-5.4'\": 2, \"'10.3'\": 2, \"'-9.3'\": 2, \"'-22.5'\": 2, \"'25.2'\": 2, \"'59.9'\": 2, \"'-2.8'\": 2, \"'3.0'\": 2, \"'2.4'\": 2, \"'-7.9'\": 2, \"'43.0'\": 2, \"'55.3'\": 2, \"'4.8'\": 2, \"'1.3'\": 2, \"'1.7'\": 2, \"'-5.6'\": 2, \"'6.9'\": 2, \"'3.2'\": 2, \"'50.6'\": 2, \"'43.4'\": 2, \"'51.8'\": 2, \"'41.4'\": 2, \"'49.7'\": 2, \"'12.2'\": 2, \"'20.9'\": 2, \"'4.6'\": 2, \"'2.9'\": 2, \"'21.2'\": 2, \"'38.7'\": 2, \"'65.7'\": 2, \"'41.0'\": 1, \"'8.0'\": 1, \"'55.8'\": 1, \"'9.7'\": 1, \"'-0.4'\": 1, \"'-1.9'\": 1, \"'10.1'\": 1, \"'-3.1'\": 1, \"'58.4'\": 1, \"'55.7'\": 1, \"'56.9'\": 1, \"'57.5'\": 1, \"'36.4'\": 1, \"'3.5'\": 1, \"'14.7'\": 1, \"'-23.6'\": 1, \"'-27.7'\": 1, \"'-1.8'\": 1, \"'-2.4'\": 1, \"'-21.6'\": 1, \"'33.6'\": 1, \"'60.9'\": 1, \"'2.6'\": 1, \"'-7.2'\": 1, \"'-9.1'\": 1, \"'-1.6'\": 1, \"'31.7'\": 1, \"'64.0'\": 1, \"'61.8'\": 1, \"'58.3'\": 1, \"'57.6'\": 1, \"'0.3'\": 1, \"'-9.8'\": 1, \"'-13.5'\": 1, \"'6.1'\": 1, \"'-6.8'\": 1, \"'-0.6'\": 1, \"'-1.7'\": 1, \"'-4.6'\": 1, \"'63.9'\": 1, \"'39.4'\": 1, \"'1.6'\": 1, \"'-5.2'\": 1, \"'5.6'\": 1, \"'-2.6'\": 1, \"'-12.0'\": 1, \"'-6.5'\": 1, \"'1.4'\": 1, \"'59.7'\": 1, \"'57.2'\": 1, \"'55.4'\": 1, \"'56.7'\": 1, \"'-19.6'\": 1, \"'-2.9'\": 1, \"'-0.5'\": 1, \"'-20.6'\": 1, \"'-21.1'\": 1, \"'-9.0'\": 1, \"'8.8'\": 1, \"'-11.7'\": 1, \"'0.5'\": 1, \"'62.7'\": 1, \"'54.0'\": 1, \"'60.4'\": 1, \"'59.6'\": 1, \"'2.2'\": 1, \"'8.1'\": 1, \"'-8.6'\": 1, \"'-4.3'\": 1, \"'31.4'\": 1, \"'30.2'\": 1, \"'59.5'\": 1, \"'60.1'\": 1, \"'58.0'\": 1, \"'3.9'\": 1, \"'8.3'\": 1, \"'-18.4'\": 1, \"'-23.9'\": 1, \"'20.1'\": 1, \"'36.7'\": 1, \"'51.9'\": 1, \"'-4.1'\": 1, \"'55.9'\": 1, \"'57.8'\": 1, \"'56.5'\": 1, \"'4.7'\": 1, \"'-5.0'\": 1, \"'-6.3'\": 1, \"'-3.5'\": 1, \"'-13.8'\": 1, \"'45.0'\": 1, \"'43.7'\": 1, \"'58.6'\": 1, \"'47.8'\": 1, \"'51.5'\": 1, \"'49.0'\": 1, \"'48.7'\": 1, \"'37.4'\": 1, \"'17.4'\": 1, \"'25.9'\": 1, \"'7.8'\": 1, \"'-5.7'\": 1, \"'-8.0'\": 1, \"'4.0'\": 1, \"'37.1'\": 1, \"'8.9'\": 1, \"'-1.0'\": 1, \"'11.3'\": 1, \"'23.7'\": 1, \"'19.6'\": 1, \"'9.4'\": 1, \"'19.3'\": 1, \"'25.5'\": 1, \"'20.7'\": 1, \"'5.1'\": 1, \"'-10.8'\": 1, \"'-11.6'\": 1, \"'15.3'\": 1, \"'30.5'\": 1, \"'7.1'\": 1, \"'9.6'\": 1, \"'17.1'\": 1, \"'9.8'\": 1, \"'18.5'\": 1, \"'6.2'\": 1, \"'12.5'\": 1, \"'-1.3'\": 1, \"'27.4'\": 1, \"'23.1'\": 1, \"'28.9'\": 1, \"'41.7'\": 1, \"'49.3'\": 1, \"'37.7'\": 1, \"'64.4'\": 1, \"'61.2'\": 1, \"'46.9'\": 1})\n",
            "Column -- maximum_humidity\n",
            "=========================\n",
            "Counter({\"'92.0'\": 196, \"'93.0'\": 178, \"'89.0'\": 166, \"'91.0'\": 163, \"'86.0'\": 150, \"'90.0'\": 149, \"'94.0'\": 143, \"'88.0'\": 133, \"'87.0'\": 126, \"'85.0'\": 121, \"'80.0'\": 114, \"'84.0'\": 101, \"'83.0'\": 97, \"'76.0'\": 90, \"'82.0'\": 87, \"'81.0'\": 80, \"'79.0'\": 77, \"'78.0'\": 76, \"'77.0'\": 64, \"'73.0'\": 57, \"'75.0'\": 56, \"'69.0'\": 54, \"'95.0'\": 50, \"'68.0'\": 47, \"'60.0'\": 46, \"'74.0'\": 46, \"'64.0'\": 46, \"'72.0'\": 45, \"'70.0'\": 44, \"'54.0'\": 39, \"'41.0'\": 38, \"'71.0'\": 38, \"'56.0'\": 37, \"'51.0'\": 36, \"'50.0'\": 34, \"'63.0'\": 33, \"'67.0'\": 32, \"'47.0'\": 32, \"'57.0'\": 32, \"'65.0'\": 31, \"'62.0'\": 30, \"'61.0'\": 29, \"'58.0'\": 28, \"'45.0'\": 28, \"'43.0'\": 28, \"'44.0'\": 28, \"'8.0'\": 27, \"'66.0'\": 27, \"'52.0'\": 26, \"'46.0'\": 26, \"'59.0'\": 26, \"'55.0'\": 24, \"'48.0'\": 24, \"'49.0'\": 23, \"'42.0'\": 21, \"'53.0'\": 21, \"'35.0'\": 20, \"'28.0'\": 19, \"'38.0'\": 19, \"'96.0'\": 19, \"'5.0'\": 17, \"'40.0'\": 15, \"'39.0'\": 14, \"'36.0'\": 14, \"'4.0'\": 13, \"'31.0'\": 12, \"'32.0'\": 12, \"'27.0'\": 12, \"'37.0'\": 11, \"'34.0'\": 11, \"'6.0'\": 10, \"'24.0'\": 8, \"'97.0'\": 8, \"'7.0'\": 7, \"'2.0'\": 7, \"'23.0'\": 7, \"'30.0'\": 7, \"'29.0'\": 6, \"'33.0'\": 5, \"'22.0'\": 5, \"'25.0'\": 4, \"'9.0'\": 3, \"'21.0'\": 3, \"'100.0'\": 3, \"'3.0'\": 2, \"'15.0'\": 2, \"'26.0'\": 2, \"'18.0'\": 2, \"'1.0'\": 1, \"'19.0'\": 1, \"'20.0'\": 1, \"'14.0'\": 1})\n",
            "Column -- minimum_humidity\n",
            "=========================\n",
            "Counter({\"'27.0'\": 176, \"'15.0'\": 170, \"'16.0'\": 153, \"'20.0'\": 141, \"'17.0'\": 138, \"'19.0'\": 138, \"'11.0'\": 137, \"'22.0'\": 135, \"'12.0'\": 129, \"'13.0'\": 128, \"'23.0'\": 124, \"'14.0'\": 122, \"'24.0'\": 118, \"'21.0'\": 117, \"'10.0'\": 113, \"'18.0'\": 109, \"'28.0'\": 98, \"'26.0'\": 96, \"'25.0'\": 89, \"'31.0'\": 83, \"'9.0'\": 82, \"'32.0'\": 70, \"'34.0'\": 69, \"'30.0'\": 68, \"'33.0'\": 65, \"'35.0'\": 62, \"'8.0'\": 60, \"'36.0'\": 57, \"'7.0'\": 50, \"'29.0'\": 46, \"'40.0'\": 45, \"'41.0'\": 44, \"'38.0'\": 37, \"'6.0'\": 35, \"'37.0'\": 33, \"'39.0'\": 32, \"'44.0'\": 31, \"'43.0'\": 26, \"'45.0'\": 25, \"'47.0'\": 24, \"'51.0'\": 21, \"'46.0'\": 19, \"'42.0'\": 19, \"'50.0'\": 17, \"'49.0'\": 16, \"'54.0'\": 15, \"'56.0'\": 14, \"'62.0'\": 13, \"'55.0'\": 12, \"'69.0'\": 12, \"'61.0'\": 12, \"'67.0'\": 11, \"'70.0'\": 11, \"'76.0'\": 11, \"'5.0'\": 11, \"'63.0'\": 10, \"'65.0'\": 10, \"'72.0'\": 10, \"'66.0'\": 10, \"'60.0'\": 10, \"'52.0'\": 10, \"'48.0'\": 10, \"'57.0'\": 9, \"'77.0'\": 9, \"'59.0'\": 9, \"'58.0'\": 9, \"'64.0'\": 9, \"'53.0'\": 8, \"'68.0'\": 8, \"'73.0'\": 7, \"'71.0'\": 7, \"'83.0'\": 7, \"'75.0'\": 7, \"'78.0'\": 6, \"'81.0'\": 6, \"'4.0'\": 5, \"'80.0'\": 5, \"'86.0'\": 5, \"'0.0'\": 5, \"'79.0'\": 4, \"'74.0'\": 4, \"'84.0'\": 4, \"'85.0'\": 3, \"'87.0'\": 2, \"'3.0'\": 2, \"'90.0'\": 1, \"'2.0'\": 1, \"'89.0'\": 1, \"'88.0'\": 1})\n",
            "Column -- maximum_pressure\n",
            "=========================\n",
            "Counter({\"'29.947'\": 14, \"'30.023'\": 13, \"'30.015'\": 13, \"'29.903'\": 13, \"'29.941'\": 13, \"'29.807'\": 12, \"'29.893'\": 11, \"'29.865'\": 11, \"'30.08'\": 11, \"'29.985'\": 11, \"'30.094'\": 11, \"'29.967'\": 11, \"'29.942'\": 11, \"'29.784'\": 11, \"'30.143'\": 10, \"'30.034'\": 10, \"'29.997'\": 10, \"'29.938'\": 10, \"'30.112'\": 10, \"'29.829'\": 10, \"'29.996'\": 10, \"'29.946'\": 10, \"'29.937'\": 10, \"'30.158'\": 10, \"'30.175'\": 10, \"'29.867'\": 10, \"'30.184'\": 10, \"'29.87'\": 10, \"'29.887'\": 9, \"'29.913'\": 9, \"'29.909'\": 9, \"'29.995'\": 9, \"'30.029'\": 9, \"'29.982'\": 9, \"'30.114'\": 9, \"'30.048'\": 9, \"'29.981'\": 9, \"'29.908'\": 9, \"'29.958'\": 9, \"'30.016'\": 9, \"'29.972'\": 9, \"'30.075'\": 9, \"'29.787'\": 9, \"'30.107'\": 9, \"'29.969'\": 9, \"'29.986'\": 9, \"'30.083'\": 9, \"'29.826'\": 9, \"'29.902'\": 9, \"'29.884'\": 9, \"'30.089'\": 9, \"'29.975'\": 9, \"'29.873'\": 9, \"'29.991'\": 9, \"'29.814'\": 9, \"'30.005'\": 9, \"'29.918'\": 9, \"'30.151'\": 9, \"'30.044'\": 9, \"'30.232'\": 8, \"'30.138'\": 8, \"'29.812'\": 8, \"'30.252'\": 8, \"'29.874'\": 8, \"'29.923'\": 8, \"'30.13'\": 8, \"'30.221'\": 8, \"'30.145'\": 8, \"'29.95'\": 8, \"'30.088'\": 8, \"'30.014'\": 8, \"'29.78'\": 8, \"'29.948'\": 8, \"'30.115'\": 8, \"'29.966'\": 8, \"'30.153'\": 8, \"'29.968'\": 8, \"'30.242'\": 8, \"'30.013'\": 8, \"'30.148'\": 8, \"'29.914'\": 8, \"'29.825'\": 8, \"'30.167'\": 8, \"'29.838'\": 8, \"'29.917'\": 8, \"'29.896'\": 8, \"'29.843'\": 8, \"'29.956'\": 8, \"'29.786'\": 8, \"'30.046'\": 8, \"'30.15'\": 8, \"'30.045'\": 8, \"'29.998'\": 8, \"'30.024'\": 8, \"'29.81'\": 8, \"'29.921'\": 8, \"'29.752'\": 8, \"'29.945'\": 8, \"'29.788'\": 8, \"'29.891'\": 8, \"'30.0'\": 8, \"'30.121'\": 8, \"'30.096'\": 8, \"'30.025'\": 8, \"'29.879'\": 7, \"'29.86'\": 7, \"'30.136'\": 7, \"'30.166'\": 7, \"'30.127'\": 7, \"'29.925'\": 7, \"'29.983'\": 7, \"'30.022'\": 7, \"'29.864'\": 7, \"'29.831'\": 7, \"'29.895'\": 7, \"'29.944'\": 7, \"'30.001'\": 7, \"'29.881'\": 7, \"'29.834'\": 7, \"'30.109'\": 7, \"'30.031'\": 7, \"'30.063'\": 7, \"'29.919'\": 7, \"'30.028'\": 7, \"'30.123'\": 7, \"'30.067'\": 7, \"'29.934'\": 7, \"'29.791'\": 7, \"'30.194'\": 7, \"'29.842'\": 7, \"'30.039'\": 7, \"'30.068'\": 7, \"'29.88'\": 7, \"'30.27'\": 7, \"'30.226'\": 7, \"'30.173'\": 7, \"'30.122'\": 7, \"'30.116'\": 7, \"'30.06'\": 7, \"'29.9'\": 7, \"'30.135'\": 7, \"'29.939'\": 7, \"'30.1'\": 7, \"'29.943'\": 7, \"'29.72'\": 7, \"'29.827'\": 7, \"'29.774'\": 7, \"'30.108'\": 7, \"'29.799'\": 7, \"'30.042'\": 7, \"'29.793'\": 7, \"'29.97'\": 7, \"'30.051'\": 7, \"'30.033'\": 7, \"'29.767'\": 7, \"'29.92'\": 7, \"'30.368'\": 7, \"'30.248'\": 7, \"'30.065'\": 7, \"'30.264'\": 7, \"'29.777'\": 7, \"'29.794'\": 7, \"'30.004'\": 7, \"'30.219'\": 7, \"'29.904'\": 7, \"'29.836'\": 7, \"'30.006'\": 7, \"'29.669'\": 6, \"'30.233'\": 6, \"'29.883'\": 6, \"'30.271'\": 6, \"'30.425'\": 6, \"'29.911'\": 6, \"'30.45'\": 6, \"'30.258'\": 6, \"'29.957'\": 6, \"'29.844'\": 6, \"'30.076'\": 6, \"'29.743'\": 6, \"'29.775'\": 6, \"'29.977'\": 6, \"'30.093'\": 6, \"'30.139'\": 6, \"'29.856'\": 6, \"'29.907'\": 6, \"'30.172'\": 6, \"'29.885'\": 6, \"'29.745'\": 6, \"'30.193'\": 6, \"'29.871'\": 6, \"'29.82'\": 6, \"'29.93'\": 6, \"'30.078'\": 6, \"'30.081'\": 6, \"'29.988'\": 6, \"'30.2'\": 6, \"'30.22'\": 6, \"'30.292'\": 6, \"'30.177'\": 6, \"'30.008'\": 6, \"'30.144'\": 6, \"'29.798'\": 6, \"'30.125'\": 6, \"'30.102'\": 6, \"'30.33'\": 6, \"'29.949'\": 6, \"'29.951'\": 6, \"'30.298'\": 6, \"'29.963'\": 6, \"'30.253'\": 6, \"'29.846'\": 6, \"'30.229'\": 6, \"'29.98'\": 6, \"'29.849'\": 6, \"'29.803'\": 6, \"'29.994'\": 6, \"'29.965'\": 6, \"'29.91'\": 6, \"'30.259'\": 6, \"'29.731'\": 6, \"'30.064'\": 6, \"'29.935'\": 6, \"'29.795'\": 6, \"'30.309'\": 6, \"'29.801'\": 6, \"'30.126'\": 6, \"'29.747'\": 6, \"'29.733'\": 6, \"'29.894'\": 6, \"'30.061'\": 6, \"'29.984'\": 6, \"'30.215'\": 6, \"'29.959'\": 6, \"'29.926'\": 6, \"'30.146'\": 6, \"'30.137'\": 6, \"'30.04'\": 6, \"'30.455'\": 6, \"'29.915'\": 6, \"'30.095'\": 6, \"'29.734'\": 6, \"'29.875'\": 6, \"'29.704'\": 6, \"'30.214'\": 6, \"'30.245'\": 6, \"'29.868'\": 6, \"'29.954'\": 6, \"'29.962'\": 6, \"'29.815'\": 6, \"'29.858'\": 6, \"'30.392'\": 5, \"'30.238'\": 5, \"'29.989'\": 5, \"'30.312'\": 5, \"'29.898'\": 5, \"'29.961'\": 5, \"'29.878'\": 5, \"'29.952'\": 5, \"'30.378'\": 5, \"'29.754'\": 5, \"'30.017'\": 5, \"'30.049'\": 5, \"'30.195'\": 5, \"'29.882'\": 5, \"'30.154'\": 5, \"'29.681'\": 5, \"'30.007'\": 5, \"'29.739'\": 5, \"'29.819'\": 5, \"'29.927'\": 5, \"'30.011'\": 5, \"'30.119'\": 5, \"'29.876'\": 5, \"'29.783'\": 5, \"'30.152'\": 5, \"'29.936'\": 5, \"'29.857'\": 5, \"'30.101'\": 5, \"'30.284'\": 5, \"'30.085'\": 5, \"'30.03'\": 5, \"'30.069'\": 5, \"'30.398'\": 5, \"'30.019'\": 5, \"'30.043'\": 5, \"'30.493'\": 5, \"'30.373'\": 5, \"'30.318'\": 5, \"'30.187'\": 5, \"'30.336'\": 5, \"'29.726'\": 5, \"'30.084'\": 5, \"'29.855'\": 5, \"'30.07'\": 5, \"'29.828'\": 5, \"'29.897'\": 5, \"'29.916'\": 5, \"'29.658'\": 5, \"'29.978'\": 5, \"'30.036'\": 5, \"'29.837'\": 5, \"'30.05'\": 5, \"'29.77'\": 5, \"'29.877'\": 5, \"'30.282'\": 5, \"'29.866'\": 5, \"'30.527'\": 5, \"'30.183'\": 5, \"'30.465'\": 5, \"'30.382'\": 5, \"'30.317'\": 5, \"'30.204'\": 5, \"'30.01'\": 5, \"'30.197'\": 5, \"'30.147'\": 5, \"'30.351'\": 5, \"'29.691'\": 5, \"'29.769'\": 5, \"'29.888'\": 5, \"'29.756'\": 5, \"'29.822'\": 5, \"'29.818'\": 5, \"'30.342'\": 5, \"'30.327'\": 5, \"'30.176'\": 5, \"'29.841'\": 5, \"'29.872'\": 5, \"'30.383'\": 5, \"'29.94'\": 5, \"'30.319'\": 5, \"'30.032'\": 5, \"'29.778'\": 5, \"'29.753'\": 5, \"'29.979'\": 5, \"'29.924'\": 5, \"'29.808'\": 5, \"'30.179'\": 5, \"'30.002'\": 5, \"'30.417'\": 5, \"'30.128'\": 5, \"'29.922'\": 5, \"'29.679'\": 5, \"'29.821'\": 5, \"'29.974'\": 5, \"'30.159'\": 5, \"'29.99'\": 5, \"'30.168'\": 5, \"'29.75'\": 5, \"'29.746'\": 5, \"'29.892'\": 5, \"'30.207'\": 5, \"'29.792'\": 5, \"'29.809'\": 5, \"'29.993'\": 5, \"'29.762'\": 4, \"'30.34'\": 4, \"'30.25'\": 4, \"'30.3'\": 4, \"'30.105'\": 4, \"'29.572'\": 4, \"'30.354'\": 4, \"'30.348'\": 4, \"'30.281'\": 4, \"'30.059'\": 4, \"'30.261'\": 4, \"'30.066'\": 4, \"'29.616'\": 4, \"'30.302'\": 4, \"'29.905'\": 4, \"'30.072'\": 4, \"'30.355'\": 4, \"'29.992'\": 4, \"'30.157'\": 4, \"'30.052'\": 4, \"'29.835'\": 4, \"'30.246'\": 4, \"'30.239'\": 4, \"'29.964'\": 4, \"'29.763'\": 4, \"'30.117'\": 4, \"'30.244'\": 4, \"'29.89'\": 4, \"'30.09'\": 4, \"'29.768'\": 4, \"'29.971'\": 4, \"'30.047'\": 4, \"'29.771'\": 4, \"'30.256'\": 4, \"'30.092'\": 4, \"'30.466'\": 4, \"'29.854'\": 4, \"'30.16'\": 4, \"'30.558'\": 4, \"'30.371'\": 4, \"'30.506'\": 4, \"'30.427'\": 4, \"'30.278'\": 4, \"'30.419'\": 4, \"'30.12'\": 4, \"'30.035'\": 4, \"'30.206'\": 4, \"'29.8'\": 4, \"'30.249'\": 4, \"'30.332'\": 4, \"'29.744'\": 4, \"'29.751'\": 4, \"'30.171'\": 4, \"'30.339'\": 4, \"'29.76'\": 4, \"'30.091'\": 4, \"'29.685'\": 4, \"'30.082'\": 4, \"'30.228'\": 4, \"'30.106'\": 4, \"'30.557'\": 4, \"'29.851'\": 4, \"'30.149'\": 4, \"'29.748'\": 4, \"'30.169'\": 4, \"'30.097'\": 4, \"'30.287'\": 4, \"'30.132'\": 4, \"'30.461'\": 4, \"'30.087'\": 4, \"'29.719'\": 4, \"'30.027'\": 4, \"'30.224'\": 4, \"'29.806'\": 4, \"'29.705'\": 4, \"'29.667'\": 4, \"'30.037'\": 4, \"'29.71'\": 4, \"'29.641'\": 4, \"'29.79'\": 4, \"'29.848'\": 4, \"'29.912'\": 4, \"'29.813'\": 4, \"'29.833'\": 4, \"'29.932'\": 4, \"'30.456'\": 4, \"'30.054'\": 4, \"'30.199'\": 4, \"'29.715'\": 4, \"'30.086'\": 4, \"'30.156'\": 4, \"'29.863'\": 4, \"'29.776'\": 4, \"'30.077'\": 4, \"'29.839'\": 4, \"'30.262'\": 4, \"'30.223'\": 4, \"'30.212'\": 4, \"'30.414'\": 4, \"'29.861'\": 4, \"'30.554'\": 4, \"'30.377'\": 4, \"'30.346'\": 4, \"'30.074'\": 4, \"'29.697'\": 4, \"'30.099'\": 4, \"'29.738'\": 4, \"'30.301'\": 4, \"'29.886'\": 4, \"'29.74'\": 4, \"'30.266'\": 4, \"'30.041'\": 4, \"'30.231'\": 4, \"'30.192'\": 4, \"'30.141'\": 4, \"'29.656'\": 4, \"'29.859'\": 4, \"'30.056'\": 4, \"'30.331'\": 4, \"'30.038'\": 4, \"'29.663'\": 4, \"'30.203'\": 4, \"'29.757'\": 4, \"'30.267'\": 4, \"'30.018'\": 4, \"'29.976'\": 4, \"'30.026'\": 4, \"'29.85'\": 4, \"'30.566'\": 3, \"'30.435'\": 3, \"'30.276'\": 3, \"'30.163'\": 3, \"'30.286'\": 3, \"'29.955'\": 3, \"'30.347'\": 3, \"'30.113'\": 3, \"'30.165'\": 3, \"'30.6'\": 3, \"'30.142'\": 3, \"'30.196'\": 3, \"'30.211'\": 3, \"'29.931'\": 3, \"'29.686'\": 3, \"'30.269'\": 3, \"'30.376'\": 3, \"'30.164'\": 3, \"'30.181'\": 3, \"'30.295'\": 3, \"'29.678'\": 3, \"'30.225'\": 3, \"'30.409'\": 3, \"'30.236'\": 3, \"'30.49'\": 3, \"'30.384'\": 3, \"'30.31'\": 3, \"'30.403'\": 3, \"'30.255'\": 3, \"'30.353'\": 3, \"'30.198'\": 3, \"'30.443'\": 3, \"'30.375'\": 3, \"'29.741'\": 3, \"'30.304'\": 3, \"'30.235'\": 3, \"'30.103'\": 3, \"'30.134'\": 3, \"'30.012'\": 3, \"'30.131'\": 3, \"'29.933'\": 3, \"'29.832'\": 3, \"'29.781'\": 3, \"'30.062'\": 3, \"'30.356'\": 3, \"'29.642'\": 3, \"'29.929'\": 3, \"'30.053'\": 3, \"'30.285'\": 3, \"'29.652'\": 3, \"'30.129'\": 3, \"'29.554'\": 3, \"'30.38'\": 3, \"'30.367'\": 3, \"'30.406'\": 3, \"'30.191'\": 3, \"'30.305'\": 3, \"'30.201'\": 3, \"'30.546'\": 3, \"'30.162'\": 3, \"'30.057'\": 3, \"'29.708'\": 3, \"'29.847'\": 3, \"'29.84'\": 3, \"'29.699'\": 3, \"'29.853'\": 3, \"'30.359'\": 3, \"'30.104'\": 3, \"'30.272'\": 3, \"'30.492'\": 3, \"'30.459'\": 3, \"'30.294'\": 3, \"'30.35'\": 3, \"'30.306'\": 3, \"'30.26'\": 3, \"'29.535'\": 3, \"'29.761'\": 3, \"'30.322'\": 3, \"'29.643'\": 3, \"'30.313'\": 3, \"'29.713'\": 3, \"'29.696'\": 3, \"'30.188'\": 3, \"'29.653'\": 3, \"'30.349'\": 3, \"'30.133'\": 3, \"'30.362'\": 3, \"'30.498'\": 3, \"'30.58'\": 3, \"'30.515'\": 3, \"'29.901'\": 3, \"'30.399'\": 3, \"'30.217'\": 3, \"'30.366'\": 3, \"'29.687'\": 3, \"'30.275'\": 3, \"'29.674'\": 3, \"'29.648'\": 3, \"'29.701'\": 3, \"'30.243'\": 3, \"'30.003'\": 3, \"'30.23'\": 3, \"'30.496'\": 3, \"'30.277'\": 3, \"'30.379'\": 3, \"'30.307'\": 3, \"'30.29'\": 3, \"'29.688'\": 3, \"'30.021'\": 3, \"'29.987'\": 3, \"'29.999'\": 3, \"'30.058'\": 3, \"'30.213'\": 3, \"'30.464'\": 3, \"'30.308'\": 3, \"'29.758'\": 3, \"'29.626'\": 3, \"'29.717'\": 3, \"'29.899'\": 3, \"'29.666'\": 3, \"'29.796'\": 3, \"'29.96'\": 3, \"'30.389'\": 3, \"'30.321'\": 3, \"'29.824'\": 3, \"'29.695'\": 3, \"'29.785'\": 3, \"'30.446'\": 2, \"'30.489'\": 2, \"'30.405'\": 2, \"'30.432'\": 2, \"'30.333'\": 2, \"'30.535'\": 2, \"'30.619'\": 2, \"'30.408'\": 2, \"'30.24'\": 2, \"'30.265'\": 2, \"'30.475'\": 2, \"'30.345'\": 2, \"'30.412'\": 2, \"'30.651'\": 2, \"'29.682'\": 2, \"'30.186'\": 2, \"'29.69'\": 2, \"'29.804'\": 2, \"'30.227'\": 2, \"'30.178'\": 2, \"'30.37'\": 2, \"'30.055'\": 2, \"'30.161'\": 2, \"'30.429'\": 2, \"'30.17'\": 2, \"'30.513'\": 2, \"'30.549'\": 2, \"'30.585'\": 2, \"'30.174'\": 2, \"'29.765'\": 2, \"'29.649'\": 2, \"'30.079'\": 2, \"'30.671'\": 2, \"'30.372'\": 2, \"'30.387'\": 2, \"'30.18'\": 2, \"'30.618'\": 2, \"'29.953'\": 2, \"'30.314'\": 2, \"'30.358'\": 2, \"'30.32'\": 2, \"'29.735'\": 2, \"'29.597'\": 2, \"'29.677'\": 2, \"'29.598'\": 2, \"'30.189'\": 2, \"'30.676'\": 2, \"'30.482'\": 2, \"'30.679'\": 2, \"'30.431'\": 2, \"'30.43'\": 2, \"'29.592'\": 2, \"'30.723'\": 2, \"'30.59'\": 2, \"'30.615'\": 2, \"'29.725'\": 2, \"'30.073'\": 2, \"'30.218'\": 2, \"'29.634'\": 2, \"'29.62'\": 2, \"'29.789'\": 2, \"'29.646'\": 2, \"'29.655'\": 2, \"'29.716'\": 2, \"'29.723'\": 2, \"'29.6'\": 2, \"'30.182'\": 2, \"'30.61'\": 2, \"'30.678'\": 2, \"'29.603'\": 2, \"'29.772'\": 2, \"'29.973'\": 2, \"'30.357'\": 2, \"'30.299'\": 2, \"'30.656'\": 2, \"'29.928'\": 2, \"'29.862'\": 2, \"'30.28'\": 2, \"'29.59'\": 2, \"'29.662'\": 2, \"'29.845'\": 2, \"'29.779'\": 2, \"'29.683'\": 2, \"'29.56'\": 2, \"'29.707'\": 2, \"'30.41'\": 2, \"'30.241'\": 2, \"'30.418'\": 2, \"'29.718'\": 2, \"'30.485'\": 2, \"'30.222'\": 2, \"'30.523'\": 2, \"'30.289'\": 2, \"'30.644'\": 2, \"'30.525'\": 2, \"'30.46'\": 2, \"'30.124'\": 2, \"'30.325'\": 2, \"'30.202'\": 2, \"'30.584'\": 2, \"'30.39'\": 2, \"'29.633'\": 2, \"'29.645'\": 2, \"'29.83'\": 2, \"'30.251'\": 2, \"'29.816'\": 2, \"'29.66'\": 2, \"'30.458'\": 2, \"'30.216'\": 2, \"'30.469'\": 2, \"'30.397'\": 2, \"'30.453'\": 2, \"'29.869'\": 2, \"'30.396'\": 2, \"'30.48'\": 2, \"'30.541'\": 2, \"'29.676'\": 2, \"'29.692'\": 2, \"'29.782'\": 2, \"'30.234'\": 2, \"'29.729'\": 2, \"'30.44'\": 2, \"'30.653'\": 2, \"'29.617'\": 2, \"'30.452'\": 2, \"'30.296'\": 2, \"'30.451'\": 2, \"'30.208'\": 2, \"'30.437'\": 2, \"'30.518'\": 2, \"'29.764'\": 2, \"'29.852'\": 2, \"'29.736'\": 2, \"'29.706'\": 2, \"'30.589'\": 2, \"'30.316'\": 2, \"'30.21'\": 2, \"'30.468'\": 2, \"'30.407'\": 2, \"'30.445'\": 2, \"'30.416'\": 2, \"'29.727'\": 2, \"'29.724'\": 2, \"'29.714'\": 2, \"'30.442'\": 2, \"'29.57'\": 2, \"'29.629'\": 2, \"'30.361'\": 2, \"'29.7'\": 2, \"'30.268'\": 2, \"'30.638'\": 2, \"'30.449'\": 2, \"'29.607'\": 2, \"'29.483'\": 2, \"'29.613'\": 2, \"'29.694'\": 2, \"'29.693'\": 2, \"'29.712'\": 2, \"'30.344'\": 2, \"'30.19'\": 2, \"'30.118'\": 2, \"'29.651'\": 2, \"'29.802'\": 2, \"'30.575'\": 2, \"'29.766'\": 2, \"'29.614'\": 2, \"'30.502'\": 2, \"'29.608'\": 2, \"'30.421'\": 1, \"'30.524'\": 1, \"'30.607'\": 1, \"'30.473'\": 1, \"'30.436'\": 1, \"'30.629'\": 1, \"'30.534'\": 1, \"'30.433'\": 1, \"'30.553'\": 1, \"'29.637'\": 1, \"'29.594'\": 1, \"'29.711'\": 1, \"'30.263'\": 1, \"'30.563'\": 1, \"'30.009'\": 1, \"'30.51'\": 1, \"'30.438'\": 1, \"'30.548'\": 1, \"'29.661'\": 1, \"'30.625'\": 1, \"'30.779'\": 1, \"'30.666'\": 1, \"'30.868'\": 1, \"'30.743'\": 1, \"'30.789'\": 1, \"'30.14'\": 1, \"'29.444'\": 1, \"'30.424'\": 1, \"'30.613'\": 1, \"'30.672'\": 1, \"'30.283'\": 1, \"'30.624'\": 1, \"'30.597'\": 1, \"'30.826'\": 1, \"'30.303'\": 1, \"'29.529'\": 1, \"'29.624'\": 1, \"'29.588'\": 1, \"'29.394'\": 1, \"'29.518'\": 1, \"'29.417'\": 1, \"'29.73'\": 1, \"'29.797'\": 1, \"'29.773'\": 1, \"'29.538'\": 1, \"'29.68'\": 1, \"'30.257'\": 1, \"'30.483'\": 1, \"'30.569'\": 1, \"'30.556'\": 1, \"'30.487'\": 1, \"'30.329'\": 1, \"'30.598'\": 1, \"'30.719'\": 1, \"'30.733'\": 1, \"'30.704'\": 1, \"'30.593'\": 1, \"'31.061'\": 1, \"'31.204'\": 1, \"'30.952'\": 1, \"'30.526'\": 1, \"'30.805'\": 1, \"'30.978'\": 1, \"'30.293'\": 1, \"'30.337'\": 1, \"'29.382'\": 1, \"'29.504'\": 1, \"'29.609'\": 1, \"'29.585'\": 1, \"'30.537'\": 1, \"'30.521'\": 1, \"'29.581'\": 1, \"'29.665'\": 1, \"'30.76'\": 1, \"'30.955'\": 1, \"'30.881'\": 1, \"'30.886'\": 1, \"'30.642'\": 1, \"'30.846'\": 1, \"'30.7'\": 1, \"'30.404'\": 1, \"'29.596'\": 1, \"'30.729'\": 1, \"'29.362'\": 1, \"'29.625'\": 1, \"'30.343'\": 1, \"'29.545'\": 1, \"'29.338'\": 1, \"'29.413'\": 1, \"'29.355'\": 1, \"'29.755'\": 1, \"'30.463'\": 1, \"'30.324'\": 1, \"'30.583'\": 1, \"'30.205'\": 1, \"'30.539'\": 1, \"'30.511'\": 1, \"'30.536'\": 1, \"'30.787'\": 1, \"'30.742'\": 1, \"'30.517'\": 1, \"'30.441'\": 1, \"'30.481'\": 1, \"'30.209'\": 1, \"'30.774'\": 1, \"'29.636'\": 1, \"'30.857'\": 1, \"'30.912'\": 1, \"'30.759'\": 1, \"'29.817'\": 1, \"'30.693'\": 1, \"'30.338'\": 1, \"'30.388'\": 1, \"'30.78'\": 1, \"'30.888'\": 1, \"'30.616'\": 1, \"'29.639'\": 1, \"'29.501'\": 1, \"'29.536'\": 1, \"'29.514'\": 1, \"'30.457'\": 1, \"'29.628'\": 1, \"'29.52'\": 1, \"'29.732'\": 1, \"'30.279'\": 1, \"'30.447'\": 1, \"'31.032'\": 1, \"'31.048'\": 1, \"'30.635'\": 1, \"'30.753'\": 1, \"'31.107'\": 1, \"'31.135'\": 1, \"'30.606'\": 1, \"'30.364'\": 1, \"'30.735'\": 1, \"'30.415'\": 1, \"'30.833'\": 1, \"'30.47'\": 1, \"'30.768'\": 1, \"'30.754'\": 1, \"'30.587'\": 1, \"'30.352'\": 1, \"'30.428'\": 1, \"'30.365'\": 1, \"'29.599'\": 1, \"'29.627'\": 1, \"'29.889'\": 1, \"'29.759'\": 1, \"'30.636'\": 1, \"'30.762'\": 1, \"'30.562'\": 1, \"'30.617'\": 1, \"'29.589'\": 1, \"'29.55'\": 1, \"'30.907'\": 1, \"'31.017'\": 1, \"'30.909'\": 1, \"'31.021'\": 1, \"'30.832'\": 1, \"'30.111'\": 1, \"'30.688'\": 1, \"'29.48'\": 1, \"'30.247'\": 1, \"'30.439'\": 1, \"'30.66'\": 1, \"'30.715'\": 1, \"'30.559'\": 1, \"'29.605'\": 1, \"'30.185'\": 1, \"'30.071'\": 1, \"'29.527'\": 1, \"'30.155'\": 1, \"'30.874'\": 1, \"'31.079'\": 1, \"'30.503'\": 1, \"'30.341'\": 1, \"'30.725'\": 1, \"'30.579'\": 1, \"'29.671'\": 1, \"'29.447'\": 1, \"'30.479'\": 1, \"'29.749'\": 1, \"'30.401'\": 1, \"'29.552'\": 1, \"'30.098'\": 1, \"'29.521'\": 1, \"'29.702'\": 1, \"'29.47'\": 1, \"'29.664'\": 1, \"'29.375'\": 1, \"'29.728'\": 1, \"'29.498'\": 1, \"'30.491'\": 1, \"'30.627'\": 1, \"'29.411'\": 1, \"'30.374'\": 1, \"'30.596'\": 1, \"'30.334'\": 1, \"'30.822'\": 1, \"'30.979'\": 1, \"'30.237'\": 1, \"'29.378'\": 1, \"'30.11'\": 1, \"'29.465'\": 1, \"'29.567'\": 1, \"'29.519'\": 1, \"'29.441'\": 1, \"'29.469'\": 1, \"'29.458'\": 1, \"'29.475'\": 1, \"'30.02'\": 1, \"'29.569'\": 1, \"'29.5'\": 1, \"'29.595'\": 1, \"'29.906'\": 1, \"'30.567'\": 1, \"'30.811'\": 1, \"'30.577'\": 1, \"'30.57'\": 1, \"'30.545'\": 1, \"'30.746'\": 1, \"'30.426'\": 1, \"'29.722'\": 1, \"'30.462'\": 1, \"'29.721'\": 1, \"'30.326'\": 1, \"'30.411'\": 1, \"'30.52'\": 1, \"'29.64'\": 1, \"'30.633'\": 1, \"'29.615'\": 1, \"'29.503'\": 1, \"'29.496'\": 1, \"'29.638'\": 1, \"'30.274'\": 1, \"'29.673'\": 1, \"'29.698'\": 1, \"'29.511'\": 1, \"'29.632'\": 1, \"'29.531'\": 1, \"'29.622'\": 1, \"'29.63'\": 1, \"'29.805'\": 1, \"'29.611'\": 1, \"'29.602'\": 1, \"'29.513'\": 1, \"'29.507'\": 1, \"'30.363'\": 1, \"'30.486'\": 1, \"'30.519'\": 1, \"'29.555'\": 1, \"'30.471'\": 1, \"'30.561'\": 1, \"'30.297'\": 1, \"'30.661'\": 1, \"'30.848'\": 1, \"'30.509'\": 1, \"'29.541'\": 1, \"'29.606'\": 1, \"'29.566'\": 1, \"'30.386'\": 1, \"'29.551'\": 1, \"'29.506'\": 1, \"'29.418'\": 1, \"'29.517'\": 1, \"'29.406'\": 1, \"'29.351'\": 1, \"'29.575'\": 1, \"'29.65'\": 1, \"'29.668'\": 1})\n",
            "Column -- minimum_pressure\n",
            "=========================\n",
            "Counter({\"'29.751'\": 16, \"'29.661'\": 15, \"'29.67'\": 15, \"'29.594'\": 13, \"'29.689'\": 12, \"'29.633'\": 12, \"'29.658'\": 11, \"'29.66'\": 11, \"'29.697'\": 11, \"'29.768'\": 11, \"'29.817'\": 11, \"'29.744'\": 11, \"'29.587'\": 11, \"'29.788'\": 11, \"'29.591'\": 11, \"'29.741'\": 11, \"'29.742'\": 11, \"'29.745'\": 11, \"'29.73'\": 10, \"'29.753'\": 10, \"'29.626'\": 10, \"'29.72'\": 10, \"'29.687'\": 10, \"'29.759'\": 10, \"'29.641'\": 10, \"'29.644'\": 10, \"'29.707'\": 10, \"'29.699'\": 10, \"'29.858'\": 10, \"'29.678'\": 10, \"'29.81'\": 10, \"'29.525'\": 10, \"'29.674'\": 10, \"'29.723'\": 10, \"'29.791'\": 10, \"'29.739'\": 10, \"'29.812'\": 10, \"'29.729'\": 10, \"'29.639'\": 10, \"'29.638'\": 10, \"'29.645'\": 10, \"'29.766'\": 10, \"'29.669'\": 10, \"'29.696'\": 10, \"'29.664'\": 10, \"'29.537'\": 9, \"'29.654'\": 9, \"'30.022'\": 9, \"'29.747'\": 9, \"'29.711'\": 9, \"'29.675'\": 9, \"'29.811'\": 9, \"'29.623'\": 9, \"'29.666'\": 9, \"'29.76'\": 9, \"'29.693'\": 9, \"'29.75'\": 9, \"'29.781'\": 9, \"'29.474'\": 9, \"'29.735'\": 9, \"'29.737'\": 9, \"'29.508'\": 9, \"'29.889'\": 9, \"'29.825'\": 9, \"'29.746'\": 9, \"'29.69'\": 9, \"'29.867'\": 9, \"'29.713'\": 9, \"'29.585'\": 9, \"'29.807'\": 9, \"'29.523'\": 9, \"'29.836'\": 9, \"'29.803'\": 9, \"'29.65'\": 9, \"'29.568'\": 8, \"'29.667'\": 8, \"'29.942'\": 8, \"'29.625'\": 8, \"'29.779'\": 8, \"'29.947'\": 8, \"'29.726'\": 8, \"'29.783'\": 8, \"'29.673'\": 8, \"'29.683'\": 8, \"'29.731'\": 8, \"'29.708'\": 8, \"'29.792'\": 8, \"'29.839'\": 8, \"'29.905'\": 8, \"'29.797'\": 8, \"'29.897'\": 8, \"'29.869'\": 8, \"'29.752'\": 8, \"'29.695'\": 8, \"'29.821'\": 8, \"'29.562'\": 8, \"'29.685'\": 8, \"'29.806'\": 8, \"'29.82'\": 8, \"'29.706'\": 8, \"'29.842'\": 8, \"'29.578'\": 8, \"'29.604'\": 8, \"'29.786'\": 8, \"'29.554'\": 8, \"'29.952'\": 8, \"'29.606'\": 8, \"'29.719'\": 8, \"'29.507'\": 8, \"'29.6'\": 8, \"'29.656'\": 8, \"'29.602'\": 7, \"'29.575'\": 7, \"'29.826'\": 7, \"'29.914'\": 7, \"'29.874'\": 7, \"'29.989'\": 7, \"'29.477'\": 7, \"'29.77'\": 7, \"'29.686'\": 7, \"'29.717'\": 7, \"'29.564'\": 7, \"'29.733'\": 7, \"'29.882'\": 7, \"'29.617'\": 7, \"'29.555'\": 7, \"'29.829'\": 7, \"'29.573'\": 7, \"'29.572'\": 7, \"'29.773'\": 7, \"'29.772'\": 7, \"'29.838'\": 7, \"'29.716'\": 7, \"'29.789'\": 7, \"'29.574'\": 7, \"'29.923'\": 7, \"'29.694'\": 7, \"'29.782'\": 7, \"'29.894'\": 7, \"'29.615'\": 7, \"'29.815'\": 7, \"'30.02'\": 7, \"'30.023'\": 7, \"'29.518'\": 7, \"'29.655'\": 7, \"'29.721'\": 7, \"'29.68'\": 7, \"'29.743'\": 7, \"'29.491'\": 7, \"'29.71'\": 7, \"'29.835'\": 7, \"'29.442'\": 7, \"'29.663'\": 7, \"'29.904'\": 7, \"'29.59'\": 7, \"'29.799'\": 7, \"'29.919'\": 7, \"'29.662'\": 7, \"'29.557'\": 7, \"'29.621'\": 7, \"'29.646'\": 7, \"'29.61'\": 7, \"'29.493'\": 7, \"'29.681'\": 7, \"'29.777'\": 7, \"'29.843'\": 7, \"'29.651'\": 7, \"'29.607'\": 7, \"'29.566'\": 7, \"'29.503'\": 7, \"'30.012'\": 6, \"'30.127'\": 6, \"'29.784'\": 6, \"'29.855'\": 6, \"'29.787'\": 6, \"'29.473'\": 6, \"'29.632'\": 6, \"'29.738'\": 6, \"'29.616'\": 6, \"'29.851'\": 6, \"'29.549'\": 6, \"'29.922'\": 6, \"'29.388'\": 6, \"'29.526'\": 6, \"'29.599'\": 6, \"'29.511'\": 6, \"'29.774'\": 6, \"'29.79'\": 6, \"'29.595'\": 6, \"'29.659'\": 6, \"'29.647'\": 6, \"'29.9'\": 6, \"'29.684'\": 6, \"'29.859'\": 6, \"'29.778'\": 6, \"'29.979'\": 6, \"'30.043'\": 6, \"'29.816'\": 6, \"'29.533'\": 6, \"'29.861'\": 6, \"'29.718'\": 6, \"'29.804'\": 6, \"'29.896'\": 6, \"'29.671'\": 6, \"'29.531'\": 6, \"'29.854'\": 6, \"'29.521'\": 6, \"'29.866'\": 6, \"'29.808'\": 6, \"'29.376'\": 6, \"'29.584'\": 6, \"'29.715'\": 6, \"'29.701'\": 6, \"'29.614'\": 6, \"'29.582'\": 6, \"'29.758'\": 6, \"'29.488'\": 6, \"'29.565'\": 6, \"'29.748'\": 6, \"'29.856'\": 6, \"'29.957'\": 6, \"'29.406'\": 6, \"'29.936'\": 6, \"'29.765'\": 6, \"'29.349'\": 6, \"'29.728'\": 6, \"'29.513'\": 6, \"'29.598'\": 6, \"'29.736'\": 6, \"'29.834'\": 6, \"'29.579'\": 6, \"'29.569'\": 6, \"'29.577'\": 6, \"'29.939'\": 6, \"'29.668'\": 6, \"'29.679'\": 6, \"'29.734'\": 6, \"'29.764'\": 6, \"'29.46'\": 6, \"'29.414'\": 6, \"'29.749'\": 6, \"'29.909'\": 6, \"'29.64'\": 6, \"'29.642'\": 6, \"'29.596'\": 5, \"'29.652'\": 5, \"'29.802'\": 5, \"'29.949'\": 5, \"'29.705'\": 5, \"'29.542'\": 5, \"'29.629'\": 5, \"'29.873'\": 5, \"'29.999'\": 5, \"'29.944'\": 5, \"'29.893'\": 5, \"'29.767'\": 5, \"'29.95'\": 5, \"'29.648'\": 5, \"'29.619'\": 5, \"'29.78'\": 5, \"'29.845'\": 5, \"'29.885'\": 5, \"'29.912'\": 5, \"'29.653'\": 5, \"'29.915'\": 5, \"'29.824'\": 5, \"'29.932'\": 5, \"'29.597'\": 5, \"'30.011'\": 5, \"'29.506'\": 5, \"'29.805'\": 5, \"'29.946'\": 5, \"'29.556'\": 5, \"'29.846'\": 5, \"'29.676'\": 5, \"'29.704'\": 5, \"'30.076'\": 5, \"'29.771'\": 5, \"'29.937'\": 5, \"'29.86'\": 5, \"'29.837'\": 5, \"'30.086'\": 5, \"'29.702'\": 5, \"'29.981'\": 5, \"'29.529'\": 5, \"'29.413'\": 5, \"'29.62'\": 5, \"'29.951'\": 5, \"'29.375'\": 5, \"'29.672'\": 5, \"'29.592'\": 5, \"'29.692'\": 5, \"'29.853'\": 5, \"'29.593'\": 5, \"'29.611'\": 5, \"'29.755'\": 5, \"'29.7'\": 5, \"'29.828'\": 5, \"'29.468'\": 5, \"'29.877'\": 5, \"'29.58'\": 5, \"'29.576'\": 5, \"'30.008'\": 5, \"'29.362'\": 5, \"'29.649'\": 5, \"'29.688'\": 5, \"'29.551'\": 5, \"'29.757'\": 5, \"'29.484'\": 5, \"'29.56'\": 5, \"'29.539'\": 5, \"'29.545'\": 5, \"'29.762'\": 5, \"'29.49'\": 5, \"'29.898'\": 5, \"'29.53'\": 5, \"'29.732'\": 5, \"'29.722'\": 5, \"'29.88'\": 5, \"'29.883'\": 5, \"'29.776'\": 5, \"'29.429'\": 5, \"'29.517'\": 5, \"'29.502'\": 5, \"'29.657'\": 5, \"'30.044'\": 5, \"'29.571'\": 5, \"'29.613'\": 5, \"'29.996'\": 5, \"'29.906'\": 5, \"'29.891'\": 5, \"'29.422'\": 5, \"'29.677'\": 5, \"'29.479'\": 5, \"'29.622'\": 5, \"'29.608'\": 5, \"'29.637'\": 4, \"'30.016'\": 4, \"'29.871'\": 4, \"'29.879'\": 4, \"'29.911'\": 4, \"'29.844'\": 4, \"'29.967'\": 4, \"'29.775'\": 4, \"'29.497'\": 4, \"'29.872'\": 4, \"'29.496'\": 4, \"'29.628'\": 4, \"'29.925'\": 4, \"'29.982'\": 4, \"'29.346'\": 4, \"'29.74'\": 4, \"'29.798'\": 4, \"'29.703'\": 4, \"'29.546'\": 4, \"'29.609'\": 4, \"'29.819'\": 4, \"'29.924'\": 4, \"'29.724'\": 4, \"'29.963'\": 4, \"'29.397'\": 4, \"'29.55'\": 4, \"'30.04'\": 4, \"'29.636'\": 4, \"'29.966'\": 4, \"'29.589'\": 4, \"'29.934'\": 4, \"'29.921'\": 4, \"'29.431'\": 4, \"'29.857'\": 4, \"'30.072'\": 4, \"'29.404'\": 4, \"'30.065'\": 4, \"'29.528'\": 4, \"'29.948'\": 4, \"'30.253'\": 4, \"'29.612'\": 4, \"'29.481'\": 4, \"'30.015'\": 4, \"'29.494'\": 4, \"'29.448'\": 4, \"'29.398'\": 4, \"'29.382'\": 4, \"'29.373'\": 4, \"'29.472'\": 4, \"'29.446'\": 4, \"'29.931'\": 4, \"'29.618'\": 4, \"'29.727'\": 4, \"'29.458'\": 4, \"'29.887'\": 4, \"'30.009'\": 4, \"'30.081'\": 4, \"'29.454'\": 4, \"'29.85'\": 4, \"'29.712'\": 4, \"'30.157'\": 4, \"'29.538'\": 4, \"'29.938'\": 4, \"'29.402'\": 4, \"'30.147'\": 4, \"'29.45'\": 4, \"'29.441'\": 4, \"'29.321'\": 4, \"'29.624'\": 4, \"'29.515'\": 4, \"'29.558'\": 4, \"'29.822'\": 4, \"'29.935'\": 4, \"'29.956'\": 4, \"'29.489'\": 4, \"'29.323'\": 4, \"'29.325'\": 4, \"'29.524'\": 4, \"'29.499'\": 4, \"'29.509'\": 4, \"'29.486'\": 4, \"'29.818'\": 4, \"'29.527'\": 4, \"'29.875'\": 4, \"'29.881'\": 4, \"'29.761'\": 4, \"'29.89'\": 4, \"'29.913'\": 4, \"'30.174'\": 4, \"'29.43'\": 4, \"'30.005'\": 4, \"'29.943'\": 4, \"'29.754'\": 4, \"'29.464'\": 4, \"'29.516'\": 4, \"'29.603'\": 4, \"'29.57'\": 4, \"'29.424'\": 4, \"'29.495'\": 4, \"'29.709'\": 4, \"'29.347'\": 4, \"'29.476'\": 4, \"'29.958'\": 4, \"'29.916'\": 4, \"'30.048'\": 4, \"'29.536'\": 4, \"'29.917'\": 4, \"'29.827'\": 4, \"'29.452'\": 4, \"'29.408'\": 4, \"'29.492'\": 4, \"'29.794'\": 4, \"'29.154'\": 4, \"'29.389'\": 4, \"'29.268'\": 3, \"'29.627'\": 3, \"'30.115'\": 3, \"'30.154'\": 3, \"'30.131'\": 3, \"'30.23'\": 3, \"'30.156'\": 3, \"'29.984'\": 3, \"'29.682'\": 3, \"'30.069'\": 3, \"'29.725'\": 3, \"'29.314'\": 3, \"'29.51'\": 3, \"'29.35'\": 3, \"'30.088'\": 3, \"'30.143'\": 3, \"'30.006'\": 3, \"'29.945'\": 3, \"'29.471'\": 3, \"'29.865'\": 3, \"'29.392'\": 3, \"'29.543'\": 3, \"'29.832'\": 3, \"'29.884'\": 3, \"'29.862'\": 3, \"'29.344'\": 3, \"'29.84'\": 3, \"'30.07'\": 3, \"'29.25'\": 3, \"'29.983'\": 3, \"'30.071'\": 3, \"'29.359'\": 3, \"'30.041'\": 3, \"'30.034'\": 3, \"'30.107'\": 3, \"'29.401'\": 3, \"'29.901'\": 3, \"'30.024'\": 3, \"'29.978'\": 3, \"'30.103'\": 3, \"'29.927'\": 3, \"'30.35'\": 3, \"'30.278'\": 3, \"'29.255'\": 3, \"'29.52'\": 3, \"'29.395'\": 3, \"'29.561'\": 3, \"'29.534'\": 3, \"'29.498'\": 3, \"'29.288'\": 3, \"'29.63'\": 3, \"'29.425'\": 3, \"'30.054'\": 3, \"'29.456'\": 3, \"'29.852'\": 3, \"'29.532'\": 3, \"'29.54'\": 3, \"'30.002'\": 3, \"'29.505'\": 3, \"'29.449'\": 3, \"'29.419'\": 3, \"'29.327'\": 3, \"'29.903'\": 3, \"'30.267'\": 3, \"'29.864'\": 3, \"'29.403'\": 3, \"'29.405'\": 3, \"'30.148'\": 3, \"'29.418'\": 3, \"'30.079'\": 3, \"'29.997'\": 3, \"'30.052'\": 3, \"'30.108'\": 3, \"'30.092'\": 3, \"'29.434'\": 3, \"'30.217'\": 3, \"'29.455'\": 3, \"'29.334'\": 3, \"'30.03'\": 3, \"'29.541'\": 3, \"'29.21'\": 3, \"'29.908'\": 3, \"'29.823'\": 3, \"'30.117'\": 3, \"'30.082'\": 3, \"'30.175'\": 3, \"'30.053'\": 3, \"'29.809'\": 3, \"'30.268'\": 3, \"'29.5'\": 3, \"'29.386'\": 3, \"'29.482'\": 3, \"'29.438'\": 3, \"'29.333'\": 3, \"'29.563'\": 3, \"'29.514'\": 3, \"'29.953'\": 3, \"'29.553'\": 3, \"'29.559'\": 3, \"'29.801'\": 3, \"'29.796'\": 3, \"'29.548'\": 3, \"'29.588'\": 3, \"'29.581'\": 3, \"'30.169'\": 3, \"'29.92'\": 3, \"'30.05'\": 3, \"'29.959'\": 3, \"'29.847'\": 3, \"'29.462'\": 3, \"'29.993'\": 3, \"'29.793'\": 3, \"'29.814'\": 3, \"'29.962'\": 3, \"'29.226'\": 3, \"'29.487'\": 3, \"'30.001'\": 3, \"'30.172'\": 3, \"'29.567'\": 3, \"'29.601'\": 3, \"'29.888'\": 3, \"'29.319'\": 3, \"'29.352'\": 3, \"'29.665'\": 3, \"'29.4'\": 3, \"'29.972'\": 3, \"'30.09'\": 3, \"'29.91'\": 3, \"'29.385'\": 3, \"'29.87'\": 3, \"'30.066'\": 3, \"'30.029'\": 3, \"'29.635'\": 3, \"'29.831'\": 3, \"'30.126'\": 3, \"'29.813'\": 3, \"'29.763'\": 3, \"'29.409'\": 3, \"'29.463'\": 3, \"'29.969'\": 3, \"'29.467'\": 3, \"'29.785'\": 3, \"'29.544'\": 3, \"'29.519'\": 3, \"'29.769'\": 3, \"'29.97'\": 3, \"'30.098'\": 3, \"'30.014'\": 3, \"'29.274'\": 3, \"'30.212'\": 3, \"'29.339'\": 3, \"'29.364'\": 3, \"'29.351'\": 3, \"'29.24'\": 3, \"'29.96'\": 3, \"'29.552'\": 3, \"'29.357'\": 3, \"'29.26'\": 2, \"'30.227'\": 2, \"'30.112'\": 2, \"'30.046'\": 2, \"'30.063'\": 2, \"'30.102'\": 2, \"'30.055'\": 2, \"'30.031'\": 2, \"'29.378'\": 2, \"'29.928'\": 2, \"'29.987'\": 2, \"'29.131'\": 2, \"'30.27'\": 2, \"'29.277'\": 2, \"'29.32'\": 2, \"'30.109'\": 2, \"'29.363'\": 2, \"'29.605'\": 2, \"'29.586'\": 2, \"'29.444'\": 2, \"'30.059'\": 2, \"'29.991'\": 2, \"'30.213'\": 2, \"'30.18'\": 2, \"'30.215'\": 2, \"'30.057'\": 2, \"'29.918'\": 2, \"'29.172'\": 2, \"'29.93'\": 2, \"'30.207'\": 2, \"'29.242'\": 2, \"'29.393'\": 2, \"'29.126'\": 2, \"'29.203'\": 2, \"'30.121'\": 2, \"'29.995'\": 2, \"'29.379'\": 2, \"'29.863'\": 2, \"'29.263'\": 2, \"'29.411'\": 2, \"'29.926'\": 2, \"'29.445'\": 2, \"'29.964'\": 2, \"'30.297'\": 2, \"'29.977'\": 2, \"'30.185'\": 2, \"'29.416'\": 2, \"'30.188'\": 2, \"'29.994'\": 2, \"'30.026'\": 2, \"'29.343'\": 2, \"'30.025'\": 2, \"'29.293'\": 2, \"'29.219'\": 2, \"'29.329'\": 2, \"'29.36'\": 2, \"'29.281'\": 2, \"'29.833'\": 2, \"'30.197'\": 2, \"'29.195'\": 2, \"'30.322'\": 2, \"'30.16'\": 2, \"'30.276'\": 2, \"'29.94'\": 2, \"'29.954'\": 2, \"'29.214'\": 2, \"'29.634'\": 2, \"'29.439'\": 2, \"'29.466'\": 2, \"'30.12'\": 2, \"'29.383'\": 2, \"'29.256'\": 2, \"'29.279'\": 2, \"'29.374'\": 2, \"'29.261'\": 2, \"'29.254'\": 2, \"'29.387'\": 2, \"'30.106'\": 2, \"'29.294'\": 2, \"'29.933'\": 2, \"'30.159'\": 2, \"'29.396'\": 2, \"'30.035'\": 2, \"'29.992'\": 2, \"'29.968'\": 2, \"'30.173'\": 2, \"'30.26'\": 2, \"'30.286'\": 2, \"'30.152'\": 2, \"'30.104'\": 2, \"'29.986'\": 2, \"'30.1'\": 2, \"'29.427'\": 2, \"'29.31'\": 2, \"'29.892'\": 2, \"'29.239'\": 2, \"'29.501'\": 2, \"'29.372'\": 2, \"'29.322'\": 2, \"'29.955'\": 2, \"'29.998'\": 2, \"'29.33'\": 2, \"'29.868'\": 2, \"'29.886'\": 2, \"'30.08'\": 2, \"'29.194'\": 2, \"'29.941'\": 2, \"'29.341'\": 2, \"'29.457'\": 2, \"'29.698'\": 2, \"'29.337'\": 2, \"'29.631'\": 2, \"'29.237'\": 2, \"'29.302'\": 2, \"'29.795'\": 2, \"'29.583'\": 2, \"'29.249'\": 2, \"'29.453'\": 2, \"'30.139'\": 2, \"'30.186'\": 2, \"'30.0'\": 2, \"'30.205'\": 2, \"'29.974'\": 2, \"'30.123'\": 2, \"'30.239'\": 2, \"'29.358'\": 2, \"'29.44'\": 2, \"'29.415'\": 2, \"'29.895'\": 2, \"'29.902'\": 2, \"'29.345'\": 2, \"'29.217'\": 2, \"'29.426'\": 2, \"'29.522'\": 2, \"'29.287'\": 2, \"'29.316'\": 2, \"'30.049'\": 2, \"'29.231'\": 2, \"'30.084'\": 2, \"'29.412'\": 2, \"'29.929'\": 2, \"'29.318'\": 2, \"'30.038'\": 2, \"'29.485'\": 2, \"'29.475'\": 2, \"'30.003'\": 2, \"'29.128'\": 2, \"'30.085'\": 2, \"'29.443'\": 2, \"'29.643'\": 2, \"'30.163'\": 2, \"'29.841'\": 2, \"'30.111'\": 2, \"'30.058'\": 2, \"'29.243'\": 2, \"'29.447'\": 2, \"'29.225'\": 2, \"'29.175'\": 2, \"'29.371'\": 2, \"'29.37'\": 2, \"'29.338'\": 2, \"'29.714'\": 2, \"'30.291'\": 1, \"'30.201'\": 1, \"'30.093'\": 1, \"'30.19'\": 1, \"'30.24'\": 1, \"'29.28'\": 1, \"'30.089'\": 1, \"'30.404'\": 1, \"'29.181'\": 1, \"'29.127'\": 1, \"'29.377'\": 1, \"'30.13'\": 1, \"'30.045'\": 1, \"'29.311'\": 1, \"'30.037'\": 1, \"'30.091'\": 1, \"'30.386'\": 1, \"'30.047'\": 1, \"'30.237'\": 1, \"'30.648'\": 1, \"'30.146'\": 1, \"'30.161'\": 1, \"'30.393'\": 1, \"'30.218'\": 1, \"'30.129'\": 1, \"'30.382'\": 1, \"'30.183'\": 1, \"'30.073'\": 1, \"'30.301'\": 1, \"'29.367'\": 1, \"'29.368'\": 1, \"'29.8'\": 1, \"'30.078'\": 1, \"'30.062'\": 1, \"'29.073'\": 1, \"'29.328'\": 1, \"'29.289'\": 1, \"'29.308'\": 1, \"'30.027'\": 1, \"'29.365'\": 1, \"'29.109'\": 1, \"'30.22'\": 1, \"'30.248'\": 1, \"'30.287'\": 1, \"'30.128'\": 1, \"'29.244'\": 1, \"'29.22'\": 1, \"'30.255'\": 1, \"'29.036'\": 1, \"'30.458'\": 1, \"'30.203'\": 1, \"'30.556'\": 1, \"'30.855'\": 1, \"'30.424'\": 1, \"'30.259'\": 1, \"'30.061'\": 1, \"'29.282'\": 1, \"'29.295'\": 1, \"'29.188'\": 1, \"'29.064'\": 1, \"'29.361'\": 1, \"'29.153'\": 1, \"'29.407'\": 1, \"'29.435'\": 1, \"'29.12'\": 1, \"'30.252'\": 1, \"'30.325'\": 1, \"'29.27'\": 1, \"'29.23'\": 1, \"'30.539'\": 1, \"'30.509'\": 1, \"'30.124'\": 1, \"'29.961'\": 1, \"'30.219'\": 1, \"'30.067'\": 1, \"'29.119'\": 1, \"'29.095'\": 1, \"'30.202'\": 1, \"'29.899'\": 1, \"'29.228'\": 1, \"'29.169'\": 1, \"'29.063'\": 1, \"'29.122'\": 1, \"'30.137'\": 1, \"'29.271'\": 1, \"'29.149'\": 1, \"'29.296'\": 1, \"'29.083'\": 1, \"'29.085'\": 1, \"'29.179'\": 1, \"'29.185'\": 1, \"'29.331'\": 1, \"'29.286'\": 1, \"'30.189'\": 1, \"'29.848'\": 1, \"'29.98'\": 1, \"'29.221'\": 1, \"'30.228'\": 1, \"'30.028'\": 1, \"'30.246'\": 1, \"'30.116'\": 1, \"'30.211'\": 1, \"'30.25'\": 1, \"'30.195'\": 1, \"'29.465'\": 1, \"'30.06'\": 1, \"'30.013'\": 1, \"'30.36'\": 1, \"'30.337'\": 1, \"'29.332'\": 1, \"'30.271'\": 1, \"'30.222'\": 1, \"'30.155'\": 1, \"'29.259'\": 1, \"'29.312'\": 1, \"'29.354'\": 1, \"'29.141'\": 1, \"'29.298'\": 1, \"'30.077'\": 1, \"'29.369'\": 1, \"'29.297'\": 1, \"'30.075'\": 1, \"'29.849'\": 1, \"'30.647'\": 1, \"'30.48'\": 1, \"'30.277'\": 1, \"'30.294'\": 1, \"'30.414'\": 1, \"'30.254'\": 1, \"'30.018'\": 1, \"'30.036'\": 1, \"'30.34'\": 1, \"'30.171'\": 1, \"'29.976'\": 1, \"'30.477'\": 1, \"'29.384'\": 1, \"'30.193'\": 1, \"'29.18'\": 1, \"'29.313'\": 1, \"'29.691'\": 1, \"'29.971'\": 1, \"'29.461'\": 1, \"'29.014'\": 1, \"'29.055'\": 1, \"'30.164'\": 1, \"'29.265'\": 1, \"'30.457'\": 1, \"'30.187'\": 1, \"'29.41'\": 1, \"'29.985'\": 1, \"'30.004'\": 1, \"'29.155'\": 1, \"'30.17'\": 1, \"'30.663'\": 1, \"'30.231'\": 1, \"'29.283'\": 1, \"'30.739'\": 1, \"'30.422'\": 1, \"'30.332'\": 1, \"'30.196'\": 1, \"'30.204'\": 1, \"'30.451'\": 1, \"'30.292'\": 1, \"'30.144'\": 1, \"'29.432'\": 1, \"'30.14'\": 1, \"'29.428'\": 1, \"'30.074'\": 1, \"'29.42'\": 1, \"'29.483'\": 1, \"'29.39'\": 1, \"'30.019'\": 1, \"'29.48'\": 1, \"'30.416'\": 1, \"'30.2'\": 1, \"'30.087'\": 1, \"'29.326'\": 1, \"'30.338'\": 1, \"'30.543'\": 1, \"'30.353'\": 1, \"'30.042'\": 1, \"'30.094'\": 1, \"'30.258'\": 1, \"'30.236'\": 1, \"'30.162'\": 1, \"'29.47'\": 1, \"'30.46'\": 1, \"'29.206'\": 1, \"'29.272'\": 1, \"'30.056'\": 1, \"'29.417'\": 1, \"'29.178'\": 1, \"'29.756'\": 1, \"'29.348'\": 1, \"'29.315'\": 1, \"'30.105'\": 1, \"'29.876'\": 1, \"'30.122'\": 1, \"'29.218'\": 1, \"'30.118'\": 1, \"'29.278'\": 1, \"'29.988'\": 1, \"'29.101'\": 1, \"'30.423'\": 1, \"'29.269'\": 1, \"'30.192'\": 1, \"'30.273'\": 1, \"'29.451'\": 1, \"'30.309'\": 1, \"'30.017'\": 1, \"'29.157'\": 1, \"'28.866'\": 1, \"'27.54'\": 1, \"'29.266'\": 1, \"'29.301'\": 1, \"'29.356'\": 1, \"'29.907'\": 1, \"'29.202'\": 1, \"'29.161'\": 1, \"'29.469'\": 1, \"'29.83'\": 1, \"'29.423'\": 1, \"'29.284'\": 1, \"'29.241'\": 1, \"'30.136'\": 1, \"'29.198'\": 1, \"'29.291'\": 1, \"'29.306'\": 1, \"'30.249'\": 1, \"'30.226'\": 1, \"'30.149'\": 1, \"'30.113'\": 1, \"'29.247'\": 1, \"'29.199'\": 1, \"'13.266'\": 1, \"'23.684'\": 1, \"'23.633'\": 1, \"'23.724'\": 1, \"'23.823'\": 1, \"'23.853'\": 1, \"'23.863'\": 1, \"'23.705'\": 1, \"'23.783'\": 1, \"'29.342'\": 1, \"'29.04'\": 1, \"'29.081'\": 1, \"'29.207'\": 1, \"'29.29'\": 1, \"'29.174'\": 1, \"'29.292'\": 1, \"'29.235'\": 1, \"'29.34'\": 1, \"'30.4'\": 1, \"'30.101'\": 1, \"'29.459'\": 1, \"'29.504'\": 1, \"'29.478'\": 1, \"'30.483'\": 1, \"'29.965'\": 1, \"'29.381'\": 1, \"'29.317'\": 1, \"'28.875'\": 1, \"'30.238'\": 1, \"'30.184'\": 1, \"'29.99'\": 1, \"'29.234'\": 1, \"'29.105'\": 1, \"'29.433'\": 1, \"'29.421'\": 1, \"'29.196'\": 1, \"'27.57'\": 1, \"'29.512'\": 1, \"'29.305'\": 1, \"'29.168'\": 1, \"'30.209'\": 1, \"'29.973'\": 1, \"'30.411'\": 1, \"'30.191'\": 1, \"'29.391'\": 1, \"'30.095'\": 1, \"'30.245'\": 1, \"'30.083'\": 1, \"'30.289'\": 1, \"'30.616'\": 1, \"'30.199'\": 1, \"'29.273'\": 1, \"'29.436'\": 1, \"'29.193'\": 1, \"'29.399'\": 1, \"'29.184'\": 1, \"'29.191'\": 1, \"'29.3'\": 1, \"'29.222'\": 1})\n",
            "Column -- maximum_windspeed\n",
            "=========================\n",
            "Counter({\"'18.4'\": 268, \"'17.3'\": 267, \"'19.6'\": 260, \"'20.7'\": 252, \"'16.1'\": 248, \"'13.8'\": 222, \"'15.0'\": 201, \"'11.5'\": 194, \"'12.7'\": 190, \"'21.9'\": 189, \"'23.0'\": 174, \"'24.2'\": 165, \"'25.3'\": 158, \"'10.4'\": 150, \"'26.5'\": 135, \"'27.6'\": 114, \"'29.9'\": 87, \"'28.8'\": 85, \"'9.2'\": 80, \"'8.1'\": 75, \"'31.1'\": 61, \"'0.0'\": 54, \"'34.5'\": 44, \"'6.9'\": 41, \"'32.2'\": 40, \"'33.4'\": 29, \"'35.7'\": 23, \"'38.0'\": 13, \"'36.8'\": 13, \"'5.8'\": 11, \"'4.6'\": 7, \"'2.3'\": 6, \"'3.5'\": 5, \"'39.1'\": 5, \"'170.2'\": 3, \"'135.7'\": 3, \"'41.4'\": 2, \"'40.3'\": 2, \"'169.1'\": 2, \"'42.6'\": 2, \"'43.7'\": 1, \"'95.5'\": 1, \"'156.4'\": 1, \"'172.5'\": 1, \"'116.2'\": 1, \"'115.0'\": 1, \"'120.8'\": 1, \"'105.8'\": 1, \"'126.5'\": 1, \"'131.1'\": 1, \"'133.4'\": 1, \"'132.3'\": 1, \"'48.3'\": 1, \"'47.2'\": 1, \"'171.4'\": 1, \"'176.0'\": 1, \"'159.9'\": 1, \"'181.7'\": 1, \"'51.8'\": 1, \"'55.2'\": 1, \"'81.7'\": 1, \"'50.6'\": 1, \"'1.2'\": 1})\n",
            "Column -- maximum_gust_speed\n",
            "=========================\n",
            "Counter({\"'26.5'\": 285, \"'19.6'\": 260, \"'34.5'\": 190, \"'27.6'\": 155, \"'25.3'\": 138, \"'24.2'\": 134, \"'31.1'\": 133, \"'20.7'\": 127, \"'28.8'\": 124, \"'21.9'\": 119, \"'32.2'\": 115, \"'17.3'\": 113, \"'33.4'\": 113, \"'29.9'\": 110, \"'18.4'\": 109, \"'13.8'\": 92, \"'42.6'\": 88, \"'16.1'\": 87, \"'255.0'\": 82, \"'11.5'\": 81, \"'38.0'\": 80, \"'36.8'\": 76, \"'12.7'\": 75, \"'35.7'\": 73, \"'40.3'\": 66, \"'39.1'\": 58, \"'0.0'\": 50, \"'26.0'\": 46, \"'41.4'\": 43, \"'46.0'\": 37, \"'43.7'\": 32, \"'47.2'\": 28, \"'44.9'\": 28, \"'49.5'\": 26, \"'20.0'\": 25, \"'35.0'\": 23, \"'255.3'\": 22, \"'50.6'\": 20, \"'25.0'\": 19, \"'21.0'\": 19, \"'23.0'\": 18, \"'36.0'\": 17, \"'22.0'\": 16, \"'10.4'\": 16, \"'32.0'\": 15, \"'31.0'\": 15, \"'30.0'\": 14, \"'24.0'\": 14, \"'33.0'\": 13, \"'28.0'\": 13, \"'48.3'\": 13, \"'12.0'\": 12, \"'43.0'\": 11, \"'39.0'\": 11, \"'51.8'\": 11, \"'14.0'\": 10, \"'29.0'\": 10, \"'17.0'\": 10, \"'13.0'\": 9, \"'18.0'\": 9, \"'52.9'\": 8, \"'8.1'\": 8, \"'51.0'\": 7, \"'44.0'\": 7, \"'40.0'\": 7, \"'15.0'\": 7, \"'47.0'\": 6, \"'37.0'\": 6, \"'16.0'\": 6, \"'41.0'\": 6, \"'4.6'\": 6, \"'48.0'\": 5, \"'49.0'\": 5, \"'6.9'\": 5, \"'8.0'\": 4, \"'45.0'\": 4, \"'57.5'\": 4, \"'54.1'\": 4, \"'56.4'\": 4, \"'5.8'\": 3, \"'3.5'\": 3, \"'54.0'\": 2, \"'52.0'\": 2, \"'67.9'\": 2, \"'1.2'\": 2, \"'55.2'\": 2, \"'222.0'\": 2, \"'9.2'\": 2, \"'59.0'\": 1, \"'53.0'\": 1, \"'58.0'\": 1, \"'74.0'\": 1, \"'10.0'\": 1, \"'3.0'\": 1, \"'77.1'\": 1, \"'66.7'\": 1, \"'62.1'\": 1, \"'249.6'\": 1, \"'210.5'\": 1, \"'166.8'\": 1, \"'80.5'\": 1, \"'100.1'\": 1, \"'117.3'\": 1, \"'63.3'\": 1})\n",
            "Column -- maximum_heat_index\n",
            "=========================\n",
            "Counter({\"'79.1'\": 84, \"'77.5'\": 68, \"'77.4'\": 52, \"'79.0'\": 46, \"'77.3'\": 33, \"'32.0'\": 31, \"'77.1'\": 31, \"'78.8'\": 28, \"'78.9'\": 26, \"'78.7'\": 26, \"'77.6'\": 25, \"'79.2'\": 25, \"'78.3'\": 24, \"'78.0'\": 22, \"'78.6'\": 22, \"'80.8'\": 22, \"'77.7'\": 21, \"'78.2'\": 20, \"'78.5'\": 19, \"'77.0'\": 19, \"'78.4'\": 18, \"'77.2'\": 18, \"'55.1'\": 17, \"'76.2'\": 17, \"'79.5'\": 17, \"'53.9'\": 17, \"'75.6'\": 17, \"'79.4'\": 16, \"'77.8'\": 16, \"'50.4'\": 16, \"'44.6'\": 16, \"'45.7'\": 16, \"'52.0'\": 15, \"'38.0'\": 15, \"'46.0'\": 15, \"'53.5'\": 15, \"'79.3'\": 15, \"'46.8'\": 15, \"'44.1'\": 15, \"'76.8'\": 15, \"'80.5'\": 15, \"'76.9'\": 14, \"'45.8'\": 14, \"'52.8'\": 14, \"'79.7'\": 14, \"'79.9'\": 14, \"'43.8'\": 13, \"'75.9'\": 13, \"'59.5'\": 13, \"'59.3'\": 13, \"'41.8'\": 13, \"'49.6'\": 13, \"'43.2'\": 13, \"'57.0'\": 12, \"'47.0'\": 12, \"'58.0'\": 12, \"'49.9'\": 12, \"'50.8'\": 12, \"'74.9'\": 12, \"'55.6'\": 12, \"'63.1'\": 12, \"'81.4'\": 12, \"'46.2'\": 12, \"'52.2'\": 12, \"'54.4'\": 12, \"'51.3'\": 12, \"'54.1'\": 12, \"'37.3'\": 12, \"'48.8'\": 12, \"'57.6'\": 12, \"'49.8'\": 12, \"'75.8'\": 12, \"'76.3'\": 12, \"'64.0'\": 12, \"'76.6'\": 12, \"'51.0'\": 11, \"'61.0'\": 11, \"'34.0'\": 11, \"'55.7'\": 11, \"'64.2'\": 11, \"'39.8'\": 11, \"'48.5'\": 11, \"'43.6'\": 11, \"'60.4'\": 11, \"'78.1'\": 11, \"'55.9'\": 11, \"'56.7'\": 11, \"'63.2'\": 11, \"'48.9'\": 11, \"'51.4'\": 11, \"'56.3'\": 11, \"'76.7'\": 11, \"'58.7'\": 11, \"'50.1'\": 11, \"'41.3'\": 11, \"'44.2'\": 11, \"'82.3'\": 11, \"'50.5'\": 11, \"'56.5'\": 11, \"'35.8'\": 11, \"'58.9'\": 11, \"'56.0'\": 10, \"'49.4'\": 10, \"'45.2'\": 10, \"'64.3'\": 10, \"'81.7'\": 10, \"'79.8'\": 10, \"'56.6'\": 10, \"'50.2'\": 10, \"'51.6'\": 10, \"'43.1'\": 10, \"'41.5'\": 10, \"'34.9'\": 10, \"'42.6'\": 10, \"'54.8'\": 10, \"'40.6'\": 10, \"'76.5'\": 10, \"'81.5'\": 10, \"'47.7'\": 10, \"'82.7'\": 10, \"'37.5'\": 10, \"'38.5'\": 10, \"'47.6'\": 10, \"'51.1'\": 10, \"'45.4'\": 10, \"'43.3'\": 10, \"'80.2'\": 10, \"'52.6'\": 10, \"'55.0'\": 9, \"'60.7'\": 9, \"'58.6'\": 9, \"'57.8'\": 9, \"'62.1'\": 9, \"'44.3'\": 9, \"'53.1'\": 9, \"'58.3'\": 9, \"'59.9'\": 9, \"'62.9'\": 9, \"'77.9'\": 9, \"'45.1'\": 9, \"'42.8'\": 9, \"'48.3'\": 9, \"'36.2'\": 9, \"'36.9'\": 9, \"'57.2'\": 9, \"'38.8'\": 9, \"'47.4'\": 9, \"'81.2'\": 9, \"'81.1'\": 9, \"'80.7'\": 9, \"'48.6'\": 9, \"'61.6'\": 9, \"'56.2'\": 9, \"'44.8'\": 9, \"'39.9'\": 9, \"'41.1'\": 9, \"'60.5'\": 9, \"'65.8'\": 9, \"'36.0'\": 8, \"'48.0'\": 8, \"'55.3'\": 8, \"'63.4'\": 8, \"'61.2'\": 8, \"'61.8'\": 8, \"'60.2'\": 8, \"'80.0'\": 8, \"'81.6'\": 8, \"'39.2'\": 8, \"'62.7'\": 8, \"'33.4'\": 8, \"'41.6'\": 8, \"'39.3'\": 8, \"'34.6'\": 8, \"'40.8'\": 8, \"'75.2'\": 8, \"'58.4'\": 8, \"'61.3'\": 8, \"'80.6'\": 8, \"'79.6'\": 8, \"'46.7'\": 8, \"'32.1'\": 8, \"'40.2'\": 8, \"'34.3'\": 8, \"'50.7'\": 8, \"'59.2'\": 8, \"'35.2'\": 8, \"'40.5'\": 8, \"'67.3'\": 8, \"'67.6'\": 8, \"'43.0'\": 7, \"'35.0'\": 7, \"'37.0'\": 7, \"'42.0'\": 7, \"'62.0'\": 7, \"'46.1'\": 7, \"'49.5'\": 7, \"'32.4'\": 7, \"'40.1'\": 7, \"'74.5'\": 7, \"'80.3'\": 7, \"'62.3'\": 7, \"'59.8'\": 7, \"'63.5'\": 7, \"'59.6'\": 7, \"'73.5'\": 7, \"'58.1'\": 7, \"'54.2'\": 7, \"'39.1'\": 7, \"'36.5'\": 7, \"'38.2'\": 7, \"'53.6'\": 7, \"'33.1'\": 7, \"'35.5'\": 7, \"'36.6'\": 7, \"'39.5'\": 7, \"'34.7'\": 7, \"'38.6'\": 7, \"'60.1'\": 7, \"'67.4'\": 7, \"'73.8'\": 7, \"'34.4'\": 7, \"'72.9'\": 7, \"'29.0'\": 7, \"'53.2'\": 7, \"'32.5'\": 7, \"'35.9'\": 7, \"'73.7'\": 7, \"'49.1'\": 7, \"'34.1'\": 7, \"'54.7'\": 7, \"'54.5'\": 7, \"'31.0'\": 7, \"'53.3'\": 7, \"'65.3'\": 7, \"'67.8'\": 7, \"'67.9'\": 7, \"'64.5'\": 7, \"'65.6'\": 7, \"'33.7'\": 6, \"'37.9'\": 6, \"'72.8'\": 6, \"'60.9'\": 6, \"'56.9'\": 6, \"'62.6'\": 6, \"'40.9'\": 6, \"'43.5'\": 6, \"'52.3'\": 6, \"'43.9'\": 6, \"'51.9'\": 6, \"'44.5'\": 6, \"'41.9'\": 6, \"'48.1'\": 6, \"'48.2'\": 6, \"'42.3'\": 6, \"'80.9'\": 6, \"'80.4'\": 6, \"'81.0'\": 6, \"'36.8'\": 6, \"'24.4'\": 6, \"'38.9'\": 6, \"'38.3'\": 6, \"'35.6'\": 6, \"'73.9'\": 6, \"'74.3'\": 6, \"'47.3'\": 6, \"'67.1'\": 6, \"'76.4'\": 6, \"'83.2'\": 6, \"'39.6'\": 6, \"'47.9'\": 6, \"'28.5'\": 6, \"'28.2'\": 6, \"'82.9'\": 6, \"'40.3'\": 6, \"'32.2'\": 6, \"'65.0'\": 6, \"'64.7'\": 6, \"'53.0'\": 5, \"'54.0'\": 5, \"'59.0'\": 5, \"'74.2'\": 5, \"'83.6'\": 5, \"'61.5'\": 5, \"'76.1'\": 5, \"'57.9'\": 5, \"'45.5'\": 5, \"'41.2'\": 5, \"'63.9'\": 5, \"'49.2'\": 5, \"'51.7'\": 5, \"'37.6'\": 5, \"'73.6'\": 5, \"'82.0'\": 5, \"'75.0'\": 5, \"'23.5'\": 5, \"'42.1'\": 5, \"'82.8'\": 5, \"'82.1'\": 5, \"'82.5'\": 5, \"'26.6'\": 5, \"'55.4'\": 5, \"'30.9'\": 5, \"'53.8'\": 5, \"'62.4'\": 5, \"'74.8'\": 5, \"'81.9'\": 5, \"'82.6'\": 5, \"'80.1'\": 5, \"'42.9'\": 5, \"'45.9'\": 5, \"'29.7'\": 5, \"'85.3'\": 5, \"'42.7'\": 5, \"'31.3'\": 5, \"'65.5'\": 5, \"'75.4'\": 5, \"'66.9'\": 5, \"'66.4'\": 5, \"'37.8'\": 5, \"'40.0'\": 4, \"'39.0'\": 4, \"'44.0'\": 4, \"'50.0'\": 4, \"'43.4'\": 4, \"'55.8'\": 4, \"'76.0'\": 4, \"'46.5'\": 4, \"'54.9'\": 4, \"'37.2'\": 4, \"'36.3'\": 4, \"'33.5'\": 4, \"'33.2'\": 4, \"'52.1'\": 4, \"'46.3'\": 4, \"'56.4'\": 4, \"'57.3'\": 4, \"'44.9'\": 4, \"'81.8'\": 4, \"'84.2'\": 4, \"'62.8'\": 4, \"'28.1'\": 4, \"'29.1'\": 4, \"'31.8'\": 4, \"'31.9'\": 4, \"'26.4'\": 4, \"'19.9'\": 4, \"'72.4'\": 4, \"'81.3'\": 4, \"'83.9'\": 4, \"'23.2'\": 4, \"'51.2'\": 4, \"'71.0'\": 4, \"'28.8'\": 4, \"'29.8'\": 4, \"'22.7'\": 4, \"'30.6'\": 4, \"'56.1'\": 4, \"'26.9'\": 4, \"'25.6'\": 4, \"'32.8'\": 4, \"'74.6'\": 4, \"'73.2'\": 4, \"'66.8'\": 4, \"'42.5'\": 4, \"'66.1'\": 4, \"'64.8'\": 4, \"'66.3'\": 4, \"'45.0'\": 3, \"'33.0'\": 3, \"'63.0'\": 3, \"'74.1'\": 3, \"'53.4'\": 3, \"'82.2'\": 3, \"'75.7'\": 3, \"'50.6'\": 3, \"'63.7'\": 3, \"'70.7'\": 3, \"'53.7'\": 3, \"'33.8'\": 3, \"'57.5'\": 3, \"'52.9'\": 3, \"'50.9'\": 3, \"'74.4'\": 3, \"'30.7'\": 3, \"'32.6'\": 3, \"'24.1'\": 3, \"'29.4'\": 3, \"'38.4'\": 3, \"'38.1'\": 3, \"'73.0'\": 3, \"'82.4'\": 3, \"'70.3'\": 3, \"'37.7'\": 3, \"'42.2'\": 3, \"'26.7'\": 3, \"'71.7'\": 3, \"'54.6'\": 3, \"'74.0'\": 3, \"'83.1'\": 3, \"'83.0'\": 3, \"'64.1'\": 3, \"'22.9'\": 3, \"'47.1'\": 3, \"'31.5'\": 3, \"'17.2'\": 3, \"'27.5'\": 3, \"'52.5'\": 3, \"'31.6'\": 3, \"'30.1'\": 3, \"'49.3'\": 3, \"'46.4'\": 3, \"'35.3'\": 3, \"'66.6'\": 3, \"'60.6'\": 3, \"'21.8'\": 3, \"'26.3'\": 3, \"'55.2'\": 3, \"'66.0'\": 3, \"'58.5'\": 3, \"'65.2'\": 3, \"'29.3'\": 3, \"'36.1'\": 3, \"'65.7'\": 3, \"'83.3'\": 3, \"'38.7'\": 3, \"'23.9'\": 3, \"'32.9'\": 3, \"'65.4'\": 3, \"'41.0'\": 2, \"'69.4'\": 2, \"'70.0'\": 2, \"'51.5'\": 2, \"'34.5'\": 2, \"'83.5'\": 2, \"'27.9'\": 2, \"'33.3'\": 2, \"'26.1'\": 2, \"'83.4'\": 2, \"'73.3'\": 2, \"'63.6'\": 2, \"'74.7'\": 2, \"'70.6'\": 2, \"'72.5'\": 2, \"'87.4'\": 2, \"'84.1'\": 2, \"'83.7'\": 2, \"'57.7'\": 2, \"'71.8'\": 2, \"'39.7'\": 2, \"'20.8'\": 2, \"'47.2'\": 2, \"'44.7'\": 2, \"'34.8'\": 2, \"'17.5'\": 2, \"'72.6'\": 2, \"'84.6'\": 2, \"'72.7'\": 2, \"'6.5'\": 2, \"'18.8'\": 2, \"'27.6'\": 2, \"'12.4'\": 2, \"'87.3'\": 2, \"'67.2'\": 2, \"'75.3'\": 2, \"'63.8'\": 2, \"'10.2'\": 2, \"'27.0'\": 2, \"'51.8'\": 2, \"'30.8'\": 2, \"'15.1'\": 2, \"'49.7'\": 2, \"'32.7'\": 2, \"'17.3'\": 2, \"'60.8'\": 2, \"'85.5'\": 2, \"'66.5'\": 2, \"'21.9'\": 2, \"'22.5'\": 2, \"'26.0'\": 2, \"'18.1'\": 2, \"'42.4'\": 2, \"'85.9'\": 2, \"'84.0'\": 2, \"'86.5'\": 2, \"'75.5'\": 2, \"'71.4'\": 2, \"'30.4'\": 2, \"'75.1'\": 2, \"'84.9'\": 2, \"'31.2'\": 2, \"'59.1'\": 2, \"'48.7'\": 2, \"'33.9'\": 1, \"'73.1'\": 1, \"'37.4'\": 1, \"'72.1'\": 1, \"'40.4'\": 1, \"'28.7'\": 1, \"'5.4'\": 1, \"'13.1'\": 1, \"'13.5'\": 1, \"'20.6'\": 1, \"'-6.1'\": 1, \"'7.7'\": 1, \"'10.8'\": 1, \"'28.3'\": 1, \"'49.0'\": 1, \"'63.3'\": 1, \"'85.8'\": 1, \"'70.4'\": 1, \"'70.9'\": 1, \"'29.5'\": 1, \"'22.1'\": 1, \"'69.1'\": 1, \"'71.5'\": 1, \"'56.8'\": 1, \"'85.2'\": 1, \"'86.7'\": 1, \"'86.1'\": 1, \"'86.4'\": 1, \"'84.3'\": 1, \"'72.2'\": 1, \"'69.3'\": 1, \"'61.9'\": 1, \"'21.3'\": 1, \"'25.4'\": 1, \"'21.1'\": 1, \"'24.8'\": 1, \"'16.9'\": 1, \"'11.2'\": 1, \"'15.5'\": 1, \"'24.6'\": 1, \"'30.3'\": 1, \"'45.3'\": 1, \"'50.3'\": 1, \"'62.2'\": 1, \"'10.7'\": 1, \"'8.1'\": 1, \"'35.7'\": 1, \"'40.7'\": 1, \"'13.4'\": 1, \"'41.7'\": 1, \"'46.9'\": 1, \"'22.3'\": 1, \"'15.2'\": 1, \"'7.2'\": 1, \"'64.6'\": 1, \"'66.2'\": 1, \"'62.5'\": 1, \"'66.7'\": 1, \"'-0.2'\": 1, \"'28.4'\": 1, \"'48.4'\": 1, \"'20.5'\": 1, \"'13.6'\": 1, \"'-0.0'\": 1, \"'26.2'\": 1, \"'45.6'\": 1, \"'31.1'\": 1, \"'22.2'\": 1, \"'31.7'\": 1, \"'72.0'\": 1, \"'19.2'\": 1, \"'23.0'\": 1, \"'26.8'\": 1, \"'20.4'\": 1, \"'25.3'\": 1, \"'31.4'\": 1, \"'22.4'\": 1, \"'43.7'\": 1, \"'52.7'\": 1, \"'57.4'\": 1, \"'65.9'\": 1, \"'60.3'\": 1, \"'88.4'\": 1, \"'84.4'\": 1, \"'64.9'\": 1, \"'25.1'\": 1, \"'10.0'\": 1, \"'28.0'\": 1, \"'3.7'\": 1, \"'18.7'\": 1, \"'18.4'\": 1, \"'84.7'\": 1, \"'73.4'\": 1, \"'59.7'\": 1, \"'30.2'\": 1, \"'19.7'\": 1, \"'20.3'\": 1, \"'85.7'\": 1, \"'30.0'\": 1, \"'25.0'\": 1, \"'21.6'\": 1, \"'16.5'\": 1, \"'20.0'\": 1, \"'36.7'\": 1, \"'85.0'\": 1, \"'83.8'\": 1, \"'85.4'\": 1, \"'67.5'\": 1, \"'54.3'\": 1, \"'68.1'\": 1, \"'70.1'\": 1, \"'28.6'\": 1, \"'58.2'\": 1, \"'25.8'\": 1, \"'14.9'\": 1, \"'23.6'\": 1, \"'24.5'\": 1, \"'44.4'\": 1, \"'23.8'\": 1, \"'37.1'\": 1, \"'46.6'\": 1, \"'19.8'\": 1, \"'30.5'\": 1, \"'24.3'\": 1, \"'10.1'\": 1, \"'21.5'\": 1, \"'20.7'\": 1, \"'57.1'\": 1, \"'17.6'\": 1, \"'34.2'\": 1, \"'25.2'\": 1, \"'59.4'\": 1, \"'64.4'\": 1, \"'86.6'\": 1})\n",
            "Column -- date1\n",
            "=========================\n",
            "Counter({\"'2022-07-28'\": 13, \"'2022-01-01'\": 12, \"'2022-01-02'\": 12, \"'2022-01-03'\": 12, \"'2022-01-04'\": 12, \"'2022-01-05'\": 12, \"'2022-01-06'\": 12, \"'2022-01-07'\": 12, \"'2022-01-08'\": 12, \"'2022-01-12'\": 12, \"'2022-01-13'\": 12, \"'2022-01-14'\": 12, \"'2022-01-15'\": 12, \"'2022-01-16'\": 12, \"'2022-01-17'\": 12, \"'2022-01-18'\": 12, \"'2022-01-19'\": 12, \"'2022-01-20'\": 12, \"'2022-01-21'\": 12, \"'2022-01-22'\": 12, \"'2022-01-23'\": 12, \"'2022-01-24'\": 12, \"'2022-01-25'\": 12, \"'2022-01-26'\": 12, \"'2022-01-27'\": 12, \"'2022-01-28'\": 12, \"'2022-01-29'\": 12, \"'2022-01-30'\": 12, \"'2022-01-31'\": 12, \"'2022-03-28'\": 12, \"'2022-03-30'\": 12, \"'2022-03-31'\": 12, \"'2022-05-15'\": 12, \"'2022-05-16'\": 12, \"'2022-05-17'\": 12, \"'2022-05-18'\": 12, \"'2022-05-22'\": 12, \"'2022-05-23'\": 12, \"'2022-05-24'\": 12, \"'2022-05-25'\": 12, \"'2022-06-02'\": 12, \"'2022-06-03'\": 12, \"'2022-06-04'\": 12, \"'2022-06-05'\": 12, \"'2022-06-06'\": 12, \"'2022-06-07'\": 12, \"'2022-06-08'\": 12, \"'2022-06-09'\": 12, \"'2022-06-10'\": 12, \"'2022-06-11'\": 12, \"'2022-06-12'\": 12, \"'2022-06-13'\": 12, \"'2022-06-14'\": 12, \"'2022-06-15'\": 12, \"'2022-06-16'\": 12, \"'2022-06-17'\": 12, \"'2022-06-18'\": 12, \"'2022-06-19'\": 12, \"'2022-06-20'\": 12, \"'2022-06-21'\": 12, \"'2022-06-22'\": 12, \"'2022-06-23'\": 12, \"'2022-06-26'\": 12, \"'2022-06-27'\": 12, \"'2022-06-28'\": 12, \"'2022-06-29'\": 12, \"'2022-06-30'\": 12, \"'2022-07-25'\": 12, \"'2022-07-26'\": 12, \"'2022-07-27'\": 12, \"'2022-01-09'\": 11, \"'2022-01-10'\": 11, \"'2022-01-11'\": 11, \"'2022-02-02'\": 11, \"'2022-02-09'\": 11, \"'2022-02-10'\": 11, \"'2022-02-11'\": 11, \"'2022-02-12'\": 11, \"'2022-02-13'\": 11, \"'2022-02-14'\": 11, \"'2022-02-15'\": 11, \"'2022-02-16'\": 11, \"'2022-02-17'\": 11, \"'2022-02-18'\": 11, \"'2022-02-19'\": 11, \"'2022-02-20'\": 11, \"'2022-02-21'\": 11, \"'2022-02-22'\": 11, \"'2022-02-23'\": 11, \"'2022-02-24'\": 11, \"'2022-02-25'\": 11, \"'2022-02-26'\": 11, \"'2022-02-27'\": 11, \"'2022-02-28'\": 11, \"'2022-03-23'\": 11, \"'2022-03-24'\": 11, \"'2022-03-25'\": 11, \"'2022-03-26'\": 11, \"'2022-03-27'\": 11, \"'2022-03-29'\": 11, \"'2022-04-05'\": 11, \"'2022-04-06'\": 11, \"'2022-04-07'\": 11, \"'2022-04-08'\": 11, \"'2022-04-09'\": 11, \"'2022-04-10'\": 11, \"'2022-04-11'\": 11, \"'2022-04-12'\": 11, \"'2022-04-13'\": 11, \"'2022-04-14'\": 11, \"'2022-04-15'\": 11, \"'2022-04-16'\": 11, \"'2022-04-21'\": 11, \"'2022-04-22'\": 11, \"'2022-04-23'\": 11, \"'2022-04-24'\": 11, \"'2022-04-25'\": 11, \"'2022-04-27'\": 11, \"'2022-04-28'\": 11, \"'2022-04-29'\": 11, \"'2022-04-30'\": 11, \"'2022-05-06'\": 11, \"'2022-05-08'\": 11, \"'2022-05-09'\": 11, \"'2022-05-10'\": 11, \"'2022-05-11'\": 11, \"'2022-05-12'\": 11, \"'2022-05-13'\": 11, \"'2022-05-14'\": 11, \"'2022-05-19'\": 11, \"'2022-05-20'\": 11, \"'2022-05-21'\": 11, \"'2022-05-26'\": 11, \"'2022-05-28'\": 11, \"'2022-05-29'\": 11, \"'2022-05-30'\": 11, \"'2022-05-31'\": 11, \"'2022-06-01'\": 11, \"'2022-06-24'\": 11, \"'2022-06-25'\": 11, \"'2022-07-14'\": 11, \"'2022-07-15'\": 11, \"'2022-07-16'\": 11, \"'2022-07-17'\": 11, \"'2022-07-18'\": 11, \"'2022-07-24'\": 11, \"'2022-07-29'\": 11, \"'2022-07-30'\": 11, \"'2022-07-31'\": 11, \"'2022-08-01'\": 11, \"'2022-08-02'\": 11, \"'2022-08-03'\": 11, \"'2022-08-04'\": 11, \"'2022-08-05'\": 11, \"'2022-08-06'\": 11, \"'2022-08-07'\": 11, \"'2022-08-08'\": 11, \"'2022-08-09'\": 11, \"'2022-08-10'\": 11, \"'2022-08-11'\": 11, \"'2022-08-12'\": 11, \"'2022-08-13'\": 11, \"'2022-08-14'\": 11, \"'2022-08-15'\": 11, \"'2022-08-16'\": 11, \"'2022-08-17'\": 11, \"'2022-08-18'\": 11, \"'2022-08-19'\": 11, \"'2022-08-20'\": 11, \"'2022-08-21'\": 11, \"'2022-08-22'\": 11, \"'2022-08-23'\": 11, \"'2022-08-24'\": 11, \"'2022-08-25'\": 11, \"'2022-08-26'\": 11, \"'2022-08-27'\": 11, \"'2022-08-28'\": 11, \"'2022-08-29'\": 11, \"'2022-08-30'\": 11, \"'2022-08-31'\": 11, \"'2022-09-26'\": 11, \"'2022-09-27'\": 11, \"'2022-09-29'\": 11, \"'2022-10-01'\": 11, \"'2022-10-02'\": 11, \"'2022-10-03'\": 11, \"'2022-10-04'\": 11, \"'2022-10-05'\": 11, \"'2022-10-06'\": 11, \"'2022-10-07'\": 11, \"'2022-10-08'\": 11, \"'2022-10-09'\": 11, \"'2022-10-10'\": 11, \"'2022-10-11'\": 11, \"'2022-10-12'\": 11, \"'2022-10-13'\": 11, \"'2022-10-14'\": 11, \"'2022-10-15'\": 11, \"'2022-10-16'\": 11, \"'2022-10-17'\": 11, \"'2022-10-18'\": 11, \"'2022-10-19'\": 11, \"'2022-10-20'\": 11, \"'2022-10-21'\": 11, \"'2022-10-22'\": 11, \"'2022-10-23'\": 11, \"'2022-10-24'\": 11, \"'2022-10-25'\": 11, \"'2022-10-26'\": 11, \"'2022-10-27'\": 11, \"'2022-10-28'\": 11, \"'2022-10-29'\": 11, \"'2022-10-30'\": 11, \"'2022-10-31'\": 11, \"'2022-11-01'\": 11, \"'2022-11-02'\": 11, \"'2022-11-03'\": 11, \"'2022-11-05'\": 11, \"'2022-11-06'\": 11, \"'2022-11-07'\": 11, \"'2022-11-10'\": 11, \"'2022-11-11'\": 11, \"'2022-11-12'\": 11, \"'2022-11-15'\": 11, \"'2022-11-16'\": 11, \"'2022-11-17'\": 11, \"'2022-11-18'\": 11, \"'2022-11-19'\": 11, \"'2022-11-20'\": 11, \"'2022-11-21'\": 11, \"'2022-11-22'\": 11, \"'2022-11-23'\": 11, \"'2022-11-24'\": 11, \"'2022-11-25'\": 11, \"'2022-11-26'\": 11, \"'2022-11-27'\": 11, \"'2022-11-28'\": 11, \"'2022-02-01'\": 10, \"'2022-02-03'\": 10, \"'2022-02-04'\": 10, \"'2022-02-05'\": 10, \"'2022-02-06'\": 10, \"'2022-02-07'\": 10, \"'2022-02-08'\": 10, \"'2022-03-02'\": 10, \"'2022-03-03'\": 10, \"'2022-03-04'\": 10, \"'2022-03-05'\": 10, \"'2022-03-06'\": 10, \"'2022-03-07'\": 10, \"'2022-03-08'\": 10, \"'2022-03-09'\": 10, \"'2022-03-10'\": 10, \"'2022-03-11'\": 10, \"'2022-03-12'\": 10, \"'2022-03-16'\": 10, \"'2022-03-17'\": 10, \"'2022-03-18'\": 10, \"'2022-03-19'\": 10, \"'2022-03-20'\": 10, \"'2022-03-21'\": 10, \"'2022-03-22'\": 10, \"'2022-04-01'\": 10, \"'2022-04-02'\": 10, \"'2022-04-03'\": 10, \"'2022-04-04'\": 10, \"'2022-04-17'\": 10, \"'2022-04-18'\": 10, \"'2022-04-19'\": 10, \"'2022-04-20'\": 10, \"'2022-04-26'\": 10, \"'2022-05-07'\": 10, \"'2022-05-27'\": 10, \"'2022-07-01'\": 10, \"'2022-07-02'\": 10, \"'2022-07-03'\": 10, \"'2022-07-04'\": 10, \"'2022-07-05'\": 10, \"'2022-07-06'\": 10, \"'2022-07-07'\": 10, \"'2022-07-08'\": 10, \"'2022-07-09'\": 10, \"'2022-07-10'\": 10, \"'2022-07-11'\": 10, \"'2022-07-12'\": 10, \"'2022-07-13'\": 10, \"'2022-07-19'\": 10, \"'2022-07-20'\": 10, \"'2022-07-22'\": 10, \"'2022-07-23'\": 10, \"'2022-09-16'\": 10, \"'2022-09-17'\": 10, \"'2022-09-20'\": 10, \"'2022-09-21'\": 10, \"'2022-09-22'\": 10, \"'2022-09-24'\": 10, \"'2022-09-25'\": 10, \"'2022-09-28'\": 10, \"'2022-09-30'\": 10, \"'2022-11-04'\": 10, \"'2022-11-08'\": 10, \"'2022-11-09'\": 10, \"'2022-11-13'\": 10, \"'2022-11-14'\": 10, \"'2022-11-29'\": 10, \"'2022-11-30'\": 10, \"'2022-12-22'\": 10, \"'2022-12-23'\": 10, \"'2022-12-24'\": 10, \"'2022-12-25'\": 10, \"'2022-12-26'\": 10, \"'2022-12-27'\": 10, \"'2022-12-28'\": 10, \"'2022-12-29'\": 10, \"'2022-12-30'\": 10, \"'2022-12-31'\": 10, \"'2022-03-01'\": 9, \"'2022-05-01'\": 9, \"'2022-05-02'\": 9, \"'2022-05-03'\": 9, \"'2022-05-04'\": 9, \"'2022-05-05'\": 9, \"'2022-07-21'\": 9, \"'2022-09-01'\": 9, \"'2022-09-02'\": 9, \"'2022-09-03'\": 9, \"'2022-09-04'\": 9, \"'2022-09-05'\": 9, \"'2022-09-06'\": 9, \"'2022-09-07'\": 9, \"'2022-09-08'\": 9, \"'2022-09-09'\": 9, \"'2022-09-10'\": 9, \"'2022-09-13'\": 9, \"'2022-09-14'\": 9, \"'2022-09-15'\": 9, \"'2022-09-18'\": 9, \"'2022-09-19'\": 9, \"'2022-09-23'\": 9, \"'2022-03-13'\": 9, \"'2022-03-14'\": 9, \"'2022-03-15'\": 9, \"'2022-12-02'\": 9, \"'2022-12-03'\": 9, \"'2022-12-04'\": 9, \"'2022-12-10'\": 9, \"'2022-12-11'\": 9, \"'2022-12-12'\": 9, \"'2022-12-13'\": 9, \"'2022-12-14'\": 9, \"'2022-12-15'\": 9, \"'2022-12-16'\": 9, \"'2022-12-17'\": 9, \"'2022-12-18'\": 9, \"'2022-12-19'\": 9, \"'2022-12-20'\": 9, \"'2022-12-21'\": 9, \"'2022-09-11'\": 8, \"'2022-09-12'\": 8, \"'2022-12-05'\": 8, \"'2022-12-06'\": 8, \"'2022-12-07'\": 8, \"'2022-12-08'\": 8, \"'2022-12-09'\": 8, \"'2022-12-01'\": 8, \"'2022-02-29'\": 2})\n",
            "Column -- month\n",
            "=========================\n",
            "Counter({\"'01'\": 369, \"'06'\": 357, \"'08'\": 341, \"'10'\": 341, \"'05'\": 337, \"'07'\": 327, \"'11'\": 323, \"'04'\": 321, \"'03'\": 318, \"'02'\": 303, \"'09'\": 283, \"'12'\": 283})\n",
            "Column -- diff_pressure\n",
            "=========================\n",
            "Counter({\"'0.1980000000000004'\": 19, \"'0.21999999999999886'\": 19, \"'0.30799999999999983'\": 19, \"'0.18599999999999994'\": 19, \"'0.23199999999999932'\": 17, \"'0.2699999999999996'\": 17, \"'0.21000000000000085'\": 16, \"'0.2740000000000009'\": 15, \"'0.31700000000000017'\": 15, \"'0.24399999999999977'\": 15, \"'0.22100000000000009'\": 14, \"'0.3550000000000004'\": 14, \"'0.29100000000000037'\": 14, \"'0.21799999999999997'\": 14, \"'0.20899999999999963'\": 14, \"'0.2940000000000005'\": 13, \"'0.3030000000000008'\": 13, \"'0.24599999999999866'\": 13, \"'0.23300000000000054'\": 13, \"'0.2789999999999999'\": 13, \"'0.2809999999999988'\": 13, \"'0.2779999999999987'\": 13, \"'0.28500000000000014'\": 13, \"'0.29299999999999926'\": 13, \"'0.23000000000000043'\": 13, \"'0.2560000000000002'\": 12, \"'0.23499999999999943'\": 12, \"'0.3490000000000002'\": 12, \"'0.18499999999999872'\": 12, \"'0.2240000000000002'\": 12, \"'0.38400000000000034'\": 12, \"'0.2680000000000007'\": 12, \"'0.26699999999999946'\": 12, \"'0.24099999999999966'\": 12, \"'0.3309999999999995'\": 12, \"'0.23799999999999955'\": 12, \"'0.18900000000000006'\": 12, \"'0.2989999999999995'\": 12, \"'0.2530000000000001'\": 12, \"'0.28200000000000003'\": 12, \"'0.32099999999999795'\": 12, \"'0.26200000000000045'\": 12, \"'0.3539999999999992'\": 11, \"'0.25900000000000034'\": 11, \"'0.19200000000000017'\": 11, \"'0.2029999999999994'\": 11, \"'0.3460000000000001'\": 11, \"'0.18299999999999983'\": 11, \"'0.3810000000000002'\": 11, \"'0.22800000000000153'\": 11, \"'0.2259999999999991'\": 11, \"'0.20599999999999952'\": 11, \"'0.33999999999999986'\": 11, \"'0.2289999999999992'\": 11, \"'0.21199999999999974'\": 11, \"'0.25'\": 11, \"'0.2729999999999997'\": 11, \"'0.38899999999999935'\": 11, \"'0.24200000000000088'\": 10, \"'0.3049999999999997'\": 10, \"'0.18700000000000117'\": 10, \"'0.2890000000000015'\": 10, \"'0.3260000000000005'\": 10, \"'0.25700000000000145'\": 10, \"'0.3009999999999984'\": 10, \"'0.2309999999999981'\": 10, \"'0.19500000000000028'\": 10, \"'0.3000000000000007'\": 10, \"'0.19899999999999807'\": 10, \"'0.17800000000000082'\": 10, \"'0.2022000000000005'\": 10, \"'0.21600000000000108'\": 10, \"'0.3069999999999986'\": 10, \"'0.3230000000000004'\": 10, \"'0.15700000000000003'\": 10, \"'0.19900000000000162'\": 10, \"'0.35800000000000054'\": 10, \"'0.2759999999999998'\": 10, \"'0.2889999999999979'\": 10, \"'0.2469999999999999'\": 10, \"'0.2920000000000016'\": 10, \"'0.23600000000000065'\": 10, \"'0.3999999999999986'\": 10, \"'0.22499999999999787'\": 10, \"'0.2579999999999991'\": 9, \"'0.2970000000000006'\": 9, \"'0.3249999999999993'\": 9, \"'0.23900000000000077'\": 9, \"'0.19000000000000128'\": 9, \"'0.2079999999999984'\": 9, \"'0.1960000000000015'\": 9, \"'0.1479999999999997'\": 9, \"'0.20800000000000196'\": 9, \"'0.23999999999999844'\": 9, \"'0.277000000000001'\": 9, \"'0.19699999999999918'\": 9, \"'0.20500000000000185'\": 9, \"'0.2519999999999989'\": 9, \"'0.31099999999999994'\": 9, \"'0.23100000000000165'\": 9, \"'0.25099999999999767'\": 9, \"'0.27199999999999847'\": 9, \"'0.3039999999999985'\": 9, \"'0.22299999999999898'\": 9, \"'0.2510000000000012'\": 9, \"'0.3949999999999996'\": 9, \"'0.16400000000000148'\": 9, \"'0.2839999999999989'\": 9, \"'0.30600000000000094'\": 9, \"'0.254999999999999'\": 9, \"'0.17999999999999972'\": 9, \"'0.31400000000000006'\": 9, \"'0.33800000000000097'\": 9, \"'0.379999999999999'\": 9, \"'0.3520000000000003'\": 9, \"'0.30900000000000105'\": 8, \"'0.20400000000000063'\": 8, \"'0.18200000000000216'\": 8, \"'0.3019999999999996'\": 8, \"'0.16300000000000026'\": 8, \"'0.3500000000000014'\": 8, \"'0.26399999999999935'\": 8, \"'0.18100000000000094'\": 8, \"'0.16499999999999915'\": 8, \"'0.1750000000000007'\": 8, \"'0.3689999999999998'\": 8, \"'0.28600000000000136'\": 8, \"'0.24899999999999878'\": 8, \"'0.18400000000000105'\": 8, \"'0.3290000000000006'\": 8, \"'0.4259999999999984'\": 8, \"'0.33399999999999963'\": 8, \"'0.3780000000000001'\": 8, \"'0.28699999999999903'\": 8, \"'0.31899999999999906'\": 8, \"'0.4819999999999993'\": 8, \"'0.2690000000000019'\": 8, \"'0.28300000000000125'\": 8, \"'0.3670000000000009'\": 8, \"'0.1720000000000006'\": 8, \"'0.46399999999999864'\": 8, \"'0.34299999999999997'\": 8, \"'0.23700000000000188'\": 8, \"'0.36599999999999966'\": 8, \"'0.21100000000000207'\": 8, \"'0.3210000000000015'\": 8, \"'0.33200000000000074'\": 8, \"'0.2339999999999982'\": 8, \"'0.3240000000000016'\": 8, \"'0.1999999999999993'\": 8, \"'0.2569999999999979'\": 8, \"'0.39000000000000057'\": 8, \"'0.1769999999999996'\": 8, \"'0.14499999999999957'\": 8, \"'0.15399999999999991'\": 8, \"'0.1529999999999987'\": 8, \"'0.1819999999999986'\": 8, \"'0.38599999999999923'\": 8, \"'0.19099999999999895'\": 8, \"'0.1609999999999978'\": 8, \"'0.18999999999999773'\": 8, \"'0.26000000000000156'\": 8, \"'0.2539999999999978'\": 8, \"'0.16600000000000037'\": 7, \"'0.1789999999999985'\": 7, \"'0.272000000000002'\": 7, \"'0.3329999999999984'\": 7, \"'0.3390000000000022'\": 7, \"'0.21499999999999986'\": 7, \"'0.22500000000000142'\": 7, \"'0.43299999999999983'\": 7, \"'0.26500000000000057'\": 7, \"'0.2959999999999994'\": 7, \"'0.20700000000000074'\": 7, \"'0.3359999999999985'\": 7, \"'0.21899999999999764'\": 7, \"'0.16100000000000136'\": 7, \"'0.28999999999999915'\": 7, \"'0.2629999999999981'\": 7, \"'0.3979999999999997'\": 7, \"'0.2270000000000003'\": 7, \"'0.24600000000000222'\": 7, \"'0.2480000000000011'\": 7, \"'0.3569999999999993'\": 7, \"'0.22199999999999775'\": 7, \"'0.3200000000000003'\": 7, \"'0.39199999999999946'\": 7, \"'0.28000000000000114'\": 7, \"'0.31299999999999883'\": 7, \"'0.3719999999999999'\": 7, \"'0.21699999999999875'\": 7, \"'0.11299999999999955'\": 7, \"'0.19299999999999784'\": 7, \"'0.15899999999999892'\": 7, \"'0.20229999999999818'\": 7, \"'0.18799999999999883'\": 7, \"'0.4009999999999998'\": 6, \"'0.34199999999999875'\": 6, \"'0.16199999999999903'\": 6, \"'0.29199999999999804'\": 6, \"'0.46000000000000085'\": 6, \"'0.36400000000000077'\": 6, \"'0.16799999999999926'\": 6, \"'0.5730000000000004'\": 6, \"'0.31599999999999895'\": 6, \"'0.26599999999999824'\": 6, \"'0.3589999999999982'\": 6, \"'0.26899999999999835'\": 6, \"'0.3410000000000011'\": 6, \"'0.19599999999999795'\": 6, \"'0.19399999999999906'\": 6, \"'0.347999999999999'\": 6, \"'0.33500000000000085'\": 6, \"'0.17900000000000205'\": 6, \"'0.30400000000000205'\": 6, \"'0.31799999999999784'\": 6, \"'0.28800000000000026'\": 6, \"'0.22900000000000276'\": 6, \"'0.240000000000002'\": 6, \"'0.28100000000000236'\": 6, \"'0.2660000000000018'\": 6, \"'0.5609999999999999'\": 6, \"'0.2430000000000021'\": 6, \"'0.2220000000000013'\": 6, \"'0.34999999999999787'\": 6, \"'0.3279999999999994'\": 6, \"'0.48900000000000077'\": 6, \"'0.2710000000000008'\": 6, \"'0.31200000000000117'\": 6, \"'0.47800000000000153'\": 6, \"'0.25500000000000256'\": 6, \"'0.1930000000000014'\": 6, \"'0.21099999999999852'\": 6, \"'0.375'\": 6, \"'0.35100000000000264'\": 6, \"'0.3769999999999989'\": 6, \"'0.40700000000000003'\": 6, \"'0.3760000000000012'\": 6, \"'0.23400000000000176'\": 6, \"'0.39399999999999835'\": 6, \"'0.25400000000000134'\": 6, \"'0.3219999999999992'\": 6, \"'0.3099999999999987'\": 6, \"'0.30700000000000216'\": 6, \"'0.3819999999999979'\": 6, \"'0.2190000000000012'\": 6, \"'0.2749999999999986'\": 6, \"'0.35999999999999943'\": 6, \"'0.34800000000000253'\": 6, \"'0.4579999999999984'\": 6, \"'0.22799999999999798'\": 6, \"'0.4450000000000003'\": 6, \"'0.36100000000000065'\": 6, \"'0.1490000000000009'\": 6, \"'0.37900000000000134'\": 6, \"'0.29799999999999827'\": 6, \"'0.24299999999999855'\": 6, \"'0.14300000000000068'\": 6, \"'0.1509999999999998'\": 6, \"'0.4209999999999994'\": 6, \"'0.3880000000000017'\": 6, \"'0.4190000000000005'\": 5, \"'0.5869999999999997'\": 5, \"'0.4460000000000015'\": 5, \"'0.23699999999999832'\": 5, \"'0.10699999999999932'\": 5, \"'0.2859999999999978'\": 5, \"'0.1910000000000025'\": 5, \"'0.2099999999999973'\": 5, \"'0.26099999999999923'\": 5, \"'0.21599999999999753'\": 5, \"'0.1559999999999988'\": 5, \"'0.593'\": 5, \"'0.3960000000000008'\": 5, \"'0.45899999999999963'\": 5, \"'0.32700000000000173'\": 5, \"'0.3150000000000013'\": 5, \"'0.5640000000000001'\": 5, \"'0.33699999999999974'\": 5, \"'0.3930000000000007'\": 5, \"'0.5'\": 5, \"'0.5030000000000001'\": 5, \"'0.35300000000000153'\": 5, \"'0.16000000000000014'\": 5, \"'0.4140000000000015'\": 5, \"'0.1880000000000024'\": 5, \"'0.3440000000000012'\": 5, \"'0.16900000000000048'\": 5, \"'0.17299999999999827'\": 5, \"'0.19400000000000261'\": 5, \"'0.4750000000000014'\": 5, \"'0.4759999999999991'\": 5, \"'0.41300000000000026'\": 5, \"'0.4640000000000022'\": 5, \"'0.2640000000000029'\": 5, \"'0.1700000000000017'\": 5, \"'0.2799999999999976'\": 5, \"'0.46199999999999974'\": 5, \"'0.36799999999999855'\": 5, \"'0.4079999999999977'\": 5, \"'0.32200000000000273'\": 5, \"'0.532'\": 5, \"'0.38200000000000145'\": 5, \"'0.32399999999999807'\": 5, \"'0.45500000000000185'\": 5, \"'0.36299999999999955'\": 5, \"'0.40300000000000225'\": 5, \"'0.536999999999999'\": 5, \"'0.4200000000000017'\": 5, \"'0.4299999999999997'\": 5, \"'0.13700000000000045'\": 5, \"'0.38700000000000045'\": 5, \"'0.4280000000000008'\": 5, \"'0.13200000000000145'\": 5, \"'0.21399999999999864'\": 5, \"'0.41600000000000037'\": 5, \"'0.3149999999999977'\": 5, \"'0.33899999999999864'\": 4, \"'0.48799999999999955'\": 4, \"'0.472999999999999'\": 4, \"'0.4400000000000013'\": 4, \"'0.2140000000000022'\": 4, \"'0.22000000000000242'\": 4, \"'0.41000000000000014'\": 4, \"'0.43900000000000006'\": 4, \"'0.5350000000000001'\": 4, \"'0.5010000000000012'\": 4, \"'0.4710000000000001'\": 4, \"'0.259999999999998'\": 4, \"'0.1579999999999977'\": 4, \"'0.4690000000000012'\": 4, \"'0.3739999999999988'\": 4, \"'0.49799999999999756'\": 4, \"'0.40500000000000114'\": 4, \"'0.5450000000000017'\": 4, \"'0.27399999999999736'\": 4, \"'0.3190000000000026'\": 4, \"'0.5250000000000021'\": 4, \"'0.4609999999999985'\": 4, \"'0.4529999999999994'\": 4, \"'0.4660000000000011'\": 4, \"'0.5090000000000003'\": 4, \"'0.45700000000000074'\": 4, \"'0.40800000000000125'\": 4, \"'0.2069999999999972'\": 4, \"'0.16999999999999815'\": 4, \"'0.14000000000000057'\": 4, \"'0.352999999999998'\": 4, \"'0.3789999999999978'\": 4, \"'0.4499999999999993'\": 4, \"'0.15300000000000225'\": 4, \"'0.3509999999999991'\": 4, \"'0.6340000000000003'\": 4, \"'0.4269999999999996'\": 4, \"'0.3620000000000019'\": 4, \"'0.46499999999999986'\": 4, \"'0.49099999999999966'\": 4, \"'0.3409999999999975'\": 4, \"'0.21300000000000097'\": 4, \"'0.4480000000000004'\": 4, \"'0.2900000000000027'\": 4, \"'0.4519999999999982'\": 4, \"'0.384999999999998'\": 4, \"'0.15499999999999758'\": 4, \"'0.37400000000000233'\": 4, \"'0.14899999999999736'\": 4, \"'0.4800000000000004'\": 4, \"'0.46999999999999886'\": 4, \"'0.3940000000000019'\": 4, \"'0.3730000000000011'\": 4, \"'0.4809999999999981'\": 4, \"'0.43799999999999883'\": 4, \"'0.4870000000000019'\": 4, \"'0.2359999999999971'\": 4, \"'0.2950000000000017'\": 4, \"'0.3160000000000025'\": 4, \"'0.245000000000001'\": 4, \"'0.3100000000000023'\": 4, \"'0.2980000000000018'\": 4, \"'0.33000000000000185'\": 4, \"'0.5339999999999989'\": 4, \"'0.4059999999999988'\": 4, \"'0.2630000000000017'\": 4, \"'0.4039999999999999'\": 4, \"'0.4319999999999986'\": 4, \"'0.3910000000000018'\": 4, \"'0.1039999999999992'\": 4, \"'0.1670000000000016'\": 4, \"'0.14299999999999713'\": 4, \"'0.23500000000000298'\": 4, \"'0.12899999999999778'\": 4, \"'0.389999999999997'\": 4, \"'0.4980000000000011'\": 4, \"'0.129999999999999'\": 4, \"'0.34699999999999775'\": 4, \"'0.48600000000000065'\": 3, \"'0.4740000000000002'\": 3, \"'0.36699999999999733'\": 3, \"'0.3619999999999983'\": 3, \"'0.2829999999999977'\": 3, \"'0.5559999999999974'\": 3, \"'0.12900000000000134'\": 3, \"'0.370000000000001'\": 3, \"'0.41699999999999804'\": 3, \"'0.40600000000000236'\": 3, \"'0.1390000000000029'\": 3, \"'0.1839999999999975'\": 3, \"'0.11599999999999966'\": 3, \"'0.15199999999999747'\": 3, \"'0.10500000000000043'\": 3, \"'0.43700000000000117'\": 3, \"'0.6750000000000007'\": 3, \"'0.4220000000000006'\": 3, \"'0.48499999999999943'\": 3, \"'0.6660000000000004'\": 3, \"'0.5309999999999988'\": 3, \"'0.46799999999999997'\": 3, \"'0.29499999999999815'\": 3, \"'0.2049999999999983'\": 3, \"'0.46300000000000097'\": 3, \"'0.5920000000000023'\": 3, \"'0.27099999999999724'\": 3, \"'0.3119999999999976'\": 3, \"'0.5500000000000007'\": 3, \"'0.2960000000000029'\": 3, \"'0.27500000000000213'\": 3, \"'0.5390000000000015'\": 3, \"'0.5269999999999975'\": 3, \"'0.43400000000000105'\": 3, \"'0.5429999999999993'\": 3, \"'0.6059999999999981'\": 3, \"'0.37299999999999756'\": 3, \"'0.25800000000000267'\": 3, \"'0.7160000000000011'\": 3, \"'0.5470000000000006'\": 3, \"'0.23200000000000287'\": 3, \"'0.48100000000000165'\": 3, \"'0.4250000000000007'\": 3, \"'0.43200000000000216'\": 3, \"'0.5060000000000002'\": 3, \"'0.504999999999999'\": 3, \"'0.41899999999999693'\": 3, \"'0.5530000000000008'\": 3, \"'0.27800000000000225'\": 3, \"'0.3990000000000009'\": 3, \"'0.17100000000000293'\": 3, \"'0.15500000000000114'\": 3, \"'0.18500000000000227'\": 3, \"'0.41499999999999915'\": 3, \"'0.4430000000000014'\": 3, \"'0.38500000000000156'\": 3, \"'0.15900000000000247'\": 3, \"'0.4239999999999995'\": 3, \"'0.39099999999999824'\": 3, \"'0.11799999999999855'\": 3, \"'0.17600000000000193'\": 3, \"'0.0990000000000002'\": 3, \"'0.13400000000000034'\": 3, \"'0.3829999999999991'\": 3, \"'0.43599999999999994'\": 3, \"'0.48300000000000054'\": 3, \"'0.6170000000000009'\": 3, \"'0.4349999999999987'\": 3, \"'0.2610000000000028'\": 3, \"'0.4109999999999978'\": 3, \"'0.17799999999999727'\": 3, \"'0.402000000000001'\": 3, \"'0.5389999999999979'\": 3, \"'0.14599999999999724'\": 3, \"'0.35600000000000165'\": 3, \"'0.20229999999999696'\": 3, \"'0.27699999999999747'\": 3, \"'0.12099999999999866'\": 3, \"'0.3710000000000022'\": 3, \"'0.36499999999999844'\": 3, \"'0.49599999999999866'\": 3, \"'0.17099999999999937'\": 3, \"'0.3349999999999973'\": 3, \"'0.15000000000000213'\": 3, \"'0.41100000000000136'\": 3, \"'0.1739999999999995'\": 3, \"'0.22399999999999665'\": 3, \"'0.19700000000000273'\": 3, \"'0.365000000000002'\": 3, \"'0.32500000000000284'\": 3, \"'0.5009999999999977'\": 3, \"'0.620000000000001'\": 3, \"'0.4659999999999975'\": 3, \"'0.2700000000000031'\": 3, \"'0.11100000000000065'\": 3, \"'0.15200000000000102'\": 3, \"'0.44299999999999784'\": 3, \"'0.12399999999999878'\": 3, \"'0.4029999999999987'\": 3, \"'0.4559999999999995'\": 3, \"'0.3269999999999982'\": 3, \"'0.5159999999999982'\": 3, \"'0.3059999999999974'\": 3, \"'0.12600000000000122'\": 3, \"'0.10000000000000142'\": 3, \"'0.13800000000000168'\": 3, \"'0.5120000000000005'\": 2, \"'0.12700000000000244'\": 2, \"'0.1680000000000028'\": 2, \"'0.7220000000000013'\": 2, \"'0.6419999999999995'\": 2, \"'0.6159999999999997'\": 2, \"'0.7249999999999979'\": 2, \"'0.6439999999999984'\": 2, \"'0.565999999999999'\": 2, \"'0.10099999999999909'\": 2, \"'0.20300000000000296'\": 2, \"'0.20220000000000173'\": 2, \"'0.13300000000000267'\": 2, \"'0.41199999999999903'\": 2, \"'0.15800000000000125'\": 2, \"'0.5969999999999978'\": 2, \"'0.6270000000000024'\": 2, \"'0.5459999999999994'\": 2, \"'0.11200000000000188'\": 2, \"'0.4960000000000022'\": 2, \"'0.485000000000003'\": 2, \"'0.6400000000000006'\": 2, \"'0.4549999999999983'\": 2, \"'0.690999999999999'\": 2, \"'0.4049999999999976'\": 2, \"'0.35900000000000176'\": 2, \"'0.6009999999999991'\": 2, \"'0.4930000000000021'\": 2, \"'0.32299999999999685'\": 2, \"'0.45200000000000173'\": 2, \"'0.3299999999999983'\": 2, \"'0.7070000000000007'\": 2, \"'0.26799999999999713'\": 2, \"'0.7109999999999985'\": 2, \"'0.34499999999999886'\": 2, \"'0.4089999999999989'\": 2, \"'0.44899999999999807'\": 2, \"'0.29900000000000304'\": 2, \"'0.23899999999999721'\": 2, \"'0.4720000000000013'\": 2, \"'0.7379999999999995'\": 2, \"'0.48400000000000176'\": 2, \"'0.30200000000000315'\": 2, \"'0.3639999999999972'\": 2, \"'0.4170000000000016'\": 2, \"'0.43100000000000094'\": 2, \"'0.5570000000000022'\": 2, \"'0.6219999999999999'\": 2, \"'0.5199999999999996'\": 2, \"'0.6259999999999977'\": 2, \"'0.718'\": 2, \"'0.8580000000000005'\": 2, \"'0.41799999999999926'\": 2, \"'0.3180000000000014'\": 2, \"'0.22600000000000264'\": 2, \"'0.5360000000000014'\": 2, \"'0.4889999999999972'\": 2, \"'0.18000000000000327'\": 2, \"'0.16899999999999693'\": 2, \"'0.3549999999999969'\": 2, \"'0.3630000000000031'\": 2, \"'0.30500000000000327'\": 2, \"'0.5919999999999987'\": 2, \"'0.5690000000000026'\": 2, \"'0.3680000000000021'\": 2, \"'0.4469999999999992'\": 2, \"'0.6530000000000022'\": 2, \"'0.8160000000000025'\": 2, \"'0.44200000000000017'\": 2, \"'0.42600000000000193'\": 2, \"'0.4369999999999976'\": 2, \"'0.5380000000000003'\": 2, \"'0.2930000000000028'\": 2, \"'0.2170000000000023'\": 2, \"'0.5820000000000007'\": 2, \"'0.18099999999999739'\": 2, \"'0.5560000000000009'\": 2, \"'0.48999999999999844'\": 2, \"'0.44099999999999895'\": 2, \"'0.5839999999999996'\": 2, \"'0.6500000000000021'\": 2, \"'0.29999999999999716'\": 2, \"'0.11500000000000199'\": 2, \"'0.37099999999999866'\": 2, \"'0.6260000000000012'\": 2, \"'0.17400000000000304'\": 2, \"'0.5939999999999976'\": 2, \"'0.6149999999999984'\": 2, \"'0.7449999999999974'\": 2, \"'0.36999999999999744'\": 2, \"'0.1319999999999979'\": 2, \"'0.5579999999999998'\": 2, \"'0.4139999999999979'\": 2, \"'0.3450000000000024'\": 2, \"'0.7049999999999983'\": 2, \"'0.16699999999999804'\": 2, \"'0.37700000000000244'\": 2, \"'0.5489999999999995'\": 2, \"'0.4150000000000027'\": 2, \"'0.1620000000000026'\": 2, \"'0.1180000000000021'\": 2, \"'0.5139999999999993'\": 2, \"'0.16599999999999682'\": 2, \"'0.5299999999999976'\": 2, \"'0.3879999999999981'\": 2, \"'0.6980000000000004'\": 2, \"'0.1650000000000027'\": 2, \"'0.2909999999999968'\": 2, \"'0.2870000000000026'\": 2, \"'0.4129999999999967'\": 2, \"'0.24799999999999756'\": 2, \"'0.754999999999999'\": 2, \"'0.6449999999999996'\": 2, \"'0.5700000000000003'\": 2, \"'0.45800000000000196'\": 2, \"'0.3319999999999972'\": 2, \"'0.14699999999999847'\": 2, \"'0.4510000000000005'\": 2, \"'0.5519999999999996'\": 2, \"'0.3559999999999981'\": 2, \"'0.38000000000000256'\": 2, \"'0.482999999999997'\": 2, \"'0.6290000000000013'\": 2, \"'0.7360000000000007'\": 2, \"'0.5179999999999971'\": 2, \"'0.8249999999999993'\": 2, \"'0.14199999999999946'\": 2, \"'0.5210000000000008'\": 2, \"'0.4309999999999974'\": 2, \"'0.264999999999997'\": 2, \"'0.559000000000001'\": 2, \"'0.33100000000000307'\": 2, \"'0.14999999999999858'\": 2, \"'0.24900000000000233'\": 2, \"'0.6120000000000019'\": 2, \"'0.44599999999999795'\": 2, \"'0.40000000000000213'\": 2, \"'0.33300000000000196'\": 2, \"'0.570999999999998'\": 2, \"'0.39699999999999847'\": 2, \"'0.39599999999999724'\": 2, \"'0.22300000000000253'\": 2, \"'0.11400000000000077'\": 2, \"'0.13599999999999923'\": 2, \"'0.2619999999999969'\": 2, \"'0.5219999999999985'\": 2, \"'0.796999999999997'\": 2, \"'0.7530000000000001'\": 2, \"'0.5890000000000022'\": 2, \"'0.7210000000000001'\": 2, \"'0.554000000000002'\": 2, \"'0.10999999999999943'\": 2, \"'0.5130000000000017'\": 2, \"'0.6320000000000014'\": 2, \"'0.37599999999999767'\": 2, \"'0.546999999999997'\": 2, \"'0.4540000000000006'\": 2, \"'0.10800000000000054'\": 2, \"'0.1339999999999968'\": 2, \"'0.09499999999999886'\": 2, \"'0.08599999999999852'\": 2, \"'0.10200000000000031'\": 2, \"'0.10899999999999821'\": 2, \"'0.1440000000000019'\": 2, \"'0.11899999999999977'\": 2, \"'0.17499999999999716'\": 2, \"'0.11399999999999721'\": 2, \"'0.24499999999999744'\": 2, \"'0.09699999999999775'\": 2, \"'0.0'\": 2, \"'0.11700000000000088';\": 2, \"'0.9719999999999978'\": 1, \"'0.6649999999999991'\": 1, \"'0.8710000000000022'\": 1, \"'0.15600000000000236'\": 1, \"'0.5910000000000011'\": 1, \"'0.6179999999999986'\": 1, \"'0.7469999999999999'\": 1, \"'0.6559999999999988'\": 1, \"'0.3089999999999975'\": 1, \"'0.8599999999999994'\": 1, \"'0.29699999999999704'\": 1, \"'0.4399999999999977'\": 1, \"'0.7149999999999999'\": 1, \"'0.9250000000000007'\": 1, \"'0.4700000000000024'\": 1, \"'0.6479999999999997'\": 1, \"'0.5850000000000009'\": 1, \"'0.360000000000003'\": 1, \"'0.6759999999999984'\": 1, \"'0.5950000000000024'\": 1, \"'0.49299999999999855'\": 1, \"'0.142000000000003'\": 1, \"'0.4989999999999988'\": 1, \"'0.12100000000000222'\": 1, \"'0.19199999999999662'\": 1, \"'0.509999999999998'\": 1, \"'0.671999999999997'\": 1, \"'0.5480000000000018'\": 1, \"'0.6930000000000014'\": 1, \"'0.24700000000000344'\": 1, \"'0.7870000000000026'\": 1, \"'0.47699999999999676'\": 1, \"'0.6089999999999982'\": 1, \"'0.5680000000000014'\": 1, \"'0.6359999999999992'\": 1, \"'0.8319999999999972'\": 1, \"'0.39299999999999713'\": 1, \"'0.8620000000000019'\": 1, \"'0.541999999999998'\": 1, \"'0.13100000000000023'\": 1, \"'0.7129999999999974'\": 1, \"'0.16399999999999793'\": 1, \"'0.5959999999999965'\": 1, \"'0.5769999999999982'\": 1, \"'0.13899999999999935'\": 1, \"'0.5189999999999984'\": 1, \"'0.42499999999999716'\": 1, \"'0.30100000000000193'\": 1, \"'0.5940000000000012'\": 1, \"'0.5140000000000029'\": 1, \"'0.4799999999999969'\": 1, \"'0.5150000000000006'\": 1, \"'0.6469999999999985'\": 1, \"'0.8589999999999982'\": 1, \"'0.04899999999999949'\": 1, \"'0.6020000000000003'\": 1, \"'0.5689999999999991'\": 1, \"'0.5800000000000018'\": 1, \"'0.6869999999999976'\": 1, \"'0.8939999999999984'\": 1, \"'0.5280000000000022'\": 1, \"'0.722999999999999'\": 1, \"'0.5359999999999978'\": 1, \"'0.7199999999999989'\": 1, \"'0.7789999999999999'\": 1, \"'0.7190000000000012'\": 1, \"'0.6670000000000016'\": 1, \"'0.2840000000000025'\": 1, \"'0.7269999999999968'\": 1, \"'0.7439999999999998'\": 1, \"'0.397000000000002'\": 1, \"'0.4339999999999975'\": 1, \"'0.25299999999999656'\": 1, \"'0.4330000000000034'\": 1, \"'0.6689999999999969'\": 1, \"'0.4590000000000032'\": 1, \"'1.093'\": 1, \"'0.7050000000000018'\": 1, \"'0.8239999999999981'\": 1, \"'0.6780000000000008'\": 1, \"'0.4159999999999968'\": 1, \"'1.0829999999999984'\": 1, \"'0.44399999999999906'\": 1, \"'0.14700000000000202'\": 1, \"'0.7119999999999997'\": 1, \"'0.6819999999999986'\": 1, \"'0.5019999999999989'\": 1, \"'0.8790000000000013'\": 1, \"'1.4789999999999992'\": 1, \"'0.5370000000000026'\": 1, \"'1.033999999999999'\": 1, \"'0.6410000000000018'\": 1, \"'0.392000000000003'\": 1, \"'0.7359999999999971'\": 1, \"'0.7710000000000008'\": 1, \"'0.267000000000003'\": 1, \"'0.7719999999999985'\": 1, \"'0.32599999999999696'\": 1, \"'0.4230000000000018'\": 1, \"'0.5600000000000023'\": 1, \"'0.3130000000000024'\": 1, \"'0.09500000000000242'\": 1, \"'0.7019999999999982'\": 1, \"'0.8260000000000005'\": 1, \"'0.8039999999999985'\": 1, \"'0.5819999999999972'\": 1, \"'0.5449999999999982'\": 1, \"'0.6679999999999993'\": 1, \"'0.6210000000000022'\": 1, \"'0.5440000000000005'\": 1, \"'0.3379999999999974'\": 1, \"'0.8060000000000009'\": 1, \"'0.6060000000000016'\": 1, \"'0.8449999999999989'\": 1, \"'0.495000000000001'\": 1, \"'0.47399999999999665'\": 1, \"'0.5040000000000013'\": 1, \"'0.24199999999999733'\": 1, \"'0.24400000000000333'\": 1, \"'0.5160000000000018'\": 1, \"'0.17599999999999838'\": 1, \"'0.4839999999999982'\": 1, \"'0.4920000000000009'\": 1, \"'0.13999999999999702'\": 1, \"'0.4490000000000016'\": 1, \"'0.4859999999999971'\": 1, \"'0.7059999999999995'\": 1, \"'0.20399999999999707'\": 1, \"'0.6329999999999991'\": 1, \"'0.6310000000000002'\": 1, \"'1.0139999999999993'\": 1, \"'0.45600000000000307'\": 1, \"'0.4120000000000026'\": 1, \"'0.5399999999999991'\": 1, \"'0.8709999999999987'\": 1, \"'0.08299999999999841'\": 1, \"'0.6090000000000018'\": 1, \"'0.44700000000000273'\": 1, \"'0.5200000000000031'\": 1, \"'0.666999999999998'\": 1, \"'0.6579999999999977'\": 1, \"'0.6140000000000008'\": 1, \"'0.6999999999999993'\": 1, \"'0.0519999999999996'\": 1, \"'0.6370000000000005'\": 1, \"'0.6810000000000009'\": 1, \"'1.078999999999997'\": 1, \"'0.6360000000000028'\": 1, \"'0.8369999999999997'\": 1, \"'0.6330000000000027'\": 1, \"'0.6739999999999995'\": 1, \"'0.7270000000000003'\": 1, \"'0.8900000000000006'\": 1, \"'0.46699999999999875'\": 1, \"'0.6550000000000011'\": 1, \"'0.14500000000000313'\": 1, \"'0.5760000000000005'\": 1, \"'0.4869999999999983'\": 1, \"'0.5129999999999981'\": 1, \"'0.357999999999997'\": 1, \"'0.6539999999999999'\": 1, \"'0.17199999999999704'\": 1, \"'0.27300000000000324'\": 1, \"'0.6069999999999993'\": 1, \"'0.578000000000003'\": 1, \"'1.0039999999999978'\": 1, \"'0.9849999999999994'\": 1, \"'0.37799999999999656'\": 1, \"'0.5879999999999974'\": 1, \"'0.5249999999999986'\": 1, \"'0.7960000000000029'\": 1, \"'0.9349999999999987'\": 1, \"'0.6639999999999979'\": 1, \"'0.713000000000001'\": 1, \"'0.5239999999999974'\": 1, \"'0.3360000000000021'\": 1, \"'0.7729999999999997'\": 1, \"'0.8780000000000001'\": 1, \"'0.5650000000000013'\": 1, \"'0.5039999999999978'\": 1, \"'0.5330000000000013'\": 1, \"'0.6269999999999989'\": 1, \"'0.4969999999999999'\": 1, \"'0.5960000000000001'\": 1, \"'0.5799999999999983'\": 1, \"'0.47300000000000253'\": 1, \"'0.8410000000000011'\": 1, \"'0.15100000000000335'\": 1, \"'0.21800000000000352'\": 1, \"'0.5740000000000016'\": 1, \"'0.41999999999999815'\": 1, \"'0.39899999999999736'\": 1, \"'0.30299999999999727'\": 1, \"'0.4090000000000025'\": 1, \"'0.134999999999998'\": 1, \"'0.5699999999999967'\": 1, \"'0.6600000000000001'\": 1, \"'0.5169999999999995'\": 1, \"'0.6880000000000024'\": 1, \"'0.625'\": 1, \"'0.5889999999999986'\": 1, \"'0.9579999999999984'\": 1, \"'0.6950000000000003'\": 1, \"'0.4789999999999992'\": 1, \"'0.09700000000000131'\": 1, \"'0.7429999999999986'\": 1, \"'0.3860000000000028'\": 1, \"'0.6160000000000032'\": 1, \"'0.3420000000000023'\": 1, \"'0.2380000000000031'\": 1, \"'0.14099999999999824'\": 1, \"'0.1109999999999971'\": 1, \"'0.4610000000000021'\": 1, \"'0.7010000000000005'\": 1, \"'0.527000000000001'\": 1, \"'0.5029999999999966'\": 1, \"'0.6390000000000029'\": 1, \"'0.7850000000000001'\": 1, \"'0.45300000000000296'\": 1, \"'0.7319999999999993'\": 1, \"'0.9619999999999997'\": 1, \"'0.7899999999999991'\": 1, \"'0.8530000000000015'\": 1, \"'0.4910000000000032'\": 1, \"'0.5109999999999992'\": 1, \"'0.7330000000000005'\": 1, \"'0.5870000000000033'\": 1, \"'0.4380000000000024'\": 1, \"'0.47600000000000264'\": 1, \"'0.9660000000000011'\": 1, \"'0.6560000000000024'\": 1, \"'0.08699999999999974'\": 1, \"'1.0800000000000018'\": 1, \"'2.5600000000000023'\": 1, \"'0.7480000000000011'\": 1, \"'0.5240000000000009'\": 1, \"'1.0530000000000008'\": 1, \"'0.9920000000000009'\": 1, \"'0.9909999999999997'\": 1, \"'0.40199999999999747'\": 1, \"'0.2589999999999968'\": 1, \"'0.35400000000000276'\": 1, \"'0.5420000000000016'\": 1, \"'0.661999999999999'\": 1, \"'0.4180000000000028'\": 1, \"'0.852999999999998'\": 1, \"'0.6870000000000012'\": 1, \"'0.7389999999999972'\": 1, \"'0.8390000000000022'\": 1, \"'0.8290000000000006'\": 1, \"'0.6969999999999992'\": 1, \"'0.5100000000000016'\": 1, \"'0.477999999999998'\": 1, \"'0.8219999999999992'\": 1, \"'0.5110000000000028'\": 1, \"'0.8210000000000015'\": 1, \"'0.3470000000000013'\": 1, \"'0.7409999999999997'\": 1, \"'0.7740000000000009'\": 1, \"'0.4939999999999998'\": 1, \"'0.7219999999999978'\": 1, \"'0.5259999999999998'\": 1, \"'0.5829999999999984'\": 1, \"'0.5329999999999977'\": 1, \"'16.601999999999997'\": 1, \"'6.286999999999999'\": 1, \"'5.987000000000002'\": 1, \"'6.291'\": 1, \"'6.413999999999998'\": 1, \"'6.131999999999998'\": 1, \"'6.318999999999999'\": 1, \"'6.470000000000002'\": 1, \"'6.299999999999997'\": 1, \"'0.9299999999999997'\": 1, \"'0.7479999999999976'\": 1, \"'0.8240000000000016'\": 1, \"'0.5629999999999988'\": 1, \"'0.6459999999999972'\": 1, \"'0.12199999999999989'\": 1, \"'0.5400000000000027'\": 1, \"'0.5069999999999979'\": 1, \"'1.0360000000000014'\": 1, \"'0.5599999999999987'\": 1, \"'0.2879999999999967'\": 1, \"'0.6610000000000014'\": 1, \"'0.5990000000000002'\": 1, \"'0.6799999999999997'\": 1, \"'0.6379999999999981'\": 1, \"'0.6050000000000004'\": 1, \"'0.995000000000001'\": 1, \"'0.13500000000000156'\": 1, \"'0.31999999999999673'\": 1, \"'0.022000000000002022'\": 1, \"'0.5739999999999981'\": 1, \"'0.6989999999999981'\": 1, \"'0.6409999999999982'\": 1, \"'0.9520000000000017'\": 1, \"'0.5809999999999995'\": 1, \"'0.5300000000000011'\": 1, \"'0.6010000000000026'\": 1, \"'0.4539999999999971'\": 1, \"'0.09199999999999875'\": 1, \"'0.5310000000000024'\": 1, \"'2.3679999999999986'\": 1, \"'0.10499999999999687'\": 1, \"'0.08000000000000185'\": 1, \"'0.08799999999999741'\": 1, \"'0.08900000000000219'\": 1, \"'0.09399999999999764'\": 1, \"'0.09799999999999898'\": 1, \"'0.120000000000001'\": 1, \"'0.08800000000000097'\": 1, \"'0.10900000000000176'\": 1, \"'0.08999999999999986'\": 1, \"'0.10300000000000153'\": 1, \"'0.010999999999999233'\": 1, \"'0.29399999999999693'\": 1, \"'0.7880000000000003'\": 1, \"'0.6769999999999996'\": 1, \"'0.232999999999997'\": 1, \"'0.13000000000000256'\": 1, \"'0.5670000000000002'\": 1, \"'0.759999999999998'\": 1, \"'0.6919999999999966'\": 1, \"'0.6829999999999998'\": 1, \"'0.7430000000000021'\": 1, \"'0.20600000000000307'\": 1, \"'0.12599999999999767'\": 1, \"'0.3809999999999967'\": 1, \"'0.25200000000000244'\": 1, \"'0.036000000000001364'\": 1, \"'0.10400000000000276'\": 1, \"'0.5079999999999991'\": 1, \"'0.6350000000000016'\": 1, \"'0.588000000000001'\": 1, \"'0.06599999999999895'\": 1, \"'0.08300000000000196'\": 1, \"'0.07899999999999707'\": 1, \"'0.6789999999999985'\": 1, \"'0.09100000000000108'\": 1, \"'0.5900000000000034'\": 1, \"'0.08500000000000085'\": 1, \"'0.7610000000000028'\": 1, \"'0.13600000000000279'\": 1, \"'0.09999999999999787'\": 1, \"'0.8350000000000009'\": 1, \"'0.3169999999999966'\": 1, \"'0.0920000000000023'\": 1, \"'0.0779999999999994'\": 1, \"'0.11499999999999844'\": 1, \"'0.0940000000000012'\": 1, \"'0.1460000000000008'\": 1, \"'0.07499999999999929'\": 1, \"'0.13099999999999667'\": 1, \"'0.07699999999999818'\": 1, \"'0.12400000000000233'\": 1})\n"
          ]
        }
      ]
    },
    {
      "cell_type": "markdown",
      "source": [
        "**There are a lot of non standard missing values which will be taken care of**\n",
        "\n",
        "* The entire dataset is of the format '...'. Will remove `''` this and then convert it into their relevant datatypes. \n"
      ],
      "metadata": {
        "id": "SG1l4LT1hESH"
      }
    },
    {
      "cell_type": "code",
      "source": [
        "for column in df.columns:\n",
        "  values = []\n",
        "  for i in df[column]:\n",
        "    values.append(str(i).replace(\"'\", \"\").strip())\n",
        "  df[column] = values"
      ],
      "metadata": {
        "id": "RAgIKyQ4QtsU"
      },
      "execution_count": 10,
      "outputs": []
    },
    {
      "cell_type": "code",
      "source": [
        "df.head()"
      ],
      "metadata": {
        "colab": {
          "base_uri": "https://localhost:8080/",
          "height": 357
        },
        "id": "LYpR4sYhNCif",
        "outputId": "adf79d0a-604e-4e1b-fc9d-58866fe8a6cd"
      },
      "execution_count": 11,
      "outputs": [
        {
          "output_type": "execute_result",
          "data": {
            "text/plain": [
              "         date average_temperature average_humidity average_dewpoint  \\\n",
              "0  01/01/2022                37.8             35.0             12.7   \n",
              "1  2022-01-02                43.2             32.0             14.7   \n",
              "2  2022-01-03                25.7             60.0             12.7   \n",
              "3  2022-01-04                 9.3             67.0              0.1   \n",
              "4  2022-01-05                23.5             30.0             -5.3   \n",
              "\n",
              "  average_barometer average_windspeed average_gustspeed average_direction  \\\n",
              "0              29.7              26.4              36.8             274.0   \n",
              "1              29.5              12.8              18.0             240.0   \n",
              "2              29.7               8.3              12.2             290.0   \n",
              "3              30.4               2.9               4.5              47.0   \n",
              "4              29.9              16.7              23.1             265.0   \n",
              "\n",
              "  rainfall_for_month rainfall_for_year maximum_rain_per_minute  \\\n",
              "0                0.0               0.0                     0.0   \n",
              "1                0.0               0.0                     0.0   \n",
              "2                0.0               0.0                     0.0   \n",
              "3                0.0               0.0                     0.0   \n",
              "4                0.0               0.0                     0.0   \n",
              "\n",
              "  maximum_temperature minimum_temperature maximum_humidity minimum_humidity  \\\n",
              "0                40.0                34.0              4.0             27.0   \n",
              "1                52.0                37.0              4.0             16.0   \n",
              "2                41.0                 6.0              8.0             35.0   \n",
              "3                19.0                -0.0              7.0             35.0   \n",
              "4                30.0                15.0              5.0             13.0   \n",
              "\n",
              "  maximum_pressure minimum_pressure maximum_windspeed maximum_gust_speed  \\\n",
              "0           29.762           29.596              41.4               59.0   \n",
              "1           29.669           29.268              35.7               51.0   \n",
              "2           30.232            29.26              25.3               38.0   \n",
              "3           30.566           30.227              12.7               20.0   \n",
              "4           30.233           29.568              38.0               53.0   \n",
              "\n",
              "  maximum_heat_index       date1 month        diff_pressure  \n",
              "0               40.0  2022-01-01    01  0.16600000000000037  \n",
              "1               52.0  2022-01-02    01   0.4009999999999998  \n",
              "2               41.0  2022-01-03    01   0.9719999999999978  \n",
              "3               32.0  2022-01-04    01  0.33899999999999864  \n",
              "4               32.0  2022-01-05    01   0.6649999999999991  "
            ],
            "text/html": [
              "\n",
              "  <div id=\"df-cb4f4463-09cb-4ec9-b41d-55f656c5ccaa\">\n",
              "    <div class=\"colab-df-container\">\n",
              "      <div>\n",
              "<style scoped>\n",
              "    .dataframe tbody tr th:only-of-type {\n",
              "        vertical-align: middle;\n",
              "    }\n",
              "\n",
              "    .dataframe tbody tr th {\n",
              "        vertical-align: top;\n",
              "    }\n",
              "\n",
              "    .dataframe thead th {\n",
              "        text-align: right;\n",
              "    }\n",
              "</style>\n",
              "<table border=\"1\" class=\"dataframe\">\n",
              "  <thead>\n",
              "    <tr style=\"text-align: right;\">\n",
              "      <th></th>\n",
              "      <th>date</th>\n",
              "      <th>average_temperature</th>\n",
              "      <th>average_humidity</th>\n",
              "      <th>average_dewpoint</th>\n",
              "      <th>average_barometer</th>\n",
              "      <th>average_windspeed</th>\n",
              "      <th>average_gustspeed</th>\n",
              "      <th>average_direction</th>\n",
              "      <th>rainfall_for_month</th>\n",
              "      <th>rainfall_for_year</th>\n",
              "      <th>maximum_rain_per_minute</th>\n",
              "      <th>maximum_temperature</th>\n",
              "      <th>minimum_temperature</th>\n",
              "      <th>maximum_humidity</th>\n",
              "      <th>minimum_humidity</th>\n",
              "      <th>maximum_pressure</th>\n",
              "      <th>minimum_pressure</th>\n",
              "      <th>maximum_windspeed</th>\n",
              "      <th>maximum_gust_speed</th>\n",
              "      <th>maximum_heat_index</th>\n",
              "      <th>date1</th>\n",
              "      <th>month</th>\n",
              "      <th>diff_pressure</th>\n",
              "    </tr>\n",
              "  </thead>\n",
              "  <tbody>\n",
              "    <tr>\n",
              "      <th>0</th>\n",
              "      <td>01/01/2022</td>\n",
              "      <td>37.8</td>\n",
              "      <td>35.0</td>\n",
              "      <td>12.7</td>\n",
              "      <td>29.7</td>\n",
              "      <td>26.4</td>\n",
              "      <td>36.8</td>\n",
              "      <td>274.0</td>\n",
              "      <td>0.0</td>\n",
              "      <td>0.0</td>\n",
              "      <td>0.0</td>\n",
              "      <td>40.0</td>\n",
              "      <td>34.0</td>\n",
              "      <td>4.0</td>\n",
              "      <td>27.0</td>\n",
              "      <td>29.762</td>\n",
              "      <td>29.596</td>\n",
              "      <td>41.4</td>\n",
              "      <td>59.0</td>\n",
              "      <td>40.0</td>\n",
              "      <td>2022-01-01</td>\n",
              "      <td>01</td>\n",
              "      <td>0.16600000000000037</td>\n",
              "    </tr>\n",
              "    <tr>\n",
              "      <th>1</th>\n",
              "      <td>2022-01-02</td>\n",
              "      <td>43.2</td>\n",
              "      <td>32.0</td>\n",
              "      <td>14.7</td>\n",
              "      <td>29.5</td>\n",
              "      <td>12.8</td>\n",
              "      <td>18.0</td>\n",
              "      <td>240.0</td>\n",
              "      <td>0.0</td>\n",
              "      <td>0.0</td>\n",
              "      <td>0.0</td>\n",
              "      <td>52.0</td>\n",
              "      <td>37.0</td>\n",
              "      <td>4.0</td>\n",
              "      <td>16.0</td>\n",
              "      <td>29.669</td>\n",
              "      <td>29.268</td>\n",
              "      <td>35.7</td>\n",
              "      <td>51.0</td>\n",
              "      <td>52.0</td>\n",
              "      <td>2022-01-02</td>\n",
              "      <td>01</td>\n",
              "      <td>0.4009999999999998</td>\n",
              "    </tr>\n",
              "    <tr>\n",
              "      <th>2</th>\n",
              "      <td>2022-01-03</td>\n",
              "      <td>25.7</td>\n",
              "      <td>60.0</td>\n",
              "      <td>12.7</td>\n",
              "      <td>29.7</td>\n",
              "      <td>8.3</td>\n",
              "      <td>12.2</td>\n",
              "      <td>290.0</td>\n",
              "      <td>0.0</td>\n",
              "      <td>0.0</td>\n",
              "      <td>0.0</td>\n",
              "      <td>41.0</td>\n",
              "      <td>6.0</td>\n",
              "      <td>8.0</td>\n",
              "      <td>35.0</td>\n",
              "      <td>30.232</td>\n",
              "      <td>29.26</td>\n",
              "      <td>25.3</td>\n",
              "      <td>38.0</td>\n",
              "      <td>41.0</td>\n",
              "      <td>2022-01-03</td>\n",
              "      <td>01</td>\n",
              "      <td>0.9719999999999978</td>\n",
              "    </tr>\n",
              "    <tr>\n",
              "      <th>3</th>\n",
              "      <td>2022-01-04</td>\n",
              "      <td>9.3</td>\n",
              "      <td>67.0</td>\n",
              "      <td>0.1</td>\n",
              "      <td>30.4</td>\n",
              "      <td>2.9</td>\n",
              "      <td>4.5</td>\n",
              "      <td>47.0</td>\n",
              "      <td>0.0</td>\n",
              "      <td>0.0</td>\n",
              "      <td>0.0</td>\n",
              "      <td>19.0</td>\n",
              "      <td>-0.0</td>\n",
              "      <td>7.0</td>\n",
              "      <td>35.0</td>\n",
              "      <td>30.566</td>\n",
              "      <td>30.227</td>\n",
              "      <td>12.7</td>\n",
              "      <td>20.0</td>\n",
              "      <td>32.0</td>\n",
              "      <td>2022-01-04</td>\n",
              "      <td>01</td>\n",
              "      <td>0.33899999999999864</td>\n",
              "    </tr>\n",
              "    <tr>\n",
              "      <th>4</th>\n",
              "      <td>2022-01-05</td>\n",
              "      <td>23.5</td>\n",
              "      <td>30.0</td>\n",
              "      <td>-5.3</td>\n",
              "      <td>29.9</td>\n",
              "      <td>16.7</td>\n",
              "      <td>23.1</td>\n",
              "      <td>265.0</td>\n",
              "      <td>0.0</td>\n",
              "      <td>0.0</td>\n",
              "      <td>0.0</td>\n",
              "      <td>30.0</td>\n",
              "      <td>15.0</td>\n",
              "      <td>5.0</td>\n",
              "      <td>13.0</td>\n",
              "      <td>30.233</td>\n",
              "      <td>29.568</td>\n",
              "      <td>38.0</td>\n",
              "      <td>53.0</td>\n",
              "      <td>32.0</td>\n",
              "      <td>2022-01-05</td>\n",
              "      <td>01</td>\n",
              "      <td>0.6649999999999991</td>\n",
              "    </tr>\n",
              "  </tbody>\n",
              "</table>\n",
              "</div>\n",
              "      <button class=\"colab-df-convert\" onclick=\"convertToInteractive('df-cb4f4463-09cb-4ec9-b41d-55f656c5ccaa')\"\n",
              "              title=\"Convert this dataframe to an interactive table.\"\n",
              "              style=\"display:none;\">\n",
              "        \n",
              "  <svg xmlns=\"http://www.w3.org/2000/svg\" height=\"24px\"viewBox=\"0 0 24 24\"\n",
              "       width=\"24px\">\n",
              "    <path d=\"M0 0h24v24H0V0z\" fill=\"none\"/>\n",
              "    <path d=\"M18.56 5.44l.94 2.06.94-2.06 2.06-.94-2.06-.94-.94-2.06-.94 2.06-2.06.94zm-11 1L8.5 8.5l.94-2.06 2.06-.94-2.06-.94L8.5 2.5l-.94 2.06-2.06.94zm10 10l.94 2.06.94-2.06 2.06-.94-2.06-.94-.94-2.06-.94 2.06-2.06.94z\"/><path d=\"M17.41 7.96l-1.37-1.37c-.4-.4-.92-.59-1.43-.59-.52 0-1.04.2-1.43.59L10.3 9.45l-7.72 7.72c-.78.78-.78 2.05 0 2.83L4 21.41c.39.39.9.59 1.41.59.51 0 1.02-.2 1.41-.59l7.78-7.78 2.81-2.81c.8-.78.8-2.07 0-2.86zM5.41 20L4 18.59l7.72-7.72 1.47 1.35L5.41 20z\"/>\n",
              "  </svg>\n",
              "      </button>\n",
              "      \n",
              "  <style>\n",
              "    .colab-df-container {\n",
              "      display:flex;\n",
              "      flex-wrap:wrap;\n",
              "      gap: 12px;\n",
              "    }\n",
              "\n",
              "    .colab-df-convert {\n",
              "      background-color: #E8F0FE;\n",
              "      border: none;\n",
              "      border-radius: 50%;\n",
              "      cursor: pointer;\n",
              "      display: none;\n",
              "      fill: #1967D2;\n",
              "      height: 32px;\n",
              "      padding: 0 0 0 0;\n",
              "      width: 32px;\n",
              "    }\n",
              "\n",
              "    .colab-df-convert:hover {\n",
              "      background-color: #E2EBFA;\n",
              "      box-shadow: 0px 1px 2px rgba(60, 64, 67, 0.3), 0px 1px 3px 1px rgba(60, 64, 67, 0.15);\n",
              "      fill: #174EA6;\n",
              "    }\n",
              "\n",
              "    [theme=dark] .colab-df-convert {\n",
              "      background-color: #3B4455;\n",
              "      fill: #D2E3FC;\n",
              "    }\n",
              "\n",
              "    [theme=dark] .colab-df-convert:hover {\n",
              "      background-color: #434B5C;\n",
              "      box-shadow: 0px 1px 3px 1px rgba(0, 0, 0, 0.15);\n",
              "      filter: drop-shadow(0px 1px 2px rgba(0, 0, 0, 0.3));\n",
              "      fill: #FFFFFF;\n",
              "    }\n",
              "  </style>\n",
              "\n",
              "      <script>\n",
              "        const buttonEl =\n",
              "          document.querySelector('#df-cb4f4463-09cb-4ec9-b41d-55f656c5ccaa button.colab-df-convert');\n",
              "        buttonEl.style.display =\n",
              "          google.colab.kernel.accessAllowed ? 'block' : 'none';\n",
              "\n",
              "        async function convertToInteractive(key) {\n",
              "          const element = document.querySelector('#df-cb4f4463-09cb-4ec9-b41d-55f656c5ccaa');\n",
              "          const dataTable =\n",
              "            await google.colab.kernel.invokeFunction('convertToInteractive',\n",
              "                                                     [key], {});\n",
              "          if (!dataTable) return;\n",
              "\n",
              "          const docLinkHtml = 'Like what you see? Visit the ' +\n",
              "            '<a target=\"_blank\" href=https://colab.research.google.com/notebooks/data_table.ipynb>data table notebook</a>'\n",
              "            + ' to learn more about interactive tables.';\n",
              "          element.innerHTML = '';\n",
              "          dataTable['output_type'] = 'display_data';\n",
              "          await google.colab.output.renderOutput(dataTable, element);\n",
              "          const docLink = document.createElement('div');\n",
              "          docLink.innerHTML = docLinkHtml;\n",
              "          element.appendChild(docLink);\n",
              "        }\n",
              "      </script>\n",
              "    </div>\n",
              "  </div>\n",
              "  "
            ]
          },
          "metadata": {},
          "execution_count": 11
        }
      ]
    },
    {
      "cell_type": "markdown",
      "source": [
        "\n",
        "#### **All the columns have a datatype `Object`, will convert into their relevant datat types**"
      ],
      "metadata": {
        "id": "PQ4_C0kiKoDm"
      }
    },
    {
      "cell_type": "code",
      "source": [
        "df.date1 = pd.to_datetime(df.date1, errors = 'coerce')\n",
        "df.date= pd.to_datetime(df.date, errors = 'coerce')"
      ],
      "metadata": {
        "id": "K6D8N8uetjih"
      },
      "execution_count": 12,
      "outputs": []
    },
    {
      "cell_type": "code",
      "source": [
        "for col in df.columns:\n",
        "  if col not in ('date', 'date1'):\n",
        "    df[col] = pd.to_numeric(df[col], errors = 'coerce')"
      ],
      "metadata": {
        "id": "zbjlm6Xsi_Ik"
      },
      "execution_count": 13,
      "outputs": []
    },
    {
      "cell_type": "markdown",
      "source": [
        "**All the data types have been changed**"
      ],
      "metadata": {
        "id": "40rudo8i_9jX"
      }
    },
    {
      "cell_type": "markdown",
      "source": [
        "**Let's now check the null values**"
      ],
      "metadata": {
        "id": "dQTFufV3kio0"
      }
    },
    {
      "cell_type": "code",
      "source": [
        "df.isnull().sum()"
      ],
      "metadata": {
        "colab": {
          "base_uri": "https://localhost:8080/"
        },
        "id": "Yg-ZAv_9Rnjj",
        "outputId": "07f5fc8f-fb77-4482-bef3-3939514d0e17"
      },
      "execution_count": 14,
      "outputs": [
        {
          "output_type": "execute_result",
          "data": {
            "text/plain": [
              "date                       2\n",
              "average_temperature        0\n",
              "average_humidity           0\n",
              "average_dewpoint           0\n",
              "average_barometer          0\n",
              "average_windspeed          0\n",
              "average_gustspeed          0\n",
              "average_direction          0\n",
              "rainfall_for_month         0\n",
              "rainfall_for_year          0\n",
              "maximum_rain_per_minute    0\n",
              "maximum_temperature        0\n",
              "minimum_temperature        0\n",
              "maximum_humidity           0\n",
              "minimum_humidity           0\n",
              "maximum_pressure           0\n",
              "minimum_pressure           0\n",
              "maximum_windspeed          0\n",
              "maximum_gust_speed         0\n",
              "maximum_heat_index         0\n",
              "date1                      2\n",
              "month                      0\n",
              "diff_pressure              2\n",
              "dtype: int64"
            ]
          },
          "metadata": {},
          "execution_count": 14
        }
      ]
    },
    {
      "cell_type": "markdown",
      "source": [
        "*There are 2 missing values in the `date` column. Will drop them*"
      ],
      "metadata": {
        "id": "RgSXrDPH8q1t"
      }
    },
    {
      "cell_type": "code",
      "source": [
        "df.dropna(inplace = True)"
      ],
      "metadata": {
        "id": "mAdnlPMdQyOE"
      },
      "execution_count": 15,
      "outputs": []
    },
    {
      "cell_type": "markdown",
      "source": [
        "**Null values have been removed from the dataset**"
      ],
      "metadata": {
        "id": "AgYLhdNUrgyi"
      }
    },
    {
      "cell_type": "markdown",
      "source": [
        "###### **Sub Task2: Removing extra/duplicate columns/rows**\n",
        "\n",
        "* Will check if the two `date` columns are identical and will drop one of them if the result is true. \n",
        "\n",
        "* Also, `month` and `diff_pressure`are not required for analysis as they are just calculated columns from the dataset\n",
        "\n",
        "* Will also check if there are any duplicated rows in the dataset and drop them accordingly"
      ],
      "metadata": {
        "id": "MwIShZ5jI3-q"
      }
    },
    {
      "cell_type": "markdown",
      "source": [
        "**Will remove the unwamted columns**"
      ],
      "metadata": {
        "id": "RLNn_pR6AJvE"
      }
    },
    {
      "cell_type": "code",
      "source": [
        "df.info()"
      ],
      "metadata": {
        "colab": {
          "base_uri": "https://localhost:8080/"
        },
        "id": "f2y2tC6ZBofJ",
        "outputId": "0943d60a-6575-4443-c4ce-436d187b271f"
      },
      "execution_count": 16,
      "outputs": [
        {
          "output_type": "stream",
          "name": "stdout",
          "text": [
            "<class 'pandas.core.frame.DataFrame'>\n",
            "Int64Index: 3899 entries, 0 to 3900\n",
            "Data columns (total 23 columns):\n",
            " #   Column                   Non-Null Count  Dtype         \n",
            "---  ------                   --------------  -----         \n",
            " 0   date                     3899 non-null   datetime64[ns]\n",
            " 1   average_temperature      3899 non-null   float64       \n",
            " 2   average_humidity         3899 non-null   float64       \n",
            " 3   average_dewpoint         3899 non-null   float64       \n",
            " 4   average_barometer        3899 non-null   float64       \n",
            " 5   average_windspeed        3899 non-null   float64       \n",
            " 6   average_gustspeed        3899 non-null   float64       \n",
            " 7   average_direction        3899 non-null   float64       \n",
            " 8   rainfall_for_month       3899 non-null   float64       \n",
            " 9   rainfall_for_year        3899 non-null   float64       \n",
            " 10  maximum_rain_per_minute  3899 non-null   float64       \n",
            " 11  maximum_temperature      3899 non-null   float64       \n",
            " 12  minimum_temperature      3899 non-null   float64       \n",
            " 13  maximum_humidity         3899 non-null   float64       \n",
            " 14  minimum_humidity         3899 non-null   float64       \n",
            " 15  maximum_pressure         3899 non-null   float64       \n",
            " 16  minimum_pressure         3899 non-null   float64       \n",
            " 17  maximum_windspeed        3899 non-null   float64       \n",
            " 18  maximum_gust_speed       3899 non-null   float64       \n",
            " 19  maximum_heat_index       3899 non-null   float64       \n",
            " 20  date1                    3899 non-null   datetime64[ns]\n",
            " 21  month                    3899 non-null   int64         \n",
            " 22  diff_pressure            3899 non-null   float64       \n",
            "dtypes: datetime64[ns](2), float64(20), int64(1)\n",
            "memory usage: 731.1 KB\n"
          ]
        }
      ]
    },
    {
      "cell_type": "code",
      "source": [
        "#Will check if the 2 dates column are identical\n",
        "df.date.equals(df.date1)"
      ],
      "metadata": {
        "colab": {
          "base_uri": "https://localhost:8080/"
        },
        "id": "MGgxV5AY_rfa",
        "outputId": "3c37b9a7-29da-4643-b04a-c69f4f70afb7"
      },
      "execution_count": 17,
      "outputs": [
        {
          "output_type": "execute_result",
          "data": {
            "text/plain": [
              "True"
            ]
          },
          "metadata": {},
          "execution_count": 17
        }
      ]
    },
    {
      "cell_type": "markdown",
      "source": [
        "*Both the date columns are identical, hence will drop one of them*"
      ],
      "metadata": {
        "id": "fWMUnqWKAOEh"
      }
    },
    {
      "cell_type": "code",
      "source": [
        "df.drop(['date1', 'month', 'diff_pressure'], axis =1, inplace = True)"
      ],
      "metadata": {
        "id": "3uR3gVq2KCmr"
      },
      "execution_count": 18,
      "outputs": []
    },
    {
      "cell_type": "markdown",
      "source": [
        "**Will remove the duplicated rows**"
      ],
      "metadata": {
        "id": "J-j5b4co9eM8"
      }
    },
    {
      "cell_type": "code",
      "source": [
        "df.duplicated().sum()"
      ],
      "metadata": {
        "colab": {
          "base_uri": "https://localhost:8080/"
        },
        "id": "GKKGl7_S9SZ2",
        "outputId": "16f8c2db-a565-4ba1-ed9c-149bdf5baacd"
      },
      "execution_count": 19,
      "outputs": [
        {
          "output_type": "execute_result",
          "data": {
            "text/plain": [
              "0"
            ]
          },
          "metadata": {},
          "execution_count": 19
        }
      ]
    },
    {
      "cell_type": "markdown",
      "source": [
        "*There is only 1 duplicate row. hence will drop it*"
      ],
      "metadata": {
        "id": "CWQHYYub9zoJ"
      }
    },
    {
      "cell_type": "code",
      "source": [
        "df.drop_duplicates( inplace = True)"
      ],
      "metadata": {
        "id": "DjdFCD5Y96hA"
      },
      "execution_count": 20,
      "outputs": []
    },
    {
      "cell_type": "code",
      "source": [
        "df.info()"
      ],
      "metadata": {
        "colab": {
          "base_uri": "https://localhost:8080/"
        },
        "id": "_WmHtPt3_4TS",
        "outputId": "3f90ceb8-86d8-4231-fdec-2c082219315d"
      },
      "execution_count": 21,
      "outputs": [
        {
          "output_type": "stream",
          "name": "stdout",
          "text": [
            "<class 'pandas.core.frame.DataFrame'>\n",
            "Int64Index: 3899 entries, 0 to 3900\n",
            "Data columns (total 20 columns):\n",
            " #   Column                   Non-Null Count  Dtype         \n",
            "---  ------                   --------------  -----         \n",
            " 0   date                     3899 non-null   datetime64[ns]\n",
            " 1   average_temperature      3899 non-null   float64       \n",
            " 2   average_humidity         3899 non-null   float64       \n",
            " 3   average_dewpoint         3899 non-null   float64       \n",
            " 4   average_barometer        3899 non-null   float64       \n",
            " 5   average_windspeed        3899 non-null   float64       \n",
            " 6   average_gustspeed        3899 non-null   float64       \n",
            " 7   average_direction        3899 non-null   float64       \n",
            " 8   rainfall_for_month       3899 non-null   float64       \n",
            " 9   rainfall_for_year        3899 non-null   float64       \n",
            " 10  maximum_rain_per_minute  3899 non-null   float64       \n",
            " 11  maximum_temperature      3899 non-null   float64       \n",
            " 12  minimum_temperature      3899 non-null   float64       \n",
            " 13  maximum_humidity         3899 non-null   float64       \n",
            " 14  minimum_humidity         3899 non-null   float64       \n",
            " 15  maximum_pressure         3899 non-null   float64       \n",
            " 16  minimum_pressure         3899 non-null   float64       \n",
            " 17  maximum_windspeed        3899 non-null   float64       \n",
            " 18  maximum_gust_speed       3899 non-null   float64       \n",
            " 19  maximum_heat_index       3899 non-null   float64       \n",
            "dtypes: datetime64[ns](1), float64(19)\n",
            "memory usage: 639.7 KB\n"
          ]
        }
      ]
    },
    {
      "cell_type": "markdown",
      "source": [
        "#### **Sub Task3: Correct the years in the given data set**\n",
        "\n",
        "\n",
        "\n",
        "**The idea behind this is: The start day of every year is 'YYYY-01-01' and we have the 2022 for the entire dataset. As soon as we reach the row where date is equal to '2022-01-01', the year will be updated untill we reach the row where the date is again '2022-01-01'.**\n",
        "\n",
        "\n",
        "\n",
        "PS: *This might not be optimal way of doing this. But looking at the dataset and format of date column. The values of the date column are in order*"
      ],
      "metadata": {
        "id": "ndJyqBiynnmb"
      }
    },
    {
      "cell_type": "code",
      "source": [
        "# Keeping a note of the index where we have the date '2022-01-01'\n",
        "index_array = (df[df['date']=='2022-01-01'].index.values.astype(int))"
      ],
      "metadata": {
        "id": "mV80BN6Hcn9q"
      },
      "execution_count": 22,
      "outputs": []
    },
    {
      "cell_type": "code",
      "source": [
        "year = 2022  # setting the value of the year\n",
        "new_year = 2022 #setting the value of the year to be updated\n",
        "for i in range(len(index_array)):\n",
        "  if (index_array[i]==  index_array[-1]):\n",
        "    df.loc[index_array[i]: , 'date'] = df.date.mask(df.date.dt.year == 2022, df.date + pd.offsets.DateOffset(year = new_year))\n",
        "  else:\n",
        "    \n",
        "    df.loc[index_array[i]:index_array[i+1]-1, 'date'] = df.date.mask(df.date.dt.year == 2022, df.date + pd.offsets.DateOffset(year = new_year))\n",
        "  year += 1\n",
        "  new_year = year"
      ],
      "metadata": {
        "colab": {
          "base_uri": "https://localhost:8080/"
        },
        "id": "ttBAjZP0VHGf",
        "outputId": "8a926bb1-c60b-4386-9ef3-7f6746edcade"
      },
      "execution_count": 23,
      "outputs": [
        {
          "output_type": "stream",
          "name": "stderr",
          "text": [
            "/usr/local/lib/python3.8/dist-packages/pandas/core/arrays/datetimes.py:741: PerformanceWarning: Non-vectorized DateOffset being applied to Series or DatetimeIndex\n",
            "  warnings.warn(\n"
          ]
        }
      ]
    },
    {
      "cell_type": "code",
      "source": [
        "#Getting the count of unique values in the date column, which should be total number of rows. \n",
        "#Also, getting the start date and the end date of the date column\n",
        "print(df['date'].nunique())\n",
        "print(df['date'].max())\n",
        "print(df['date'].min())"
      ],
      "metadata": {
        "colab": {
          "base_uri": "https://localhost:8080/"
        },
        "id": "lGZgA0ATpVOm",
        "outputId": "9121b55d-fe28-4efa-e5f9-cbc78d58f359"
      },
      "execution_count": 24,
      "outputs": [
        {
          "output_type": "stream",
          "name": "stdout",
          "text": [
            "3899\n",
            "2033-07-27 00:00:00\n",
            "2022-01-01 00:00:00\n"
          ]
        }
      ]
    },
    {
      "cell_type": "markdown",
      "source": [
        "**`Year modified` has total 3900 values with starting date as 2022-01-01 till end date as 2033-07-28**\n",
        "\n",
        "*Hence the years has been modified in the given dataset*"
      ],
      "metadata": {
        "id": "MC0vSj-epZJ-"
      }
    },
    {
      "cell_type": "markdown",
      "source": [
        "#### **Subtask 4: Checking/Removal of duplicated rows**"
      ],
      "metadata": {
        "id": "dnMvAvOhpLh8"
      }
    },
    {
      "cell_type": "code",
      "source": [
        "df[df.duplicated()]"
      ],
      "metadata": {
        "colab": {
          "base_uri": "https://localhost:8080/",
          "height": 113
        },
        "id": "XeewEoVOorRF",
        "outputId": "642f962b-e953-4f1b-d66e-529e27c11297"
      },
      "execution_count": 25,
      "outputs": [
        {
          "output_type": "execute_result",
          "data": {
            "text/plain": [
              "Empty DataFrame\n",
              "Columns: [date, average_temperature, average_humidity, average_dewpoint, average_barometer, average_windspeed, average_gustspeed, average_direction, rainfall_for_month, rainfall_for_year, maximum_rain_per_minute, maximum_temperature, minimum_temperature, maximum_humidity, minimum_humidity, maximum_pressure, minimum_pressure, maximum_windspeed, maximum_gust_speed, maximum_heat_index]\n",
              "Index: []"
            ],
            "text/html": [
              "\n",
              "  <div id=\"df-ce6ec904-86ee-4436-bc58-ede441ad812e\">\n",
              "    <div class=\"colab-df-container\">\n",
              "      <div>\n",
              "<style scoped>\n",
              "    .dataframe tbody tr th:only-of-type {\n",
              "        vertical-align: middle;\n",
              "    }\n",
              "\n",
              "    .dataframe tbody tr th {\n",
              "        vertical-align: top;\n",
              "    }\n",
              "\n",
              "    .dataframe thead th {\n",
              "        text-align: right;\n",
              "    }\n",
              "</style>\n",
              "<table border=\"1\" class=\"dataframe\">\n",
              "  <thead>\n",
              "    <tr style=\"text-align: right;\">\n",
              "      <th></th>\n",
              "      <th>date</th>\n",
              "      <th>average_temperature</th>\n",
              "      <th>average_humidity</th>\n",
              "      <th>average_dewpoint</th>\n",
              "      <th>average_barometer</th>\n",
              "      <th>average_windspeed</th>\n",
              "      <th>average_gustspeed</th>\n",
              "      <th>average_direction</th>\n",
              "      <th>rainfall_for_month</th>\n",
              "      <th>rainfall_for_year</th>\n",
              "      <th>maximum_rain_per_minute</th>\n",
              "      <th>maximum_temperature</th>\n",
              "      <th>minimum_temperature</th>\n",
              "      <th>maximum_humidity</th>\n",
              "      <th>minimum_humidity</th>\n",
              "      <th>maximum_pressure</th>\n",
              "      <th>minimum_pressure</th>\n",
              "      <th>maximum_windspeed</th>\n",
              "      <th>maximum_gust_speed</th>\n",
              "      <th>maximum_heat_index</th>\n",
              "    </tr>\n",
              "  </thead>\n",
              "  <tbody>\n",
              "  </tbody>\n",
              "</table>\n",
              "</div>\n",
              "      <button class=\"colab-df-convert\" onclick=\"convertToInteractive('df-ce6ec904-86ee-4436-bc58-ede441ad812e')\"\n",
              "              title=\"Convert this dataframe to an interactive table.\"\n",
              "              style=\"display:none;\">\n",
              "        \n",
              "  <svg xmlns=\"http://www.w3.org/2000/svg\" height=\"24px\"viewBox=\"0 0 24 24\"\n",
              "       width=\"24px\">\n",
              "    <path d=\"M0 0h24v24H0V0z\" fill=\"none\"/>\n",
              "    <path d=\"M18.56 5.44l.94 2.06.94-2.06 2.06-.94-2.06-.94-.94-2.06-.94 2.06-2.06.94zm-11 1L8.5 8.5l.94-2.06 2.06-.94-2.06-.94L8.5 2.5l-.94 2.06-2.06.94zm10 10l.94 2.06.94-2.06 2.06-.94-2.06-.94-.94-2.06-.94 2.06-2.06.94z\"/><path d=\"M17.41 7.96l-1.37-1.37c-.4-.4-.92-.59-1.43-.59-.52 0-1.04.2-1.43.59L10.3 9.45l-7.72 7.72c-.78.78-.78 2.05 0 2.83L4 21.41c.39.39.9.59 1.41.59.51 0 1.02-.2 1.41-.59l7.78-7.78 2.81-2.81c.8-.78.8-2.07 0-2.86zM5.41 20L4 18.59l7.72-7.72 1.47 1.35L5.41 20z\"/>\n",
              "  </svg>\n",
              "      </button>\n",
              "      \n",
              "  <style>\n",
              "    .colab-df-container {\n",
              "      display:flex;\n",
              "      flex-wrap:wrap;\n",
              "      gap: 12px;\n",
              "    }\n",
              "\n",
              "    .colab-df-convert {\n",
              "      background-color: #E8F0FE;\n",
              "      border: none;\n",
              "      border-radius: 50%;\n",
              "      cursor: pointer;\n",
              "      display: none;\n",
              "      fill: #1967D2;\n",
              "      height: 32px;\n",
              "      padding: 0 0 0 0;\n",
              "      width: 32px;\n",
              "    }\n",
              "\n",
              "    .colab-df-convert:hover {\n",
              "      background-color: #E2EBFA;\n",
              "      box-shadow: 0px 1px 2px rgba(60, 64, 67, 0.3), 0px 1px 3px 1px rgba(60, 64, 67, 0.15);\n",
              "      fill: #174EA6;\n",
              "    }\n",
              "\n",
              "    [theme=dark] .colab-df-convert {\n",
              "      background-color: #3B4455;\n",
              "      fill: #D2E3FC;\n",
              "    }\n",
              "\n",
              "    [theme=dark] .colab-df-convert:hover {\n",
              "      background-color: #434B5C;\n",
              "      box-shadow: 0px 1px 3px 1px rgba(0, 0, 0, 0.15);\n",
              "      filter: drop-shadow(0px 1px 2px rgba(0, 0, 0, 0.3));\n",
              "      fill: #FFFFFF;\n",
              "    }\n",
              "  </style>\n",
              "\n",
              "      <script>\n",
              "        const buttonEl =\n",
              "          document.querySelector('#df-ce6ec904-86ee-4436-bc58-ede441ad812e button.colab-df-convert');\n",
              "        buttonEl.style.display =\n",
              "          google.colab.kernel.accessAllowed ? 'block' : 'none';\n",
              "\n",
              "        async function convertToInteractive(key) {\n",
              "          const element = document.querySelector('#df-ce6ec904-86ee-4436-bc58-ede441ad812e');\n",
              "          const dataTable =\n",
              "            await google.colab.kernel.invokeFunction('convertToInteractive',\n",
              "                                                     [key], {});\n",
              "          if (!dataTable) return;\n",
              "\n",
              "          const docLinkHtml = 'Like what you see? Visit the ' +\n",
              "            '<a target=\"_blank\" href=https://colab.research.google.com/notebooks/data_table.ipynb>data table notebook</a>'\n",
              "            + ' to learn more about interactive tables.';\n",
              "          element.innerHTML = '';\n",
              "          dataTable['output_type'] = 'display_data';\n",
              "          await google.colab.output.renderOutput(dataTable, element);\n",
              "          const docLink = document.createElement('div');\n",
              "          docLink.innerHTML = docLinkHtml;\n",
              "          element.appendChild(docLink);\n",
              "        }\n",
              "      </script>\n",
              "    </div>\n",
              "  </div>\n",
              "  "
            ]
          },
          "metadata": {},
          "execution_count": 25
        }
      ]
    },
    {
      "cell_type": "markdown",
      "source": [
        "*No more duplicates in the dataset*"
      ],
      "metadata": {
        "id": "3JiB8Pk_M_sa"
      }
    },
    {
      "cell_type": "markdown",
      "source": [
        "**Will drop all these null values if any**"
      ],
      "metadata": {
        "id": "oKbZK9kfNHe-"
      }
    },
    {
      "cell_type": "code",
      "source": [
        "print(df.isnull().sum())\n"
      ],
      "metadata": {
        "colab": {
          "base_uri": "https://localhost:8080/"
        },
        "id": "zwz3ER1f8lkH",
        "outputId": "6c72a4af-4132-4c9d-e729-68a6f69730d7"
      },
      "execution_count": 26,
      "outputs": [
        {
          "output_type": "stream",
          "name": "stdout",
          "text": [
            "date                       0\n",
            "average_temperature        0\n",
            "average_humidity           0\n",
            "average_dewpoint           0\n",
            "average_barometer          0\n",
            "average_windspeed          0\n",
            "average_gustspeed          0\n",
            "average_direction          0\n",
            "rainfall_for_month         0\n",
            "rainfall_for_year          0\n",
            "maximum_rain_per_minute    0\n",
            "maximum_temperature        0\n",
            "minimum_temperature        0\n",
            "maximum_humidity           0\n",
            "minimum_humidity           0\n",
            "maximum_pressure           0\n",
            "minimum_pressure           0\n",
            "maximum_windspeed          0\n",
            "maximum_gust_speed         0\n",
            "maximum_heat_index         0\n",
            "dtype: int64\n"
          ]
        }
      ]
    },
    {
      "cell_type": "markdown",
      "source": [
        "###### **No null values in the dataset**"
      ],
      "metadata": {
        "id": "mpPF1kxBTxHG"
      }
    },
    {
      "cell_type": "code",
      "source": [
        "df.info()"
      ],
      "metadata": {
        "colab": {
          "base_uri": "https://localhost:8080/"
        },
        "id": "9PpI_3ZnqCtp",
        "outputId": "57910b53-7bf4-4d03-a982-fbc17b85f3b6"
      },
      "execution_count": 27,
      "outputs": [
        {
          "output_type": "stream",
          "name": "stdout",
          "text": [
            "<class 'pandas.core.frame.DataFrame'>\n",
            "Int64Index: 3899 entries, 0 to 3900\n",
            "Data columns (total 20 columns):\n",
            " #   Column                   Non-Null Count  Dtype         \n",
            "---  ------                   --------------  -----         \n",
            " 0   date                     3899 non-null   datetime64[ns]\n",
            " 1   average_temperature      3899 non-null   float64       \n",
            " 2   average_humidity         3899 non-null   float64       \n",
            " 3   average_dewpoint         3899 non-null   float64       \n",
            " 4   average_barometer        3899 non-null   float64       \n",
            " 5   average_windspeed        3899 non-null   float64       \n",
            " 6   average_gustspeed        3899 non-null   float64       \n",
            " 7   average_direction        3899 non-null   float64       \n",
            " 8   rainfall_for_month       3899 non-null   float64       \n",
            " 9   rainfall_for_year        3899 non-null   float64       \n",
            " 10  maximum_rain_per_minute  3899 non-null   float64       \n",
            " 11  maximum_temperature      3899 non-null   float64       \n",
            " 12  minimum_temperature      3899 non-null   float64       \n",
            " 13  maximum_humidity         3899 non-null   float64       \n",
            " 14  minimum_humidity         3899 non-null   float64       \n",
            " 15  maximum_pressure         3899 non-null   float64       \n",
            " 16  minimum_pressure         3899 non-null   float64       \n",
            " 17  maximum_windspeed        3899 non-null   float64       \n",
            " 18  maximum_gust_speed       3899 non-null   float64       \n",
            " 19  maximum_heat_index       3899 non-null   float64       \n",
            "dtypes: datetime64[ns](1), float64(19)\n",
            "memory usage: 768.7 KB\n"
          ]
        }
      ]
    },
    {
      "cell_type": "markdown",
      "source": [
        "#### **Final Comments**\n",
        "\n",
        "1. All the labels in the dataset have been fixed\n",
        "2. The data types of all the columns have been changed\n",
        "3. Duplicate columns/rows have been fixed\n",
        "4. Date column in the dataset has been fixed by chnaging into appropriate year. "
      ],
      "metadata": {
        "id": "7pQVsSFOp9P5"
      }
    },
    {
      "cell_type": "code",
      "source": [
        "df.reset_index(inplace = True)"
      ],
      "metadata": {
        "id": "rQeKr7hQX7xS"
      },
      "execution_count": 28,
      "outputs": []
    },
    {
      "cell_type": "markdown",
      "source": [
        "## **Task 7: Please add the data in the dataset for 2034 and 2035 as well as forecast predictions for these years**"
      ],
      "metadata": {
        "id": "zud1dqc8uOMS"
      }
    },
    {
      "cell_type": "code",
      "source": [
        "!pip install prophet"
      ],
      "metadata": {
        "colab": {
          "base_uri": "https://localhost:8080/"
        },
        "id": "Q7Zeu0YiuaoH",
        "outputId": "237806e6-1bdf-48fc-d217-4b4cc0e433fb"
      },
      "execution_count": 29,
      "outputs": [
        {
          "output_type": "stream",
          "name": "stdout",
          "text": [
            "Looking in indexes: https://pypi.org/simple, https://us-python.pkg.dev/colab-wheels/public/simple/\n",
            "Requirement already satisfied: prophet in /usr/local/lib/python3.8/dist-packages (1.1.2)\n",
            "Requirement already satisfied: pandas>=1.0.4 in /usr/local/lib/python3.8/dist-packages (from prophet) (1.3.5)\n",
            "Requirement already satisfied: numpy>=1.15.4 in /usr/local/lib/python3.8/dist-packages (from prophet) (1.21.6)\n",
            "Requirement already satisfied: matplotlib>=2.0.0 in /usr/local/lib/python3.8/dist-packages (from prophet) (3.2.2)\n",
            "Requirement already satisfied: holidays>=0.14.2 in /usr/local/lib/python3.8/dist-packages (from prophet) (0.19)\n",
            "Requirement already satisfied: python-dateutil>=2.8.0 in /usr/local/lib/python3.8/dist-packages (from prophet) (2.8.2)\n",
            "Requirement already satisfied: tqdm>=4.36.1 in /usr/local/lib/python3.8/dist-packages (from prophet) (4.64.1)\n",
            "Requirement already satisfied: LunarCalendar>=0.0.9 in /usr/local/lib/python3.8/dist-packages (from prophet) (0.0.9)\n",
            "Requirement already satisfied: convertdate>=2.1.2 in /usr/local/lib/python3.8/dist-packages (from prophet) (2.4.0)\n",
            "Requirement already satisfied: cmdstanpy>=1.0.4 in /usr/local/lib/python3.8/dist-packages (from prophet) (1.1.0)\n",
            "Requirement already satisfied: pymeeus<=1,>=0.3.13 in /usr/local/lib/python3.8/dist-packages (from convertdate>=2.1.2->prophet) (0.5.12)\n",
            "Requirement already satisfied: korean-lunar-calendar in /usr/local/lib/python3.8/dist-packages (from holidays>=0.14.2->prophet) (0.3.1)\n",
            "Requirement already satisfied: hijri-converter in /usr/local/lib/python3.8/dist-packages (from holidays>=0.14.2->prophet) (2.2.4)\n",
            "Requirement already satisfied: ephem>=3.7.5.3 in /usr/local/lib/python3.8/dist-packages (from LunarCalendar>=0.0.9->prophet) (4.1.4)\n",
            "Requirement already satisfied: pytz in /usr/local/lib/python3.8/dist-packages (from LunarCalendar>=0.0.9->prophet) (2022.7.1)\n",
            "Requirement already satisfied: kiwisolver>=1.0.1 in /usr/local/lib/python3.8/dist-packages (from matplotlib>=2.0.0->prophet) (1.4.4)\n",
            "Requirement already satisfied: pyparsing!=2.0.4,!=2.1.2,!=2.1.6,>=2.0.1 in /usr/local/lib/python3.8/dist-packages (from matplotlib>=2.0.0->prophet) (3.0.9)\n",
            "Requirement already satisfied: cycler>=0.10 in /usr/local/lib/python3.8/dist-packages (from matplotlib>=2.0.0->prophet) (0.11.0)\n",
            "Requirement already satisfied: six>=1.5 in /usr/local/lib/python3.8/dist-packages (from python-dateutil>=2.8.0->prophet) (1.15.0)\n"
          ]
        }
      ]
    },
    {
      "cell_type": "code",
      "source": [
        "from prophet import Prophet"
      ],
      "metadata": {
        "id": "WXA6RjV2ualF"
      },
      "execution_count": 30,
      "outputs": []
    },
    {
      "cell_type": "code",
      "source": [
        "#Will make a copy of the cleaned dataset for forecasting\n",
        "df1 = df.copy()"
      ],
      "metadata": {
        "id": "6R_dqj5BuaiK"
      },
      "execution_count": 31,
      "outputs": []
    },
    {
      "cell_type": "code",
      "source": [
        "#Creating a function to forecast dates and their respective data\n",
        "new_df = pd.DataFrame() \n",
        "def forecast_data(df:pd.DataFrame(), column_name:str, period:int):\n",
        "  \"\"\"\n",
        "  This function will help to forecast the data with the help of 3 arguments\n",
        "  and will return the predicted dataframe\n",
        "  df: pd.DataFrame() -> Dataframe from which you want to predict\n",
        "  column_name:str -> Column name for which you want to predict\n",
        "  periods:int -> Number of days for which you want to predict\n",
        "  \"\"\"\n",
        "  temp_df = df[['date', column_name]] #Date is a fixed column\n",
        "  temp_df2 = temp_df.rename(columns = {\"date\":\"ds\", column_name : \"y\"})\n",
        "\n",
        "  prophet = Prophet(interval_width=0.95, daily_seasonality=True) # Initiating the model\n",
        "  prophet_model = prophet.fit(temp_df2)   # training data without splitting #\n",
        "  future_data = prophet_model.make_future_dataframe(periods= period ,freq='D') # freq -> MS for monthly, H for Hourly, By defult it is daily\n",
        "  forecast_df = prophet_model.predict(future_data) \n",
        "\n",
        "  index = forecast_df.index[forecast_df['ds']=='2033-07-28'].tolist() #Will get the index value from where we will concat the orignal and the predicted data \n",
        "\n",
        "  prophet_pred = pd.DataFrame({\"date\" : forecast_df[index[0]+1:]['ds'], column_name : forecast_df[index[0]+1:][\"yhat\"]})\n",
        "  \n",
        "  new_df =  pd.concat([temp_df, prophet_pred])\n",
        "\n",
        "  return new_df"
      ],
      "metadata": {
        "id": "ZXglPOBqaGcS"
      },
      "execution_count": 32,
      "outputs": []
    },
    {
      "cell_type": "code",
      "source": [
        "%%time\n",
        "final_df = []\n",
        "for col in df.columns[2:]: #Since we don't want index and date column\n",
        "  temp_df = pd.DataFrame()\n",
        "  temp_df = forecast_data(df, col, 886)\n",
        "  final_df.append(temp_df)\n",
        "final_df = pd.concat(final_df, axis =1)\n",
        "final_df = final_df.loc[:,~final_df.columns.duplicated()]"
      ],
      "metadata": {
        "colab": {
          "base_uri": "https://localhost:8080/"
        },
        "id": "6bOG9IfNap47",
        "outputId": "c3152c0a-1bd1-4cab-88ff-123c4236bba0"
      },
      "execution_count": 33,
      "outputs": [
        {
          "output_type": "stream",
          "name": "stderr",
          "text": [
            "DEBUG:cmdstanpy:input tempfile: /tmp/tmpgcj5v8jn/3v1m9vok.json\n",
            "DEBUG:cmdstanpy:input tempfile: /tmp/tmpgcj5v8jn/9cf8k3bv.json\n",
            "DEBUG:cmdstanpy:idx 0\n",
            "DEBUG:cmdstanpy:running CmdStan, num_threads: None\n",
            "DEBUG:cmdstanpy:CmdStan args: ['/usr/local/lib/python3.8/dist-packages/prophet/stan_model/prophet_model.bin', 'random', 'seed=96604', 'data', 'file=/tmp/tmpgcj5v8jn/3v1m9vok.json', 'init=/tmp/tmpgcj5v8jn/9cf8k3bv.json', 'output', 'file=/tmp/tmpgcj5v8jn/prophet_model4dojyl74/prophet_model-20230214211121.csv', 'method=optimize', 'algorithm=lbfgs', 'iter=10000']\n",
            "21:11:21 - cmdstanpy - INFO - Chain [1] start processing\n",
            "INFO:cmdstanpy:Chain [1] start processing\n",
            "21:11:22 - cmdstanpy - INFO - Chain [1] done processing\n",
            "INFO:cmdstanpy:Chain [1] done processing\n",
            "DEBUG:cmdstanpy:input tempfile: /tmp/tmpgcj5v8jn/mt3j6lyc.json\n",
            "DEBUG:cmdstanpy:input tempfile: /tmp/tmpgcj5v8jn/v4lnasad.json\n",
            "DEBUG:cmdstanpy:idx 0\n",
            "DEBUG:cmdstanpy:running CmdStan, num_threads: None\n",
            "DEBUG:cmdstanpy:CmdStan args: ['/usr/local/lib/python3.8/dist-packages/prophet/stan_model/prophet_model.bin', 'random', 'seed=59774', 'data', 'file=/tmp/tmpgcj5v8jn/mt3j6lyc.json', 'init=/tmp/tmpgcj5v8jn/v4lnasad.json', 'output', 'file=/tmp/tmpgcj5v8jn/prophet_modelhpjalu9j/prophet_model-20230214211125.csv', 'method=optimize', 'algorithm=lbfgs', 'iter=10000']\n",
            "21:11:25 - cmdstanpy - INFO - Chain [1] start processing\n",
            "INFO:cmdstanpy:Chain [1] start processing\n",
            "21:11:26 - cmdstanpy - INFO - Chain [1] done processing\n",
            "INFO:cmdstanpy:Chain [1] done processing\n",
            "DEBUG:cmdstanpy:input tempfile: /tmp/tmpgcj5v8jn/sla85blj.json\n",
            "DEBUG:cmdstanpy:input tempfile: /tmp/tmpgcj5v8jn/jv6rwlna.json\n",
            "DEBUG:cmdstanpy:idx 0\n",
            "DEBUG:cmdstanpy:running CmdStan, num_threads: None\n",
            "DEBUG:cmdstanpy:CmdStan args: ['/usr/local/lib/python3.8/dist-packages/prophet/stan_model/prophet_model.bin', 'random', 'seed=21021', 'data', 'file=/tmp/tmpgcj5v8jn/sla85blj.json', 'init=/tmp/tmpgcj5v8jn/jv6rwlna.json', 'output', 'file=/tmp/tmpgcj5v8jn/prophet_modelr12p9kf5/prophet_model-20230214211128.csv', 'method=optimize', 'algorithm=lbfgs', 'iter=10000']\n",
            "21:11:28 - cmdstanpy - INFO - Chain [1] start processing\n",
            "INFO:cmdstanpy:Chain [1] start processing\n",
            "21:11:29 - cmdstanpy - INFO - Chain [1] done processing\n",
            "INFO:cmdstanpy:Chain [1] done processing\n",
            "DEBUG:cmdstanpy:input tempfile: /tmp/tmpgcj5v8jn/eme9qcyk.json\n",
            "DEBUG:cmdstanpy:input tempfile: /tmp/tmpgcj5v8jn/srkhl0f6.json\n",
            "DEBUG:cmdstanpy:idx 0\n",
            "DEBUG:cmdstanpy:running CmdStan, num_threads: None\n",
            "DEBUG:cmdstanpy:CmdStan args: ['/usr/local/lib/python3.8/dist-packages/prophet/stan_model/prophet_model.bin', 'random', 'seed=99771', 'data', 'file=/tmp/tmpgcj5v8jn/eme9qcyk.json', 'init=/tmp/tmpgcj5v8jn/srkhl0f6.json', 'output', 'file=/tmp/tmpgcj5v8jn/prophet_model2pxc_m5p/prophet_model-20230214211132.csv', 'method=optimize', 'algorithm=lbfgs', 'iter=10000']\n",
            "21:11:32 - cmdstanpy - INFO - Chain [1] start processing\n",
            "INFO:cmdstanpy:Chain [1] start processing\n",
            "21:11:34 - cmdstanpy - INFO - Chain [1] done processing\n",
            "INFO:cmdstanpy:Chain [1] done processing\n",
            "DEBUG:cmdstanpy:input tempfile: /tmp/tmpgcj5v8jn/pcocsv9p.json\n",
            "DEBUG:cmdstanpy:input tempfile: /tmp/tmpgcj5v8jn/xgm4v_er.json\n",
            "DEBUG:cmdstanpy:idx 0\n",
            "DEBUG:cmdstanpy:running CmdStan, num_threads: None\n",
            "DEBUG:cmdstanpy:CmdStan args: ['/usr/local/lib/python3.8/dist-packages/prophet/stan_model/prophet_model.bin', 'random', 'seed=48287', 'data', 'file=/tmp/tmpgcj5v8jn/pcocsv9p.json', 'init=/tmp/tmpgcj5v8jn/xgm4v_er.json', 'output', 'file=/tmp/tmpgcj5v8jn/prophet_modelzo6bbp8n/prophet_model-20230214211138.csv', 'method=optimize', 'algorithm=lbfgs', 'iter=10000']\n",
            "21:11:38 - cmdstanpy - INFO - Chain [1] start processing\n",
            "INFO:cmdstanpy:Chain [1] start processing\n",
            "21:11:39 - cmdstanpy - INFO - Chain [1] done processing\n",
            "INFO:cmdstanpy:Chain [1] done processing\n",
            "DEBUG:cmdstanpy:input tempfile: /tmp/tmpgcj5v8jn/abe82_ut.json\n",
            "DEBUG:cmdstanpy:input tempfile: /tmp/tmpgcj5v8jn/f9dyhc9a.json\n",
            "DEBUG:cmdstanpy:idx 0\n",
            "DEBUG:cmdstanpy:running CmdStan, num_threads: None\n",
            "DEBUG:cmdstanpy:CmdStan args: ['/usr/local/lib/python3.8/dist-packages/prophet/stan_model/prophet_model.bin', 'random', 'seed=41436', 'data', 'file=/tmp/tmpgcj5v8jn/abe82_ut.json', 'init=/tmp/tmpgcj5v8jn/f9dyhc9a.json', 'output', 'file=/tmp/tmpgcj5v8jn/prophet_model4c2a3nbn/prophet_model-20230214211141.csv', 'method=optimize', 'algorithm=lbfgs', 'iter=10000']\n",
            "21:11:41 - cmdstanpy - INFO - Chain [1] start processing\n",
            "INFO:cmdstanpy:Chain [1] start processing\n",
            "21:11:42 - cmdstanpy - INFO - Chain [1] done processing\n",
            "INFO:cmdstanpy:Chain [1] done processing\n",
            "DEBUG:cmdstanpy:input tempfile: /tmp/tmpgcj5v8jn/cgvadb86.json\n",
            "DEBUG:cmdstanpy:input tempfile: /tmp/tmpgcj5v8jn/axa_s55h.json\n",
            "DEBUG:cmdstanpy:idx 0\n",
            "DEBUG:cmdstanpy:running CmdStan, num_threads: None\n",
            "DEBUG:cmdstanpy:CmdStan args: ['/usr/local/lib/python3.8/dist-packages/prophet/stan_model/prophet_model.bin', 'random', 'seed=57593', 'data', 'file=/tmp/tmpgcj5v8jn/cgvadb86.json', 'init=/tmp/tmpgcj5v8jn/axa_s55h.json', 'output', 'file=/tmp/tmpgcj5v8jn/prophet_modelenbmondn/prophet_model-20230214211143.csv', 'method=optimize', 'algorithm=lbfgs', 'iter=10000']\n",
            "21:11:43 - cmdstanpy - INFO - Chain [1] start processing\n",
            "INFO:cmdstanpy:Chain [1] start processing\n",
            "21:11:44 - cmdstanpy - INFO - Chain [1] done processing\n",
            "INFO:cmdstanpy:Chain [1] done processing\n",
            "DEBUG:cmdstanpy:input tempfile: /tmp/tmpgcj5v8jn/fv33ej_u.json\n",
            "DEBUG:cmdstanpy:input tempfile: /tmp/tmpgcj5v8jn/kkppx81b.json\n",
            "DEBUG:cmdstanpy:idx 0\n",
            "DEBUG:cmdstanpy:running CmdStan, num_threads: None\n",
            "DEBUG:cmdstanpy:CmdStan args: ['/usr/local/lib/python3.8/dist-packages/prophet/stan_model/prophet_model.bin', 'random', 'seed=76988', 'data', 'file=/tmp/tmpgcj5v8jn/fv33ej_u.json', 'init=/tmp/tmpgcj5v8jn/kkppx81b.json', 'output', 'file=/tmp/tmpgcj5v8jn/prophet_modelr4a8v205/prophet_model-20230214211145.csv', 'method=optimize', 'algorithm=lbfgs', 'iter=10000']\n",
            "21:11:45 - cmdstanpy - INFO - Chain [1] start processing\n",
            "INFO:cmdstanpy:Chain [1] start processing\n",
            "21:11:46 - cmdstanpy - INFO - Chain [1] done processing\n",
            "INFO:cmdstanpy:Chain [1] done processing\n",
            "DEBUG:cmdstanpy:input tempfile: /tmp/tmpgcj5v8jn/vgdcjhhk.json\n",
            "DEBUG:cmdstanpy:input tempfile: /tmp/tmpgcj5v8jn/ngxc0uid.json\n",
            "DEBUG:cmdstanpy:idx 0\n",
            "DEBUG:cmdstanpy:running CmdStan, num_threads: None\n",
            "DEBUG:cmdstanpy:CmdStan args: ['/usr/local/lib/python3.8/dist-packages/prophet/stan_model/prophet_model.bin', 'random', 'seed=85454', 'data', 'file=/tmp/tmpgcj5v8jn/vgdcjhhk.json', 'init=/tmp/tmpgcj5v8jn/ngxc0uid.json', 'output', 'file=/tmp/tmpgcj5v8jn/prophet_model7y5zrtl7/prophet_model-20230214211148.csv', 'method=optimize', 'algorithm=lbfgs', 'iter=10000']\n",
            "21:11:48 - cmdstanpy - INFO - Chain [1] start processing\n",
            "INFO:cmdstanpy:Chain [1] start processing\n",
            "21:11:49 - cmdstanpy - INFO - Chain [1] done processing\n",
            "INFO:cmdstanpy:Chain [1] done processing\n",
            "DEBUG:cmdstanpy:input tempfile: /tmp/tmpgcj5v8jn/v1x8kqyn.json\n",
            "DEBUG:cmdstanpy:input tempfile: /tmp/tmpgcj5v8jn/n_qu7jja.json\n",
            "DEBUG:cmdstanpy:idx 0\n",
            "DEBUG:cmdstanpy:running CmdStan, num_threads: None\n",
            "DEBUG:cmdstanpy:CmdStan args: ['/usr/local/lib/python3.8/dist-packages/prophet/stan_model/prophet_model.bin', 'random', 'seed=26201', 'data', 'file=/tmp/tmpgcj5v8jn/v1x8kqyn.json', 'init=/tmp/tmpgcj5v8jn/n_qu7jja.json', 'output', 'file=/tmp/tmpgcj5v8jn/prophet_model1bbsju4b/prophet_model-20230214211151.csv', 'method=optimize', 'algorithm=lbfgs', 'iter=10000']\n",
            "21:11:51 - cmdstanpy - INFO - Chain [1] start processing\n",
            "INFO:cmdstanpy:Chain [1] start processing\n",
            "21:11:52 - cmdstanpy - INFO - Chain [1] done processing\n",
            "INFO:cmdstanpy:Chain [1] done processing\n",
            "DEBUG:cmdstanpy:input tempfile: /tmp/tmpgcj5v8jn/fcv1cr5a.json\n",
            "DEBUG:cmdstanpy:input tempfile: /tmp/tmpgcj5v8jn/4uh8a87f.json\n",
            "DEBUG:cmdstanpy:idx 0\n",
            "DEBUG:cmdstanpy:running CmdStan, num_threads: None\n",
            "DEBUG:cmdstanpy:CmdStan args: ['/usr/local/lib/python3.8/dist-packages/prophet/stan_model/prophet_model.bin', 'random', 'seed=76850', 'data', 'file=/tmp/tmpgcj5v8jn/fcv1cr5a.json', 'init=/tmp/tmpgcj5v8jn/4uh8a87f.json', 'output', 'file=/tmp/tmpgcj5v8jn/prophet_modelz55ell9q/prophet_model-20230214211153.csv', 'method=optimize', 'algorithm=lbfgs', 'iter=10000']\n",
            "21:11:53 - cmdstanpy - INFO - Chain [1] start processing\n",
            "INFO:cmdstanpy:Chain [1] start processing\n",
            "21:11:54 - cmdstanpy - INFO - Chain [1] done processing\n",
            "INFO:cmdstanpy:Chain [1] done processing\n",
            "DEBUG:cmdstanpy:input tempfile: /tmp/tmpgcj5v8jn/im27drl2.json\n",
            "DEBUG:cmdstanpy:input tempfile: /tmp/tmpgcj5v8jn/f01p57li.json\n",
            "DEBUG:cmdstanpy:idx 0\n",
            "DEBUG:cmdstanpy:running CmdStan, num_threads: None\n",
            "DEBUG:cmdstanpy:CmdStan args: ['/usr/local/lib/python3.8/dist-packages/prophet/stan_model/prophet_model.bin', 'random', 'seed=52281', 'data', 'file=/tmp/tmpgcj5v8jn/im27drl2.json', 'init=/tmp/tmpgcj5v8jn/f01p57li.json', 'output', 'file=/tmp/tmpgcj5v8jn/prophet_modelhf59nytm/prophet_model-20230214211155.csv', 'method=optimize', 'algorithm=lbfgs', 'iter=10000']\n",
            "21:11:55 - cmdstanpy - INFO - Chain [1] start processing\n",
            "INFO:cmdstanpy:Chain [1] start processing\n",
            "21:11:56 - cmdstanpy - INFO - Chain [1] done processing\n",
            "INFO:cmdstanpy:Chain [1] done processing\n",
            "DEBUG:cmdstanpy:input tempfile: /tmp/tmpgcj5v8jn/ena956tb.json\n",
            "DEBUG:cmdstanpy:input tempfile: /tmp/tmpgcj5v8jn/roq8g20w.json\n",
            "DEBUG:cmdstanpy:idx 0\n",
            "DEBUG:cmdstanpy:running CmdStan, num_threads: None\n",
            "DEBUG:cmdstanpy:CmdStan args: ['/usr/local/lib/python3.8/dist-packages/prophet/stan_model/prophet_model.bin', 'random', 'seed=36471', 'data', 'file=/tmp/tmpgcj5v8jn/ena956tb.json', 'init=/tmp/tmpgcj5v8jn/roq8g20w.json', 'output', 'file=/tmp/tmpgcj5v8jn/prophet_modeltkkr2y0w/prophet_model-20230214211158.csv', 'method=optimize', 'algorithm=lbfgs', 'iter=10000']\n",
            "21:11:58 - cmdstanpy - INFO - Chain [1] start processing\n",
            "INFO:cmdstanpy:Chain [1] start processing\n",
            "21:11:58 - cmdstanpy - INFO - Chain [1] done processing\n",
            "INFO:cmdstanpy:Chain [1] done processing\n",
            "DEBUG:cmdstanpy:input tempfile: /tmp/tmpgcj5v8jn/1e_t35c1.json\n",
            "DEBUG:cmdstanpy:input tempfile: /tmp/tmpgcj5v8jn/dwrkxfgt.json\n",
            "DEBUG:cmdstanpy:idx 0\n",
            "DEBUG:cmdstanpy:running CmdStan, num_threads: None\n",
            "DEBUG:cmdstanpy:CmdStan args: ['/usr/local/lib/python3.8/dist-packages/prophet/stan_model/prophet_model.bin', 'random', 'seed=96250', 'data', 'file=/tmp/tmpgcj5v8jn/1e_t35c1.json', 'init=/tmp/tmpgcj5v8jn/dwrkxfgt.json', 'output', 'file=/tmp/tmpgcj5v8jn/prophet_modelop_7ogyq/prophet_model-20230214211200.csv', 'method=optimize', 'algorithm=lbfgs', 'iter=10000']\n",
            "21:12:00 - cmdstanpy - INFO - Chain [1] start processing\n",
            "INFO:cmdstanpy:Chain [1] start processing\n",
            "21:12:02 - cmdstanpy - INFO - Chain [1] done processing\n",
            "INFO:cmdstanpy:Chain [1] done processing\n",
            "DEBUG:cmdstanpy:input tempfile: /tmp/tmpgcj5v8jn/etgv4whc.json\n",
            "DEBUG:cmdstanpy:input tempfile: /tmp/tmpgcj5v8jn/j32s522v.json\n",
            "DEBUG:cmdstanpy:idx 0\n",
            "DEBUG:cmdstanpy:running CmdStan, num_threads: None\n",
            "DEBUG:cmdstanpy:CmdStan args: ['/usr/local/lib/python3.8/dist-packages/prophet/stan_model/prophet_model.bin', 'random', 'seed=17432', 'data', 'file=/tmp/tmpgcj5v8jn/etgv4whc.json', 'init=/tmp/tmpgcj5v8jn/j32s522v.json', 'output', 'file=/tmp/tmpgcj5v8jn/prophet_model735cbbcs/prophet_model-20230214211203.csv', 'method=optimize', 'algorithm=lbfgs', 'iter=10000']\n",
            "21:12:03 - cmdstanpy - INFO - Chain [1] start processing\n",
            "INFO:cmdstanpy:Chain [1] start processing\n",
            "21:12:04 - cmdstanpy - INFO - Chain [1] done processing\n",
            "INFO:cmdstanpy:Chain [1] done processing\n",
            "DEBUG:cmdstanpy:input tempfile: /tmp/tmpgcj5v8jn/djqkph_r.json\n",
            "DEBUG:cmdstanpy:input tempfile: /tmp/tmpgcj5v8jn/l03_hfus.json\n",
            "DEBUG:cmdstanpy:idx 0\n",
            "DEBUG:cmdstanpy:running CmdStan, num_threads: None\n",
            "DEBUG:cmdstanpy:CmdStan args: ['/usr/local/lib/python3.8/dist-packages/prophet/stan_model/prophet_model.bin', 'random', 'seed=57636', 'data', 'file=/tmp/tmpgcj5v8jn/djqkph_r.json', 'init=/tmp/tmpgcj5v8jn/l03_hfus.json', 'output', 'file=/tmp/tmpgcj5v8jn/prophet_modeleadnequi/prophet_model-20230214211205.csv', 'method=optimize', 'algorithm=lbfgs', 'iter=10000']\n",
            "21:12:05 - cmdstanpy - INFO - Chain [1] start processing\n",
            "INFO:cmdstanpy:Chain [1] start processing\n",
            "21:12:06 - cmdstanpy - INFO - Chain [1] done processing\n",
            "INFO:cmdstanpy:Chain [1] done processing\n",
            "DEBUG:cmdstanpy:input tempfile: /tmp/tmpgcj5v8jn/bc5a75ag.json\n",
            "DEBUG:cmdstanpy:input tempfile: /tmp/tmpgcj5v8jn/ueu7zoj9.json\n",
            "DEBUG:cmdstanpy:idx 0\n",
            "DEBUG:cmdstanpy:running CmdStan, num_threads: None\n",
            "DEBUG:cmdstanpy:CmdStan args: ['/usr/local/lib/python3.8/dist-packages/prophet/stan_model/prophet_model.bin', 'random', 'seed=527', 'data', 'file=/tmp/tmpgcj5v8jn/bc5a75ag.json', 'init=/tmp/tmpgcj5v8jn/ueu7zoj9.json', 'output', 'file=/tmp/tmpgcj5v8jn/prophet_modelzksk9dqw/prophet_model-20230214211207.csv', 'method=optimize', 'algorithm=lbfgs', 'iter=10000']\n",
            "21:12:07 - cmdstanpy - INFO - Chain [1] start processing\n",
            "INFO:cmdstanpy:Chain [1] start processing\n",
            "21:12:08 - cmdstanpy - INFO - Chain [1] done processing\n",
            "INFO:cmdstanpy:Chain [1] done processing\n",
            "DEBUG:cmdstanpy:input tempfile: /tmp/tmpgcj5v8jn/oz4ih4ll.json\n",
            "DEBUG:cmdstanpy:input tempfile: /tmp/tmpgcj5v8jn/1pm6nps7.json\n",
            "DEBUG:cmdstanpy:idx 0\n",
            "DEBUG:cmdstanpy:running CmdStan, num_threads: None\n",
            "DEBUG:cmdstanpy:CmdStan args: ['/usr/local/lib/python3.8/dist-packages/prophet/stan_model/prophet_model.bin', 'random', 'seed=81521', 'data', 'file=/tmp/tmpgcj5v8jn/oz4ih4ll.json', 'init=/tmp/tmpgcj5v8jn/1pm6nps7.json', 'output', 'file=/tmp/tmpgcj5v8jn/prophet_model46ybi49g/prophet_model-20230214211210.csv', 'method=optimize', 'algorithm=lbfgs', 'iter=10000']\n",
            "21:12:10 - cmdstanpy - INFO - Chain [1] start processing\n",
            "INFO:cmdstanpy:Chain [1] start processing\n",
            "21:12:10 - cmdstanpy - INFO - Chain [1] done processing\n",
            "INFO:cmdstanpy:Chain [1] done processing\n"
          ]
        },
        {
          "output_type": "stream",
          "name": "stdout",
          "text": [
            "CPU times: user 26 s, sys: 6.29 s, total: 32.3 s\n",
            "Wall time: 50.8 s\n"
          ]
        }
      ]
    },
    {
      "cell_type": "code",
      "source": [
        "#Getting the count of unique values in the date column, which should be total number of rows. \n",
        "#Also, getting the start date and the end date of the date column\n",
        "print(final_df['date'].nunique())\n",
        "print(final_df['date'].max())\n",
        "print(final_df['date'].min())"
      ],
      "metadata": {
        "colab": {
          "base_uri": "https://localhost:8080/"
        },
        "id": "96La5K3MrIfZ",
        "outputId": "29c8700c-6c23-4bdd-db5c-b84c565be223"
      },
      "execution_count": 34,
      "outputs": [
        {
          "output_type": "stream",
          "name": "stdout",
          "text": [
            "4784\n",
            "2035-12-30 00:00:00\n",
            "2022-01-01 00:00:00\n"
          ]
        }
      ]
    },
    {
      "cell_type": "markdown",
      "source": [
        "#### **Have added the data till December 2035 using Prophet Model**\n",
        "\n",
        "*Havn't gone into the training and testing part of it*"
      ],
      "metadata": {
        "id": "SR3t6FGWsnaZ"
      }
    },
    {
      "cell_type": "markdown",
      "source": [
        "**Saving the cleaned dataset**"
      ],
      "metadata": {
        "id": "BqJGyekSqo4y"
      }
    },
    {
      "cell_type": "code",
      "source": [
        "df1.to_csv('weather_data_cleaned.csv', encoding = 'utf-8-sig', index = False)\n",
        "files.download('weather_data_cleaned.csv')\n"
      ],
      "metadata": {
        "id": "CHACFZYjp5qV",
        "colab": {
          "base_uri": "https://localhost:8080/",
          "height": 17
        },
        "outputId": "aacda9db-dd10-4353-e065-50e0d2d4cf60"
      },
      "execution_count": 35,
      "outputs": [
        {
          "output_type": "display_data",
          "data": {
            "text/plain": [
              "<IPython.core.display.Javascript object>"
            ],
            "application/javascript": [
              "\n",
              "    async function download(id, filename, size) {\n",
              "      if (!google.colab.kernel.accessAllowed) {\n",
              "        return;\n",
              "      }\n",
              "      const div = document.createElement('div');\n",
              "      const label = document.createElement('label');\n",
              "      label.textContent = `Downloading \"${filename}\": `;\n",
              "      div.appendChild(label);\n",
              "      const progress = document.createElement('progress');\n",
              "      progress.max = size;\n",
              "      div.appendChild(progress);\n",
              "      document.body.appendChild(div);\n",
              "\n",
              "      const buffers = [];\n",
              "      let downloaded = 0;\n",
              "\n",
              "      const channel = await google.colab.kernel.comms.open(id);\n",
              "      // Send a message to notify the kernel that we're ready.\n",
              "      channel.send({})\n",
              "\n",
              "      for await (const message of channel.messages) {\n",
              "        // Send a message to notify the kernel that we're ready.\n",
              "        channel.send({})\n",
              "        if (message.buffers) {\n",
              "          for (const buffer of message.buffers) {\n",
              "            buffers.push(buffer);\n",
              "            downloaded += buffer.byteLength;\n",
              "            progress.value = downloaded;\n",
              "          }\n",
              "        }\n",
              "      }\n",
              "      const blob = new Blob(buffers, {type: 'application/binary'});\n",
              "      const a = document.createElement('a');\n",
              "      a.href = window.URL.createObjectURL(blob);\n",
              "      a.download = filename;\n",
              "      div.appendChild(a);\n",
              "      a.click();\n",
              "      div.remove();\n",
              "    }\n",
              "  "
            ]
          },
          "metadata": {}
        },
        {
          "output_type": "display_data",
          "data": {
            "text/plain": [
              "<IPython.core.display.Javascript object>"
            ],
            "application/javascript": [
              "download(\"download_4829e2a8-bd5d-4701-9a47-0c254155062b\", \"weather_data_cleaned.csv\", 438169)"
            ]
          },
          "metadata": {}
        }
      ]
    },
    {
      "cell_type": "code",
      "source": [
        "final_df.to_csv('final_weather_data.csv', encoding = 'utf-8-sig', index = False)\n",
        "files.download('final_weather_data.csv')"
      ],
      "metadata": {
        "id": "XrkVqG6lqy4k",
        "colab": {
          "base_uri": "https://localhost:8080/",
          "height": 17
        },
        "outputId": "97b0a269-1c16-4c7c-e9b2-18476b150b3a"
      },
      "execution_count": 36,
      "outputs": [
        {
          "output_type": "display_data",
          "data": {
            "text/plain": [
              "<IPython.core.display.Javascript object>"
            ],
            "application/javascript": [
              "\n",
              "    async function download(id, filename, size) {\n",
              "      if (!google.colab.kernel.accessAllowed) {\n",
              "        return;\n",
              "      }\n",
              "      const div = document.createElement('div');\n",
              "      const label = document.createElement('label');\n",
              "      label.textContent = `Downloading \"${filename}\": `;\n",
              "      div.appendChild(label);\n",
              "      const progress = document.createElement('progress');\n",
              "      progress.max = size;\n",
              "      div.appendChild(progress);\n",
              "      document.body.appendChild(div);\n",
              "\n",
              "      const buffers = [];\n",
              "      let downloaded = 0;\n",
              "\n",
              "      const channel = await google.colab.kernel.comms.open(id);\n",
              "      // Send a message to notify the kernel that we're ready.\n",
              "      channel.send({})\n",
              "\n",
              "      for await (const message of channel.messages) {\n",
              "        // Send a message to notify the kernel that we're ready.\n",
              "        channel.send({})\n",
              "        if (message.buffers) {\n",
              "          for (const buffer of message.buffers) {\n",
              "            buffers.push(buffer);\n",
              "            downloaded += buffer.byteLength;\n",
              "            progress.value = downloaded;\n",
              "          }\n",
              "        }\n",
              "      }\n",
              "      const blob = new Blob(buffers, {type: 'application/binary'});\n",
              "      const a = document.createElement('a');\n",
              "      a.href = window.URL.createObjectURL(blob);\n",
              "      a.download = filename;\n",
              "      div.appendChild(a);\n",
              "      a.click();\n",
              "      div.remove();\n",
              "    }\n",
              "  "
            ]
          },
          "metadata": {}
        },
        {
          "output_type": "display_data",
          "data": {
            "text/plain": [
              "<IPython.core.display.Javascript object>"
            ],
            "application/javascript": [
              "download(\"download_c15a4133-f04d-4aa9-aa56-1feb31288036\", \"final_weather_data.csv\", 727475)"
            ]
          },
          "metadata": {}
        }
      ]
    }
  ]
}